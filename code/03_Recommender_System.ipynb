{
 "cells": [
  {
   "cell_type": "markdown",
   "metadata": {},
   "source": [
    "# Item-to-Item Recommender System"
   ]
  },
  {
   "cell_type": "markdown",
   "metadata": {},
   "source": [
    "We will build an item-to-item recommender system for our books. With this recommender, users will be able to search for a book they've liked and view the top 5 most similar books. We only used explicit ratings (`1-10`) and included books that have more than 3 ratings. We then scaled our ratings to remove item-bias and avoid continuously recommending a book due to its popularity. Cosine similarity was used as our metric to determine how closely related our search and recommendations are. "
   ]
  },
  {
   "cell_type": "markdown",
   "metadata": {},
   "source": [
    "## Contents\n",
    "-  [Preprocessing](#Preprocessing)\n",
    "    -  [Count Threshold](#Count-Threshold)\n",
    "    -  [Sparse DataFrame](#Sparse-DataFrame)\n",
    "    -  [Scale Ratings](#Scale-Ratings)\n",
    "    -  [Create Pivot Table](#Create-Pivot-Table)\n",
    "-  [Modeling](#Modeling)\n",
    "    -  [Cosine Similarity](#Cosine-Similarity)\n",
    "    -  [Recommender System](#Recommender-System)\n",
    "-  [Conclusions and Recommendations](#Conclusions-and-Recommendations)"
   ]
  },
  {
   "cell_type": "code",
   "execution_count": 1,
   "metadata": {},
   "outputs": [],
   "source": [
    "import pandas as pd\n",
    "import numpy as np\n",
    "from scipy import sparse\n",
    "from sklearn.metrics.pairwise import cosine_similarity\n",
    "import matplotlib as plt\n",
    "import seaborn as sns\n",
    "import scipy.sparse\n",
    "import pickle\n",
    "\n",
    "sns.set_style('darkgrid')\n",
    "sns.set_palette(palette='colorblind')\n",
    "%matplotlib inline"
   ]
  },
  {
   "cell_type": "markdown",
   "metadata": {},
   "source": [
    "## Preprocessing"
   ]
  },
  {
   "cell_type": "markdown",
   "metadata": {},
   "source": [
    "Implicit ratings (`0`) indicate an interaction between the reader and book, but no preference was given. Since we do not know the rating an individual would give, we will only be using explicit ratings for our recommender. "
   ]
  },
  {
   "cell_type": "code",
   "execution_count": 2,
   "metadata": {},
   "outputs": [],
   "source": [
    "exp_ratings = pd.read_csv('../data/exp_ratings.csv')"
   ]
  },
  {
   "cell_type": "code",
   "execution_count": 3,
   "metadata": {},
   "outputs": [
    {
     "data": {
      "text/html": [
       "<div>\n",
       "<style scoped>\n",
       "    .dataframe tbody tr th:only-of-type {\n",
       "        vertical-align: middle;\n",
       "    }\n",
       "\n",
       "    .dataframe tbody tr th {\n",
       "        vertical-align: top;\n",
       "    }\n",
       "\n",
       "    .dataframe thead th {\n",
       "        text-align: right;\n",
       "    }\n",
       "</style>\n",
       "<table border=\"1\" class=\"dataframe\">\n",
       "  <thead>\n",
       "    <tr style=\"text-align: right;\">\n",
       "      <th></th>\n",
       "      <th>isbn</th>\n",
       "      <th>book_title</th>\n",
       "      <th>book_author</th>\n",
       "      <th>year_of_publication</th>\n",
       "      <th>publisher</th>\n",
       "      <th>user_id</th>\n",
       "      <th>book_rating</th>\n",
       "    </tr>\n",
       "  </thead>\n",
       "  <tbody>\n",
       "    <tr>\n",
       "      <th>0</th>\n",
       "      <td>843485676X</td>\n",
       "      <td>Gran Angular - Alerta Roja: Un Frio Viento Del...</td>\n",
       "      <td>C Puerto</td>\n",
       "      <td>0</td>\n",
       "      <td>Ediciones SM</td>\n",
       "      <td>184386</td>\n",
       "      <td>7</td>\n",
       "    </tr>\n",
       "    <tr>\n",
       "      <th>1</th>\n",
       "      <td>0821721828</td>\n",
       "      <td>Moontide Embrace</td>\n",
       "      <td>Constance O'Banyon</td>\n",
       "      <td>1987</td>\n",
       "      <td>Zebra Books</td>\n",
       "      <td>114368</td>\n",
       "      <td>5</td>\n",
       "    </tr>\n",
       "    <tr>\n",
       "      <th>2</th>\n",
       "      <td>8434852500</td>\n",
       "      <td>Piedra del Toque, La Ga 6</td>\n",
       "      <td>Montserrat del Amo</td>\n",
       "      <td>1998</td>\n",
       "      <td>S &amp;amp; M Books</td>\n",
       "      <td>184386</td>\n",
       "      <td>7</td>\n",
       "    </tr>\n",
       "    <tr>\n",
       "      <th>3</th>\n",
       "      <td>0415938740</td>\n",
       "      <td>Boss Ladies, Watch Out!: Essays on Women, Sex ...</td>\n",
       "      <td>Terry Castle</td>\n",
       "      <td>2002</td>\n",
       "      <td>Routledge</td>\n",
       "      <td>74281</td>\n",
       "      <td>7</td>\n",
       "    </tr>\n",
       "    <tr>\n",
       "      <th>4</th>\n",
       "      <td>080943752X</td>\n",
       "      <td>The healthy heart (Library of health)</td>\n",
       "      <td>Arthur Fisher</td>\n",
       "      <td>1981</td>\n",
       "      <td>school and library distribution by Silver Burd...</td>\n",
       "      <td>145166</td>\n",
       "      <td>5</td>\n",
       "    </tr>\n",
       "  </tbody>\n",
       "</table>\n",
       "</div>"
      ],
      "text/plain": [
       "         isbn                                         book_title  \\\n",
       "0  843485676X  Gran Angular - Alerta Roja: Un Frio Viento Del...   \n",
       "1  0821721828                                   Moontide Embrace   \n",
       "2  8434852500                          Piedra del Toque, La Ga 6   \n",
       "3  0415938740  Boss Ladies, Watch Out!: Essays on Women, Sex ...   \n",
       "4  080943752X              The healthy heart (Library of health)   \n",
       "\n",
       "          book_author  year_of_publication  \\\n",
       "0            C Puerto                    0   \n",
       "1  Constance O'Banyon                 1987   \n",
       "2  Montserrat del Amo                 1998   \n",
       "3        Terry Castle                 2002   \n",
       "4       Arthur Fisher                 1981   \n",
       "\n",
       "                                           publisher  user_id  book_rating  \n",
       "0                                       Ediciones SM   184386            7  \n",
       "1                                        Zebra Books   114368            5  \n",
       "2                                    S &amp; M Books   184386            7  \n",
       "3                                          Routledge    74281            7  \n",
       "4  school and library distribution by Silver Burd...   145166            5  "
      ]
     },
     "execution_count": 3,
     "metadata": {},
     "output_type": "execute_result"
    }
   ],
   "source": [
    "exp_ratings.head()"
   ]
  },
  {
   "cell_type": "markdown",
   "metadata": {},
   "source": [
    "The `exp_ratings` dataframe saved from `02_EDA_and_Cleaning` currently has the following:"
   ]
  },
  {
   "cell_type": "code",
   "execution_count": 4,
   "metadata": {},
   "outputs": [
    {
     "name": "stdout",
     "output_type": "stream",
     "text": [
      "Users:   68092\n",
      "Books:   139648\n",
      "Ratings: 383852\n"
     ]
    }
   ],
   "source": [
    "print('Users:  ', exp_ratings['user_id'].nunique())\n",
    "print('Books:  ', exp_ratings['isbn'].nunique())\n",
    "print('Ratings:', exp_ratings.shape[0])"
   ]
  },
  {
   "cell_type": "markdown",
   "metadata": {},
   "source": [
    "### Count Threshold"
   ]
  },
  {
   "cell_type": "markdown",
   "metadata": {},
   "source": [
    "Many books have only one rating, which we do not want to include in our recommender. The book's rating will not be a good indication of its quality since it's only one reader's preference. In order to mitigate this, we set a threshold of 3. This means that only books that have at least received 4 ratings will be included."
   ]
  },
  {
   "cell_type": "code",
   "execution_count": 5,
   "metadata": {},
   "outputs": [],
   "source": [
    "isbn_greater_three = exp_ratings['isbn'].value_counts().index[exp_ratings['isbn'].value_counts().values > 3]"
   ]
  },
  {
   "cell_type": "code",
   "execution_count": 6,
   "metadata": {},
   "outputs": [],
   "source": [
    "new_exp_ratings = exp_ratings[exp_ratings['isbn'].isin(isbn_greater_three)]"
   ]
  },
  {
   "cell_type": "code",
   "execution_count": 7,
   "metadata": {},
   "outputs": [
    {
     "name": "stdout",
     "output_type": "stream",
     "text": [
      "Users:   51762\n",
      "Books:   18263\n",
      "Ratings: 224114\n"
     ]
    }
   ],
   "source": [
    "print('Users:  ', new_exp_ratings['user_id'].nunique())\n",
    "print('Books:  ', new_exp_ratings['isbn'].nunique())\n",
    "print('Ratings:', new_exp_ratings.shape[0])"
   ]
  },
  {
   "cell_type": "markdown",
   "metadata": {},
   "source": [
    "The original data count that we originally imported and the current one after excluding books with 3 or less ratings are:"
   ]
  },
  {
   "cell_type": "markdown",
   "metadata": {},
   "source": [
    "||Original|New|Decreased By|\n",
    "|---|---|---|---|\n",
    "|Users|68092|51762|16330|\n",
    "|Books|139648|18263|121385|\n",
    "|Ratings|383852|224114|159738|"
   ]
  },
  {
   "cell_type": "markdown",
   "metadata": {},
   "source": [
    "-  After removing books with less than 4 ratings, we can see that all of our `users`, `books` and `ratings` have decreased.\n",
    "-  The number of `books` decreased a substantial amount and we will be using the remaining `18,263` for recommendations."
   ]
  },
  {
   "cell_type": "markdown",
   "metadata": {},
   "source": [
    "### Sparse DataFrame"
   ]
  },
  {
   "cell_type": "markdown",
   "metadata": {},
   "source": [
    "Given the size of `new_exp_ratings`, we want to change the structure of our dataframe before creating a sparse dataframe for faster compute. We turn our dataframe into a dictionary of dictionaries and save it as `wide_ratings`. Each key corresponds to a user, and the nested dictionary contains the book ISBN and the rating given by that user."
   ]
  },
  {
   "cell_type": "code",
   "execution_count": 8,
   "metadata": {},
   "outputs": [],
   "source": [
    "wide_ratings = {}\n",
    "for user, book, rating in zip(new_exp_ratings['user_id'], new_exp_ratings['isbn'], new_exp_ratings['book_rating']):\n",
    "    if wide_ratings.get(user):\n",
    "        wide_ratings[user][book] = rating\n",
    "    else:\n",
    "        wide_ratings[user] = {book: rating}"
   ]
  },
  {
   "cell_type": "markdown",
   "metadata": {},
   "source": [
    "We then turn our nested dictionary `wide_ratings` into a sparse dataframe for memory efficiency reasons. We expect our dataframe to be sparse, with mostly `NaNs`. By compressing it with `pd.SparseDataFrame`, we can omit these missing values."
   ]
  },
  {
   "cell_type": "code",
   "execution_count": 9,
   "metadata": {},
   "outputs": [],
   "source": [
    "sdf_ratings = pd.SparseDataFrame(wide_ratings)"
   ]
  },
  {
   "cell_type": "code",
   "execution_count": 10,
   "metadata": {},
   "outputs": [
    {
     "data": {
      "text/html": [
       "<div>\n",
       "<style scoped>\n",
       "    .dataframe tbody tr th:only-of-type {\n",
       "        vertical-align: middle;\n",
       "    }\n",
       "\n",
       "    .dataframe tbody tr th {\n",
       "        vertical-align: top;\n",
       "    }\n",
       "\n",
       "    .dataframe thead th {\n",
       "        text-align: right;\n",
       "    }\n",
       "</style>\n",
       "<table border=\"1\" class=\"dataframe\">\n",
       "  <thead>\n",
       "    <tr style=\"text-align: right;\">\n",
       "      <th></th>\n",
       "      <th>276964</th>\n",
       "      <th>2276</th>\n",
       "      <th>16795</th>\n",
       "      <th>49133</th>\n",
       "      <th>76097</th>\n",
       "      <th>112109</th>\n",
       "      <th>114255</th>\n",
       "      <th>154824</th>\n",
       "      <th>162738</th>\n",
       "      <th>166003</th>\n",
       "      <th>...</th>\n",
       "      <th>188118</th>\n",
       "      <th>106956</th>\n",
       "      <th>178484</th>\n",
       "      <th>216817</th>\n",
       "      <th>80208</th>\n",
       "      <th>248399</th>\n",
       "      <th>104611</th>\n",
       "      <th>128296</th>\n",
       "      <th>69944</th>\n",
       "      <th>72866</th>\n",
       "    </tr>\n",
       "  </thead>\n",
       "  <tbody>\n",
       "    <tr>\n",
       "      <th>0001047647</th>\n",
       "      <td>NaN</td>\n",
       "      <td>NaN</td>\n",
       "      <td>NaN</td>\n",
       "      <td>NaN</td>\n",
       "      <td>NaN</td>\n",
       "      <td>NaN</td>\n",
       "      <td>NaN</td>\n",
       "      <td>NaN</td>\n",
       "      <td>NaN</td>\n",
       "      <td>NaN</td>\n",
       "      <td>...</td>\n",
       "      <td>NaN</td>\n",
       "      <td>NaN</td>\n",
       "      <td>NaN</td>\n",
       "      <td>NaN</td>\n",
       "      <td>NaN</td>\n",
       "      <td>NaN</td>\n",
       "      <td>NaN</td>\n",
       "      <td>NaN</td>\n",
       "      <td>NaN</td>\n",
       "      <td>NaN</td>\n",
       "    </tr>\n",
       "    <tr>\n",
       "      <th>0002005018</th>\n",
       "      <td>NaN</td>\n",
       "      <td>NaN</td>\n",
       "      <td>NaN</td>\n",
       "      <td>NaN</td>\n",
       "      <td>NaN</td>\n",
       "      <td>NaN</td>\n",
       "      <td>NaN</td>\n",
       "      <td>NaN</td>\n",
       "      <td>NaN</td>\n",
       "      <td>NaN</td>\n",
       "      <td>...</td>\n",
       "      <td>NaN</td>\n",
       "      <td>NaN</td>\n",
       "      <td>NaN</td>\n",
       "      <td>NaN</td>\n",
       "      <td>NaN</td>\n",
       "      <td>NaN</td>\n",
       "      <td>NaN</td>\n",
       "      <td>NaN</td>\n",
       "      <td>NaN</td>\n",
       "      <td>NaN</td>\n",
       "    </tr>\n",
       "    <tr>\n",
       "      <th>0002116286</th>\n",
       "      <td>NaN</td>\n",
       "      <td>NaN</td>\n",
       "      <td>NaN</td>\n",
       "      <td>NaN</td>\n",
       "      <td>NaN</td>\n",
       "      <td>NaN</td>\n",
       "      <td>NaN</td>\n",
       "      <td>NaN</td>\n",
       "      <td>NaN</td>\n",
       "      <td>NaN</td>\n",
       "      <td>...</td>\n",
       "      <td>NaN</td>\n",
       "      <td>NaN</td>\n",
       "      <td>NaN</td>\n",
       "      <td>NaN</td>\n",
       "      <td>NaN</td>\n",
       "      <td>NaN</td>\n",
       "      <td>NaN</td>\n",
       "      <td>NaN</td>\n",
       "      <td>NaN</td>\n",
       "      <td>NaN</td>\n",
       "    </tr>\n",
       "    <tr>\n",
       "      <th>0002240114</th>\n",
       "      <td>NaN</td>\n",
       "      <td>NaN</td>\n",
       "      <td>NaN</td>\n",
       "      <td>NaN</td>\n",
       "      <td>NaN</td>\n",
       "      <td>NaN</td>\n",
       "      <td>NaN</td>\n",
       "      <td>NaN</td>\n",
       "      <td>NaN</td>\n",
       "      <td>NaN</td>\n",
       "      <td>...</td>\n",
       "      <td>NaN</td>\n",
       "      <td>NaN</td>\n",
       "      <td>NaN</td>\n",
       "      <td>NaN</td>\n",
       "      <td>NaN</td>\n",
       "      <td>NaN</td>\n",
       "      <td>NaN</td>\n",
       "      <td>NaN</td>\n",
       "      <td>NaN</td>\n",
       "      <td>NaN</td>\n",
       "    </tr>\n",
       "    <tr>\n",
       "      <th>0002241447</th>\n",
       "      <td>NaN</td>\n",
       "      <td>NaN</td>\n",
       "      <td>NaN</td>\n",
       "      <td>NaN</td>\n",
       "      <td>NaN</td>\n",
       "      <td>NaN</td>\n",
       "      <td>NaN</td>\n",
       "      <td>NaN</td>\n",
       "      <td>NaN</td>\n",
       "      <td>NaN</td>\n",
       "      <td>...</td>\n",
       "      <td>NaN</td>\n",
       "      <td>NaN</td>\n",
       "      <td>NaN</td>\n",
       "      <td>NaN</td>\n",
       "      <td>NaN</td>\n",
       "      <td>NaN</td>\n",
       "      <td>NaN</td>\n",
       "      <td>NaN</td>\n",
       "      <td>NaN</td>\n",
       "      <td>NaN</td>\n",
       "    </tr>\n",
       "  </tbody>\n",
       "</table>\n",
       "<p>5 rows × 51762 columns</p>\n",
       "</div>"
      ],
      "text/plain": [
       "            276964  2276    16795   49133   76097   112109  114255  154824  \\\n",
       "0001047647     NaN     NaN     NaN     NaN     NaN     NaN     NaN     NaN   \n",
       "0002005018     NaN     NaN     NaN     NaN     NaN     NaN     NaN     NaN   \n",
       "0002116286     NaN     NaN     NaN     NaN     NaN     NaN     NaN     NaN   \n",
       "0002240114     NaN     NaN     NaN     NaN     NaN     NaN     NaN     NaN   \n",
       "0002241447     NaN     NaN     NaN     NaN     NaN     NaN     NaN     NaN   \n",
       "\n",
       "            162738  166003   ...    188118  106956  178484  216817  80208   \\\n",
       "0001047647     NaN     NaN   ...       NaN     NaN     NaN     NaN     NaN   \n",
       "0002005018     NaN     NaN   ...       NaN     NaN     NaN     NaN     NaN   \n",
       "0002116286     NaN     NaN   ...       NaN     NaN     NaN     NaN     NaN   \n",
       "0002240114     NaN     NaN   ...       NaN     NaN     NaN     NaN     NaN   \n",
       "0002241447     NaN     NaN   ...       NaN     NaN     NaN     NaN     NaN   \n",
       "\n",
       "            248399  104611  128296  69944   72866   \n",
       "0001047647     NaN     NaN     NaN     NaN     NaN  \n",
       "0002005018     NaN     NaN     NaN     NaN     NaN  \n",
       "0002116286     NaN     NaN     NaN     NaN     NaN  \n",
       "0002240114     NaN     NaN     NaN     NaN     NaN  \n",
       "0002241447     NaN     NaN     NaN     NaN     NaN  \n",
       "\n",
       "[5 rows x 51762 columns]"
      ]
     },
     "execution_count": 10,
     "metadata": {},
     "output_type": "execute_result"
    }
   ],
   "source": [
    "sdf_ratings.head()"
   ]
  },
  {
   "cell_type": "markdown",
   "metadata": {},
   "source": [
    "Since we want an item-to-item recommender, our `sdf_ratings` have:\n",
    "-  `isbn` as index\n",
    "-  `users` as columns\n",
    "-  `book_rating` as values"
   ]
  },
  {
   "cell_type": "markdown",
   "metadata": {},
   "source": [
    "We'll save out our sparse dataframe to avoid having to create them again. Since index and columns are not included, we pickle them out separately in order to map them back to our dataframe when needed."
   ]
  },
  {
   "cell_type": "markdown",
   "metadata": {},
   "source": [
    "The column datatype needs to be converted to string to avoid returning an error first."
   ]
  },
  {
   "cell_type": "code",
   "execution_count": 11,
   "metadata": {},
   "outputs": [],
   "source": [
    "sdf_ratings.columns = sdf_ratings.columns.astype(str)"
   ]
  },
  {
   "cell_type": "markdown",
   "metadata": {},
   "source": [
    "We use `to_coo` since it's a fast format for constructing sparse matrices."
   ]
  },
  {
   "cell_type": "code",
   "execution_count": 12,
   "metadata": {},
   "outputs": [],
   "source": [
    "sdf_coo = sdf_ratings.to_coo()"
   ]
  },
  {
   "cell_type": "code",
   "execution_count": 13,
   "metadata": {},
   "outputs": [],
   "source": [
    "scipy.sparse.save_npz('../assets/sdf_ratings.npz', sdf_coo)"
   ]
  },
  {
   "cell_type": "code",
   "execution_count": 14,
   "metadata": {},
   "outputs": [],
   "source": [
    "with open('../assets/cols_ratings.pkl', 'wb+') as f:\n",
    "    pickle.dump(sdf_ratings.columns, f)"
   ]
  },
  {
   "cell_type": "code",
   "execution_count": 15,
   "metadata": {},
   "outputs": [],
   "source": [
    "with open('../assets/index_ratings.pkl', 'wb+') as f:\n",
    "    pickle.dump(sdf_ratings.index, f)"
   ]
  },
  {
   "cell_type": "markdown",
   "metadata": {},
   "source": [
    "### Scale Ratings"
   ]
  },
  {
   "cell_type": "markdown",
   "metadata": {},
   "source": [
    "Now, we scale the ratings by row to remove item-bias. It's important to remove item-bias to avoid popular books from always being recommended, regardless of the searched book."
   ]
  },
  {
   "cell_type": "code",
   "execution_count": 16,
   "metadata": {},
   "outputs": [],
   "source": [
    "sc_sdf_ratings = (sdf_ratings - np.nanmean(sdf_ratings, axis=0)) / np.nanstd(sdf_ratings, axis=0) "
   ]
  },
  {
   "cell_type": "code",
   "execution_count": 21,
   "metadata": {},
   "outputs": [
    {
     "data": {
      "text/html": [
       "<div>\n",
       "<style scoped>\n",
       "    .dataframe tbody tr th:only-of-type {\n",
       "        vertical-align: middle;\n",
       "    }\n",
       "\n",
       "    .dataframe tbody tr th {\n",
       "        vertical-align: top;\n",
       "    }\n",
       "\n",
       "    .dataframe thead th {\n",
       "        text-align: right;\n",
       "    }\n",
       "</style>\n",
       "<table border=\"1\" class=\"dataframe\">\n",
       "  <thead>\n",
       "    <tr style=\"text-align: right;\">\n",
       "      <th></th>\n",
       "      <th>14958</th>\n",
       "      <th>178890</th>\n",
       "      <th>204567</th>\n",
       "      <th>205483</th>\n",
       "      <th>217740</th>\n",
       "      <th>28492</th>\n",
       "      <th>30411</th>\n",
       "      <th>50769</th>\n",
       "      <th>55187</th>\n",
       "      <th>62895</th>\n",
       "      <th>...</th>\n",
       "      <th>141840</th>\n",
       "      <th>143663</th>\n",
       "      <th>149245</th>\n",
       "      <th>175851</th>\n",
       "      <th>183129</th>\n",
       "      <th>189718</th>\n",
       "      <th>193272</th>\n",
       "      <th>213859</th>\n",
       "      <th>243376</th>\n",
       "      <th>244340</th>\n",
       "    </tr>\n",
       "  </thead>\n",
       "  <tbody>\n",
       "    <tr>\n",
       "      <th>0002005018</th>\n",
       "      <td>NaN</td>\n",
       "      <td>NaN</td>\n",
       "      <td>NaN</td>\n",
       "      <td>NaN</td>\n",
       "      <td>NaN</td>\n",
       "      <td>NaN</td>\n",
       "      <td>NaN</td>\n",
       "      <td>NaN</td>\n",
       "      <td>NaN</td>\n",
       "      <td>NaN</td>\n",
       "      <td>...</td>\n",
       "      <td>NaN</td>\n",
       "      <td>NaN</td>\n",
       "      <td>NaN</td>\n",
       "      <td>NaN</td>\n",
       "      <td>NaN</td>\n",
       "      <td>NaN</td>\n",
       "      <td>NaN</td>\n",
       "      <td>NaN</td>\n",
       "      <td>NaN</td>\n",
       "      <td>NaN</td>\n",
       "    </tr>\n",
       "    <tr>\n",
       "      <th>0002116286</th>\n",
       "      <td>NaN</td>\n",
       "      <td>NaN</td>\n",
       "      <td>NaN</td>\n",
       "      <td>NaN</td>\n",
       "      <td>NaN</td>\n",
       "      <td>NaN</td>\n",
       "      <td>NaN</td>\n",
       "      <td>NaN</td>\n",
       "      <td>NaN</td>\n",
       "      <td>NaN</td>\n",
       "      <td>...</td>\n",
       "      <td>NaN</td>\n",
       "      <td>NaN</td>\n",
       "      <td>NaN</td>\n",
       "      <td>NaN</td>\n",
       "      <td>NaN</td>\n",
       "      <td>NaN</td>\n",
       "      <td>NaN</td>\n",
       "      <td>NaN</td>\n",
       "      <td>NaN</td>\n",
       "      <td>NaN</td>\n",
       "    </tr>\n",
       "    <tr>\n",
       "      <th>0002240114</th>\n",
       "      <td>NaN</td>\n",
       "      <td>NaN</td>\n",
       "      <td>NaN</td>\n",
       "      <td>NaN</td>\n",
       "      <td>NaN</td>\n",
       "      <td>NaN</td>\n",
       "      <td>NaN</td>\n",
       "      <td>NaN</td>\n",
       "      <td>NaN</td>\n",
       "      <td>NaN</td>\n",
       "      <td>...</td>\n",
       "      <td>NaN</td>\n",
       "      <td>NaN</td>\n",
       "      <td>NaN</td>\n",
       "      <td>NaN</td>\n",
       "      <td>NaN</td>\n",
       "      <td>NaN</td>\n",
       "      <td>NaN</td>\n",
       "      <td>NaN</td>\n",
       "      <td>NaN</td>\n",
       "      <td>NaN</td>\n",
       "    </tr>\n",
       "    <tr>\n",
       "      <th>0002243962</th>\n",
       "      <td>NaN</td>\n",
       "      <td>NaN</td>\n",
       "      <td>NaN</td>\n",
       "      <td>NaN</td>\n",
       "      <td>NaN</td>\n",
       "      <td>NaN</td>\n",
       "      <td>NaN</td>\n",
       "      <td>NaN</td>\n",
       "      <td>NaN</td>\n",
       "      <td>NaN</td>\n",
       "      <td>...</td>\n",
       "      <td>NaN</td>\n",
       "      <td>NaN</td>\n",
       "      <td>NaN</td>\n",
       "      <td>NaN</td>\n",
       "      <td>NaN</td>\n",
       "      <td>NaN</td>\n",
       "      <td>NaN</td>\n",
       "      <td>NaN</td>\n",
       "      <td>NaN</td>\n",
       "      <td>NaN</td>\n",
       "    </tr>\n",
       "    <tr>\n",
       "      <th>0002251760</th>\n",
       "      <td>NaN</td>\n",
       "      <td>NaN</td>\n",
       "      <td>NaN</td>\n",
       "      <td>NaN</td>\n",
       "      <td>NaN</td>\n",
       "      <td>NaN</td>\n",
       "      <td>NaN</td>\n",
       "      <td>NaN</td>\n",
       "      <td>NaN</td>\n",
       "      <td>NaN</td>\n",
       "      <td>...</td>\n",
       "      <td>NaN</td>\n",
       "      <td>NaN</td>\n",
       "      <td>NaN</td>\n",
       "      <td>NaN</td>\n",
       "      <td>NaN</td>\n",
       "      <td>NaN</td>\n",
       "      <td>NaN</td>\n",
       "      <td>NaN</td>\n",
       "      <td>NaN</td>\n",
       "      <td>NaN</td>\n",
       "    </tr>\n",
       "  </tbody>\n",
       "</table>\n",
       "<p>5 rows × 51762 columns</p>\n",
       "</div>"
      ],
      "text/plain": [
       "            14958  178890  204567  205483  217740  28492  30411  50769  55187  \\\n",
       "0002005018    NaN     NaN     NaN     NaN     NaN    NaN    NaN    NaN    NaN   \n",
       "0002116286    NaN     NaN     NaN     NaN     NaN    NaN    NaN    NaN    NaN   \n",
       "0002240114    NaN     NaN     NaN     NaN     NaN    NaN    NaN    NaN    NaN   \n",
       "0002243962    NaN     NaN     NaN     NaN     NaN    NaN    NaN    NaN    NaN   \n",
       "0002251760    NaN     NaN     NaN     NaN     NaN    NaN    NaN    NaN    NaN   \n",
       "\n",
       "            62895   ...    141840  143663  149245  175851  183129  189718  \\\n",
       "0002005018    NaN   ...       NaN     NaN     NaN     NaN     NaN     NaN   \n",
       "0002116286    NaN   ...       NaN     NaN     NaN     NaN     NaN     NaN   \n",
       "0002240114    NaN   ...       NaN     NaN     NaN     NaN     NaN     NaN   \n",
       "0002243962    NaN   ...       NaN     NaN     NaN     NaN     NaN     NaN   \n",
       "0002251760    NaN   ...       NaN     NaN     NaN     NaN     NaN     NaN   \n",
       "\n",
       "            193272  213859  243376  244340  \n",
       "0002005018     NaN     NaN     NaN     NaN  \n",
       "0002116286     NaN     NaN     NaN     NaN  \n",
       "0002240114     NaN     NaN     NaN     NaN  \n",
       "0002243962     NaN     NaN     NaN     NaN  \n",
       "0002251760     NaN     NaN     NaN     NaN  \n",
       "\n",
       "[5 rows x 51762 columns]"
      ]
     },
     "execution_count": 21,
     "metadata": {},
     "output_type": "execute_result"
    }
   ],
   "source": [
    "sc_sdf_ratings.head()"
   ]
  },
  {
   "cell_type": "markdown",
   "metadata": {},
   "source": [
    "In our scaled dataframe, anything greater than the mean of 0 indicates that the book is favorable. Similarly, any rating less than 0 means it's not preferable."
   ]
  },
  {
   "cell_type": "markdown",
   "metadata": {},
   "source": [
    "Again, we save out the scaled, sparse dataframe to avoid having to run the code again later."
   ]
  },
  {
   "cell_type": "code",
   "execution_count": 22,
   "metadata": {},
   "outputs": [],
   "source": [
    "sc_sdf_ratings.columns = sc_sdf_ratings.columns.astype(str)"
   ]
  },
  {
   "cell_type": "code",
   "execution_count": 23,
   "metadata": {},
   "outputs": [],
   "source": [
    "sc_sdf_coo = sc_sdf_ratings.to_coo()"
   ]
  },
  {
   "cell_type": "code",
   "execution_count": 24,
   "metadata": {},
   "outputs": [],
   "source": [
    "scipy.sparse.save_npz('../assets/sc_ratings.npz', sc_sdf_coo)"
   ]
  },
  {
   "cell_type": "code",
   "execution_count": 25,
   "metadata": {},
   "outputs": [],
   "source": [
    "with open('../assets/cols_sc_ratings.pkl', 'wb+') as f:\n",
    "    pickle.dump(sc_sdf_ratings.columns, f)"
   ]
  },
  {
   "cell_type": "code",
   "execution_count": 26,
   "metadata": {},
   "outputs": [],
   "source": [
    "with open('../assets/index_sc_ratings.pkl', 'wb+') as f:\n",
    "    pickle.dump(sc_sdf_ratings.index, f)"
   ]
  },
  {
   "cell_type": "markdown",
   "metadata": {},
   "source": [
    "### Create Pivot Table"
   ]
  },
  {
   "cell_type": "markdown",
   "metadata": {},
   "source": [
    "Before calculating cosine similarity, we want to create a sparse matrix where `NaNs` are filled with 0s."
   ]
  },
  {
   "cell_type": "code",
   "execution_count": 27,
   "metadata": {},
   "outputs": [],
   "source": [
    "isbn_pivot = sparse.csr_matrix(sc_sdf_ratings.fillna(0))"
   ]
  },
  {
   "cell_type": "markdown",
   "metadata": {},
   "source": [
    "## Modeling"
   ]
  },
  {
   "cell_type": "markdown",
   "metadata": {},
   "source": [
    "### Cosine Similarity"
   ]
  },
  {
   "cell_type": "markdown",
   "metadata": {},
   "source": [
    "We calculate the cosine similarity between books by setting `isbn_pivot` as our vectors. This is done by taking the dot product of the vectors and dividing by their magnitude. \n",
    "\n",
    "![Cosine Similarity](https://neo4j.com/docs/graph-algorithms/current/images/cosine-similarity.png)"
   ]
  },
  {
   "cell_type": "code",
   "execution_count": 28,
   "metadata": {},
   "outputs": [],
   "source": [
    "cos_sim = cosine_similarity(isbn_pivot, isbn_pivot)"
   ]
  },
  {
   "cell_type": "markdown",
   "metadata": {},
   "source": [
    "For easy readibility, we'll load `cos_sim` back into a dataframe. "
   ]
  },
  {
   "cell_type": "code",
   "execution_count": 29,
   "metadata": {},
   "outputs": [],
   "source": [
    "ratings_cos_sim = pd.DataFrame(cos_sim, index=sc_sdf_ratings.index, columns=sc_sdf_ratings.index)"
   ]
  },
  {
   "cell_type": "code",
   "execution_count": 30,
   "metadata": {},
   "outputs": [
    {
     "data": {
      "text/html": [
       "<div>\n",
       "<style scoped>\n",
       "    .dataframe tbody tr th:only-of-type {\n",
       "        vertical-align: middle;\n",
       "    }\n",
       "\n",
       "    .dataframe tbody tr th {\n",
       "        vertical-align: top;\n",
       "    }\n",
       "\n",
       "    .dataframe thead th {\n",
       "        text-align: right;\n",
       "    }\n",
       "</style>\n",
       "<table border=\"1\" class=\"dataframe\">\n",
       "  <thead>\n",
       "    <tr style=\"text-align: right;\">\n",
       "      <th></th>\n",
       "      <th>0002005018</th>\n",
       "      <th>0002116286</th>\n",
       "      <th>0002240114</th>\n",
       "      <th>0002243962</th>\n",
       "      <th>0002251760</th>\n",
       "      <th>0002255081</th>\n",
       "      <th>0002259834</th>\n",
       "      <th>0002261820</th>\n",
       "      <th>0002550563</th>\n",
       "      <th>0003300277</th>\n",
       "      <th>...</th>\n",
       "      <th>9684112017</th>\n",
       "      <th>9707100036</th>\n",
       "      <th>9722016563</th>\n",
       "      <th>972210277X</th>\n",
       "      <th>9722105248</th>\n",
       "      <th>9726101794</th>\n",
       "      <th>9727110800</th>\n",
       "      <th>9728423160</th>\n",
       "      <th>9812327975</th>\n",
       "      <th>9871138148</th>\n",
       "    </tr>\n",
       "  </thead>\n",
       "  <tbody>\n",
       "    <tr>\n",
       "      <th>0002005018</th>\n",
       "      <td>1.000000</td>\n",
       "      <td>0.013408</td>\n",
       "      <td>0.0</td>\n",
       "      <td>0.0</td>\n",
       "      <td>0.0</td>\n",
       "      <td>0.0</td>\n",
       "      <td>0.0</td>\n",
       "      <td>0.0</td>\n",
       "      <td>0.0</td>\n",
       "      <td>0.0</td>\n",
       "      <td>...</td>\n",
       "      <td>0.0</td>\n",
       "      <td>0.0</td>\n",
       "      <td>0.0</td>\n",
       "      <td>0.0</td>\n",
       "      <td>0.0</td>\n",
       "      <td>0.0</td>\n",
       "      <td>0.0</td>\n",
       "      <td>0.0</td>\n",
       "      <td>-0.049209</td>\n",
       "      <td>0.0</td>\n",
       "    </tr>\n",
       "    <tr>\n",
       "      <th>0002116286</th>\n",
       "      <td>0.013408</td>\n",
       "      <td>1.000000</td>\n",
       "      <td>0.0</td>\n",
       "      <td>0.0</td>\n",
       "      <td>0.0</td>\n",
       "      <td>0.0</td>\n",
       "      <td>0.0</td>\n",
       "      <td>0.0</td>\n",
       "      <td>0.0</td>\n",
       "      <td>0.0</td>\n",
       "      <td>...</td>\n",
       "      <td>0.0</td>\n",
       "      <td>0.0</td>\n",
       "      <td>0.0</td>\n",
       "      <td>0.0</td>\n",
       "      <td>0.0</td>\n",
       "      <td>0.0</td>\n",
       "      <td>0.0</td>\n",
       "      <td>0.0</td>\n",
       "      <td>0.000000</td>\n",
       "      <td>0.0</td>\n",
       "    </tr>\n",
       "    <tr>\n",
       "      <th>0002240114</th>\n",
       "      <td>0.000000</td>\n",
       "      <td>0.000000</td>\n",
       "      <td>1.0</td>\n",
       "      <td>0.0</td>\n",
       "      <td>0.0</td>\n",
       "      <td>0.0</td>\n",
       "      <td>0.0</td>\n",
       "      <td>0.0</td>\n",
       "      <td>0.0</td>\n",
       "      <td>0.0</td>\n",
       "      <td>...</td>\n",
       "      <td>0.0</td>\n",
       "      <td>0.0</td>\n",
       "      <td>0.0</td>\n",
       "      <td>0.0</td>\n",
       "      <td>0.0</td>\n",
       "      <td>0.0</td>\n",
       "      <td>0.0</td>\n",
       "      <td>0.0</td>\n",
       "      <td>0.000000</td>\n",
       "      <td>0.0</td>\n",
       "    </tr>\n",
       "    <tr>\n",
       "      <th>0002243962</th>\n",
       "      <td>0.000000</td>\n",
       "      <td>0.000000</td>\n",
       "      <td>0.0</td>\n",
       "      <td>1.0</td>\n",
       "      <td>0.0</td>\n",
       "      <td>0.0</td>\n",
       "      <td>0.0</td>\n",
       "      <td>0.0</td>\n",
       "      <td>0.0</td>\n",
       "      <td>0.0</td>\n",
       "      <td>...</td>\n",
       "      <td>0.0</td>\n",
       "      <td>0.0</td>\n",
       "      <td>0.0</td>\n",
       "      <td>0.0</td>\n",
       "      <td>0.0</td>\n",
       "      <td>0.0</td>\n",
       "      <td>0.0</td>\n",
       "      <td>0.0</td>\n",
       "      <td>0.000000</td>\n",
       "      <td>0.0</td>\n",
       "    </tr>\n",
       "    <tr>\n",
       "      <th>0002251760</th>\n",
       "      <td>0.000000</td>\n",
       "      <td>0.000000</td>\n",
       "      <td>0.0</td>\n",
       "      <td>0.0</td>\n",
       "      <td>1.0</td>\n",
       "      <td>0.0</td>\n",
       "      <td>0.0</td>\n",
       "      <td>0.0</td>\n",
       "      <td>0.0</td>\n",
       "      <td>0.0</td>\n",
       "      <td>...</td>\n",
       "      <td>0.0</td>\n",
       "      <td>0.0</td>\n",
       "      <td>0.0</td>\n",
       "      <td>0.0</td>\n",
       "      <td>0.0</td>\n",
       "      <td>0.0</td>\n",
       "      <td>0.0</td>\n",
       "      <td>0.0</td>\n",
       "      <td>0.000000</td>\n",
       "      <td>0.0</td>\n",
       "    </tr>\n",
       "  </tbody>\n",
       "</table>\n",
       "<p>5 rows × 18263 columns</p>\n",
       "</div>"
      ],
      "text/plain": [
       "            0002005018  0002116286  0002240114  0002243962  0002251760  \\\n",
       "0002005018    1.000000    0.013408         0.0         0.0         0.0   \n",
       "0002116286    0.013408    1.000000         0.0         0.0         0.0   \n",
       "0002240114    0.000000    0.000000         1.0         0.0         0.0   \n",
       "0002243962    0.000000    0.000000         0.0         1.0         0.0   \n",
       "0002251760    0.000000    0.000000         0.0         0.0         1.0   \n",
       "\n",
       "            0002255081  0002259834  0002261820  0002550563  0003300277  \\\n",
       "0002005018         0.0         0.0         0.0         0.0         0.0   \n",
       "0002116286         0.0         0.0         0.0         0.0         0.0   \n",
       "0002240114         0.0         0.0         0.0         0.0         0.0   \n",
       "0002243962         0.0         0.0         0.0         0.0         0.0   \n",
       "0002251760         0.0         0.0         0.0         0.0         0.0   \n",
       "\n",
       "               ...      9684112017  9707100036  9722016563  972210277X  \\\n",
       "0002005018     ...             0.0         0.0         0.0         0.0   \n",
       "0002116286     ...             0.0         0.0         0.0         0.0   \n",
       "0002240114     ...             0.0         0.0         0.0         0.0   \n",
       "0002243962     ...             0.0         0.0         0.0         0.0   \n",
       "0002251760     ...             0.0         0.0         0.0         0.0   \n",
       "\n",
       "            9722105248  9726101794  9727110800  9728423160  9812327975  \\\n",
       "0002005018         0.0         0.0         0.0         0.0   -0.049209   \n",
       "0002116286         0.0         0.0         0.0         0.0    0.000000   \n",
       "0002240114         0.0         0.0         0.0         0.0    0.000000   \n",
       "0002243962         0.0         0.0         0.0         0.0    0.000000   \n",
       "0002251760         0.0         0.0         0.0         0.0    0.000000   \n",
       "\n",
       "            9871138148  \n",
       "0002005018         0.0  \n",
       "0002116286         0.0  \n",
       "0002240114         0.0  \n",
       "0002243962         0.0  \n",
       "0002251760         0.0  \n",
       "\n",
       "[5 rows x 18263 columns]"
      ]
     },
     "execution_count": 30,
     "metadata": {},
     "output_type": "execute_result"
    }
   ],
   "source": [
    "ratings_cos_sim.head()"
   ]
  },
  {
   "cell_type": "markdown",
   "metadata": {},
   "source": [
    "The similarities range from -1 to 1:\n",
    "-  `-1`: books are exactly opposite\n",
    "-  `0`: books are orthogonal (not related)\n",
    "-  `1`: books are exactly the same\n",
    "-  `0 > similarity > 1`: intermediate similarity between books\n",
    "-  `-1 < similarity < 1`: intermediate dissimilarity between books"
   ]
  },
  {
   "cell_type": "markdown",
   "metadata": {},
   "source": [
    "### Recommender System"
   ]
  },
  {
   "cell_type": "markdown",
   "metadata": {},
   "source": [
    "Our `ratings_cos_sim` have ISBNs as the index and columns. To allow users to search by book title, we create a dataframe containing unique ISBNs and their corresponding information."
   ]
  },
  {
   "cell_type": "code",
   "execution_count": 31,
   "metadata": {},
   "outputs": [],
   "source": [
    "unique_title = new_exp_ratings.drop_duplicates('isbn')"
   ]
  },
  {
   "cell_type": "markdown",
   "metadata": {},
   "source": [
    "Define a function that returns the top 5 most similar books and their cosine similarity with the given ISBN."
   ]
  },
  {
   "cell_type": "code",
   "execution_count": 32,
   "metadata": {},
   "outputs": [],
   "source": [
    "def top_5_recs(isbn):\n",
    "    titles = []\n",
    "    cos_sim = []\n",
    "    for book, sim in ratings_cos_sim[isbn].sort_values(ascending=False)[1:6].items():\n",
    "        titles.append(unique_title[unique_title['isbn'] == book]['book_title'].values[0])\n",
    "        cos_sim.append(sim)\n",
    "        top_5 = pd.DataFrame(titles, columns=['Recommendations'])\n",
    "        top_5['Similarity'] = cos_sim\n",
    "    return top_5"
   ]
  },
  {
   "cell_type": "markdown",
   "metadata": {},
   "source": [
    "Define a function where users can enter a search term, whether that's the book title or a portion of it. If the search term is:\n",
    "-  **Found in one book**: the `top_5_recs` function defined above will be used to return the top 5 recommendations.\n",
    "-  **Not found**: the user will be notified of this. \n",
    "-  **Found in multiple book titles**: we will request the user to further specify which book they're referring to. A list of available books will be printed for selection. The `top_5_recs` function will be used. "
   ]
  },
  {
   "cell_type": "code",
   "execution_count": 33,
   "metadata": {},
   "outputs": [],
   "source": [
    "def book_search():\n",
    "    search_term = input('Please enter a book: ')\n",
    "    search_mask = unique_title[unique_title['book_title'].str.contains(search_term)]['book_title'].values\n",
    "    if len(search_mask) == 1:\n",
    "        isbn = unique_title[unique_title['book_title'] == search_mask[0]]['isbn'].values[0]\n",
    "        return top_5_recs(isbn)\n",
    "    elif len(search_mask) == 0:\n",
    "        print('Sorry, it doesn\\'t look like we have this book in our system.')\n",
    "    elif len(search_mask) > 1:\n",
    "        print('Which book are you looking for?')\n",
    "        titles = {}\n",
    "        for i, title in enumerate(search_mask):\n",
    "            print(i, title)\n",
    "            titles[i] = title\n",
    "        search_again = input('Please enter the number of the correct book: ')\n",
    "        book_title = titles[int(search_again)]\n",
    "        isbn = unique_title[unique_title['book_title'] == book_title]['isbn'].values[0]\n",
    "        return top_5_recs(isbn)"
   ]
  },
  {
   "cell_type": "markdown",
   "metadata": {},
   "source": [
    "We will use our function with:\n",
    "-  `search_term = Mermaid`\n",
    "-  `search_again = 4 The Little Mermaid`\n",
    "-  [Synopsis](https://www.amazon.com/Little-Mermaid-Original-Illustrations/dp/0615963943/ref=sr_1_6?s=books&ie=UTF8&qid=1549620530&sr=1-6&keywords=the+little+mermaid)\n",
    "> After saving a prince from drowning, a mermaid princess embraces a life of extreme self-sacrifice to win his love and gain an immortal soul."
   ]
  },
  {
   "cell_type": "code",
   "execution_count": 34,
   "metadata": {},
   "outputs": [
    {
     "name": "stdout",
     "output_type": "stream",
     "text": [
      "Which book are you looking for?\n",
      "0 The Mermaids Singing\n",
      "1 The Mermaids Singing (A Dr. Tony Hill & Carol Jordan Mystery)\n",
      "2 Little Mermaid (Little Golden Book)\n",
      "3 The Little Mermaid\n",
      "4 The Little Mermaid\n",
      "5 Disney's: The Little Mermaid (Disney's Wonderful World of Reading)\n"
     ]
    },
    {
     "data": {
      "text/html": [
       "<div>\n",
       "<style scoped>\n",
       "    .dataframe tbody tr th:only-of-type {\n",
       "        vertical-align: middle;\n",
       "    }\n",
       "\n",
       "    .dataframe tbody tr th {\n",
       "        vertical-align: top;\n",
       "    }\n",
       "\n",
       "    .dataframe thead th {\n",
       "        text-align: right;\n",
       "    }\n",
       "</style>\n",
       "<table border=\"1\" class=\"dataframe\">\n",
       "  <thead>\n",
       "    <tr style=\"text-align: right;\">\n",
       "      <th></th>\n",
       "      <th>Recommendations</th>\n",
       "      <th>Similarity</th>\n",
       "    </tr>\n",
       "  </thead>\n",
       "  <tbody>\n",
       "    <tr>\n",
       "      <th>0</th>\n",
       "      <td>Cinder Edna</td>\n",
       "      <td>0.634178</td>\n",
       "    </tr>\n",
       "    <tr>\n",
       "      <th>1</th>\n",
       "      <td>Pound It (Popular Mechanics for Kids)</td>\n",
       "      <td>0.634178</td>\n",
       "    </tr>\n",
       "    <tr>\n",
       "      <th>2</th>\n",
       "      <td>Los Detectives Salvajes</td>\n",
       "      <td>0.634178</td>\n",
       "    </tr>\n",
       "    <tr>\n",
       "      <th>3</th>\n",
       "      <td>Flowers for Travis</td>\n",
       "      <td>0.634178</td>\n",
       "    </tr>\n",
       "    <tr>\n",
       "      <th>4</th>\n",
       "      <td>A Time To Dance</td>\n",
       "      <td>0.634178</td>\n",
       "    </tr>\n",
       "  </tbody>\n",
       "</table>\n",
       "</div>"
      ],
      "text/plain": [
       "                         Recommendations  Similarity\n",
       "0                            Cinder Edna    0.634178\n",
       "1  Pound It (Popular Mechanics for Kids)    0.634178\n",
       "2                Los Detectives Salvajes    0.634178\n",
       "3                     Flowers for Travis    0.634178\n",
       "4                        A Time To Dance    0.634178"
      ]
     },
     "execution_count": 34,
     "metadata": {},
     "output_type": "execute_result"
    }
   ],
   "source": [
    "book_search()"
   ]
  },
  {
   "cell_type": "markdown",
   "metadata": {},
   "source": [
    "-  The top 5 recommendations for `The Little Mermaid` all have a cosine similarity of `0.634178`.\n",
    "-  Based on [Cinder Edna's synopsis](https://www.amazon.com/Cinder-Edna-Ellen-Jackson/dp/0688162959), it's pretty similar to our searched book:\n",
    "    > Once upon a time there were two girls who lived next door to each other. Cinder Edna was forced to work for her wicked stepmother and stepsisters, just as her neighbor, Cinderella, was. Edna, on the other hand, had learned a thing or two from doing all that housework, such as how to make tuna casserole sixteen different ways and how to get spots off everything from rugs to ladybugs. And she was strong and spunky and knew some good jokes. Then one day the king announced that he would give a ball ...*\n",
    "-  The similarity with other books is not as apparant. "
   ]
  },
  {
   "cell_type": "markdown",
   "metadata": {},
   "source": [
    "## Conclusions and Recommendations"
   ]
  },
  {
   "cell_type": "markdown",
   "metadata": {},
   "source": [
    "The quality of our recommendations varies depending on the book searched. Our search for The Little Mermaid returned books with equal similarity (`0.634178`). Despite having the same values, it's not readily apparant that they share the same qualities as our search. \n",
    "\n",
    "The inconsistent returns are largely due to the sparsity of our data. Since implicit ratings and books with 3 or less ratings were removed, our recommender system only consists of 18,263 books with 224,114 ratings.\n",
    "\n",
    "To improve our recommender, we can:\n",
    "-  **Collect more data:** Collecting more ratings data will be the most direct and advantageous method to improve our recommendations. This will help address the high count of implicit ratings and data sparsity issues.\n",
    "\n",
    "-  **Build a hybrid recommender system** We can build a hybrid recommender system, taking into account both the ratings and book metadata. APIs like Google Books will be beneficial to grab data like page count, genre and book description."
   ]
  }
 ],
 "metadata": {
  "kernelspec": {
   "display_name": "Python 3",
   "language": "python",
   "name": "python3"
  },
  "language_info": {
   "codemirror_mode": {
    "name": "ipython",
    "version": 3
   },
   "file_extension": ".py",
   "mimetype": "text/x-python",
   "name": "python",
   "nbconvert_exporter": "python",
   "pygments_lexer": "ipython3",
   "version": "3.6.5"
  }
 },
 "nbformat": 4,
 "nbformat_minor": 2
}
