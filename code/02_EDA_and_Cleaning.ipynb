{
 "cells": [
  {
   "cell_type": "markdown",
   "metadata": {},
   "source": [
    "# EDA and Cleaning"
   ]
  },
  {
   "cell_type": "markdown",
   "metadata": {},
   "source": [
    "Prior to building our recommender system, we cleaned and combined our `books` and `book_ratings` tables. The `users` table was not used as user location and age are not pertinent to our item-to-item recommender. There was a discrepancy between the books in our `books` table and those in `book_ratings`. The dataframes were combined and books that were not available in both were removed prior to any cleaning or visualization. Book count, publication years, and ratings count were explored to get a better understanding of our data. Special attention was given to explicit and implicit ratings, given that it is the feature that will be used for our recommender.\n",
    "\n",
    "New dataframes were created and loaded onto the server. SQL file used to create these tables can be found [here](http://localhost:8888/lab/tree/dsi%2FProjects%2Fcapstone%2Fsql_files%2F02_eda_create_tables.sql)"
   ]
  },
  {
   "cell_type": "markdown",
   "metadata": {},
   "source": [
    "## Contents\n",
    "-  [Retrieve Data from PostgreSQL Database](#Retrieve-Data-from-PostgreSQL-Database)\n",
    "-  [Combine books and ratings](#Combine-books-and-ratings)\n",
    "-  [Duplicated book title and book author](#Duplicated-book-title-and-book-author)\n",
    "-  [Clean Data](#Clean-Data)\n",
    "-  [Explicit and Implicit Ratings](#Explicit-and-Implicit-Ratings)"
   ]
  },
  {
   "cell_type": "code",
   "execution_count": 1,
   "metadata": {},
   "outputs": [],
   "source": [
    "import pandas as pd\n",
    "import numpy as np\n",
    "import matplotlib.pyplot as plt\n",
    "import seaborn as sns\n",
    "import re\n",
    "import psycopg2 as pg2\n",
    "from sqlalchemy import create_engine\n",
    "\n",
    "sns.set_style('darkgrid')\n",
    "sns.set_palette(palette='colorblind')\n",
    "%matplotlib inline"
   ]
  },
  {
   "cell_type": "code",
   "execution_count": 2,
   "metadata": {},
   "outputs": [],
   "source": [
    "%run ../bx_sql.py"
   ]
  },
  {
   "cell_type": "markdown",
   "metadata": {},
   "source": [
    "We create an engine to establish a relationship between our machine and the database living on AWS. This will allow us to query our tables."
   ]
  },
  {
   "cell_type": "code",
   "execution_count": 3,
   "metadata": {},
   "outputs": [],
   "source": [
    "engine = create_engine(f'postgres://{USER}:{PASSWORD}@{FULL_IP_ADDRESS}:5432/{DBNAME}')"
   ]
  },
  {
   "cell_type": "markdown",
   "metadata": {},
   "source": [
    "## Retrieve Data from PostgreSQL Database"
   ]
  },
  {
   "cell_type": "markdown",
   "metadata": {},
   "source": [
    "The Book-Crossing dataset comprises of 3 tables: Users, Books and Book-Ratings. A table with the same name was created for each in the `postgres` database. We will retrieve the entire `books` and `book_ratings` tables and save them as dataframes."
   ]
  },
  {
   "cell_type": "markdown",
   "metadata": {},
   "source": [
    "### Books"
   ]
  },
  {
   "cell_type": "code",
   "execution_count": 4,
   "metadata": {},
   "outputs": [
    {
     "data": {
      "text/html": [
       "<div>\n",
       "<style scoped>\n",
       "    .dataframe tbody tr th:only-of-type {\n",
       "        vertical-align: middle;\n",
       "    }\n",
       "\n",
       "    .dataframe tbody tr th {\n",
       "        vertical-align: top;\n",
       "    }\n",
       "\n",
       "    .dataframe thead th {\n",
       "        text-align: right;\n",
       "    }\n",
       "</style>\n",
       "<table border=\"1\" class=\"dataframe\">\n",
       "  <thead>\n",
       "    <tr style=\"text-align: right;\">\n",
       "      <th></th>\n",
       "      <th>isbn</th>\n",
       "      <th>book_title</th>\n",
       "      <th>book_author</th>\n",
       "      <th>year_of_publication</th>\n",
       "      <th>publisher</th>\n",
       "      <th>image_url_s</th>\n",
       "      <th>image_url_m</th>\n",
       "      <th>image_url_l</th>\n",
       "    </tr>\n",
       "  </thead>\n",
       "  <tbody>\n",
       "    <tr>\n",
       "      <th>0</th>\n",
       "      <td>0373810261</td>\n",
       "      <td>Miss Liz'S Passion (Men At Work) (Men at Work ...</td>\n",
       "      <td>Sherryl Woods</td>\n",
       "      <td>1998</td>\n",
       "      <td>Harlequin</td>\n",
       "      <td>http://images.amazon.com/images/P/0373810261.0...</td>\n",
       "      <td>http://images.amazon.com/images/P/0373810261.0...</td>\n",
       "      <td>http://images.amazon.com/images/P/0373810261.0...</td>\n",
       "    </tr>\n",
       "    <tr>\n",
       "      <th>1</th>\n",
       "      <td>843485676X</td>\n",
       "      <td>Gran Angular - Alerta Roja: Un Frio Viento Del...</td>\n",
       "      <td>C Puerto</td>\n",
       "      <td>0</td>\n",
       "      <td>Ediciones SM</td>\n",
       "      <td>http://images.amazon.com/images/P/843485676X.0...</td>\n",
       "      <td>http://images.amazon.com/images/P/843485676X.0...</td>\n",
       "      <td>http://images.amazon.com/images/P/843485676X.0...</td>\n",
       "    </tr>\n",
       "    <tr>\n",
       "      <th>2</th>\n",
       "      <td>1880684497</td>\n",
       "      <td>Prospero's Mirror: A Translators' Portfolio of...</td>\n",
       "      <td>Ilan Stavans</td>\n",
       "      <td>1998</td>\n",
       "      <td>Curbstone Press</td>\n",
       "      <td>http://images.amazon.com/images/P/1880684497.0...</td>\n",
       "      <td>http://images.amazon.com/images/P/1880684497.0...</td>\n",
       "      <td>http://images.amazon.com/images/P/1880684497.0...</td>\n",
       "    </tr>\n",
       "    <tr>\n",
       "      <th>3</th>\n",
       "      <td>0679421041</td>\n",
       "      <td>River in the Desert: Modern Travels in Ancient...</td>\n",
       "      <td>Paul William Roberts</td>\n",
       "      <td>1993</td>\n",
       "      <td>Random House</td>\n",
       "      <td>http://images.amazon.com/images/P/0679421041.0...</td>\n",
       "      <td>http://images.amazon.com/images/P/0679421041.0...</td>\n",
       "      <td>http://images.amazon.com/images/P/0679421041.0...</td>\n",
       "    </tr>\n",
       "    <tr>\n",
       "      <th>4</th>\n",
       "      <td>0821721828</td>\n",
       "      <td>Moontide Embrace</td>\n",
       "      <td>Constance O'Banyon</td>\n",
       "      <td>1987</td>\n",
       "      <td>Zebra Books</td>\n",
       "      <td>http://images.amazon.com/images/P/0821721828.0...</td>\n",
       "      <td>http://images.amazon.com/images/P/0821721828.0...</td>\n",
       "      <td>http://images.amazon.com/images/P/0821721828.0...</td>\n",
       "    </tr>\n",
       "  </tbody>\n",
       "</table>\n",
       "</div>"
      ],
      "text/plain": [
       "         isbn                                         book_title  \\\n",
       "0  0373810261  Miss Liz'S Passion (Men At Work) (Men at Work ...   \n",
       "1  843485676X  Gran Angular - Alerta Roja: Un Frio Viento Del...   \n",
       "2  1880684497  Prospero's Mirror: A Translators' Portfolio of...   \n",
       "3  0679421041  River in the Desert: Modern Travels in Ancient...   \n",
       "4  0821721828                                   Moontide Embrace   \n",
       "\n",
       "            book_author  year_of_publication        publisher  \\\n",
       "0         Sherryl Woods                 1998        Harlequin   \n",
       "1              C Puerto                    0     Ediciones SM   \n",
       "2          Ilan Stavans                 1998  Curbstone Press   \n",
       "3  Paul William Roberts                 1993     Random House   \n",
       "4    Constance O'Banyon                 1987      Zebra Books   \n",
       "\n",
       "                                         image_url_s  \\\n",
       "0  http://images.amazon.com/images/P/0373810261.0...   \n",
       "1  http://images.amazon.com/images/P/843485676X.0...   \n",
       "2  http://images.amazon.com/images/P/1880684497.0...   \n",
       "3  http://images.amazon.com/images/P/0679421041.0...   \n",
       "4  http://images.amazon.com/images/P/0821721828.0...   \n",
       "\n",
       "                                         image_url_m  \\\n",
       "0  http://images.amazon.com/images/P/0373810261.0...   \n",
       "1  http://images.amazon.com/images/P/843485676X.0...   \n",
       "2  http://images.amazon.com/images/P/1880684497.0...   \n",
       "3  http://images.amazon.com/images/P/0679421041.0...   \n",
       "4  http://images.amazon.com/images/P/0821721828.0...   \n",
       "\n",
       "                                         image_url_l  \n",
       "0  http://images.amazon.com/images/P/0373810261.0...  \n",
       "1  http://images.amazon.com/images/P/843485676X.0...  \n",
       "2  http://images.amazon.com/images/P/1880684497.0...  \n",
       "3  http://images.amazon.com/images/P/0679421041.0...  \n",
       "4  http://images.amazon.com/images/P/0821721828.0...  "
      ]
     },
     "execution_count": 4,
     "metadata": {},
     "output_type": "execute_result"
    }
   ],
   "source": [
    "books_df = pd.read_sql_table('books', engine)\n",
    "\n",
    "books_df.head()"
   ]
  },
  {
   "cell_type": "markdown",
   "metadata": {},
   "source": [
    "Image urls are unnecessary. These are removed before we move forward."
   ]
  },
  {
   "cell_type": "code",
   "execution_count": 5,
   "metadata": {},
   "outputs": [],
   "source": [
    "books_df.drop(columns=['image_url_l', 'image_url_m', 'image_url_s'], inplace=True)"
   ]
  },
  {
   "cell_type": "markdown",
   "metadata": {},
   "source": [
    "### Ratings"
   ]
  },
  {
   "cell_type": "code",
   "execution_count": 6,
   "metadata": {},
   "outputs": [
    {
     "data": {
      "text/html": [
       "<div>\n",
       "<style scoped>\n",
       "    .dataframe tbody tr th:only-of-type {\n",
       "        vertical-align: middle;\n",
       "    }\n",
       "\n",
       "    .dataframe tbody tr th {\n",
       "        vertical-align: top;\n",
       "    }\n",
       "\n",
       "    .dataframe thead th {\n",
       "        text-align: right;\n",
       "    }\n",
       "</style>\n",
       "<table border=\"1\" class=\"dataframe\">\n",
       "  <thead>\n",
       "    <tr style=\"text-align: right;\">\n",
       "      <th></th>\n",
       "      <th>user_id</th>\n",
       "      <th>isbn</th>\n",
       "      <th>book_rating</th>\n",
       "    </tr>\n",
       "  </thead>\n",
       "  <tbody>\n",
       "    <tr>\n",
       "      <th>0</th>\n",
       "      <td>276725</td>\n",
       "      <td>034545104X</td>\n",
       "      <td>0</td>\n",
       "    </tr>\n",
       "    <tr>\n",
       "      <th>1</th>\n",
       "      <td>276726</td>\n",
       "      <td>0155061224</td>\n",
       "      <td>5</td>\n",
       "    </tr>\n",
       "    <tr>\n",
       "      <th>2</th>\n",
       "      <td>276727</td>\n",
       "      <td>0446520802</td>\n",
       "      <td>0</td>\n",
       "    </tr>\n",
       "    <tr>\n",
       "      <th>3</th>\n",
       "      <td>276729</td>\n",
       "      <td>052165615X</td>\n",
       "      <td>3</td>\n",
       "    </tr>\n",
       "    <tr>\n",
       "      <th>4</th>\n",
       "      <td>276729</td>\n",
       "      <td>0521795028</td>\n",
       "      <td>6</td>\n",
       "    </tr>\n",
       "  </tbody>\n",
       "</table>\n",
       "</div>"
      ],
      "text/plain": [
       "   user_id        isbn  book_rating\n",
       "0   276725  034545104X            0\n",
       "1   276726  0155061224            5\n",
       "2   276727  0446520802            0\n",
       "3   276729  052165615X            3\n",
       "4   276729  0521795028            6"
      ]
     },
     "execution_count": 6,
     "metadata": {},
     "output_type": "execute_result"
    }
   ],
   "source": [
    "ratings_df = pd.read_sql_table('book_ratings', engine)\n",
    "\n",
    "ratings_df.head()"
   ]
  },
  {
   "cell_type": "markdown",
   "metadata": {},
   "source": [
    "## Combine `books` and `ratings`"
   ]
  },
  {
   "cell_type": "markdown",
   "metadata": {},
   "source": [
    "Prior to data cleaning, we need to check if books in `ratings_df` are in `books_df`. If we do not have any additional metadata besides `isbn` for books with ratings, we will not be able to easily provide recommendations with book titles."
   ]
  },
  {
   "cell_type": "code",
   "execution_count": 7,
   "metadata": {},
   "outputs": [
    {
     "name": "stdout",
     "output_type": "stream",
     "text": [
      "Ratings ISBN: 340556\n",
      "Books ISBN:   271379\n"
     ]
    },
    {
     "data": {
      "text/plain": [
       "False"
      ]
     },
     "execution_count": 7,
     "metadata": {},
     "output_type": "execute_result"
    }
   ],
   "source": [
    "print('Ratings ISBN:',ratings_df['isbn'].nunique())\n",
    "print('Books ISBN:  ',books_df['isbn'].nunique())\n",
    "ratings_df['isbn'].nunique() == books_df['isbn'].nunique()"
   ]
  },
  {
   "cell_type": "markdown",
   "metadata": {},
   "source": [
    "We have ratings for books in `ratings_df` that do not exist in`books_df`. We only want to keep books that exist in both dataframes and save it to `match_isbns`."
   ]
  },
  {
   "cell_type": "code",
   "execution_count": 8,
   "metadata": {},
   "outputs": [],
   "source": [
    "match_isbns = ratings_df[ratings_df['isbn'].isin(books_df['isbn'])]"
   ]
  },
  {
   "cell_type": "code",
   "execution_count": 9,
   "metadata": {},
   "outputs": [
    {
     "name": "stdout",
     "output_type": "stream",
     "text": [
      "Number of Ratings: 1031175\n",
      "Number of Books:   270170\n"
     ]
    }
   ],
   "source": [
    "print('Number of Ratings:',match_isbns.shape[0])\n",
    "print('Number of Books:  ',match_isbns['isbn'].nunique())"
   ]
  },
  {
   "cell_type": "markdown",
   "metadata": {},
   "source": [
    "Now we're left with 270,170 books and 1,031,175 ratings."
   ]
  },
  {
   "cell_type": "markdown",
   "metadata": {},
   "source": [
    "We're going to merge `match_isbns` with `books_df` in order to have all information in one dataframe (`combined_df`)."
   ]
  },
  {
   "cell_type": "code",
   "execution_count": 10,
   "metadata": {},
   "outputs": [],
   "source": [
    "combined_df = match_isbns.merge(books_df[['isbn', 'book_author', 'book_title']], how='left')"
   ]
  },
  {
   "cell_type": "code",
   "execution_count": 11,
   "metadata": {},
   "outputs": [
    {
     "data": {
      "text/html": [
       "<div>\n",
       "<style scoped>\n",
       "    .dataframe tbody tr th:only-of-type {\n",
       "        vertical-align: middle;\n",
       "    }\n",
       "\n",
       "    .dataframe tbody tr th {\n",
       "        vertical-align: top;\n",
       "    }\n",
       "\n",
       "    .dataframe thead th {\n",
       "        text-align: right;\n",
       "    }\n",
       "</style>\n",
       "<table border=\"1\" class=\"dataframe\">\n",
       "  <thead>\n",
       "    <tr style=\"text-align: right;\">\n",
       "      <th></th>\n",
       "      <th>user_id</th>\n",
       "      <th>isbn</th>\n",
       "      <th>book_rating</th>\n",
       "      <th>book_author</th>\n",
       "      <th>book_title</th>\n",
       "    </tr>\n",
       "  </thead>\n",
       "  <tbody>\n",
       "    <tr>\n",
       "      <th>0</th>\n",
       "      <td>276725</td>\n",
       "      <td>034545104X</td>\n",
       "      <td>0</td>\n",
       "      <td>M. J. Rose</td>\n",
       "      <td>Flesh Tones: A Novel</td>\n",
       "    </tr>\n",
       "    <tr>\n",
       "      <th>1</th>\n",
       "      <td>276726</td>\n",
       "      <td>0155061224</td>\n",
       "      <td>5</td>\n",
       "      <td>Judith Rae</td>\n",
       "      <td>Rites of Passage</td>\n",
       "    </tr>\n",
       "    <tr>\n",
       "      <th>2</th>\n",
       "      <td>276727</td>\n",
       "      <td>0446520802</td>\n",
       "      <td>0</td>\n",
       "      <td>Nicholas Sparks</td>\n",
       "      <td>The Notebook</td>\n",
       "    </tr>\n",
       "    <tr>\n",
       "      <th>3</th>\n",
       "      <td>276729</td>\n",
       "      <td>052165615X</td>\n",
       "      <td>3</td>\n",
       "      <td>Philip Prowse</td>\n",
       "      <td>Help!: Level 1</td>\n",
       "    </tr>\n",
       "    <tr>\n",
       "      <th>4</th>\n",
       "      <td>276729</td>\n",
       "      <td>0521795028</td>\n",
       "      <td>6</td>\n",
       "      <td>Sue Leather</td>\n",
       "      <td>The Amsterdam Connection : Level 4 (Cambridge ...</td>\n",
       "    </tr>\n",
       "  </tbody>\n",
       "</table>\n",
       "</div>"
      ],
      "text/plain": [
       "   user_id        isbn  book_rating      book_author  \\\n",
       "0   276725  034545104X            0       M. J. Rose   \n",
       "1   276726  0155061224            5       Judith Rae   \n",
       "2   276727  0446520802            0  Nicholas Sparks   \n",
       "3   276729  052165615X            3    Philip Prowse   \n",
       "4   276729  0521795028            6      Sue Leather   \n",
       "\n",
       "                                          book_title  \n",
       "0                               Flesh Tones: A Novel  \n",
       "1                                   Rites of Passage  \n",
       "2                                       The Notebook  \n",
       "3                                     Help!: Level 1  \n",
       "4  The Amsterdam Connection : Level 4 (Cambridge ...  "
      ]
     },
     "execution_count": 11,
     "metadata": {},
     "output_type": "execute_result"
    }
   ],
   "source": [
    "combined_df.head()"
   ]
  },
  {
   "cell_type": "markdown",
   "metadata": {},
   "source": [
    "## Duplicated `book_title` and `book_author`"
   ]
  },
  {
   "cell_type": "markdown",
   "metadata": {},
   "source": [
    "Book editions are not influential when providing recommendations. We're going to assign one isbn to books that share the same title and author to ensure all ratings for a given book is considered."
   ]
  },
  {
   "cell_type": "code",
   "execution_count": 12,
   "metadata": {},
   "outputs": [
    {
     "data": {
      "text/plain": [
       "20175"
      ]
     },
     "execution_count": 12,
     "metadata": {},
     "output_type": "execute_result"
    }
   ],
   "source": [
    "len(books_df[books_df[['book_title', 'book_author']].duplicated()])"
   ]
  },
  {
   "cell_type": "markdown",
   "metadata": {},
   "source": [
    "We have 20,175 books that share the same title and author with different isbns."
   ]
  },
  {
   "cell_type": "markdown",
   "metadata": {},
   "source": [
    "We remove these duplicates and save it as `unique_books`."
   ]
  },
  {
   "cell_type": "code",
   "execution_count": 13,
   "metadata": {},
   "outputs": [],
   "source": [
    "unique_books = books_df.drop_duplicates(subset=['book_author','book_title'])"
   ]
  },
  {
   "cell_type": "markdown",
   "metadata": {},
   "source": [
    "In order to assign one isbn for different book editions, we merge `unique_books` with `combined_df`. This is saved to `ratings_and_books`. "
   ]
  },
  {
   "cell_type": "code",
   "execution_count": 14,
   "metadata": {},
   "outputs": [],
   "source": [
    "ratings_and_books = unique_books.merge(combined_df.drop(columns=['isbn']), \n",
    "                                       on=['book_author', 'book_title'])"
   ]
  },
  {
   "cell_type": "markdown",
   "metadata": {},
   "source": [
    "Check to see if we retained all of our ratings. "
   ]
  },
  {
   "cell_type": "code",
   "execution_count": 15,
   "metadata": {},
   "outputs": [
    {
     "data": {
      "text/plain": [
       "True"
      ]
     },
     "execution_count": 15,
     "metadata": {},
     "output_type": "execute_result"
    }
   ],
   "source": [
    "ratings_and_books.shape[0] == combined_df.shape[0]"
   ]
  },
  {
   "cell_type": "code",
   "execution_count": 16,
   "metadata": {},
   "outputs": [
    {
     "name": "stdout",
     "output_type": "stream",
     "text": [
      "Users:   92107\n",
      "Books:   250105\n",
      "Ratings: 1031175\n"
     ]
    }
   ],
   "source": [
    "print('Users:  ', ratings_and_books['user_id'].nunique())\n",
    "print('Books:  ', ratings_and_books['isbn'].nunique())\n",
    "print('Ratings:', ratings_and_books.shape[0])"
   ]
  },
  {
   "cell_type": "markdown",
   "metadata": {},
   "source": [
    "### Save as CSV for PostgreSQL Database"
   ]
  },
  {
   "cell_type": "markdown",
   "metadata": {},
   "source": [
    "Save `ratings_and_books` as a csv to put into postgres."
   ]
  },
  {
   "cell_type": "code",
   "execution_count": 17,
   "metadata": {},
   "outputs": [],
   "source": [
    "ratings_and_books.to_csv('../data/ratings_and_books.csv', index=False)"
   ]
  },
  {
   "cell_type": "markdown",
   "metadata": {},
   "source": [
    "## Clean Data"
   ]
  },
  {
   "cell_type": "code",
   "execution_count": 18,
   "metadata": {},
   "outputs": [
    {
     "data": {
      "text/html": [
       "<div>\n",
       "<style scoped>\n",
       "    .dataframe tbody tr th:only-of-type {\n",
       "        vertical-align: middle;\n",
       "    }\n",
       "\n",
       "    .dataframe tbody tr th {\n",
       "        vertical-align: top;\n",
       "    }\n",
       "\n",
       "    .dataframe thead th {\n",
       "        text-align: right;\n",
       "    }\n",
       "</style>\n",
       "<table border=\"1\" class=\"dataframe\">\n",
       "  <thead>\n",
       "    <tr style=\"text-align: right;\">\n",
       "      <th></th>\n",
       "      <th>isbn</th>\n",
       "      <th>book_title</th>\n",
       "      <th>book_author</th>\n",
       "      <th>year_of_publication</th>\n",
       "      <th>publisher</th>\n",
       "      <th>user_id</th>\n",
       "      <th>book_rating</th>\n",
       "    </tr>\n",
       "  </thead>\n",
       "  <tbody>\n",
       "    <tr>\n",
       "      <th>0</th>\n",
       "      <td>0373810261</td>\n",
       "      <td>Miss Liz'S Passion (Men At Work) (Men at Work ...</td>\n",
       "      <td>Sherryl Woods</td>\n",
       "      <td>1998</td>\n",
       "      <td>Harlequin</td>\n",
       "      <td>129358</td>\n",
       "      <td>0</td>\n",
       "    </tr>\n",
       "    <tr>\n",
       "      <th>1</th>\n",
       "      <td>843485676X</td>\n",
       "      <td>Gran Angular - Alerta Roja: Un Frio Viento Del...</td>\n",
       "      <td>C Puerto</td>\n",
       "      <td>0</td>\n",
       "      <td>Ediciones SM</td>\n",
       "      <td>184386</td>\n",
       "      <td>7</td>\n",
       "    </tr>\n",
       "    <tr>\n",
       "      <th>2</th>\n",
       "      <td>1880684497</td>\n",
       "      <td>Prospero's Mirror: A Translators' Portfolio of...</td>\n",
       "      <td>Ilan Stavans</td>\n",
       "      <td>1998</td>\n",
       "      <td>Curbstone Press</td>\n",
       "      <td>81492</td>\n",
       "      <td>0</td>\n",
       "    </tr>\n",
       "    <tr>\n",
       "      <th>3</th>\n",
       "      <td>0679421041</td>\n",
       "      <td>River in the Desert: Modern Travels in Ancient...</td>\n",
       "      <td>Paul William Roberts</td>\n",
       "      <td>1993</td>\n",
       "      <td>Random House</td>\n",
       "      <td>105374</td>\n",
       "      <td>0</td>\n",
       "    </tr>\n",
       "    <tr>\n",
       "      <th>4</th>\n",
       "      <td>0821721828</td>\n",
       "      <td>Moontide Embrace</td>\n",
       "      <td>Constance O'Banyon</td>\n",
       "      <td>1987</td>\n",
       "      <td>Zebra Books</td>\n",
       "      <td>114368</td>\n",
       "      <td>5</td>\n",
       "    </tr>\n",
       "  </tbody>\n",
       "</table>\n",
       "</div>"
      ],
      "text/plain": [
       "         isbn                                         book_title  \\\n",
       "0  0373810261  Miss Liz'S Passion (Men At Work) (Men at Work ...   \n",
       "1  843485676X  Gran Angular - Alerta Roja: Un Frio Viento Del...   \n",
       "2  1880684497  Prospero's Mirror: A Translators' Portfolio of...   \n",
       "3  0679421041  River in the Desert: Modern Travels in Ancient...   \n",
       "4  0821721828                                   Moontide Embrace   \n",
       "\n",
       "            book_author  year_of_publication        publisher  user_id  \\\n",
       "0         Sherryl Woods                 1998        Harlequin   129358   \n",
       "1              C Puerto                    0     Ediciones SM   184386   \n",
       "2          Ilan Stavans                 1998  Curbstone Press    81492   \n",
       "3  Paul William Roberts                 1993     Random House   105374   \n",
       "4    Constance O'Banyon                 1987      Zebra Books   114368   \n",
       "\n",
       "   book_rating  \n",
       "0            0  \n",
       "1            7  \n",
       "2            0  \n",
       "3            0  \n",
       "4            5  "
      ]
     },
     "execution_count": 18,
     "metadata": {},
     "output_type": "execute_result"
    }
   ],
   "source": [
    "ratings_and_books.head()"
   ]
  },
  {
   "cell_type": "code",
   "execution_count": 19,
   "metadata": {},
   "outputs": [
    {
     "name": "stdout",
     "output_type": "stream",
     "text": [
      "<class 'pandas.core.frame.DataFrame'>\n",
      "Int64Index: 1031175 entries, 0 to 1031174\n",
      "Data columns (total 7 columns):\n",
      "isbn                   1031175 non-null object\n",
      "book_title             1031175 non-null object\n",
      "book_author            1031174 non-null object\n",
      "year_of_publication    1031175 non-null int64\n",
      "publisher              1031173 non-null object\n",
      "user_id                1031175 non-null int64\n",
      "book_rating            1031175 non-null int64\n",
      "dtypes: int64(3), object(4)\n",
      "memory usage: 62.9+ MB\n"
     ]
    }
   ],
   "source": [
    "ratings_and_books.info()"
   ]
  },
  {
   "cell_type": "code",
   "execution_count": 20,
   "metadata": {},
   "outputs": [
    {
     "data": {
      "text/plain": [
       "isbn                   0\n",
       "book_title             0\n",
       "book_author            1\n",
       "year_of_publication    0\n",
       "publisher              2\n",
       "user_id                0\n",
       "book_rating            0\n",
       "dtype: int64"
      ]
     },
     "execution_count": 20,
     "metadata": {},
     "output_type": "execute_result"
    }
   ],
   "source": [
    "ratings_and_books.isna().sum()"
   ]
  },
  {
   "cell_type": "markdown",
   "metadata": {},
   "source": [
    "### Title"
   ]
  },
  {
   "cell_type": "markdown",
   "metadata": {},
   "source": [
    "Due to having books in different languages, non-english titles contain abnormal characters. The encoding was set to `latin-1` in order to be able to copy the csv files into postgres. Given that the title format varies per book and we do not want to remove characters that are displaying correctly, we will not be doing a robust cleaning for this column. \n",
    "\n",
    "We will be only removing HTML code artifact `&amp;` as that is seen in a number of book titles."
   ]
  },
  {
   "cell_type": "code",
   "execution_count": 21,
   "metadata": {},
   "outputs": [],
   "source": [
    "ratings_and_books['book_title'] = ratings_and_books['book_title'].apply(lambda x: re.sub('&amp;', '&', x))"
   ]
  },
  {
   "cell_type": "markdown",
   "metadata": {},
   "source": [
    "### Author"
   ]
  },
  {
   "cell_type": "markdown",
   "metadata": {},
   "source": [
    "The `author` column has one null value. We impute the missing value based on our source."
   ]
  },
  {
   "cell_type": "code",
   "execution_count": 22,
   "metadata": {},
   "outputs": [
    {
     "data": {
      "text/html": [
       "<div>\n",
       "<style scoped>\n",
       "    .dataframe tbody tr th:only-of-type {\n",
       "        vertical-align: middle;\n",
       "    }\n",
       "\n",
       "    .dataframe tbody tr th {\n",
       "        vertical-align: top;\n",
       "    }\n",
       "\n",
       "    .dataframe thead th {\n",
       "        text-align: right;\n",
       "    }\n",
       "</style>\n",
       "<table border=\"1\" class=\"dataframe\">\n",
       "  <thead>\n",
       "    <tr style=\"text-align: right;\">\n",
       "      <th></th>\n",
       "      <th>isbn</th>\n",
       "      <th>book_title</th>\n",
       "      <th>book_author</th>\n",
       "      <th>year_of_publication</th>\n",
       "      <th>publisher</th>\n",
       "      <th>user_id</th>\n",
       "      <th>book_rating</th>\n",
       "    </tr>\n",
       "  </thead>\n",
       "  <tbody>\n",
       "    <tr>\n",
       "      <th>57789</th>\n",
       "      <td>9627982032</td>\n",
       "      <td>The Credit Suisse Guide to Managing Your Perso...</td>\n",
       "      <td>None</td>\n",
       "      <td>1995</td>\n",
       "      <td>Edinburgh Financial Publishing</td>\n",
       "      <td>98647</td>\n",
       "      <td>8</td>\n",
       "    </tr>\n",
       "  </tbody>\n",
       "</table>\n",
       "</div>"
      ],
      "text/plain": [
       "             isbn                                         book_title  \\\n",
       "57789  9627982032  The Credit Suisse Guide to Managing Your Perso...   \n",
       "\n",
       "      book_author  year_of_publication                       publisher  \\\n",
       "57789        None                 1995  Edinburgh Financial Publishing   \n",
       "\n",
       "       user_id  book_rating  \n",
       "57789    98647            8  "
      ]
     },
     "execution_count": 22,
     "metadata": {},
     "output_type": "execute_result"
    }
   ],
   "source": [
    "ratings_and_books[ratings_and_books['book_author'].isna()]"
   ]
  },
  {
   "cell_type": "markdown",
   "metadata": {},
   "source": [
    "**Source**: [Amazon (The Credit Suisse Guide to Managing Your Personal Wealth)](https://www.amazon.ca/Credit-Suisse-Managing-Personal-Wealth/dp/9627982075)"
   ]
  },
  {
   "cell_type": "code",
   "execution_count": 23,
   "metadata": {},
   "outputs": [],
   "source": [
    "ratings_and_books.loc[937250, ['book_author']] = 'Larissa Anne Downes'"
   ]
  },
  {
   "cell_type": "code",
   "execution_count": 24,
   "metadata": {},
   "outputs": [
    {
     "data": {
      "text/plain": [
       "101594"
      ]
     },
     "execution_count": 24,
     "metadata": {},
     "output_type": "execute_result"
    }
   ],
   "source": [
    "ratings_and_books['book_author'].nunique()"
   ]
  },
  {
   "cell_type": "markdown",
   "metadata": {},
   "source": [
    "Of the 250,105 books, we have 101,594 unique authors."
   ]
  },
  {
   "cell_type": "markdown",
   "metadata": {},
   "source": [
    "### Publisher"
   ]
  },
  {
   "cell_type": "markdown",
   "metadata": {},
   "source": [
    "The `publisher` column has two null values. We impute the missing value based on our sources."
   ]
  },
  {
   "cell_type": "code",
   "execution_count": 25,
   "metadata": {},
   "outputs": [
    {
     "data": {
      "text/html": [
       "<div>\n",
       "<style scoped>\n",
       "    .dataframe tbody tr th:only-of-type {\n",
       "        vertical-align: middle;\n",
       "    }\n",
       "\n",
       "    .dataframe tbody tr th {\n",
       "        vertical-align: top;\n",
       "    }\n",
       "\n",
       "    .dataframe thead th {\n",
       "        text-align: right;\n",
       "    }\n",
       "</style>\n",
       "<table border=\"1\" class=\"dataframe\">\n",
       "  <thead>\n",
       "    <tr style=\"text-align: right;\">\n",
       "      <th></th>\n",
       "      <th>isbn</th>\n",
       "      <th>book_title</th>\n",
       "      <th>book_author</th>\n",
       "      <th>year_of_publication</th>\n",
       "      <th>publisher</th>\n",
       "      <th>user_id</th>\n",
       "      <th>book_rating</th>\n",
       "    </tr>\n",
       "  </thead>\n",
       "  <tbody>\n",
       "    <tr>\n",
       "      <th>965330</th>\n",
       "      <td>193169656X</td>\n",
       "      <td>Tyrant Moon</td>\n",
       "      <td>Elaine Corvidae</td>\n",
       "      <td>2002</td>\n",
       "      <td>None</td>\n",
       "      <td>98391</td>\n",
       "      <td>9</td>\n",
       "    </tr>\n",
       "    <tr>\n",
       "      <th>965588</th>\n",
       "      <td>1931696993</td>\n",
       "      <td>Finders Keepers</td>\n",
       "      <td>Linnea Sinclair</td>\n",
       "      <td>2001</td>\n",
       "      <td>None</td>\n",
       "      <td>98391</td>\n",
       "      <td>9</td>\n",
       "    </tr>\n",
       "  </tbody>\n",
       "</table>\n",
       "</div>"
      ],
      "text/plain": [
       "              isbn       book_title      book_author  year_of_publication  \\\n",
       "965330  193169656X      Tyrant Moon  Elaine Corvidae                 2002   \n",
       "965588  1931696993  Finders Keepers  Linnea Sinclair                 2001   \n",
       "\n",
       "       publisher  user_id  book_rating  \n",
       "965330      None    98391            9  \n",
       "965588      None    98391            9  "
      ]
     },
     "execution_count": 25,
     "metadata": {},
     "output_type": "execute_result"
    }
   ],
   "source": [
    "ratings_and_books[ratings_and_books['publisher'].isna()]"
   ]
  },
  {
   "cell_type": "markdown",
   "metadata": {},
   "source": [
    "**Sources:**\n",
    "-  [AbeBooks (Tyrant Moon)](https://www.abebooks.com/9781931696562/Tyrant-Moon-Elaine-Corvidae-193169656X/plp)\n",
    "-  [Google Books (Finders Keepers)](https://books.google.com/books/about/Finders_Keepers.html?id=M9pbPgAACAAJ)"
   ]
  },
  {
   "cell_type": "code",
   "execution_count": 26,
   "metadata": {},
   "outputs": [],
   "source": [
    "ratings_and_books.loc[839945, ['publisher']] = 'Novelbooks Incorporated'"
   ]
  },
  {
   "cell_type": "code",
   "execution_count": 27,
   "metadata": {},
   "outputs": [],
   "source": [
    "ratings_and_books.loc[840232, ['publisher']] = 'Novelbooks Incorporated'"
   ]
  },
  {
   "cell_type": "markdown",
   "metadata": {},
   "source": [
    "### Year of Publication"
   ]
  },
  {
   "cell_type": "code",
   "execution_count": 28,
   "metadata": {},
   "outputs": [
    {
     "data": {
      "text/plain": [
       "array([   0, 1376, 1378, 1806, 1897, 1900, 1901, 1902, 1904, 1906, 1908,\n",
       "       1909, 1911, 1914, 1917, 1919, 1920, 1921, 1922, 1923, 1924, 1925,\n",
       "       1926, 1927, 1928, 1929, 1930, 1931, 1932, 1933, 1934, 1935, 1936,\n",
       "       1937, 1938, 1939, 1940, 1941, 1942, 1943, 1944, 1945, 1946, 1947,\n",
       "       1948, 1949, 1950, 1951, 1952, 1953, 1954, 1955, 1956, 1957, 1958,\n",
       "       1959, 1960, 1961, 1962, 1963, 1964, 1965, 1966, 1967, 1968, 1969,\n",
       "       1970, 1971, 1972, 1973, 1974, 1975, 1976, 1977, 1978, 1979, 1980,\n",
       "       1981, 1982, 1983, 1984, 1985, 1986, 1987, 1988, 1989, 1990, 1991,\n",
       "       1992, 1993, 1994, 1995, 1996, 1997, 1998, 1999, 2000, 2001, 2002,\n",
       "       2003, 2004, 2005, 2006, 2008, 2011, 2012, 2020, 2021, 2024, 2026,\n",
       "       2030, 2037, 2038, 2050])"
      ]
     },
     "execution_count": 28,
     "metadata": {},
     "output_type": "execute_result"
    }
   ],
   "source": [
    "np.asarray(sorted(ratings_and_books['year_of_publication'].unique()))"
   ]
  },
  {
   "cell_type": "markdown",
   "metadata": {},
   "source": [
    "We can see that there are publication years that are not viable. Since the dataset was collected in 2004, all years after that are incorrect. Having a publication year of `0` is impossible."
   ]
  },
  {
   "cell_type": "code",
   "execution_count": 29,
   "metadata": {},
   "outputs": [
    {
     "data": {
      "text/plain": [
       "16268"
      ]
     },
     "execution_count": 29,
     "metadata": {},
     "output_type": "execute_result"
    }
   ],
   "source": [
    "ratings_and_books[(ratings_and_books['year_of_publication'] == 0) | \n",
    "                  (ratings_and_books['year_of_publication'] > 2004)].shape[0]"
   ]
  },
  {
   "cell_type": "markdown",
   "metadata": {},
   "source": [
    "There are a total of 14,570 books that have incorrect publishing years."
   ]
  },
  {
   "cell_type": "code",
   "execution_count": 30,
   "metadata": {},
   "outputs": [
    {
     "data": {
      "text/plain": [
       "array([1376, 1378, 1806, 1897, 1900, 1901, 1902, 1904, 1906, 1908, 1909,\n",
       "       1911, 1914, 1917, 1919, 1920, 1921, 1922, 1923, 1924, 1925, 1926,\n",
       "       1927, 1928, 1929, 1930, 1931, 1932, 1933, 1934, 1935, 1936, 1937,\n",
       "       1938, 1939, 1940, 1941, 1942, 1943, 1944, 1945, 1946, 1947, 1948,\n",
       "       1949, 1950, 1951, 1952, 1953, 1954, 1955, 1956, 1957, 1958, 1959,\n",
       "       1960, 1961, 1962, 1963, 1964, 1965, 1966, 1967, 1968, 1969, 1970,\n",
       "       1971, 1972, 1973, 1974, 1975, 1976, 1977, 1978, 1979, 1980, 1981,\n",
       "       1982, 1983, 1984, 1985, 1986, 1987, 1988, 1989, 1990, 1991, 1992,\n",
       "       1993, 1994, 1995, 1996, 1997, 1998, 1999, 2000, 2001, 2002, 2003,\n",
       "       2004])"
      ]
     },
     "execution_count": 30,
     "metadata": {},
     "output_type": "execute_result"
    }
   ],
   "source": [
    "np.asarray(sorted(ratings_and_books['year_of_publication'][\n",
    "                    (ratings_and_books['year_of_publication'] > 0) & \n",
    "                    (ratings_and_books['year_of_publication'] < 2005)].value_counts().index))"
   ]
  },
  {
   "cell_type": "markdown",
   "metadata": {},
   "source": [
    "Incorrect publication years won't affect our recommendations, so we will leave them as is. However, they will be excluded for visualization purposes. We will plot the count of books each year to see the type of books that are included in our dataset."
   ]
  },
  {
   "cell_type": "code",
   "execution_count": 31,
   "metadata": {},
   "outputs": [
    {
     "data": {
      "image/png": "[encoded data removed]",
      "text/plain": [
       "<Figure size 1440x720 with 1 Axes>"
      ]
     },
     "metadata": {},
     "output_type": "display_data"
    }
   ],
   "source": [
    "plt.figure(figsize=(20, 10))\n",
    "plt.bar(x=ratings_and_books['year_of_publication'][\n",
    "                    (ratings_and_books['year_of_publication'] > 1900) & \n",
    "                    (ratings_and_books['year_of_publication'] < 2005)].value_counts().index,\n",
    "        height=ratings_and_books['year_of_publication'][\n",
    "                    (ratings_and_books['year_of_publication'] > 1900) & \n",
    "                    (ratings_and_books['year_of_publication'] < 2005)].value_counts().values,\n",
    "        log=True)\n",
    "plt.title('Book Count per Year', fontsize=30)\n",
    "plt.xlabel('Year', fontsize=25)\n",
    "plt.ylabel('Log Book Count', fontsize=25)\n",
    "plt.xticks(fontsize=20)\n",
    "plt.yticks(fontsize=20);"
   ]
  },
  {
   "cell_type": "markdown",
   "metadata": {},
   "source": [
    "-  There's an exponential growth in book count as we move forward in time.\n",
    "-  Most books were published in the 2000s."
   ]
  },
  {
   "cell_type": "markdown",
   "metadata": {},
   "source": [
    "### ISBN"
   ]
  },
  {
   "cell_type": "markdown",
   "metadata": {},
   "source": [
    "ISBNs either have 13 digits, 10 digits, or 10 digits with an X. We'll use regex to check whether all our ISBNs are valid. ISBNs in the correct format are saved as `good_isbns`. We will then replace invalid ISBNs with an ISBN in the `books_df`, given the same book title and author (different edition). For books that only have one edition, the index is aved to `no_replacement_isbns`.  "
   ]
  },
  {
   "cell_type": "code",
   "execution_count": 32,
   "metadata": {},
   "outputs": [],
   "source": [
    "good_isbns = ratings_and_books['isbn'].map(lambda x: x if re.findall('^[\\dXx]+$', x) else None)"
   ]
  },
  {
   "cell_type": "code",
   "execution_count": 33,
   "metadata": {},
   "outputs": [],
   "source": [
    "no_replacement_isbns = []\n",
    "for i in good_isbns[good_isbns.isna()].index:\n",
    "    bad_isbn = ratings_and_books.loc[i, 'isbn']\n",
    "    title_author = books_df[books_df['isbn'] == bad_isbn][['book_title', 'book_author']].values[0]\n",
    "    try:\n",
    "        new_isbn = books_df[(books_df['book_title'] == title_author[0]) & \n",
    "                            (books_df['book_author'] == title_author[1]) & \n",
    "                            (books_df['isbn'] != bad_isbn)]['isbn'].values[0]\n",
    "        ratings_and_books.loc[i, 'isbn'] = new_isbn\n",
    "    except:\n",
    "        no_replacement_isbns.append(i)"
   ]
  },
  {
   "cell_type": "code",
   "execution_count": 34,
   "metadata": {},
   "outputs": [
    {
     "data": {
      "text/plain": [
       "65"
      ]
     },
     "execution_count": 34,
     "metadata": {},
     "output_type": "execute_result"
    }
   ],
   "source": [
    "len(no_replacement_isbns)"
   ]
  },
  {
   "cell_type": "code",
   "execution_count": 35,
   "metadata": {},
   "outputs": [
    {
     "data": {
      "text/html": [
       "<div>\n",
       "<style scoped>\n",
       "    .dataframe tbody tr th:only-of-type {\n",
       "        vertical-align: middle;\n",
       "    }\n",
       "\n",
       "    .dataframe tbody tr th {\n",
       "        vertical-align: top;\n",
       "    }\n",
       "\n",
       "    .dataframe thead th {\n",
       "        text-align: right;\n",
       "    }\n",
       "</style>\n",
       "<table border=\"1\" class=\"dataframe\">\n",
       "  <thead>\n",
       "    <tr style=\"text-align: right;\">\n",
       "      <th></th>\n",
       "      <th>isbn</th>\n",
       "      <th>book_title</th>\n",
       "      <th>book_author</th>\n",
       "      <th>year_of_publication</th>\n",
       "      <th>publisher</th>\n",
       "      <th>user_id</th>\n",
       "      <th>book_rating</th>\n",
       "    </tr>\n",
       "  </thead>\n",
       "  <tbody>\n",
       "    <tr>\n",
       "      <th>8475</th>\n",
       "      <td>3518365479&lt;90</td>\n",
       "      <td>Suhrkamp TaschenbÃ?Â¼cher, Nr.47, Frost</td>\n",
       "      <td>Thomas Bernhard</td>\n",
       "      <td>1972</td>\n",
       "      <td>Suhrkamp</td>\n",
       "      <td>106173</td>\n",
       "      <td>0</td>\n",
       "    </tr>\n",
       "    <tr>\n",
       "      <th>32110</th>\n",
       "      <td>B00019U4II</td>\n",
       "      <td>Big Four, The</td>\n",
       "      <td>Agatha Christie</td>\n",
       "      <td>0</td>\n",
       "      <td>PerfectBound</td>\n",
       "      <td>163140</td>\n",
       "      <td>8</td>\n",
       "    </tr>\n",
       "    <tr>\n",
       "      <th>36975</th>\n",
       "      <td>B0002K6K8O</td>\n",
       "      <td>The Underground City</td>\n",
       "      <td>Jules Verne</td>\n",
       "      <td>0</td>\n",
       "      <td>Digireads.com</td>\n",
       "      <td>179791</td>\n",
       "      <td>0</td>\n",
       "    </tr>\n",
       "    <tr>\n",
       "      <th>36977</th>\n",
       "      <td>B0002JV9PY</td>\n",
       "      <td>The Blockade Runners</td>\n",
       "      <td>Jules Verne</td>\n",
       "      <td>0</td>\n",
       "      <td>Digireads.com</td>\n",
       "      <td>179791</td>\n",
       "      <td>0</td>\n",
       "    </tr>\n",
       "    <tr>\n",
       "      <th>36990</th>\n",
       "      <td>B000051XGM</td>\n",
       "      <td>Off on a Comet</td>\n",
       "      <td>Jules Verne</td>\n",
       "      <td>0</td>\n",
       "      <td>Amazon Press</td>\n",
       "      <td>179791</td>\n",
       "      <td>0</td>\n",
       "    </tr>\n",
       "  </tbody>\n",
       "</table>\n",
       "</div>"
      ],
      "text/plain": [
       "                isbn                               book_title  \\\n",
       "8475   3518365479<90  Suhrkamp TaschenbÃ?Â¼cher, Nr.47, Frost   \n",
       "32110     B00019U4II                            Big Four, The   \n",
       "36975     B0002K6K8O                     The Underground City   \n",
       "36977     B0002JV9PY                     The Blockade Runners   \n",
       "36990     B000051XGM                           Off on a Comet   \n",
       "\n",
       "           book_author  year_of_publication      publisher  user_id  \\\n",
       "8475   Thomas Bernhard                 1972       Suhrkamp   106173   \n",
       "32110  Agatha Christie                    0   PerfectBound   163140   \n",
       "36975      Jules Verne                    0  Digireads.com   179791   \n",
       "36977      Jules Verne                    0  Digireads.com   179791   \n",
       "36990      Jules Verne                    0   Amazon Press   179791   \n",
       "\n",
       "       book_rating  \n",
       "8475             0  \n",
       "32110            8  \n",
       "36975            0  \n",
       "36977            0  \n",
       "36990            0  "
      ]
     },
     "execution_count": 35,
     "metadata": {},
     "output_type": "execute_result"
    }
   ],
   "source": [
    "ratings_and_books.loc[no_replacement_isbns[:5]]"
   ]
  },
  {
   "cell_type": "markdown",
   "metadata": {},
   "source": [
    "There are 65 books with invalid ISBNs and no replacement. They're all 10 characters/digits in length and start with `B`. According to [Barcode Graphics](https://www.barcode.graphics/amazon-product-id/), they are Amazon Standard Identification Numbers (ASIN). Given that users will be searching by book title, this is not a big issue. It will be difficult, however, to find the book's product page given an ISBN for next steps."
   ]
  },
  {
   "cell_type": "markdown",
   "metadata": {},
   "source": [
    "### Users"
   ]
  },
  {
   "cell_type": "markdown",
   "metadata": {},
   "source": [
    "We will look at user's behavior in regards to the number of ratings an individual typically gives."
   ]
  },
  {
   "cell_type": "code",
   "execution_count": 36,
   "metadata": {},
   "outputs": [
    {
     "data": {
      "image/png": "[encoded data removed]",
      "text/plain": [
       "<Figure size 1440x720 with 1 Axes>"
      ]
     },
     "metadata": {},
     "output_type": "display_data"
    }
   ],
   "source": [
    "plt.figure(figsize=(20, 10))\n",
    "plt.hist(x=ratings_and_books['user_id'].value_counts().values,\n",
    "         bins=np.linspace(0, 350, 75)) \n",
    "plt.gca().set_yscale(\"log\")\n",
    "plt.title('Ratings per User', fontsize=30)\n",
    "plt.xlabel('Ratings Given', fontsize=25)\n",
    "plt.ylabel('Log User Count', fontsize=25)\n",
    "plt.xticks(fontsize=20)\n",
    "plt.yticks(fontsize=20);"
   ]
  },
  {
   "cell_type": "markdown",
   "metadata": {},
   "source": [
    "-  The ratings given per user is heavily right skewed\n",
    "-  Decreases exponentially\n",
    "-  Even though more ratings than `350` were given, the user count for these values were mostly ones. "
   ]
  },
  {
   "cell_type": "markdown",
   "metadata": {},
   "source": [
    "### Ratings"
   ]
  },
  {
   "cell_type": "markdown",
   "metadata": {},
   "source": [
    "The dataset comprised of implicit (`0`) and explicit (`1-10`) ratings. Implicit ratings indicate that users have interacted with the book, but did not rate it. We'll look at the book count for each given rating to get a better sense of our data."
   ]
  },
  {
   "cell_type": "code",
   "execution_count": 37,
   "metadata": {},
   "outputs": [
    {
     "data": {
      "text/plain": [
       "0     647323\n",
       "1       1481\n",
       "2       2375\n",
       "3       5118\n",
       "4       7617\n",
       "5      45355\n",
       "6      31689\n",
       "7      66404\n",
       "8      91806\n",
       "9      60780\n",
       "10     71227\n",
       "Name: book_rating, dtype: int64"
      ]
     },
     "execution_count": 37,
     "metadata": {},
     "output_type": "execute_result"
    }
   ],
   "source": [
    "ratings_and_books['book_rating'].value_counts().sort_index()"
   ]
  },
  {
   "cell_type": "code",
   "execution_count": 38,
   "metadata": {},
   "outputs": [
    {
     "data": {
      "image/png": "[encoded data removed]",
      "text/plain": [
       "<Figure size 1440x720 with 1 Axes>"
      ]
     },
     "metadata": {},
     "output_type": "display_data"
    }
   ],
   "source": [
    "plt.figure(figsize=(20, 10))\n",
    "plt.bar(x=ratings_and_books['book_rating'].value_counts().index,\n",
    "        height=ratings_and_books['book_rating'].value_counts().values)\n",
    "plt.title('Total Ratings Count', fontsize=30)\n",
    "plt.xlabel('Rating', fontsize=25)\n",
    "plt.ylabel('Count', fontsize=25)\n",
    "plt.xticks(ratings_df['book_rating'].value_counts().index, fontsize=20)\n",
    "plt.yticks(fontsize=20);"
   ]
  },
  {
   "cell_type": "markdown",
   "metadata": {},
   "source": [
    "-  `0` has the greatest book count by far, at 647,323\n",
    "-  `1` has the least, at 1,481\n",
    "-  Of the explicit ratings, `8` has the most (91,806)"
   ]
  },
  {
   "cell_type": "markdown",
   "metadata": {},
   "source": [
    "We'll plot the ratings again, but only include explicit ones to better visualize the count."
   ]
  },
  {
   "cell_type": "code",
   "execution_count": 39,
   "metadata": {},
   "outputs": [
    {
     "data": {
      "image/png": "[encoded data removed]",
      "text/plain": [
       "<Figure size 1440x720 with 1 Axes>"
      ]
     },
     "metadata": {},
     "output_type": "display_data"
    }
   ],
   "source": [
    "plt.figure(figsize=(20, 10))\n",
    "plt.bar(x=ratings_and_books['book_rating'].value_counts().index[1:],\n",
    "        height=ratings_and_books['book_rating'].value_counts().values[1:])\n",
    "plt.title('Total Explicit Ratings Count', fontsize=30)\n",
    "plt.xlabel('Explicit Rating', fontsize=25)\n",
    "plt.ylabel('Count', fontsize=25)\n",
    "plt.xticks(ratings_df['book_rating'].value_counts().index, fontsize=20)\n",
    "plt.yticks(fontsize=20);"
   ]
  },
  {
   "cell_type": "markdown",
   "metadata": {},
   "source": [
    "-  With this bar chart, we can clearly see there are books with a rating of `1`, but very few\n",
    "-  Again, `8` is the most common rating amongst the books\n",
    "-  Higher ratings (`7-10`) occur more often than lower ratings. This may be because it's more common for readers who have a high preference for a given book to provide a high rating than readers who disliked it."
   ]
  },
  {
   "cell_type": "markdown",
   "metadata": {},
   "source": [
    "Now, we'll look at the distribution of ratings given in relation to book count."
   ]
  },
  {
   "cell_type": "code",
   "execution_count": 40,
   "metadata": {},
   "outputs": [
    {
     "data": {
      "image/png": "[encoded data removed]",
      "text/plain": [
       "<Figure size 1440x720 with 1 Axes>"
      ]
     },
     "metadata": {},
     "output_type": "display_data"
    }
   ],
   "source": [
    "plt.figure(figsize=(20, 10))\n",
    "plt.hist(x=ratings_and_books['isbn'].value_counts().values,\n",
    "         bins=np.linspace(0,500,100))\n",
    "plt.gca().set_yscale(\"log\")\n",
    "plt.title('Total Ratings per Book', fontsize=30)\n",
    "plt.xlabel('Total Ratings Given', fontsize=25)\n",
    "plt.ylabel('Log Book Count', fontsize=25)\n",
    "plt.xticks(fontsize=20)\n",
    "plt.yticks(fontsize=20);"
   ]
  },
  {
   "cell_type": "markdown",
   "metadata": {},
   "source": [
    "-  Similar to Ratings per User, the histogram is heavily skewed to the right.\n",
    "-  Most of the books have less than `10` ratings.\n",
    "-  As we exceed a rating count of `350`, the book count is 1 for the most part. \n",
    "-  More than `500` ratings were given for some books, but they were excluded due to its rarity. "
   ]
  },
  {
   "cell_type": "markdown",
   "metadata": {},
   "source": [
    "### Save as CSV for PostgreSQL Database"
   ]
  },
  {
   "cell_type": "markdown",
   "metadata": {},
   "source": [
    "We save out the cleaned `ratings_and_books` dataframe and will put it in the `cleaned_ratings_and_books` table for quick access in the future."
   ]
  },
  {
   "cell_type": "code",
   "execution_count": 41,
   "metadata": {},
   "outputs": [],
   "source": [
    "ratings_and_books.to_csv('../data/cleaned_ratings_and_books.csv', index=False)"
   ]
  },
  {
   "cell_type": "markdown",
   "metadata": {},
   "source": [
    "## Explicit and Implicit Ratings"
   ]
  },
  {
   "cell_type": "markdown",
   "metadata": {},
   "source": [
    "Given that explicit and implicit ratings provide different insights (preferences vs. interaction), we will separate the two and look further."
   ]
  },
  {
   "cell_type": "code",
   "execution_count": 42,
   "metadata": {},
   "outputs": [],
   "source": [
    "exp_ratings = ratings_and_books[ratings_and_books['book_rating'] != 0] "
   ]
  },
  {
   "cell_type": "code",
   "execution_count": 43,
   "metadata": {},
   "outputs": [
    {
     "data": {
      "text/html": [
       "<div>\n",
       "<style scoped>\n",
       "    .dataframe tbody tr th:only-of-type {\n",
       "        vertical-align: middle;\n",
       "    }\n",
       "\n",
       "    .dataframe tbody tr th {\n",
       "        vertical-align: top;\n",
       "    }\n",
       "\n",
       "    .dataframe thead th {\n",
       "        text-align: right;\n",
       "    }\n",
       "</style>\n",
       "<table border=\"1\" class=\"dataframe\">\n",
       "  <thead>\n",
       "    <tr style=\"text-align: right;\">\n",
       "      <th></th>\n",
       "      <th>count</th>\n",
       "      <th>mean</th>\n",
       "      <th>std</th>\n",
       "      <th>min</th>\n",
       "      <th>25%</th>\n",
       "      <th>50%</th>\n",
       "      <th>75%</th>\n",
       "      <th>max</th>\n",
       "    </tr>\n",
       "  </thead>\n",
       "  <tbody>\n",
       "    <tr>\n",
       "      <th>book_rating</th>\n",
       "      <td>383852.0</td>\n",
       "      <td>7.62671</td>\n",
       "      <td>1.841331</td>\n",
       "      <td>1.0</td>\n",
       "      <td>7.0</td>\n",
       "      <td>8.0</td>\n",
       "      <td>9.0</td>\n",
       "      <td>10.0</td>\n",
       "    </tr>\n",
       "  </tbody>\n",
       "</table>\n",
       "</div>"
      ],
      "text/plain": [
       "                count     mean       std  min  25%  50%  75%   max\n",
       "book_rating  383852.0  7.62671  1.841331  1.0  7.0  8.0  9.0  10.0"
      ]
     },
     "execution_count": 43,
     "metadata": {},
     "output_type": "execute_result"
    }
   ],
   "source": [
    "exp_ratings[['book_rating']].describe().T"
   ]
  },
  {
   "cell_type": "markdown",
   "metadata": {},
   "source": [
    "The mean for explicit ratings is `7.63`, which aligns with what we saw earlier with the `Total Explicit Ratings Count` bar chart, where `8` had the greatest book count."
   ]
  },
  {
   "cell_type": "code",
   "execution_count": 44,
   "metadata": {},
   "outputs": [],
   "source": [
    "imp_ratings = ratings_and_books[ratings_and_books['book_rating'] == 0]"
   ]
  },
  {
   "cell_type": "code",
   "execution_count": 45,
   "metadata": {},
   "outputs": [
    {
     "name": "stdout",
     "output_type": "stream",
     "text": [
      "Explicit: 383852\n",
      "Implicit: 647323\n"
     ]
    }
   ],
   "source": [
    "print(\"Explicit:\", exp_ratings.shape[0])\n",
    "print(\"Implicit:\", imp_ratings.shape[0])"
   ]
  },
  {
   "cell_type": "markdown",
   "metadata": {},
   "source": [
    "As indicated in the `Total Ratings Count` bar chart before, we have a lot more implicit than explicit ratings. About 60% of the dataset is comprised of implicit ratings, while the remaining 40% is comprised of explicit ratings."
   ]
  },
  {
   "cell_type": "markdown",
   "metadata": {},
   "source": [
    "We will create a `ratings_count` dataframe that consists of the implicit rating count, explicit rating count and total rating count. This will allow us to easily see which books are most popular and/or widely read."
   ]
  },
  {
   "cell_type": "code",
   "execution_count": 46,
   "metadata": {},
   "outputs": [],
   "source": [
    "imp_count = imp_ratings.groupby(\n",
    "    ['isbn', 'book_title'], as_index=False)[['book_rating']].count().rename(\n",
    "    columns={'book_rating': 'implicit_count'})\n",
    "\n",
    "exp_count = exp_ratings.groupby(\n",
    "    ['isbn', 'book_title'], as_index=False)[['book_rating']].count().rename(\n",
    "    columns={'book_rating': 'explicit_count'})"
   ]
  },
  {
   "cell_type": "code",
   "execution_count": 47,
   "metadata": {},
   "outputs": [],
   "source": [
    "ratings_count = imp_count.merge(exp_count.drop(columns=['book_title']), \n",
    "                                how='outer', \n",
    "                                on='isbn').fillna(0).astype({'implicit_count': int, 'explicit_count': int})"
   ]
  },
  {
   "cell_type": "code",
   "execution_count": 48,
   "metadata": {},
   "outputs": [],
   "source": [
    "ratings_count['total_count'] = ratings_count['implicit_count'] + ratings_count['explicit_count']"
   ]
  },
  {
   "cell_type": "code",
   "execution_count": 49,
   "metadata": {},
   "outputs": [
    {
     "data": {
      "text/html": [
       "<div>\n",
       "<style scoped>\n",
       "    .dataframe tbody tr th:only-of-type {\n",
       "        vertical-align: middle;\n",
       "    }\n",
       "\n",
       "    .dataframe tbody tr th {\n",
       "        vertical-align: top;\n",
       "    }\n",
       "\n",
       "    .dataframe thead th {\n",
       "        text-align: right;\n",
       "    }\n",
       "</style>\n",
       "<table border=\"1\" class=\"dataframe\">\n",
       "  <thead>\n",
       "    <tr style=\"text-align: right;\">\n",
       "      <th></th>\n",
       "      <th>isbn</th>\n",
       "      <th>book_title</th>\n",
       "      <th>implicit_count</th>\n",
       "      <th>explicit_count</th>\n",
       "      <th>total_count</th>\n",
       "    </tr>\n",
       "  </thead>\n",
       "  <tbody>\n",
       "    <tr>\n",
       "      <th>153681</th>\n",
       "      <td>0971880107</td>\n",
       "      <td>Wild Animus</td>\n",
       "      <td>1921</td>\n",
       "      <td>581</td>\n",
       "      <td>2502</td>\n",
       "    </tr>\n",
       "    <tr>\n",
       "      <th>26455</th>\n",
       "      <td>0316666343</td>\n",
       "      <td>The Lovely Bones: A Novel</td>\n",
       "      <td>588</td>\n",
       "      <td>707</td>\n",
       "      <td>1295</td>\n",
       "    </tr>\n",
       "    <tr>\n",
       "      <th>52424</th>\n",
       "      <td>0385504209</td>\n",
       "      <td>The Da Vinci Code</td>\n",
       "      <td>399</td>\n",
       "      <td>488</td>\n",
       "      <td>887</td>\n",
       "    </tr>\n",
       "    <tr>\n",
       "      <th>22843</th>\n",
       "      <td>0312278586</td>\n",
       "      <td>The Nanny Diaries: A Novel</td>\n",
       "      <td>435</td>\n",
       "      <td>393</td>\n",
       "      <td>828</td>\n",
       "    </tr>\n",
       "    <tr>\n",
       "      <th>27220</th>\n",
       "      <td>0330332775</td>\n",
       "      <td>Bridget Jones's Diary</td>\n",
       "      <td>438</td>\n",
       "      <td>377</td>\n",
       "      <td>815</td>\n",
       "    </tr>\n",
       "  </tbody>\n",
       "</table>\n",
       "</div>"
      ],
      "text/plain": [
       "              isbn                  book_title  implicit_count  \\\n",
       "153681  0971880107                 Wild Animus            1921   \n",
       "26455   0316666343   The Lovely Bones: A Novel             588   \n",
       "52424   0385504209           The Da Vinci Code             399   \n",
       "22843   0312278586  The Nanny Diaries: A Novel             435   \n",
       "27220   0330332775       Bridget Jones's Diary             438   \n",
       "\n",
       "        explicit_count  total_count  \n",
       "153681             581         2502  \n",
       "26455              707         1295  \n",
       "52424              488          887  \n",
       "22843              393          828  \n",
       "27220              377          815  "
      ]
     },
     "execution_count": 49,
     "metadata": {},
     "output_type": "execute_result"
    }
   ],
   "source": [
    "ratings_count.sort_values(by='total_count', ascending=False).head()"
   ]
  },
  {
   "cell_type": "markdown",
   "metadata": {},
   "source": [
    "With the `ratings_count` dataframe, we can see the relationship between implicit and explicit ratings."
   ]
  },
  {
   "cell_type": "code",
   "execution_count": 50,
   "metadata": {},
   "outputs": [
    {
     "data": {
      "image/png": "[encoded data removed]",
      "text/plain": [
       "<Figure size 1440x720 with 1 Axes>"
      ]
     },
     "metadata": {},
     "output_type": "display_data"
    }
   ],
   "source": [
    "plt.figure(figsize=(20, 10))\n",
    "plt.scatter(x=ratings_count['implicit_count'],\n",
    "            y=ratings_count['explicit_count'])\n",
    "plt.xlabel('Implicit Ratings', fontsize=25)\n",
    "plt.ylabel('Explicit Ratings', fontsize=25)\n",
    "plt.title('Implicit vs. Explicit Ratings', fontsize=30)\n",
    "plt.xticks(fontsize=20)\n",
    "plt.yticks(fontsize=20);"
   ]
  },
  {
   "cell_type": "markdown",
   "metadata": {},
   "source": [
    "-  Positive correlation between implicit and explicit ratings.\n",
    "-  Similar to what we saw in the distribution of total ratings, most books have a low ratings count.\n",
    "-  Books appear to have slightly more implicit ratings count than explicit."
   ]
  },
  {
   "cell_type": "markdown",
   "metadata": {},
   "source": [
    "We can also see the top 10 most popular books, based on ratings count."
   ]
  },
  {
   "cell_type": "code",
   "execution_count": 51,
   "metadata": {},
   "outputs": [
    {
     "data": {
      "image/png": "[encoded data removed]",
      "text/plain": [
       "<Figure size 1440x720 with 1 Axes>"
      ]
     },
     "metadata": {},
     "output_type": "display_data"
    }
   ],
   "source": [
    "plt.figure(figsize=(20, 10))\n",
    "plt.barh(y=ratings_count.sort_values(by='total_count', ascending=False)['book_title'].head(10),\n",
    "         width=ratings_count.sort_values(by='total_count', ascending=False)['implicit_count'].head(10), \n",
    "         align='edge',\n",
    "         height=-.4)\n",
    "plt.barh(y=ratings_count.sort_values(by='total_count', ascending=False)['book_title'].head(10),\n",
    "         width=ratings_count.sort_values(by='total_count', ascending=False)['explicit_count'].head(10),\n",
    "         align='edge',\n",
    "         height=.4)\n",
    "plt.legend(['Implicit', 'Explicit'], fontsize=15)\n",
    "plt.title('Top 10 Books - Ratings Count', fontsize=30)\n",
    "plt.xlabel('Ratings Count', fontsize=25)\n",
    "plt.xticks(fontsize=20)\n",
    "plt.yticks(fontsize=20);"
   ]
  },
  {
   "cell_type": "markdown",
   "metadata": {},
   "source": [
    "-  `Wild Animus` have the greatest total count, but most is comprised of implicit ratings.\n",
    "-  The difference between implicit and explicit ratings count for all other books are relatively similar. \n",
    "-  The difference in total ratings count between `Wild Animus` (2502) and `Life of Pi` (664) is significant. This aligns with the `Total Ratings per Book` histogram, where most books had less than 10 ratings."
   ]
  },
  {
   "cell_type": "markdown",
   "metadata": {},
   "source": [
    "These books are considered \"popular\" due to a high interaction rate based on ratings count. We'll add a new column, `avg_rating` to our`ratings_count` dataframe to see the general consensus amongst individuals who interacted with these books. "
   ]
  },
  {
   "cell_type": "code",
   "execution_count": 52,
   "metadata": {},
   "outputs": [],
   "source": [
    "avg_rating = exp_ratings.groupby(\n",
    "    'isbn', as_index=False)[['book_rating']].mean().rename(\n",
    "    columns={'book_rating': 'rating_avg'})"
   ]
  },
  {
   "cell_type": "code",
   "execution_count": 53,
   "metadata": {},
   "outputs": [],
   "source": [
    "ratings_count = ratings_count.merge(avg_rating, how='outer', on='isbn').fillna(0)"
   ]
  },
  {
   "cell_type": "code",
   "execution_count": 54,
   "metadata": {},
   "outputs": [
    {
     "data": {
      "text/html": [
       "<div>\n",
       "<style scoped>\n",
       "    .dataframe tbody tr th:only-of-type {\n",
       "        vertical-align: middle;\n",
       "    }\n",
       "\n",
       "    .dataframe tbody tr th {\n",
       "        vertical-align: top;\n",
       "    }\n",
       "\n",
       "    .dataframe thead th {\n",
       "        text-align: right;\n",
       "    }\n",
       "</style>\n",
       "<table border=\"1\" class=\"dataframe\">\n",
       "  <thead>\n",
       "    <tr style=\"text-align: right;\">\n",
       "      <th></th>\n",
       "      <th>isbn</th>\n",
       "      <th>book_title</th>\n",
       "      <th>implicit_count</th>\n",
       "      <th>explicit_count</th>\n",
       "      <th>total_count</th>\n",
       "      <th>rating_avg</th>\n",
       "    </tr>\n",
       "  </thead>\n",
       "  <tbody>\n",
       "    <tr>\n",
       "      <th>153681</th>\n",
       "      <td>0971880107</td>\n",
       "      <td>Wild Animus</td>\n",
       "      <td>1921</td>\n",
       "      <td>581</td>\n",
       "      <td>2502</td>\n",
       "      <td>4.390706</td>\n",
       "    </tr>\n",
       "    <tr>\n",
       "      <th>26455</th>\n",
       "      <td>0316666343</td>\n",
       "      <td>The Lovely Bones: A Novel</td>\n",
       "      <td>588</td>\n",
       "      <td>707</td>\n",
       "      <td>1295</td>\n",
       "      <td>8.185290</td>\n",
       "    </tr>\n",
       "    <tr>\n",
       "      <th>52424</th>\n",
       "      <td>0385504209</td>\n",
       "      <td>The Da Vinci Code</td>\n",
       "      <td>399</td>\n",
       "      <td>488</td>\n",
       "      <td>887</td>\n",
       "      <td>8.438525</td>\n",
       "    </tr>\n",
       "    <tr>\n",
       "      <th>22843</th>\n",
       "      <td>0312278586</td>\n",
       "      <td>The Nanny Diaries: A Novel</td>\n",
       "      <td>435</td>\n",
       "      <td>393</td>\n",
       "      <td>828</td>\n",
       "      <td>7.437659</td>\n",
       "    </tr>\n",
       "    <tr>\n",
       "      <th>27220</th>\n",
       "      <td>0330332775</td>\n",
       "      <td>Bridget Jones's Diary</td>\n",
       "      <td>438</td>\n",
       "      <td>377</td>\n",
       "      <td>815</td>\n",
       "      <td>7.625995</td>\n",
       "    </tr>\n",
       "  </tbody>\n",
       "</table>\n",
       "</div>"
      ],
      "text/plain": [
       "              isbn                  book_title  implicit_count  \\\n",
       "153681  0971880107                 Wild Animus            1921   \n",
       "26455   0316666343   The Lovely Bones: A Novel             588   \n",
       "52424   0385504209           The Da Vinci Code             399   \n",
       "22843   0312278586  The Nanny Diaries: A Novel             435   \n",
       "27220   0330332775       Bridget Jones's Diary             438   \n",
       "\n",
       "        explicit_count  total_count  rating_avg  \n",
       "153681             581         2502    4.390706  \n",
       "26455              707         1295    8.185290  \n",
       "52424              488          887    8.438525  \n",
       "22843              393          828    7.437659  \n",
       "27220              377          815    7.625995  "
      ]
     },
     "execution_count": 54,
     "metadata": {},
     "output_type": "execute_result"
    }
   ],
   "source": [
    "ratings_count.sort_values(by='total_count', ascending=False).head()"
   ]
  },
  {
   "cell_type": "code",
   "execution_count": 55,
   "metadata": {},
   "outputs": [
    {
     "data": {
      "image/png": "[encoded data removed]",
      "text/plain": [
       "<Figure size 1440x720 with 1 Axes>"
      ]
     },
     "metadata": {},
     "output_type": "display_data"
    }
   ],
   "source": [
    "plt.figure(figsize=(20, 10))\n",
    "plt.barh(y=ratings_count.sort_values(by='total_count', ascending=False)['book_title'].head(10),\n",
    "         width=ratings_count.sort_values(by='total_count', ascending=False)['rating_avg'].head(10))\n",
    "plt.title('Top 10 Books - Rating', fontsize=30)\n",
    "plt.xlabel('Rating', fontsize=25)\n",
    "plt.xticks(fontsize=20)\n",
    "plt.yticks(fontsize=20);"
   ]
  },
  {
   "cell_type": "markdown",
   "metadata": {},
   "source": [
    "-  Even though `Wild Animus` had the most ratings, it has the lowest average score (`4.4`) among the 10 books.\n",
    "-  For the most part, the remaining 9 books have an average rating ranging between `7` and `8`. \n",
    "-  Given that the overall average rating of our dataset is `7.6`, it's not surprising to see 9 of the 10 books are within this range."
   ]
  },
  {
   "cell_type": "markdown",
   "metadata": {},
   "source": [
    "### Save As CSV for PostgreSQL Database"
   ]
  },
  {
   "cell_type": "markdown",
   "metadata": {},
   "source": [
    "We save out all dataframes to csv and put them in their respective tables on postgres."
   ]
  },
  {
   "cell_type": "code",
   "execution_count": 56,
   "metadata": {},
   "outputs": [],
   "source": [
    "exp_ratings.to_csv('../data/exp_ratings.csv', index=False)"
   ]
  },
  {
   "cell_type": "code",
   "execution_count": 57,
   "metadata": {},
   "outputs": [],
   "source": [
    "imp_ratings.to_csv('../data/imp_ratings.csv', index=False)"
   ]
  },
  {
   "cell_type": "code",
   "execution_count": 58,
   "metadata": {},
   "outputs": [],
   "source": [
    "ratings_count.to_csv('../data/ratings_count.csv', index=False)"
   ]
  }
 ],
 "metadata": {
  "kernelspec": {
   "display_name": "Python 3",
   "language": "python",
   "name": "python3"
  },
  "language_info": {
   "codemirror_mode": {
    "name": "ipython",
    "version": 3
   },
   "file_extension": ".py",
   "mimetype": "text/x-python",
   "name": "python",
   "nbconvert_exporter": "python",
   "pygments_lexer": "ipython3",
   "version": "3.6.5"
  }
 },
 "nbformat": 4,
 "nbformat_minor": 2
}
