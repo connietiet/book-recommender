{
 "cells": [
  {
   "cell_type": "markdown",
   "metadata": {},
   "source": [
    "# EDA and Cleaning"
   ]
  },
  {
   "cell_type": "code",
   "execution_count": 1,
   "metadata": {},
   "outputs": [],
   "source": [
    "import requests\n",
    "import time\n",
    "import pandas as pd\n",
    "import json\n",
    "import psycopg2 as pg2\n",
    "from psycopg2.extras import RealDictCursor, Json\n",
    "import matplotlib.pyplot as plt\n",
    "import numpy as np\n",
    "import re\n",
    "from bs4 import BeautifulSoup"
   ]
  },
  {
   "cell_type": "code",
   "execution_count": 2,
   "metadata": {},
   "outputs": [],
   "source": [
    "%run ../bx_sql.py"
   ]
  },
  {
   "cell_type": "markdown",
   "metadata": {},
   "source": [
    "## Configure PostgreSQL Server with Docker"
   ]
  },
  {
   "cell_type": "code",
   "execution_count": 3,
   "metadata": {},
   "outputs": [],
   "source": [
    "def con_cur_to_db(dbname=DBNAME, dict_cur=None):\n",
    "    con = pg2.connect(host=IP_ADDRESS,\n",
    "                  dbname=dbname,\n",
    "                  user=USER,\n",
    "                  password=PASSWORD)\n",
    "    if dict_cur:\n",
    "        cur = con.cursor(cursor_factory=RealDictCursor)\n",
    "    else:\n",
    "        cur = con.cursor()\n",
    "    return con, cur\n",
    "    \n",
    "def execute_query(query, dbname=DBNAME, dict_cur=None, command=False):\n",
    "    con, cur = con_cur_to_db(dbname, dict_cur)\n",
    "    cur.execute(f'{query}')\n",
    "    if not command:\n",
    "        data = cur.fetchall()\n",
    "        con.close()\n",
    "        return data\n",
    "    con.commit() #sends to server\n",
    "    con.close() #closes server connection\n",
    "\n",
    "def insert_entry_json(data, tablename=None):\n",
    "    con, cur = con_cur_to_db()\n",
    "    for x in data:\n",
    "        cur.execute(f'INSERT INTO {tablename} (data) VALUES ({Json(x)});')\n",
    "    con.commit()\n",
    "    con.close()"
   ]
  },
  {
   "cell_type": "markdown",
   "metadata": {},
   "source": [
    "## Retrieve Data from PostgreSQL Database"
   ]
  },
  {
   "cell_type": "markdown",
   "metadata": {},
   "source": [
    "### Books"
   ]
  },
  {
   "cell_type": "code",
   "execution_count": 4,
   "metadata": {},
   "outputs": [],
   "source": [
    "books_query = '''SELECT * FROM books;\n",
    "'''\n",
    "\n",
    "books_results = execute_query(books_query, dict_cur=True)"
   ]
  },
  {
   "cell_type": "code",
   "execution_count": 5,
   "metadata": {},
   "outputs": [],
   "source": [
    "books_df = pd.DataFrame(books_results)"
   ]
  },
  {
   "cell_type": "markdown",
   "metadata": {},
   "source": [
    "### Users"
   ]
  },
  {
   "cell_type": "code",
   "execution_count": 6,
   "metadata": {},
   "outputs": [],
   "source": [
    "users_query = '''SELECT * FROM users;\n",
    "'''\n",
    "\n",
    "users_results = execute_query(users_query, dict_cur=True)"
   ]
  },
  {
   "cell_type": "code",
   "execution_count": 7,
   "metadata": {},
   "outputs": [],
   "source": [
    "users_df = pd.DataFrame(users_results)"
   ]
  },
  {
   "cell_type": "markdown",
   "metadata": {},
   "source": [
    "### Book Ratings"
   ]
  },
  {
   "cell_type": "code",
   "execution_count": 8,
   "metadata": {},
   "outputs": [],
   "source": [
    "ratings_query = '''SELECT * FROM book_ratings;\n",
    "'''\n",
    "\n",
    "ratings_results = execute_query(ratings_query, dict_cur=True)"
   ]
  },
  {
   "cell_type": "code",
   "execution_count": 9,
   "metadata": {},
   "outputs": [],
   "source": [
    "ratings_df = pd.DataFrame(ratings_results)"
   ]
  },
  {
   "cell_type": "markdown",
   "metadata": {},
   "source": [
    "## Clean Data"
   ]
  },
  {
   "cell_type": "markdown",
   "metadata": {},
   "source": [
    "### Books"
   ]
  },
  {
   "cell_type": "code",
   "execution_count": 10,
   "metadata": {},
   "outputs": [
    {
     "data": {
      "text/html": [
       "<div>\n",
       "<style scoped>\n",
       "    .dataframe tbody tr th:only-of-type {\n",
       "        vertical-align: middle;\n",
       "    }\n",
       "\n",
       "    .dataframe tbody tr th {\n",
       "        vertical-align: top;\n",
       "    }\n",
       "\n",
       "    .dataframe thead th {\n",
       "        text-align: right;\n",
       "    }\n",
       "</style>\n",
       "<table border=\"1\" class=\"dataframe\">\n",
       "  <thead>\n",
       "    <tr style=\"text-align: right;\">\n",
       "      <th></th>\n",
       "      <th>book_author</th>\n",
       "      <th>book_title</th>\n",
       "      <th>image_url_l</th>\n",
       "      <th>image_url_m</th>\n",
       "      <th>image_url_s</th>\n",
       "      <th>isbn</th>\n",
       "      <th>publisher</th>\n",
       "      <th>year_of_publication</th>\n",
       "    </tr>\n",
       "  </thead>\n",
       "  <tbody>\n",
       "    <tr>\n",
       "      <th>0</th>\n",
       "      <td>Mark P. O. Morford</td>\n",
       "      <td>Classical Mythology</td>\n",
       "      <td>http://images.amazon.com/images/P/0195153448.0...</td>\n",
       "      <td>http://images.amazon.com/images/P/0195153448.0...</td>\n",
       "      <td>http://images.amazon.com/images/P/0195153448.0...</td>\n",
       "      <td>0195153448</td>\n",
       "      <td>Oxford University Press</td>\n",
       "      <td>2002</td>\n",
       "    </tr>\n",
       "    <tr>\n",
       "      <th>1</th>\n",
       "      <td>Richard Bruce Wright</td>\n",
       "      <td>Clara Callan</td>\n",
       "      <td>http://images.amazon.com/images/P/0002005018.0...</td>\n",
       "      <td>http://images.amazon.com/images/P/0002005018.0...</td>\n",
       "      <td>http://images.amazon.com/images/P/0002005018.0...</td>\n",
       "      <td>0002005018</td>\n",
       "      <td>HarperFlamingo Canada</td>\n",
       "      <td>2001</td>\n",
       "    </tr>\n",
       "    <tr>\n",
       "      <th>2</th>\n",
       "      <td>Carlo D'Este</td>\n",
       "      <td>Decision in Normandy</td>\n",
       "      <td>http://images.amazon.com/images/P/0060973129.0...</td>\n",
       "      <td>http://images.amazon.com/images/P/0060973129.0...</td>\n",
       "      <td>http://images.amazon.com/images/P/0060973129.0...</td>\n",
       "      <td>0060973129</td>\n",
       "      <td>HarperPerennial</td>\n",
       "      <td>1991</td>\n",
       "    </tr>\n",
       "    <tr>\n",
       "      <th>3</th>\n",
       "      <td>Gina Bari Kolata</td>\n",
       "      <td>Flu: The Story of the Great Influenza Pandemic...</td>\n",
       "      <td>http://images.amazon.com/images/P/0374157065.0...</td>\n",
       "      <td>http://images.amazon.com/images/P/0374157065.0...</td>\n",
       "      <td>http://images.amazon.com/images/P/0374157065.0...</td>\n",
       "      <td>0374157065</td>\n",
       "      <td>Farrar Straus Giroux</td>\n",
       "      <td>1999</td>\n",
       "    </tr>\n",
       "    <tr>\n",
       "      <th>4</th>\n",
       "      <td>E. J. W. Barber</td>\n",
       "      <td>The Mummies of Urumchi</td>\n",
       "      <td>http://images.amazon.com/images/P/0393045218.0...</td>\n",
       "      <td>http://images.amazon.com/images/P/0393045218.0...</td>\n",
       "      <td>http://images.amazon.com/images/P/0393045218.0...</td>\n",
       "      <td>0393045218</td>\n",
       "      <td>W. W. Norton &amp;amp; Company</td>\n",
       "      <td>1999</td>\n",
       "    </tr>\n",
       "  </tbody>\n",
       "</table>\n",
       "</div>"
      ],
      "text/plain": [
       "            book_author                                         book_title  \\\n",
       "0    Mark P. O. Morford                                Classical Mythology   \n",
       "1  Richard Bruce Wright                                       Clara Callan   \n",
       "2          Carlo D'Este                               Decision in Normandy   \n",
       "3      Gina Bari Kolata  Flu: The Story of the Great Influenza Pandemic...   \n",
       "4       E. J. W. Barber                             The Mummies of Urumchi   \n",
       "\n",
       "                                         image_url_l  \\\n",
       "0  http://images.amazon.com/images/P/0195153448.0...   \n",
       "1  http://images.amazon.com/images/P/0002005018.0...   \n",
       "2  http://images.amazon.com/images/P/0060973129.0...   \n",
       "3  http://images.amazon.com/images/P/0374157065.0...   \n",
       "4  http://images.amazon.com/images/P/0393045218.0...   \n",
       "\n",
       "                                         image_url_m  \\\n",
       "0  http://images.amazon.com/images/P/0195153448.0...   \n",
       "1  http://images.amazon.com/images/P/0002005018.0...   \n",
       "2  http://images.amazon.com/images/P/0060973129.0...   \n",
       "3  http://images.amazon.com/images/P/0374157065.0...   \n",
       "4  http://images.amazon.com/images/P/0393045218.0...   \n",
       "\n",
       "                                         image_url_s        isbn  \\\n",
       "0  http://images.amazon.com/images/P/0195153448.0...  0195153448   \n",
       "1  http://images.amazon.com/images/P/0002005018.0...  0002005018   \n",
       "2  http://images.amazon.com/images/P/0060973129.0...  0060973129   \n",
       "3  http://images.amazon.com/images/P/0374157065.0...  0374157065   \n",
       "4  http://images.amazon.com/images/P/0393045218.0...  0393045218   \n",
       "\n",
       "                    publisher  year_of_publication  \n",
       "0     Oxford University Press                 2002  \n",
       "1       HarperFlamingo Canada                 2001  \n",
       "2             HarperPerennial                 1991  \n",
       "3        Farrar Straus Giroux                 1999  \n",
       "4  W. W. Norton &amp; Company                 1999  "
      ]
     },
     "execution_count": 10,
     "metadata": {},
     "output_type": "execute_result"
    }
   ],
   "source": [
    "books_df.head()"
   ]
  },
  {
   "cell_type": "code",
   "execution_count": 11,
   "metadata": {},
   "outputs": [
    {
     "name": "stdout",
     "output_type": "stream",
     "text": [
      "<class 'pandas.core.frame.DataFrame'>\n",
      "RangeIndex: 271379 entries, 0 to 271378\n",
      "Data columns (total 8 columns):\n",
      "book_author            271378 non-null object\n",
      "book_title             271379 non-null object\n",
      "image_url_l            271379 non-null object\n",
      "image_url_m            271379 non-null object\n",
      "image_url_s            271379 non-null object\n",
      "isbn                   271379 non-null object\n",
      "publisher              271377 non-null object\n",
      "year_of_publication    271379 non-null int64\n",
      "dtypes: int64(1), object(7)\n",
      "memory usage: 16.6+ MB\n"
     ]
    }
   ],
   "source": [
    "books_df.info()"
   ]
  },
  {
   "cell_type": "code",
   "execution_count": 12,
   "metadata": {},
   "outputs": [],
   "source": [
    "books_df.drop(columns=['image_url_l', 'image_url_m', 'image_url_s'], inplace=True)"
   ]
  },
  {
   "cell_type": "code",
   "execution_count": 13,
   "metadata": {},
   "outputs": [
    {
     "data": {
      "text/plain": [
       "book_author            1\n",
       "book_title             0\n",
       "isbn                   0\n",
       "publisher              2\n",
       "year_of_publication    0\n",
       "dtype: int64"
      ]
     },
     "execution_count": 13,
     "metadata": {},
     "output_type": "execute_result"
    }
   ],
   "source": [
    "books_df.isna().sum()"
   ]
  },
  {
   "cell_type": "markdown",
   "metadata": {},
   "source": [
    "##### Author"
   ]
  },
  {
   "cell_type": "code",
   "execution_count": 14,
   "metadata": {},
   "outputs": [
    {
     "data": {
      "text/html": [
       "<div>\n",
       "<style scoped>\n",
       "    .dataframe tbody tr th:only-of-type {\n",
       "        vertical-align: middle;\n",
       "    }\n",
       "\n",
       "    .dataframe tbody tr th {\n",
       "        vertical-align: top;\n",
       "    }\n",
       "\n",
       "    .dataframe thead th {\n",
       "        text-align: right;\n",
       "    }\n",
       "</style>\n",
       "<table border=\"1\" class=\"dataframe\">\n",
       "  <thead>\n",
       "    <tr style=\"text-align: right;\">\n",
       "      <th></th>\n",
       "      <th>book_author</th>\n",
       "      <th>book_title</th>\n",
       "      <th>isbn</th>\n",
       "      <th>publisher</th>\n",
       "      <th>year_of_publication</th>\n",
       "    </tr>\n",
       "  </thead>\n",
       "  <tbody>\n",
       "    <tr>\n",
       "      <th>187714</th>\n",
       "      <td>None</td>\n",
       "      <td>The Credit Suisse Guide to Managing Your Perso...</td>\n",
       "      <td>9627982032</td>\n",
       "      <td>Edinburgh Financial Publishing</td>\n",
       "      <td>1995</td>\n",
       "    </tr>\n",
       "  </tbody>\n",
       "</table>\n",
       "</div>"
      ],
      "text/plain": [
       "       book_author                                         book_title  \\\n",
       "187714        None  The Credit Suisse Guide to Managing Your Perso...   \n",
       "\n",
       "              isbn                       publisher  year_of_publication  \n",
       "187714  9627982032  Edinburgh Financial Publishing                 1995  "
      ]
     },
     "execution_count": 14,
     "metadata": {},
     "output_type": "execute_result"
    }
   ],
   "source": [
    "books_df[books_df['book_author'].isna()]"
   ]
  },
  {
   "cell_type": "markdown",
   "metadata": {},
   "source": [
    "[Amazon (The Credit Suisse Guide to Managing Your Personal Wealth)](https://www.amazon.ca/Credit-Suisse-Managing-Personal-Wealth/dp/9627982075)"
   ]
  },
  {
   "cell_type": "markdown",
   "metadata": {},
   "source": [
    "##### Publisher"
   ]
  },
  {
   "cell_type": "code",
   "execution_count": 15,
   "metadata": {},
   "outputs": [],
   "source": [
    "books_df.loc[187714, ['book_author']] = 'Larissa Anne Downes'"
   ]
  },
  {
   "cell_type": "code",
   "execution_count": 16,
   "metadata": {},
   "outputs": [
    {
     "data": {
      "text/html": [
       "<div>\n",
       "<style scoped>\n",
       "    .dataframe tbody tr th:only-of-type {\n",
       "        vertical-align: middle;\n",
       "    }\n",
       "\n",
       "    .dataframe tbody tr th {\n",
       "        vertical-align: top;\n",
       "    }\n",
       "\n",
       "    .dataframe thead th {\n",
       "        text-align: right;\n",
       "    }\n",
       "</style>\n",
       "<table border=\"1\" class=\"dataframe\">\n",
       "  <thead>\n",
       "    <tr style=\"text-align: right;\">\n",
       "      <th></th>\n",
       "      <th>book_author</th>\n",
       "      <th>book_title</th>\n",
       "      <th>isbn</th>\n",
       "      <th>publisher</th>\n",
       "      <th>year_of_publication</th>\n",
       "    </tr>\n",
       "  </thead>\n",
       "  <tbody>\n",
       "    <tr>\n",
       "      <th>128920</th>\n",
       "      <td>Elaine Corvidae</td>\n",
       "      <td>Tyrant Moon</td>\n",
       "      <td>193169656X</td>\n",
       "      <td>None</td>\n",
       "      <td>2002</td>\n",
       "    </tr>\n",
       "    <tr>\n",
       "      <th>129068</th>\n",
       "      <td>Linnea Sinclair</td>\n",
       "      <td>Finders Keepers</td>\n",
       "      <td>1931696993</td>\n",
       "      <td>None</td>\n",
       "      <td>2001</td>\n",
       "    </tr>\n",
       "  </tbody>\n",
       "</table>\n",
       "</div>"
      ],
      "text/plain": [
       "            book_author       book_title        isbn publisher  \\\n",
       "128920  Elaine Corvidae      Tyrant Moon  193169656X      None   \n",
       "129068  Linnea Sinclair  Finders Keepers  1931696993      None   \n",
       "\n",
       "        year_of_publication  \n",
       "128920                 2002  \n",
       "129068                 2001  "
      ]
     },
     "execution_count": 16,
     "metadata": {},
     "output_type": "execute_result"
    }
   ],
   "source": [
    "books_df[books_df['publisher'].isna()]"
   ]
  },
  {
   "cell_type": "markdown",
   "metadata": {},
   "source": [
    "Sources:\n",
    "-  [AbeBooks (Tyrant Moon)](https://www.abebooks.com/9781931696562/Tyrant-Moon-Elaine-Corvidae-193169656X/plp)\n",
    "-  [Google Books (Finders Keepers)](https://books.google.com/books/about/Finders_Keepers.html?id=M9pbPgAACAAJ)"
   ]
  },
  {
   "cell_type": "code",
   "execution_count": 17,
   "metadata": {},
   "outputs": [],
   "source": [
    "books_df.loc[128920, ['publisher']] = 'Novelbooks Incorporated'"
   ]
  },
  {
   "cell_type": "code",
   "execution_count": 18,
   "metadata": {},
   "outputs": [],
   "source": [
    "books_df.loc[129068, ['publisher']] = 'Novelbooks Incorporated'"
   ]
  },
  {
   "cell_type": "markdown",
   "metadata": {},
   "source": [
    "##### Year of Publication ????"
   ]
  },
  {
   "cell_type": "code",
   "execution_count": 19,
   "metadata": {},
   "outputs": [
    {
     "data": {
      "text/plain": [
       "array([   0, 1376, 1378, 1806, 1897, 1900, 1901, 1902, 1904, 1906, 1908,\n",
       "       1909, 1910, 1911, 1914, 1917, 1919, 1920, 1921, 1922, 1923, 1924,\n",
       "       1925, 1926, 1927, 1928, 1929, 1930, 1931, 1932, 1933, 1934, 1935,\n",
       "       1936, 1937, 1938, 1939, 1940, 1941, 1942, 1943, 1944, 1945, 1946,\n",
       "       1947, 1948, 1949, 1950, 1951, 1952, 1953, 1954, 1955, 1956, 1957,\n",
       "       1958, 1959, 1960, 1961, 1962, 1963, 1964, 1965, 1966, 1967, 1968,\n",
       "       1969, 1970, 1971, 1972, 1973, 1974, 1975, 1976, 1977, 1978, 1979,\n",
       "       1980, 1981, 1982, 1983, 1984, 1985, 1986, 1987, 1988, 1989, 1990,\n",
       "       1991, 1992, 1993, 1994, 1995, 1996, 1997, 1998, 1999, 2000, 2001,\n",
       "       2002, 2003, 2004, 2005, 2006, 2008, 2010, 2011, 2012, 2020, 2021,\n",
       "       2024, 2026, 2030, 2037, 2038, 2050])"
      ]
     },
     "execution_count": 19,
     "metadata": {},
     "output_type": "execute_result"
    }
   ],
   "source": [
    "np.asarray(sorted(books_df['year_of_publication'].unique()))"
   ]
  },
  {
   "cell_type": "code",
   "execution_count": 20,
   "metadata": {},
   "outputs": [
    {
     "data": {
      "text/html": [
       "<div>\n",
       "<style scoped>\n",
       "    .dataframe tbody tr th:only-of-type {\n",
       "        vertical-align: middle;\n",
       "    }\n",
       "\n",
       "    .dataframe tbody tr th {\n",
       "        vertical-align: top;\n",
       "    }\n",
       "\n",
       "    .dataframe thead th {\n",
       "        text-align: right;\n",
       "    }\n",
       "</style>\n",
       "<table border=\"1\" class=\"dataframe\">\n",
       "  <thead>\n",
       "    <tr style=\"text-align: right;\">\n",
       "      <th></th>\n",
       "      <th>book_author</th>\n",
       "      <th>book_title</th>\n",
       "      <th>isbn</th>\n",
       "      <th>publisher</th>\n",
       "      <th>year_of_publication</th>\n",
       "    </tr>\n",
       "  </thead>\n",
       "  <tbody>\n",
       "    <tr>\n",
       "      <th>177</th>\n",
       "      <td>Schiller</td>\n",
       "      <td>Kabale Und Liebe</td>\n",
       "      <td>3150000335</td>\n",
       "      <td>Philipp Reclam, Jun Verlag GmbH</td>\n",
       "      <td>0</td>\n",
       "    </tr>\n",
       "    <tr>\n",
       "      <th>189</th>\n",
       "      <td>Gabriel Garcia Marquez</td>\n",
       "      <td>Die Liebe in Den Zelten</td>\n",
       "      <td>342311360X</td>\n",
       "      <td>Deutscher Taschenbuch Verlag (DTV)</td>\n",
       "      <td>0</td>\n",
       "    </tr>\n",
       "    <tr>\n",
       "      <th>289</th>\n",
       "      <td>Barbara Kingsolver</td>\n",
       "      <td>Poisonwood Bible Edition Uk</td>\n",
       "      <td>0571197639</td>\n",
       "      <td>Faber Faber Inc</td>\n",
       "      <td>0</td>\n",
       "    </tr>\n",
       "    <tr>\n",
       "      <th>352</th>\n",
       "      <td>Golding</td>\n",
       "      <td>Herr Der Fliegen (Fiction, Poetry and Drama)</td>\n",
       "      <td>3596214629</td>\n",
       "      <td>Fischer Taschenbuch Verlag GmbH</td>\n",
       "      <td>0</td>\n",
       "    </tr>\n",
       "    <tr>\n",
       "      <th>542</th>\n",
       "      <td>P Coelho</td>\n",
       "      <td>Biblioteca Universale Rizzoli: Sulla Sponda De...</td>\n",
       "      <td>8845229041</td>\n",
       "      <td>Fabbri - RCS Libri</td>\n",
       "      <td>0</td>\n",
       "    </tr>\n",
       "  </tbody>\n",
       "</table>\n",
       "</div>"
      ],
      "text/plain": [
       "                book_author  \\\n",
       "177                Schiller   \n",
       "189  Gabriel Garcia Marquez   \n",
       "289      Barbara Kingsolver   \n",
       "352                 Golding   \n",
       "542                P Coelho   \n",
       "\n",
       "                                            book_title        isbn  \\\n",
       "177                                   Kabale Und Liebe  3150000335   \n",
       "189                            Die Liebe in Den Zelten  342311360X   \n",
       "289                        Poisonwood Bible Edition Uk  0571197639   \n",
       "352       Herr Der Fliegen (Fiction, Poetry and Drama)  3596214629   \n",
       "542  Biblioteca Universale Rizzoli: Sulla Sponda De...  8845229041   \n",
       "\n",
       "                              publisher  year_of_publication  \n",
       "177     Philipp Reclam, Jun Verlag GmbH                    0  \n",
       "189  Deutscher Taschenbuch Verlag (DTV)                    0  \n",
       "289                     Faber Faber Inc                    0  \n",
       "352     Fischer Taschenbuch Verlag GmbH                    0  \n",
       "542                  Fabbri - RCS Libri                    0  "
      ]
     },
     "execution_count": 20,
     "metadata": {},
     "output_type": "execute_result"
    }
   ],
   "source": [
    "books_df[books_df['year_of_publication'] == 0].head()"
   ]
  },
  {
   "cell_type": "code",
   "execution_count": 21,
   "metadata": {},
   "outputs": [
    {
     "data": {
      "text/html": [
       "<div>\n",
       "<style scoped>\n",
       "    .dataframe tbody tr th:only-of-type {\n",
       "        vertical-align: middle;\n",
       "    }\n",
       "\n",
       "    .dataframe tbody tr th {\n",
       "        vertical-align: top;\n",
       "    }\n",
       "\n",
       "    .dataframe thead th {\n",
       "        text-align: right;\n",
       "    }\n",
       "</style>\n",
       "<table border=\"1\" class=\"dataframe\">\n",
       "  <thead>\n",
       "    <tr style=\"text-align: right;\">\n",
       "      <th></th>\n",
       "      <th>book_author</th>\n",
       "      <th>book_title</th>\n",
       "      <th>isbn</th>\n",
       "      <th>publisher</th>\n",
       "      <th>year_of_publication</th>\n",
       "    </tr>\n",
       "  </thead>\n",
       "  <tbody>\n",
       "    <tr>\n",
       "      <th>3547</th>\n",
       "      <td>Grant Naylor</td>\n",
       "      <td>Red Dwarf</td>\n",
       "      <td>0140124373</td>\n",
       "      <td>Penguin Books Ltd</td>\n",
       "      <td>2005</td>\n",
       "    </tr>\n",
       "    <tr>\n",
       "      <th>12799</th>\n",
       "      <td>Kathleen E. Woodiwiss</td>\n",
       "      <td>A Rose in Winter</td>\n",
       "      <td>0380816792</td>\n",
       "      <td>Harper Mass Market Paperbacks</td>\n",
       "      <td>2011</td>\n",
       "    </tr>\n",
       "    <tr>\n",
       "      <th>26187</th>\n",
       "      <td>Frances Sakoian</td>\n",
       "      <td>The Astrologer's Handbook</td>\n",
       "      <td>006272004X</td>\n",
       "      <td>HarperResource</td>\n",
       "      <td>2005</td>\n",
       "    </tr>\n",
       "    <tr>\n",
       "      <th>30030</th>\n",
       "      <td>Kitty Kelley</td>\n",
       "      <td>The Royals</td>\n",
       "      <td>068160204X</td>\n",
       "      <td>Bausch &amp;amp; Lombard</td>\n",
       "      <td>2020</td>\n",
       "    </tr>\n",
       "    <tr>\n",
       "      <th>37505</th>\n",
       "      <td>Coville</td>\n",
       "      <td>MY TEACHER FRIED MY BRAINS (RACK SIZE) (MY TEA...</td>\n",
       "      <td>0671746103</td>\n",
       "      <td>Aladdin</td>\n",
       "      <td>2030</td>\n",
       "    </tr>\n",
       "  </tbody>\n",
       "</table>\n",
       "</div>"
      ],
      "text/plain": [
       "                 book_author  \\\n",
       "3547            Grant Naylor   \n",
       "12799  Kathleen E. Woodiwiss   \n",
       "26187        Frances Sakoian   \n",
       "30030           Kitty Kelley   \n",
       "37505                Coville   \n",
       "\n",
       "                                              book_title        isbn  \\\n",
       "3547                                           Red Dwarf  0140124373   \n",
       "12799                                   A Rose in Winter  0380816792   \n",
       "26187                          The Astrologer's Handbook  006272004X   \n",
       "30030                                         The Royals  068160204X   \n",
       "37505  MY TEACHER FRIED MY BRAINS (RACK SIZE) (MY TEA...  0671746103   \n",
       "\n",
       "                           publisher  year_of_publication  \n",
       "3547               Penguin Books Ltd                 2005  \n",
       "12799  Harper Mass Market Paperbacks                 2011  \n",
       "26187                 HarperResource                 2005  \n",
       "30030           Bausch &amp; Lombard                 2020  \n",
       "37505                        Aladdin                 2030  "
      ]
     },
     "execution_count": 21,
     "metadata": {},
     "output_type": "execute_result"
    }
   ],
   "source": [
    "books_df[books_df['year_of_publication'] >= 2005].head()"
   ]
  },
  {
   "cell_type": "code",
   "execution_count": 22,
   "metadata": {},
   "outputs": [],
   "source": [
    "url = 'https://www.goodreads.com/book/isbn/ISBN?format=xml&isbn=3150000335&key=prkLqGzgF7KgNNy3VqgJpQ'\n",
    "response = requests.get(url)"
   ]
  },
  {
   "cell_type": "code",
   "execution_count": 23,
   "metadata": {},
   "outputs": [],
   "source": [
    "soup = BeautifulSoup(response.text, 'xml')"
   ]
  },
  {
   "cell_type": "code",
   "execution_count": 24,
   "metadata": {},
   "outputs": [
    {
     "data": {
      "text/plain": [
       "1901"
      ]
     },
     "execution_count": 24,
     "metadata": {},
     "output_type": "execute_result"
    }
   ],
   "source": [
    "int(soup.find('original_publication_year').text)"
   ]
  },
  {
   "cell_type": "markdown",
   "metadata": {},
   "source": [
    "##### ISBN"
   ]
  },
  {
   "cell_type": "code",
   "execution_count": 25,
   "metadata": {},
   "outputs": [
    {
     "data": {
      "text/plain": [
       "271379"
      ]
     },
     "execution_count": 25,
     "metadata": {},
     "output_type": "execute_result"
    }
   ],
   "source": [
    "books_df['isbn'].nunique()"
   ]
  },
  {
   "cell_type": "markdown",
   "metadata": {},
   "source": [
    "##### Title"
   ]
  },
  {
   "cell_type": "code",
   "execution_count": 26,
   "metadata": {},
   "outputs": [
    {
     "data": {
      "text/plain": [
       "242154"
      ]
     },
     "execution_count": 26,
     "metadata": {},
     "output_type": "execute_result"
    }
   ],
   "source": [
    "books_df['book_title'].nunique()"
   ]
  },
  {
   "cell_type": "code",
   "execution_count": 94,
   "metadata": {},
   "outputs": [
    {
     "data": {
      "text/plain": [
       "29225"
      ]
     },
     "execution_count": 94,
     "metadata": {},
     "output_type": "execute_result"
    }
   ],
   "source": [
    "len(books_df[books_df['book_title'].duplicated()])"
   ]
  },
  {
   "cell_type": "code",
   "execution_count": 28,
   "metadata": {},
   "outputs": [
    {
     "data": {
      "text/html": [
       "<div>\n",
       "<style scoped>\n",
       "    .dataframe tbody tr th:only-of-type {\n",
       "        vertical-align: middle;\n",
       "    }\n",
       "\n",
       "    .dataframe tbody tr th {\n",
       "        vertical-align: top;\n",
       "    }\n",
       "\n",
       "    .dataframe thead th {\n",
       "        text-align: right;\n",
       "    }\n",
       "</style>\n",
       "<table border=\"1\" class=\"dataframe\">\n",
       "  <thead>\n",
       "    <tr style=\"text-align: right;\">\n",
       "      <th></th>\n",
       "      <th>book_author</th>\n",
       "      <th>book_title</th>\n",
       "      <th>isbn</th>\n",
       "      <th>publisher</th>\n",
       "      <th>year_of_publication</th>\n",
       "    </tr>\n",
       "  </thead>\n",
       "  <tbody>\n",
       "    <tr>\n",
       "      <th>119</th>\n",
       "      <td>Dan Brown</td>\n",
       "      <td>Angels &amp;amp; Demons</td>\n",
       "      <td>0671027360</td>\n",
       "      <td>Pocket Star</td>\n",
       "      <td>2001</td>\n",
       "    </tr>\n",
       "    <tr>\n",
       "      <th>240</th>\n",
       "      <td>Dan Brown</td>\n",
       "      <td>Angels &amp;amp; Demons</td>\n",
       "      <td>0743486226</td>\n",
       "      <td>Atria</td>\n",
       "      <td>2003</td>\n",
       "    </tr>\n",
       "    <tr>\n",
       "      <th>28021</th>\n",
       "      <td>Dan Brown</td>\n",
       "      <td>Angels &amp;amp; Demons</td>\n",
       "      <td>0671027352</td>\n",
       "      <td>Atria</td>\n",
       "      <td>2000</td>\n",
       "    </tr>\n",
       "    <tr>\n",
       "      <th>36952</th>\n",
       "      <td>Dan Brown</td>\n",
       "      <td>Angels &amp;amp; Demons</td>\n",
       "      <td>0743535774</td>\n",
       "      <td>Audioworks</td>\n",
       "      <td>2003</td>\n",
       "    </tr>\n",
       "    <tr>\n",
       "      <th>163571</th>\n",
       "      <td>Dan Brown</td>\n",
       "      <td>Angels &amp;amp; Demons</td>\n",
       "      <td>0743535766</td>\n",
       "      <td>Simon &amp;amp; Schuster Audio</td>\n",
       "      <td>2003</td>\n",
       "    </tr>\n",
       "  </tbody>\n",
       "</table>\n",
       "</div>"
      ],
      "text/plain": [
       "       book_author           book_title        isbn  \\\n",
       "119      Dan Brown  Angels &amp; Demons  0671027360   \n",
       "240      Dan Brown  Angels &amp; Demons  0743486226   \n",
       "28021    Dan Brown  Angels &amp; Demons  0671027352   \n",
       "36952    Dan Brown  Angels &amp; Demons  0743535774   \n",
       "163571   Dan Brown  Angels &amp; Demons  0743535766   \n",
       "\n",
       "                         publisher  year_of_publication  \n",
       "119                    Pocket Star                 2001  \n",
       "240                          Atria                 2003  \n",
       "28021                        Atria                 2000  \n",
       "36952                   Audioworks                 2003  \n",
       "163571  Simon &amp; Schuster Audio                 2003  "
      ]
     },
     "execution_count": 28,
     "metadata": {},
     "output_type": "execute_result"
    }
   ],
   "source": [
    "books_df[books_df['book_title'] == 'Angels &amp; Demons']"
   ]
  },
  {
   "cell_type": "code",
   "execution_count": 132,
   "metadata": {},
   "outputs": [],
   "source": [
    "books_unique_df = books_df.drop_duplicates(subset=['book_author','book_title'])"
   ]
  },
  {
   "cell_type": "markdown",
   "metadata": {},
   "source": [
    "### Users"
   ]
  },
  {
   "cell_type": "code",
   "execution_count": 30,
   "metadata": {},
   "outputs": [
    {
     "data": {
      "text/html": [
       "<div>\n",
       "<style scoped>\n",
       "    .dataframe tbody tr th:only-of-type {\n",
       "        vertical-align: middle;\n",
       "    }\n",
       "\n",
       "    .dataframe tbody tr th {\n",
       "        vertical-align: top;\n",
       "    }\n",
       "\n",
       "    .dataframe thead th {\n",
       "        text-align: right;\n",
       "    }\n",
       "</style>\n",
       "<table border=\"1\" class=\"dataframe\">\n",
       "  <thead>\n",
       "    <tr style=\"text-align: right;\">\n",
       "      <th></th>\n",
       "      <th>age</th>\n",
       "      <th>location</th>\n",
       "      <th>user_id</th>\n",
       "    </tr>\n",
       "  </thead>\n",
       "  <tbody>\n",
       "    <tr>\n",
       "      <th>0</th>\n",
       "      <td>None</td>\n",
       "      <td>nyc, new york, usa</td>\n",
       "      <td>1</td>\n",
       "    </tr>\n",
       "    <tr>\n",
       "      <th>1</th>\n",
       "      <td>18.0</td>\n",
       "      <td>stockton, california, usa</td>\n",
       "      <td>2</td>\n",
       "    </tr>\n",
       "    <tr>\n",
       "      <th>2</th>\n",
       "      <td>None</td>\n",
       "      <td>moscow, yukon territory, russia</td>\n",
       "      <td>3</td>\n",
       "    </tr>\n",
       "    <tr>\n",
       "      <th>3</th>\n",
       "      <td>17.0</td>\n",
       "      <td>porto, v.n.gaia, portugal</td>\n",
       "      <td>4</td>\n",
       "    </tr>\n",
       "    <tr>\n",
       "      <th>4</th>\n",
       "      <td>None</td>\n",
       "      <td>farnborough, hants, united kingdom</td>\n",
       "      <td>5</td>\n",
       "    </tr>\n",
       "  </tbody>\n",
       "</table>\n",
       "</div>"
      ],
      "text/plain": [
       "    age                            location  user_id\n",
       "0  None                  nyc, new york, usa        1\n",
       "1  18.0           stockton, california, usa        2\n",
       "2  None     moscow, yukon territory, russia        3\n",
       "3  17.0           porto, v.n.gaia, portugal        4\n",
       "4  None  farnborough, hants, united kingdom        5"
      ]
     },
     "execution_count": 30,
     "metadata": {},
     "output_type": "execute_result"
    }
   ],
   "source": [
    "users_df.head()"
   ]
  },
  {
   "cell_type": "code",
   "execution_count": 31,
   "metadata": {},
   "outputs": [
    {
     "name": "stdout",
     "output_type": "stream",
     "text": [
      "<class 'pandas.core.frame.DataFrame'>\n",
      "RangeIndex: 278858 entries, 0 to 278857\n",
      "Data columns (total 3 columns):\n",
      "age         168096 non-null object\n",
      "location    278858 non-null object\n",
      "user_id     278858 non-null int64\n",
      "dtypes: int64(1), object(2)\n",
      "memory usage: 6.4+ MB\n"
     ]
    }
   ],
   "source": [
    "users_df.info()"
   ]
  },
  {
   "cell_type": "markdown",
   "metadata": {},
   "source": [
    "#### User ID"
   ]
  },
  {
   "cell_type": "code",
   "execution_count": 32,
   "metadata": {},
   "outputs": [
    {
     "data": {
      "text/plain": [
       "True"
      ]
     },
     "execution_count": 32,
     "metadata": {},
     "output_type": "execute_result"
    }
   ],
   "source": [
    "users_df['user_id'].nunique() == len(users_df)"
   ]
  },
  {
   "cell_type": "markdown",
   "metadata": {},
   "source": [
    "#### Age"
   ]
  },
  {
   "cell_type": "code",
   "execution_count": 33,
   "metadata": {},
   "outputs": [
    {
     "data": {
      "text/plain": [
       "array([None, Decimal('18.0'), Decimal('17.0'), Decimal('61.0'),\n",
       "       Decimal('26.0'), Decimal('14.0'), Decimal('25.0'), Decimal('19.0'),\n",
       "       Decimal('46.0'), Decimal('55.0'), Decimal('32.0'), Decimal('24.0'),\n",
       "       Decimal('20.0'), Decimal('34.0'), Decimal('23.0'), Decimal('51.0'),\n",
       "       Decimal('31.0'), Decimal('21.0'), Decimal('44.0'), Decimal('30.0'),\n",
       "       Decimal('57.0'), Decimal('43.0'), Decimal('37.0'), Decimal('41.0'),\n",
       "       Decimal('54.0'), Decimal('42.0'), Decimal('50.0'), Decimal('39.0'),\n",
       "       Decimal('53.0'), Decimal('47.0'), Decimal('36.0'), Decimal('28.0'),\n",
       "       Decimal('35.0'), Decimal('13.0'), Decimal('58.0'), Decimal('49.0'),\n",
       "       Decimal('38.0'), Decimal('45.0'), Decimal('62.0'), Decimal('63.0'),\n",
       "       Decimal('27.0'), Decimal('33.0'), Decimal('29.0'), Decimal('66.0'),\n",
       "       Decimal('40.0'), Decimal('15.0'), Decimal('60.0'), Decimal('0.0'),\n",
       "       Decimal('79.0'), Decimal('22.0'), Decimal('16.0'), Decimal('65.0'),\n",
       "       Decimal('59.0'), Decimal('48.0'), Decimal('72.0'), Decimal('56.0'),\n",
       "       Decimal('67.0'), Decimal('1.0'), Decimal('80.0'), Decimal('52.0'),\n",
       "       Decimal('69.0'), Decimal('71.0'), Decimal('73.0'), Decimal('78.0'),\n",
       "       Decimal('9.0'), Decimal('64.0'), Decimal('103.0'),\n",
       "       Decimal('104.0'), Decimal('12.0'), Decimal('74.0'),\n",
       "       Decimal('75.0'), Decimal('231.0'), Decimal('3.0'), Decimal('76.0'),\n",
       "       Decimal('83.0'), Decimal('68.0'), Decimal('119.0'),\n",
       "       Decimal('11.0'), Decimal('77.0'), Decimal('2.0'), Decimal('70.0'),\n",
       "       Decimal('93.0'), Decimal('8.0'), Decimal('7.0'), Decimal('4.0'),\n",
       "       Decimal('81.0'), Decimal('114.0'), Decimal('230.0'),\n",
       "       Decimal('239.0'), Decimal('10.0'), Decimal('5.0'),\n",
       "       Decimal('148.0'), Decimal('151.0'), Decimal('6.0'),\n",
       "       Decimal('101.0'), Decimal('201.0'), Decimal('96.0'),\n",
       "       Decimal('84.0'), Decimal('82.0'), Decimal('90.0'),\n",
       "       Decimal('123.0'), Decimal('244.0'), Decimal('133.0'),\n",
       "       Decimal('91.0'), Decimal('128.0'), Decimal('94.0'),\n",
       "       Decimal('85.0'), Decimal('141.0'), Decimal('110.0'),\n",
       "       Decimal('97.0'), Decimal('219.0'), Decimal('86.0'),\n",
       "       Decimal('124.0'), Decimal('92.0'), Decimal('175.0'),\n",
       "       Decimal('172.0'), Decimal('209.0'), Decimal('212.0'),\n",
       "       Decimal('237.0'), Decimal('87.0'), Decimal('162.0'),\n",
       "       Decimal('100.0'), Decimal('156.0'), Decimal('136.0'),\n",
       "       Decimal('95.0'), Decimal('89.0'), Decimal('106.0'),\n",
       "       Decimal('99.0'), Decimal('108.0'), Decimal('210.0'),\n",
       "       Decimal('88.0'), Decimal('199.0'), Decimal('147.0'),\n",
       "       Decimal('168.0'), Decimal('132.0'), Decimal('159.0'),\n",
       "       Decimal('186.0'), Decimal('152.0'), Decimal('102.0'),\n",
       "       Decimal('116.0'), Decimal('200.0'), Decimal('115.0'),\n",
       "       Decimal('226.0'), Decimal('137.0'), Decimal('207.0'),\n",
       "       Decimal('229.0'), Decimal('138.0'), Decimal('109.0'),\n",
       "       Decimal('105.0'), Decimal('228.0'), Decimal('183.0'),\n",
       "       Decimal('204.0'), Decimal('98.0'), Decimal('223.0'),\n",
       "       Decimal('113.0'), Decimal('208.0'), Decimal('107.0'),\n",
       "       Decimal('157.0'), Decimal('111.0'), Decimal('146.0'),\n",
       "       Decimal('118.0'), Decimal('220.0'), Decimal('143.0'),\n",
       "       Decimal('140.0'), Decimal('189.0'), Decimal('127.0')], dtype=object)"
      ]
     },
     "execution_count": 33,
     "metadata": {},
     "output_type": "execute_result"
    }
   ],
   "source": [
    "np.asarray(users_df['age'].unique())"
   ]
  },
  {
   "cell_type": "code",
   "execution_count": 34,
   "metadata": {},
   "outputs": [
    {
     "data": {
      "text/plain": [
       "435"
      ]
     },
     "execution_count": 34,
     "metadata": {},
     "output_type": "execute_result"
    }
   ],
   "source": [
    "len(users_df[users_df['age'] >= 90])"
   ]
  },
  {
   "cell_type": "code",
   "execution_count": 35,
   "metadata": {},
   "outputs": [
    {
     "data": {
      "text/plain": [
       "908"
      ]
     },
     "execution_count": 35,
     "metadata": {},
     "output_type": "execute_result"
    }
   ],
   "source": [
    "len(users_df[users_df['age'] <= 5])"
   ]
  },
  {
   "cell_type": "code",
   "execution_count": 36,
   "metadata": {},
   "outputs": [
    {
     "data": {
      "text/plain": [
       "0.40201464544678656"
      ]
     },
     "execution_count": 36,
     "metadata": {},
     "output_type": "execute_result"
    }
   ],
   "source": [
    "(users_df['age'].isna().sum() + len(users_df[users_df['age'] >= 90]) + len(users_df[users_df['age'] <= 5]))/ len(users_df)"
   ]
  },
  {
   "cell_type": "code",
   "execution_count": 37,
   "metadata": {},
   "outputs": [],
   "source": [
    "users_df.drop(columns='age', inplace=True)"
   ]
  },
  {
   "cell_type": "markdown",
   "metadata": {},
   "source": [
    "#### Location"
   ]
  },
  {
   "cell_type": "code",
   "execution_count": 38,
   "metadata": {},
   "outputs": [
    {
     "name": "stdout",
     "output_type": "stream",
     "text": [
      "lawrenceville\n"
     ]
    }
   ],
   "source": [
    "for i in users_df['location']:\n",
    "    if ',' not in i:\n",
    "        print(i)"
   ]
  },
  {
   "cell_type": "code",
   "execution_count": 39,
   "metadata": {},
   "outputs": [
    {
     "data": {
      "text/html": [
       "<div>\n",
       "<style scoped>\n",
       "    .dataframe tbody tr th:only-of-type {\n",
       "        vertical-align: middle;\n",
       "    }\n",
       "\n",
       "    .dataframe tbody tr th {\n",
       "        vertical-align: top;\n",
       "    }\n",
       "\n",
       "    .dataframe thead th {\n",
       "        text-align: right;\n",
       "    }\n",
       "</style>\n",
       "<table border=\"1\" class=\"dataframe\">\n",
       "  <thead>\n",
       "    <tr style=\"text-align: right;\">\n",
       "      <th></th>\n",
       "      <th>location</th>\n",
       "      <th>user_id</th>\n",
       "    </tr>\n",
       "  </thead>\n",
       "  <tbody>\n",
       "    <tr>\n",
       "      <th>134376</th>\n",
       "      <td>lawrenceville</td>\n",
       "      <td>134377</td>\n",
       "    </tr>\n",
       "  </tbody>\n",
       "</table>\n",
       "</div>"
      ],
      "text/plain": [
       "             location  user_id\n",
       "134376  lawrenceville   134377"
      ]
     },
     "execution_count": 39,
     "metadata": {},
     "output_type": "execute_result"
    }
   ],
   "source": [
    "users_df[users_df['location'] == 'lawrenceville']"
   ]
  },
  {
   "cell_type": "code",
   "execution_count": 40,
   "metadata": {},
   "outputs": [],
   "source": [
    "users_df.loc[134376, 'location'] = 'lawrenceville, , '"
   ]
  },
  {
   "cell_type": "code",
   "execution_count": 41,
   "metadata": {},
   "outputs": [],
   "source": [
    "users_df['city'] = users_df['location'].apply(lambda x: x.split(',')[0])"
   ]
  },
  {
   "cell_type": "code",
   "execution_count": 42,
   "metadata": {},
   "outputs": [],
   "source": [
    "users_df['state'] = users_df['location'].apply(lambda x: re.findall(r'.*[,,]\\s(.*)[,]', x))\n",
    "users_df['state'] = users_df['state'].map(lambda x: None if not x else x[0])"
   ]
  },
  {
   "cell_type": "code",
   "execution_count": 43,
   "metadata": {},
   "outputs": [],
   "source": [
    "users_df['country'] = users_df['location'].apply(lambda x: re.findall(r'.*[,,].*[,]\\s(.*)', x))\n",
    "users_df['country'] = users_df['country'].map(lambda x: None if not x else x[0])"
   ]
  },
  {
   "cell_type": "code",
   "execution_count": 44,
   "metadata": {},
   "outputs": [
    {
     "data": {
      "text/html": [
       "<div>\n",
       "<style scoped>\n",
       "    .dataframe tbody tr th:only-of-type {\n",
       "        vertical-align: middle;\n",
       "    }\n",
       "\n",
       "    .dataframe tbody tr th {\n",
       "        vertical-align: top;\n",
       "    }\n",
       "\n",
       "    .dataframe thead th {\n",
       "        text-align: right;\n",
       "    }\n",
       "</style>\n",
       "<table border=\"1\" class=\"dataframe\">\n",
       "  <thead>\n",
       "    <tr style=\"text-align: right;\">\n",
       "      <th></th>\n",
       "      <th>location</th>\n",
       "      <th>user_id</th>\n",
       "      <th>city</th>\n",
       "      <th>state</th>\n",
       "      <th>country</th>\n",
       "    </tr>\n",
       "  </thead>\n",
       "  <tbody>\n",
       "    <tr>\n",
       "      <th>0</th>\n",
       "      <td>nyc, new york, usa</td>\n",
       "      <td>1</td>\n",
       "      <td>nyc</td>\n",
       "      <td>new york</td>\n",
       "      <td>usa</td>\n",
       "    </tr>\n",
       "    <tr>\n",
       "      <th>1</th>\n",
       "      <td>stockton, california, usa</td>\n",
       "      <td>2</td>\n",
       "      <td>stockton</td>\n",
       "      <td>california</td>\n",
       "      <td>usa</td>\n",
       "    </tr>\n",
       "    <tr>\n",
       "      <th>2</th>\n",
       "      <td>moscow, yukon territory, russia</td>\n",
       "      <td>3</td>\n",
       "      <td>moscow</td>\n",
       "      <td>yukon territory</td>\n",
       "      <td>russia</td>\n",
       "    </tr>\n",
       "    <tr>\n",
       "      <th>3</th>\n",
       "      <td>porto, v.n.gaia, portugal</td>\n",
       "      <td>4</td>\n",
       "      <td>porto</td>\n",
       "      <td>v.n.gaia</td>\n",
       "      <td>portugal</td>\n",
       "    </tr>\n",
       "    <tr>\n",
       "      <th>4</th>\n",
       "      <td>farnborough, hants, united kingdom</td>\n",
       "      <td>5</td>\n",
       "      <td>farnborough</td>\n",
       "      <td>hants</td>\n",
       "      <td>united kingdom</td>\n",
       "    </tr>\n",
       "  </tbody>\n",
       "</table>\n",
       "</div>"
      ],
      "text/plain": [
       "                             location  user_id         city            state  \\\n",
       "0                  nyc, new york, usa        1          nyc         new york   \n",
       "1           stockton, california, usa        2     stockton       california   \n",
       "2     moscow, yukon territory, russia        3       moscow  yukon territory   \n",
       "3           porto, v.n.gaia, portugal        4        porto         v.n.gaia   \n",
       "4  farnborough, hants, united kingdom        5  farnborough            hants   \n",
       "\n",
       "          country  \n",
       "0             usa  \n",
       "1             usa  \n",
       "2          russia  \n",
       "3        portugal  \n",
       "4  united kingdom  "
      ]
     },
     "execution_count": 44,
     "metadata": {},
     "output_type": "execute_result"
    }
   ],
   "source": [
    "users_df.head()"
   ]
  },
  {
   "cell_type": "code",
   "execution_count": 45,
   "metadata": {},
   "outputs": [
    {
     "data": {
      "text/plain": [
       "location       0\n",
       "user_id        0\n",
       "city           0\n",
       "state          1\n",
       "country     4573\n",
       "dtype: int64"
      ]
     },
     "execution_count": 45,
     "metadata": {},
     "output_type": "execute_result"
    }
   ],
   "source": [
    "users_df.isna().sum()"
   ]
  },
  {
   "cell_type": "code",
   "execution_count": 46,
   "metadata": {},
   "outputs": [
    {
     "data": {
      "text/html": [
       "<div>\n",
       "<style scoped>\n",
       "    .dataframe tbody tr th:only-of-type {\n",
       "        vertical-align: middle;\n",
       "    }\n",
       "\n",
       "    .dataframe tbody tr th {\n",
       "        vertical-align: top;\n",
       "    }\n",
       "\n",
       "    .dataframe thead th {\n",
       "        text-align: right;\n",
       "    }\n",
       "</style>\n",
       "<table border=\"1\" class=\"dataframe\">\n",
       "  <thead>\n",
       "    <tr style=\"text-align: right;\">\n",
       "      <th></th>\n",
       "      <th>location</th>\n",
       "      <th>user_id</th>\n",
       "      <th>city</th>\n",
       "      <th>state</th>\n",
       "      <th>country</th>\n",
       "    </tr>\n",
       "  </thead>\n",
       "  <tbody>\n",
       "    <tr>\n",
       "      <th>29419</th>\n",
       "      <td>st. louis, missouri</td>\n",
       "      <td>29420</td>\n",
       "      <td>st. louis</td>\n",
       "      <td>None</td>\n",
       "      <td>None</td>\n",
       "    </tr>\n",
       "  </tbody>\n",
       "</table>\n",
       "</div>"
      ],
      "text/plain": [
       "                  location  user_id       city state country\n",
       "29419  st. louis, missouri    29420  st. louis  None    None"
      ]
     },
     "execution_count": 46,
     "metadata": {},
     "output_type": "execute_result"
    }
   ],
   "source": [
    "users_df[users_df['state'].isna()]"
   ]
  },
  {
   "cell_type": "code",
   "execution_count": 47,
   "metadata": {},
   "outputs": [
    {
     "data": {
      "text/html": [
       "<div>\n",
       "<style scoped>\n",
       "    .dataframe tbody tr th:only-of-type {\n",
       "        vertical-align: middle;\n",
       "    }\n",
       "\n",
       "    .dataframe tbody tr th {\n",
       "        vertical-align: top;\n",
       "    }\n",
       "\n",
       "    .dataframe thead th {\n",
       "        text-align: right;\n",
       "    }\n",
       "</style>\n",
       "<table border=\"1\" class=\"dataframe\">\n",
       "  <thead>\n",
       "    <tr style=\"text-align: right;\">\n",
       "      <th></th>\n",
       "      <th>location</th>\n",
       "      <th>user_id</th>\n",
       "      <th>city</th>\n",
       "      <th>state</th>\n",
       "      <th>country</th>\n",
       "    </tr>\n",
       "  </thead>\n",
       "  <tbody>\n",
       "    <tr>\n",
       "      <th>18</th>\n",
       "      <td>weston, ,</td>\n",
       "      <td>19</td>\n",
       "      <td>weston</td>\n",
       "      <td></td>\n",
       "      <td>None</td>\n",
       "    </tr>\n",
       "    <tr>\n",
       "      <th>90</th>\n",
       "      <td>toronto/newmarket, ,</td>\n",
       "      <td>91</td>\n",
       "      <td>toronto/newmarket</td>\n",
       "      <td></td>\n",
       "      <td>None</td>\n",
       "    </tr>\n",
       "    <tr>\n",
       "      <th>311</th>\n",
       "      <td>lk, jlk,</td>\n",
       "      <td>312</td>\n",
       "      <td>lk</td>\n",
       "      <td>jlk</td>\n",
       "      <td>None</td>\n",
       "    </tr>\n",
       "    <tr>\n",
       "      <th>317</th>\n",
       "      <td>berlin, n/a,</td>\n",
       "      <td>318</td>\n",
       "      <td>berlin</td>\n",
       "      <td>n/a</td>\n",
       "      <td>None</td>\n",
       "    </tr>\n",
       "    <tr>\n",
       "      <th>536</th>\n",
       "      <td>davis, california,</td>\n",
       "      <td>537</td>\n",
       "      <td>davis</td>\n",
       "      <td>california</td>\n",
       "      <td>None</td>\n",
       "    </tr>\n",
       "  </tbody>\n",
       "</table>\n",
       "</div>"
      ],
      "text/plain": [
       "                 location  user_id               city       state country\n",
       "18              weston, ,       19             weston                None\n",
       "90   toronto/newmarket, ,       91  toronto/newmarket                None\n",
       "311              lk, jlk,      312                 lk         jlk    None\n",
       "317          berlin, n/a,      318             berlin         n/a    None\n",
       "536    davis, california,      537              davis  california    None"
      ]
     },
     "execution_count": 47,
     "metadata": {},
     "output_type": "execute_result"
    }
   ],
   "source": [
    "users_df[users_df['country'].isna()].head()"
   ]
  },
  {
   "cell_type": "markdown",
   "metadata": {},
   "source": [
    "### Book Ratings"
   ]
  },
  {
   "cell_type": "code",
   "execution_count": 48,
   "metadata": {},
   "outputs": [
    {
     "data": {
      "text/html": [
       "<div>\n",
       "<style scoped>\n",
       "    .dataframe tbody tr th:only-of-type {\n",
       "        vertical-align: middle;\n",
       "    }\n",
       "\n",
       "    .dataframe tbody tr th {\n",
       "        vertical-align: top;\n",
       "    }\n",
       "\n",
       "    .dataframe thead th {\n",
       "        text-align: right;\n",
       "    }\n",
       "</style>\n",
       "<table border=\"1\" class=\"dataframe\">\n",
       "  <thead>\n",
       "    <tr style=\"text-align: right;\">\n",
       "      <th></th>\n",
       "      <th>book_rating</th>\n",
       "      <th>isbn</th>\n",
       "      <th>user_id</th>\n",
       "    </tr>\n",
       "  </thead>\n",
       "  <tbody>\n",
       "    <tr>\n",
       "      <th>0</th>\n",
       "      <td>0</td>\n",
       "      <td>034545104X</td>\n",
       "      <td>276725</td>\n",
       "    </tr>\n",
       "    <tr>\n",
       "      <th>1</th>\n",
       "      <td>5</td>\n",
       "      <td>0155061224</td>\n",
       "      <td>276726</td>\n",
       "    </tr>\n",
       "    <tr>\n",
       "      <th>2</th>\n",
       "      <td>0</td>\n",
       "      <td>0446520802</td>\n",
       "      <td>276727</td>\n",
       "    </tr>\n",
       "    <tr>\n",
       "      <th>3</th>\n",
       "      <td>3</td>\n",
       "      <td>052165615X</td>\n",
       "      <td>276729</td>\n",
       "    </tr>\n",
       "    <tr>\n",
       "      <th>4</th>\n",
       "      <td>6</td>\n",
       "      <td>0521795028</td>\n",
       "      <td>276729</td>\n",
       "    </tr>\n",
       "  </tbody>\n",
       "</table>\n",
       "</div>"
      ],
      "text/plain": [
       "   book_rating        isbn  user_id\n",
       "0            0  034545104X   276725\n",
       "1            5  0155061224   276726\n",
       "2            0  0446520802   276727\n",
       "3            3  052165615X   276729\n",
       "4            6  0521795028   276729"
      ]
     },
     "execution_count": 48,
     "metadata": {},
     "output_type": "execute_result"
    }
   ],
   "source": [
    "ratings_df.head()"
   ]
  },
  {
   "cell_type": "code",
   "execution_count": 49,
   "metadata": {},
   "outputs": [
    {
     "name": "stdout",
     "output_type": "stream",
     "text": [
      "<class 'pandas.core.frame.DataFrame'>\n",
      "RangeIndex: 1149780 entries, 0 to 1149779\n",
      "Data columns (total 3 columns):\n",
      "book_rating    1149780 non-null int64\n",
      "isbn           1149780 non-null object\n",
      "user_id        1149780 non-null int64\n",
      "dtypes: int64(2), object(1)\n",
      "memory usage: 26.3+ MB\n"
     ]
    }
   ],
   "source": [
    "ratings_df.info()"
   ]
  },
  {
   "cell_type": "markdown",
   "metadata": {},
   "source": [
    "#### ISBN"
   ]
  },
  {
   "cell_type": "code",
   "execution_count": 53,
   "metadata": {},
   "outputs": [
    {
     "name": "stdout",
     "output_type": "stream",
     "text": [
      "Ratings ISBN: 340556\n",
      "Books ISBN:   271379\n"
     ]
    },
    {
     "data": {
      "text/plain": [
       "False"
      ]
     },
     "execution_count": 53,
     "metadata": {},
     "output_type": "execute_result"
    }
   ],
   "source": [
    "print('Ratings ISBN:',ratings_df['isbn'].nunique())\n",
    "print('Books ISBN:  ',books_df['isbn'].nunique())\n",
    "ratings_df['isbn'].nunique() == books_df['isbn'].nunique()"
   ]
  },
  {
   "cell_type": "code",
   "execution_count": 55,
   "metadata": {},
   "outputs": [],
   "source": [
    "ratings_match_df = ratings_df[ratings_df['isbn'].isin(books_df['isbn'])]"
   ]
  },
  {
   "cell_type": "code",
   "execution_count": 56,
   "metadata": {},
   "outputs": [
    {
     "name": "stdout",
     "output_type": "stream",
     "text": [
      "Number of Ratings: 1031175\n",
      "Number of Books:   270170\n"
     ]
    }
   ],
   "source": [
    "print('Number of Ratings:',ratings_match_df.shape[0])\n",
    "print('Number of Books:  ',ratings_match_df['isbn'].nunique())"
   ]
  },
  {
   "cell_type": "code",
   "execution_count": 57,
   "metadata": {},
   "outputs": [],
   "source": [
    "books_three_plus = ratings_match_df['isbn'].value_counts().keys()[ratings_match_df['isbn'].value_counts() >= 3]"
   ]
  },
  {
   "cell_type": "code",
   "execution_count": 58,
   "metadata": {},
   "outputs": [],
   "source": [
    "ratings_match_df = ratings_match_df[ratings_match_df['isbn'].isin(books_three_plus.values)]"
   ]
  },
  {
   "cell_type": "code",
   "execution_count": 59,
   "metadata": {},
   "outputs": [
    {
     "name": "stdout",
     "output_type": "stream",
     "text": [
      "Number of Ratings: 788645\n",
      "Number of Books:   76076\n"
     ]
    }
   ],
   "source": [
    "print('Number of Ratings:',ratings_match_df.shape[0])\n",
    "print('Number of Books:  ',ratings_match_df['isbn'].nunique())"
   ]
  },
  {
   "cell_type": "code",
   "execution_count": 60,
   "metadata": {},
   "outputs": [
    {
     "data": {
      "text/plain": [
       "array([2502, 1295,  883, ...,    3,    3,    3])"
      ]
     },
     "execution_count": 60,
     "metadata": {},
     "output_type": "execute_result"
    }
   ],
   "source": [
    "ratings_match_df['isbn'].value_counts().values"
   ]
  },
  {
   "cell_type": "code",
   "execution_count": 61,
   "metadata": {},
   "outputs": [
    {
     "data": {
      "image/png": "[encoded data removed]",
      "text/plain": [
       "<Figure size 576x360 with 1 Axes>"
      ]
     },
     "metadata": {},
     "output_type": "display_data"
    }
   ],
   "source": [
    "plt.figure(figsize=(8, 5))\n",
    "plt.hist(x=ratings_match_df['isbn'].value_counts().values,\n",
    "         bins=[3, 5, 10, 20, 30, 50, 70, 100, 150, 170, 190, 210])\n",
    "plt.title('Ratings per Book', fontsize=20)\n",
    "plt.xlabel('Ratings Given', fontsize=15)\n",
    "plt.ylabel('Book Count', fontsize=15)\n",
    "plt.xticks(fontsize=10)\n",
    "plt.yticks(fontsize=10);"
   ]
  },
  {
   "cell_type": "markdown",
   "metadata": {},
   "source": [
    "#### User ID"
   ]
  },
  {
   "cell_type": "code",
   "execution_count": 62,
   "metadata": {},
   "outputs": [
    {
     "data": {
      "text/plain": [
       "array([9276, 4322, 4082, ...,    1,    1,    1])"
      ]
     },
     "execution_count": 62,
     "metadata": {},
     "output_type": "execute_result"
    }
   ],
   "source": [
    "ratings_match_df['user_id'].value_counts().values"
   ]
  },
  {
   "cell_type": "code",
   "execution_count": 63,
   "metadata": {},
   "outputs": [
    {
     "data": {
      "text/plain": [
       "80930"
      ]
     },
     "execution_count": 63,
     "metadata": {},
     "output_type": "execute_result"
    }
   ],
   "source": [
    "ratings_match_df['user_id'].nunique()"
   ]
  },
  {
   "cell_type": "code",
   "execution_count": 64,
   "metadata": {},
   "outputs": [],
   "source": [
    "users_three_plus = ratings_match_df['user_id'].value_counts().keys()[ratings_match_df['user_id'].value_counts() >= 3]"
   ]
  },
  {
   "cell_type": "code",
   "execution_count": 65,
   "metadata": {},
   "outputs": [],
   "source": [
    "ratings_match_df = ratings_match_df[ratings_match_df['user_id'].isin(users_three_plus.values)]"
   ]
  },
  {
   "cell_type": "code",
   "execution_count": 66,
   "metadata": {},
   "outputs": [
    {
     "name": "stdout",
     "output_type": "stream",
     "text": [
      "Number of Ratings: 723863\n",
      "Number of Users:   25897\n"
     ]
    }
   ],
   "source": [
    "print('Number of Ratings:',ratings_match_df.shape[0])\n",
    "print('Number of Users:  ',ratings_match_df['user_id'].nunique())"
   ]
  },
  {
   "cell_type": "code",
   "execution_count": 67,
   "metadata": {},
   "outputs": [],
   "source": [
    "# ratings_match_df['user_id'].value_counts().keys()[ratings_match_df['user_id'].value_counts().values <= 300]"
   ]
  },
  {
   "cell_type": "code",
   "execution_count": 68,
   "metadata": {},
   "outputs": [
    {
     "data": {
      "image/png": "[encoded data removed]",
      "text/plain": [
       "<Figure size 576x360 with 1 Axes>"
      ]
     },
     "metadata": {},
     "output_type": "display_data"
    }
   ],
   "source": [
    "plt.figure(figsize=(8, 5))\n",
    "plt.hist(x=ratings_match_df['user_id'].value_counts().values,\n",
    "         bins=[3, 5, 10, 20, 30, 50, 70, 100, 150, 170, 190, 210])  \n",
    "plt.title('Ratings per User', fontsize=20)\n",
    "plt.xlabel('Ratings Given', fontsize=15)\n",
    "plt.ylabel('User Count', fontsize=15)\n",
    "plt.xticks(fontsize=10)\n",
    "plt.yticks(fontsize=10);"
   ]
  },
  {
   "cell_type": "markdown",
   "metadata": {},
   "source": [
    "#### Book Rating"
   ]
  },
  {
   "cell_type": "code",
   "execution_count": 69,
   "metadata": {},
   "outputs": [
    {
     "data": {
      "text/plain": [
       "0     472328\n",
       "1        864\n",
       "2       1472\n",
       "3       3260\n",
       "4       4814\n",
       "5      27663\n",
       "6      20585\n",
       "7      43623\n",
       "8      60999\n",
       "9      41923\n",
       "10     46332\n",
       "Name: book_rating, dtype: int64"
      ]
     },
     "execution_count": 69,
     "metadata": {},
     "output_type": "execute_result"
    }
   ],
   "source": [
    "ratings_match_df['book_rating'].value_counts().sort_index()"
   ]
  },
  {
   "cell_type": "code",
   "execution_count": 70,
   "metadata": {},
   "outputs": [
    {
     "data": {
      "image/png": "[encoded data removed]",
      "text/plain": [
       "<Figure size 576x360 with 1 Axes>"
      ]
     },
     "metadata": {},
     "output_type": "display_data"
    }
   ],
   "source": [
    "plt.figure(figsize=(8, 5))\n",
    "plt.bar(x=ratings_match_df['book_rating'].value_counts().index,\n",
    "        height=ratings_match_df['book_rating'].value_counts().values)\n",
    "plt.title('Total Book Ratings Count', fontsize=20)\n",
    "plt.xlabel('Rating', fontsize=15)\n",
    "plt.ylabel('Count', fontsize=15)\n",
    "plt.xticks(ratings_df['book_rating'].value_counts().index, fontsize=10)\n",
    "plt.yticks(fontsize=10);"
   ]
  },
  {
   "cell_type": "code",
   "execution_count": 71,
   "metadata": {},
   "outputs": [],
   "source": [
    "ratings_explicit_df = ratings_match_df[ratings_match_df['book_rating'] != 0]\n",
    "ratings_implicit_df = ratings_match_df[ratings_match_df['book_rating'] == 0]"
   ]
  },
  {
   "cell_type": "code",
   "execution_count": 72,
   "metadata": {},
   "outputs": [
    {
     "data": {
      "text/html": [
       "<div>\n",
       "<style scoped>\n",
       "    .dataframe tbody tr th:only-of-type {\n",
       "        vertical-align: middle;\n",
       "    }\n",
       "\n",
       "    .dataframe tbody tr th {\n",
       "        vertical-align: top;\n",
       "    }\n",
       "\n",
       "    .dataframe thead th {\n",
       "        text-align: right;\n",
       "    }\n",
       "</style>\n",
       "<table border=\"1\" class=\"dataframe\">\n",
       "  <thead>\n",
       "    <tr style=\"text-align: right;\">\n",
       "      <th></th>\n",
       "      <th>count</th>\n",
       "      <th>mean</th>\n",
       "      <th>std</th>\n",
       "      <th>min</th>\n",
       "      <th>25%</th>\n",
       "      <th>50%</th>\n",
       "      <th>75%</th>\n",
       "      <th>max</th>\n",
       "    </tr>\n",
       "  </thead>\n",
       "  <tbody>\n",
       "    <tr>\n",
       "      <th>book_rating</th>\n",
       "      <td>723863.0</td>\n",
       "      <td>2.664384</td>\n",
       "      <td>3.804532</td>\n",
       "      <td>0.0</td>\n",
       "      <td>0.0</td>\n",
       "      <td>0.0</td>\n",
       "      <td>7.0</td>\n",
       "      <td>10.0</td>\n",
       "    </tr>\n",
       "  </tbody>\n",
       "</table>\n",
       "</div>"
      ],
      "text/plain": [
       "                count      mean       std  min  25%  50%  75%   max\n",
       "book_rating  723863.0  2.664384  3.804532  0.0  0.0  0.0  7.0  10.0"
      ]
     },
     "execution_count": 72,
     "metadata": {},
     "output_type": "execute_result"
    }
   ],
   "source": [
    "ratings_match_df[['book_rating']].describe().T"
   ]
  },
  {
   "cell_type": "code",
   "execution_count": 73,
   "metadata": {},
   "outputs": [
    {
     "data": {
      "text/html": [
       "<div>\n",
       "<style scoped>\n",
       "    .dataframe tbody tr th:only-of-type {\n",
       "        vertical-align: middle;\n",
       "    }\n",
       "\n",
       "    .dataframe tbody tr th {\n",
       "        vertical-align: top;\n",
       "    }\n",
       "\n",
       "    .dataframe thead th {\n",
       "        text-align: right;\n",
       "    }\n",
       "</style>\n",
       "<table border=\"1\" class=\"dataframe\">\n",
       "  <thead>\n",
       "    <tr style=\"text-align: right;\">\n",
       "      <th></th>\n",
       "      <th>count</th>\n",
       "      <th>mean</th>\n",
       "      <th>std</th>\n",
       "      <th>min</th>\n",
       "      <th>25%</th>\n",
       "      <th>50%</th>\n",
       "      <th>75%</th>\n",
       "      <th>max</th>\n",
       "    </tr>\n",
       "  </thead>\n",
       "  <tbody>\n",
       "    <tr>\n",
       "      <th>book_rating</th>\n",
       "      <td>251535.0</td>\n",
       "      <td>7.667517</td>\n",
       "      <td>1.814581</td>\n",
       "      <td>1.0</td>\n",
       "      <td>7.0</td>\n",
       "      <td>8.0</td>\n",
       "      <td>9.0</td>\n",
       "      <td>10.0</td>\n",
       "    </tr>\n",
       "  </tbody>\n",
       "</table>\n",
       "</div>"
      ],
      "text/plain": [
       "                count      mean       std  min  25%  50%  75%   max\n",
       "book_rating  251535.0  7.667517  1.814581  1.0  7.0  8.0  9.0  10.0"
      ]
     },
     "execution_count": 73,
     "metadata": {},
     "output_type": "execute_result"
    }
   ],
   "source": [
    "ratings_explicit_df[['book_rating']].describe().T"
   ]
  },
  {
   "cell_type": "code",
   "execution_count": 74,
   "metadata": {},
   "outputs": [
    {
     "data": {
      "image/png": "[encoded data removed]",
      "text/plain": [
       "<Figure size 576x360 with 1 Axes>"
      ]
     },
     "metadata": {},
     "output_type": "display_data"
    }
   ],
   "source": [
    "plt.figure(figsize=(8, 5))\n",
    "plt.bar(x=ratings_explicit_df['book_rating'].value_counts().index,\n",
    "        height=ratings_explicit_df['book_rating'].value_counts().values)\n",
    "plt.title('Explicit Book Ratings Count', fontsize=20)\n",
    "plt.xlabel('Rating', fontsize=15)\n",
    "plt.ylabel('Count', fontsize=15)\n",
    "plt.xticks(ratings_explicit_df['book_rating'].value_counts().index, fontsize=10)\n",
    "plt.yticks(fontsize=10);"
   ]
  },
  {
   "cell_type": "markdown",
   "metadata": {},
   "source": [
    "## Combine `books` and `ratings`"
   ]
  },
  {
   "cell_type": "code",
   "execution_count": 75,
   "metadata": {},
   "outputs": [
    {
     "data": {
      "text/html": [
       "<div>\n",
       "<style scoped>\n",
       "    .dataframe tbody tr th:only-of-type {\n",
       "        vertical-align: middle;\n",
       "    }\n",
       "\n",
       "    .dataframe tbody tr th {\n",
       "        vertical-align: top;\n",
       "    }\n",
       "\n",
       "    .dataframe thead th {\n",
       "        text-align: right;\n",
       "    }\n",
       "</style>\n",
       "<table border=\"1\" class=\"dataframe\">\n",
       "  <thead>\n",
       "    <tr style=\"text-align: right;\">\n",
       "      <th></th>\n",
       "      <th>book_rating</th>\n",
       "      <th>isbn</th>\n",
       "      <th>user_id</th>\n",
       "    </tr>\n",
       "  </thead>\n",
       "  <tbody>\n",
       "    <tr>\n",
       "      <th>10</th>\n",
       "      <td>0</td>\n",
       "      <td>0425115801</td>\n",
       "      <td>276746</td>\n",
       "    </tr>\n",
       "    <tr>\n",
       "      <th>11</th>\n",
       "      <td>0</td>\n",
       "      <td>0449006522</td>\n",
       "      <td>276746</td>\n",
       "    </tr>\n",
       "    <tr>\n",
       "      <th>12</th>\n",
       "      <td>0</td>\n",
       "      <td>0553561618</td>\n",
       "      <td>276746</td>\n",
       "    </tr>\n",
       "    <tr>\n",
       "      <th>13</th>\n",
       "      <td>0</td>\n",
       "      <td>055356451X</td>\n",
       "      <td>276746</td>\n",
       "    </tr>\n",
       "    <tr>\n",
       "      <th>14</th>\n",
       "      <td>0</td>\n",
       "      <td>0786013990</td>\n",
       "      <td>276746</td>\n",
       "    </tr>\n",
       "  </tbody>\n",
       "</table>\n",
       "</div>"
      ],
      "text/plain": [
       "    book_rating        isbn  user_id\n",
       "10            0  0425115801   276746\n",
       "11            0  0449006522   276746\n",
       "12            0  0553561618   276746\n",
       "13            0  055356451X   276746\n",
       "14            0  0786013990   276746"
      ]
     },
     "execution_count": 75,
     "metadata": {},
     "output_type": "execute_result"
    }
   ],
   "source": [
    "ratings_match_df.head()"
   ]
  },
  {
   "cell_type": "code",
   "execution_count": 76,
   "metadata": {},
   "outputs": [
    {
     "data": {
      "text/plain": [
       "723863"
      ]
     },
     "execution_count": 76,
     "metadata": {},
     "output_type": "execute_result"
    }
   ],
   "source": [
    "ratings_match_df.shape[0]"
   ]
  },
  {
   "cell_type": "code",
   "execution_count": 77,
   "metadata": {},
   "outputs": [
    {
     "data": {
      "text/html": [
       "<div>\n",
       "<style scoped>\n",
       "    .dataframe tbody tr th:only-of-type {\n",
       "        vertical-align: middle;\n",
       "    }\n",
       "\n",
       "    .dataframe tbody tr th {\n",
       "        vertical-align: top;\n",
       "    }\n",
       "\n",
       "    .dataframe thead th {\n",
       "        text-align: right;\n",
       "    }\n",
       "</style>\n",
       "<table border=\"1\" class=\"dataframe\">\n",
       "  <thead>\n",
       "    <tr style=\"text-align: right;\">\n",
       "      <th></th>\n",
       "      <th>book_author</th>\n",
       "      <th>book_title</th>\n",
       "      <th>isbn</th>\n",
       "      <th>publisher</th>\n",
       "      <th>year_of_publication</th>\n",
       "    </tr>\n",
       "  </thead>\n",
       "  <tbody>\n",
       "    <tr>\n",
       "      <th>0</th>\n",
       "      <td>Mark P. O. Morford</td>\n",
       "      <td>Classical Mythology</td>\n",
       "      <td>0195153448</td>\n",
       "      <td>Oxford University Press</td>\n",
       "      <td>2002</td>\n",
       "    </tr>\n",
       "    <tr>\n",
       "      <th>1</th>\n",
       "      <td>Richard Bruce Wright</td>\n",
       "      <td>Clara Callan</td>\n",
       "      <td>0002005018</td>\n",
       "      <td>HarperFlamingo Canada</td>\n",
       "      <td>2001</td>\n",
       "    </tr>\n",
       "    <tr>\n",
       "      <th>2</th>\n",
       "      <td>Carlo D'Este</td>\n",
       "      <td>Decision in Normandy</td>\n",
       "      <td>0060973129</td>\n",
       "      <td>HarperPerennial</td>\n",
       "      <td>1991</td>\n",
       "    </tr>\n",
       "    <tr>\n",
       "      <th>3</th>\n",
       "      <td>Gina Bari Kolata</td>\n",
       "      <td>Flu: The Story of the Great Influenza Pandemic...</td>\n",
       "      <td>0374157065</td>\n",
       "      <td>Farrar Straus Giroux</td>\n",
       "      <td>1999</td>\n",
       "    </tr>\n",
       "    <tr>\n",
       "      <th>4</th>\n",
       "      <td>E. J. W. Barber</td>\n",
       "      <td>The Mummies of Urumchi</td>\n",
       "      <td>0393045218</td>\n",
       "      <td>W. W. Norton &amp;amp; Company</td>\n",
       "      <td>1999</td>\n",
       "    </tr>\n",
       "  </tbody>\n",
       "</table>\n",
       "</div>"
      ],
      "text/plain": [
       "            book_author                                         book_title  \\\n",
       "0    Mark P. O. Morford                                Classical Mythology   \n",
       "1  Richard Bruce Wright                                       Clara Callan   \n",
       "2          Carlo D'Este                               Decision in Normandy   \n",
       "3      Gina Bari Kolata  Flu: The Story of the Great Influenza Pandemic...   \n",
       "4       E. J. W. Barber                             The Mummies of Urumchi   \n",
       "\n",
       "         isbn                   publisher  year_of_publication  \n",
       "0  0195153448     Oxford University Press                 2002  \n",
       "1  0002005018       HarperFlamingo Canada                 2001  \n",
       "2  0060973129             HarperPerennial                 1991  \n",
       "3  0374157065        Farrar Straus Giroux                 1999  \n",
       "4  0393045218  W. W. Norton &amp; Company                 1999  "
      ]
     },
     "execution_count": 77,
     "metadata": {},
     "output_type": "execute_result"
    }
   ],
   "source": [
    "books_df.head()"
   ]
  },
  {
   "cell_type": "code",
   "execution_count": 146,
   "metadata": {},
   "outputs": [
    {
     "data": {
      "text/plain": [
       "271379"
      ]
     },
     "execution_count": 146,
     "metadata": {},
     "output_type": "execute_result"
    }
   ],
   "source": [
    "books_df.shape[0]"
   ]
  },
  {
   "cell_type": "code",
   "execution_count": 78,
   "metadata": {},
   "outputs": [
    {
     "data": {
      "text/html": [
       "<div>\n",
       "<style scoped>\n",
       "    .dataframe tbody tr th:only-of-type {\n",
       "        vertical-align: middle;\n",
       "    }\n",
       "\n",
       "    .dataframe tbody tr th {\n",
       "        vertical-align: top;\n",
       "    }\n",
       "\n",
       "    .dataframe thead th {\n",
       "        text-align: right;\n",
       "    }\n",
       "</style>\n",
       "<table border=\"1\" class=\"dataframe\">\n",
       "  <thead>\n",
       "    <tr style=\"text-align: right;\">\n",
       "      <th></th>\n",
       "      <th>book_author</th>\n",
       "      <th>book_title</th>\n",
       "      <th>isbn</th>\n",
       "      <th>publisher</th>\n",
       "      <th>year_of_publication</th>\n",
       "    </tr>\n",
       "  </thead>\n",
       "  <tbody>\n",
       "    <tr>\n",
       "      <th>0</th>\n",
       "      <td>Mark P. O. Morford</td>\n",
       "      <td>Classical Mythology</td>\n",
       "      <td>0195153448</td>\n",
       "      <td>Oxford University Press</td>\n",
       "      <td>2002</td>\n",
       "    </tr>\n",
       "    <tr>\n",
       "      <th>1</th>\n",
       "      <td>Richard Bruce Wright</td>\n",
       "      <td>Clara Callan</td>\n",
       "      <td>0002005018</td>\n",
       "      <td>HarperFlamingo Canada</td>\n",
       "      <td>2001</td>\n",
       "    </tr>\n",
       "    <tr>\n",
       "      <th>2</th>\n",
       "      <td>Carlo D'Este</td>\n",
       "      <td>Decision in Normandy</td>\n",
       "      <td>0060973129</td>\n",
       "      <td>HarperPerennial</td>\n",
       "      <td>1991</td>\n",
       "    </tr>\n",
       "    <tr>\n",
       "      <th>3</th>\n",
       "      <td>Gina Bari Kolata</td>\n",
       "      <td>Flu: The Story of the Great Influenza Pandemic...</td>\n",
       "      <td>0374157065</td>\n",
       "      <td>Farrar Straus Giroux</td>\n",
       "      <td>1999</td>\n",
       "    </tr>\n",
       "    <tr>\n",
       "      <th>4</th>\n",
       "      <td>E. J. W. Barber</td>\n",
       "      <td>The Mummies of Urumchi</td>\n",
       "      <td>0393045218</td>\n",
       "      <td>W. W. Norton &amp;amp; Company</td>\n",
       "      <td>1999</td>\n",
       "    </tr>\n",
       "  </tbody>\n",
       "</table>\n",
       "</div>"
      ],
      "text/plain": [
       "            book_author                                         book_title  \\\n",
       "0    Mark P. O. Morford                                Classical Mythology   \n",
       "1  Richard Bruce Wright                                       Clara Callan   \n",
       "2          Carlo D'Este                               Decision in Normandy   \n",
       "3      Gina Bari Kolata  Flu: The Story of the Great Influenza Pandemic...   \n",
       "4       E. J. W. Barber                             The Mummies of Urumchi   \n",
       "\n",
       "         isbn                   publisher  year_of_publication  \n",
       "0  0195153448     Oxford University Press                 2002  \n",
       "1  0002005018       HarperFlamingo Canada                 2001  \n",
       "2  0060973129             HarperPerennial                 1991  \n",
       "3  0374157065        Farrar Straus Giroux                 1999  \n",
       "4  0393045218  W. W. Norton &amp; Company                 1999  "
      ]
     },
     "execution_count": 78,
     "metadata": {},
     "output_type": "execute_result"
    }
   ],
   "source": [
    "books_unique_df.head()"
   ]
  },
  {
   "cell_type": "code",
   "execution_count": 147,
   "metadata": {},
   "outputs": [
    {
     "data": {
      "text/plain": [
       "251204"
      ]
     },
     "execution_count": 147,
     "metadata": {},
     "output_type": "execute_result"
    }
   ],
   "source": [
    "books_unique_df.shape[0]"
   ]
  },
  {
   "cell_type": "code",
   "execution_count": 83,
   "metadata": {},
   "outputs": [],
   "source": [
    "ratings_and_books = ratings_match_df.merge(books_df[['isbn', 'book_author', 'book_title']])"
   ]
  },
  {
   "cell_type": "code",
   "execution_count": 121,
   "metadata": {},
   "outputs": [
    {
     "data": {
      "text/html": [
       "<div>\n",
       "<style scoped>\n",
       "    .dataframe tbody tr th:only-of-type {\n",
       "        vertical-align: middle;\n",
       "    }\n",
       "\n",
       "    .dataframe tbody tr th {\n",
       "        vertical-align: top;\n",
       "    }\n",
       "\n",
       "    .dataframe thead th {\n",
       "        text-align: right;\n",
       "    }\n",
       "</style>\n",
       "<table border=\"1\" class=\"dataframe\">\n",
       "  <thead>\n",
       "    <tr style=\"text-align: right;\">\n",
       "      <th></th>\n",
       "      <th>book_rating</th>\n",
       "      <th>isbn</th>\n",
       "      <th>user_id</th>\n",
       "      <th>book_author</th>\n",
       "      <th>book_title</th>\n",
       "    </tr>\n",
       "  </thead>\n",
       "  <tbody>\n",
       "    <tr>\n",
       "      <th>0</th>\n",
       "      <td>0</td>\n",
       "      <td>0425115801</td>\n",
       "      <td>276746</td>\n",
       "      <td>Dean R. Koontz</td>\n",
       "      <td>Lightning</td>\n",
       "    </tr>\n",
       "    <tr>\n",
       "      <th>1</th>\n",
       "      <td>0</td>\n",
       "      <td>0425115801</td>\n",
       "      <td>277427</td>\n",
       "      <td>Dean R. Koontz</td>\n",
       "      <td>Lightning</td>\n",
       "    </tr>\n",
       "    <tr>\n",
       "      <th>2</th>\n",
       "      <td>0</td>\n",
       "      <td>0425115801</td>\n",
       "      <td>1660</td>\n",
       "      <td>Dean R. Koontz</td>\n",
       "      <td>Lightning</td>\n",
       "    </tr>\n",
       "    <tr>\n",
       "      <th>3</th>\n",
       "      <td>10</td>\n",
       "      <td>0425115801</td>\n",
       "      <td>2288</td>\n",
       "      <td>Dean R. Koontz</td>\n",
       "      <td>Lightning</td>\n",
       "    </tr>\n",
       "    <tr>\n",
       "      <th>4</th>\n",
       "      <td>9</td>\n",
       "      <td>0425115801</td>\n",
       "      <td>4938</td>\n",
       "      <td>Dean R. Koontz</td>\n",
       "      <td>Lightning</td>\n",
       "    </tr>\n",
       "  </tbody>\n",
       "</table>\n",
       "</div>"
      ],
      "text/plain": [
       "   book_rating        isbn  user_id     book_author book_title\n",
       "0            0  0425115801   276746  Dean R. Koontz  Lightning\n",
       "1            0  0425115801   277427  Dean R. Koontz  Lightning\n",
       "2            0  0425115801     1660  Dean R. Koontz  Lightning\n",
       "3           10  0425115801     2288  Dean R. Koontz  Lightning\n",
       "4            9  0425115801     4938  Dean R. Koontz  Lightning"
      ]
     },
     "execution_count": 121,
     "metadata": {},
     "output_type": "execute_result"
    }
   ],
   "source": [
    "ratings_and_books.head()"
   ]
  },
  {
   "cell_type": "code",
   "execution_count": 151,
   "metadata": {},
   "outputs": [
    {
     "data": {
      "text/plain": [
       "723863"
      ]
     },
     "execution_count": 151,
     "metadata": {},
     "output_type": "execute_result"
    }
   ],
   "source": [
    "ratings_and_books.shape[0]"
   ]
  },
  {
   "cell_type": "code",
   "execution_count": 144,
   "metadata": {},
   "outputs": [],
   "source": [
    "new_ratings_and_books = books_unique_df.merge(ratings_and_books.drop(columns='isbn'), on=['book_author', 'book_title'])"
   ]
  },
  {
   "cell_type": "code",
   "execution_count": 187,
   "metadata": {},
   "outputs": [
    {
     "data": {
      "text/html": [
       "<div>\n",
       "<style scoped>\n",
       "    .dataframe tbody tr th:only-of-type {\n",
       "        vertical-align: middle;\n",
       "    }\n",
       "\n",
       "    .dataframe tbody tr th {\n",
       "        vertical-align: top;\n",
       "    }\n",
       "\n",
       "    .dataframe thead th {\n",
       "        text-align: right;\n",
       "    }\n",
       "</style>\n",
       "<table border=\"1\" class=\"dataframe\">\n",
       "  <thead>\n",
       "    <tr style=\"text-align: right;\">\n",
       "      <th></th>\n",
       "      <th>book_author</th>\n",
       "      <th>book_title</th>\n",
       "      <th>isbn</th>\n",
       "      <th>publisher</th>\n",
       "      <th>year_of_publication</th>\n",
       "      <th>book_rating</th>\n",
       "      <th>user_id</th>\n",
       "    </tr>\n",
       "  </thead>\n",
       "  <tbody>\n",
       "    <tr>\n",
       "      <th>0</th>\n",
       "      <td>Richard Bruce Wright</td>\n",
       "      <td>Clara Callan</td>\n",
       "      <td>0002005018</td>\n",
       "      <td>HarperFlamingo Canada</td>\n",
       "      <td>2001</td>\n",
       "      <td>5</td>\n",
       "      <td>8</td>\n",
       "    </tr>\n",
       "    <tr>\n",
       "      <th>1</th>\n",
       "      <td>Richard Bruce Wright</td>\n",
       "      <td>Clara Callan</td>\n",
       "      <td>0002005018</td>\n",
       "      <td>HarperFlamingo Canada</td>\n",
       "      <td>2001</td>\n",
       "      <td>0</td>\n",
       "      <td>11400</td>\n",
       "    </tr>\n",
       "    <tr>\n",
       "      <th>2</th>\n",
       "      <td>Richard Bruce Wright</td>\n",
       "      <td>Clara Callan</td>\n",
       "      <td>0002005018</td>\n",
       "      <td>HarperFlamingo Canada</td>\n",
       "      <td>2001</td>\n",
       "      <td>8</td>\n",
       "      <td>11676</td>\n",
       "    </tr>\n",
       "    <tr>\n",
       "      <th>3</th>\n",
       "      <td>Richard Bruce Wright</td>\n",
       "      <td>Clara Callan</td>\n",
       "      <td>0002005018</td>\n",
       "      <td>HarperFlamingo Canada</td>\n",
       "      <td>2001</td>\n",
       "      <td>0</td>\n",
       "      <td>41385</td>\n",
       "    </tr>\n",
       "    <tr>\n",
       "      <th>4</th>\n",
       "      <td>Richard Bruce Wright</td>\n",
       "      <td>Clara Callan</td>\n",
       "      <td>0002005018</td>\n",
       "      <td>HarperFlamingo Canada</td>\n",
       "      <td>2001</td>\n",
       "      <td>8</td>\n",
       "      <td>67544</td>\n",
       "    </tr>\n",
       "  </tbody>\n",
       "</table>\n",
       "</div>"
      ],
      "text/plain": [
       "            book_author    book_title        isbn              publisher  \\\n",
       "0  Richard Bruce Wright  Clara Callan  0002005018  HarperFlamingo Canada   \n",
       "1  Richard Bruce Wright  Clara Callan  0002005018  HarperFlamingo Canada   \n",
       "2  Richard Bruce Wright  Clara Callan  0002005018  HarperFlamingo Canada   \n",
       "3  Richard Bruce Wright  Clara Callan  0002005018  HarperFlamingo Canada   \n",
       "4  Richard Bruce Wright  Clara Callan  0002005018  HarperFlamingo Canada   \n",
       "\n",
       "   year_of_publication  book_rating  user_id  \n",
       "0                 2001            5        8  \n",
       "1                 2001            0    11400  \n",
       "2                 2001            8    11676  \n",
       "3                 2001            0    41385  \n",
       "4                 2001            8    67544  "
      ]
     },
     "execution_count": 187,
     "metadata": {},
     "output_type": "execute_result"
    }
   ],
   "source": [
    "new_ratings_and_books.head()"
   ]
  },
  {
   "cell_type": "code",
   "execution_count": 189,
   "metadata": {},
   "outputs": [
    {
     "data": {
      "text/plain": [
       "True"
      ]
     },
     "execution_count": 189,
     "metadata": {},
     "output_type": "execute_result"
    }
   ],
   "source": [
    "new_ratings_and_books.shape[0] == ratings_and_books.shape[0]"
   ]
  },
  {
   "cell_type": "code",
   "execution_count": 190,
   "metadata": {},
   "outputs": [
    {
     "data": {
      "text/plain": [
       "25897"
      ]
     },
     "execution_count": 190,
     "metadata": {},
     "output_type": "execute_result"
    }
   ],
   "source": [
    "new_ratings_and_books['user_id'].nunique()"
   ]
  },
  {
   "cell_type": "code",
   "execution_count": 192,
   "metadata": {},
   "outputs": [],
   "source": [
    "new_ratings_and_books.to_csv('../data/ratings_and_books.csv')"
   ]
  },
  {
   "cell_type": "code",
   "execution_count": null,
   "metadata": {},
   "outputs": [],
   "source": []
  }
 ],
 "metadata": {
  "kernelspec": {
   "display_name": "Python 3",
   "language": "python",
   "name": "python3"
  },
  "language_info": {
   "codemirror_mode": {
    "name": "ipython",
    "version": 3
   },
   "file_extension": ".py",
   "mimetype": "text/x-python",
   "name": "python",
   "nbconvert_exporter": "python",
   "pygments_lexer": "ipython3",
   "version": "3.6.5"
  }
 },
 "nbformat": 4,
 "nbformat_minor": 2
}
