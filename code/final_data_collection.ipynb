{
 "cells": [
  {
   "cell_type": "code",
   "execution_count": 1,
   "metadata": {},
   "outputs": [],
   "source": [
    "import requests\n",
    "import json\n",
    "import pandas as pd\n",
    "from bs4 import BeautifulSoup\n",
    "import re\n",
    "from selenium import webdriver\n",
    "from selenium.webdriver.common.by import By\n",
    "from selenium.webdriver.support.ui import WebDriverWait \n",
    "from selenium.webdriver.support import expected_conditions as EC\n",
    "\n",
    "import time\n",
    "import csv"
   ]
  },
  {
   "cell_type": "code",
   "execution_count": 2,
   "metadata": {},
   "outputs": [
    {
     "data": {
      "text/html": [
       "<div>\n",
       "<style scoped>\n",
       "    .dataframe tbody tr th:only-of-type {\n",
       "        vertical-align: middle;\n",
       "    }\n",
       "\n",
       "    .dataframe tbody tr th {\n",
       "        vertical-align: top;\n",
       "    }\n",
       "\n",
       "    .dataframe thead th {\n",
       "        text-align: right;\n",
       "    }\n",
       "</style>\n",
       "<table border=\"1\" class=\"dataframe\">\n",
       "  <thead>\n",
       "    <tr style=\"text-align: right;\">\n",
       "      <th></th>\n",
       "      <th>author</th>\n",
       "      <th>slug</th>\n",
       "      <th>title</th>\n",
       "    </tr>\n",
       "  </thead>\n",
       "  <tbody>\n",
       "    <tr>\n",
       "      <th>0</th>\n",
       "      <td>J.K. Rowling</td>\n",
       "      <td>3.Harry_Potter_and_the_Sorcerer_s_Stone</td>\n",
       "      <td>Harry Potter and the Sorcerer's Stone (Harry P...</td>\n",
       "    </tr>\n",
       "    <tr>\n",
       "      <th>1</th>\n",
       "      <td>Rick Riordan (Goodreads Author)</td>\n",
       "      <td>28187.The_Lightning_Thief</td>\n",
       "      <td>The Lightning Thief (Percy Jackson and the Oly...</td>\n",
       "    </tr>\n",
       "    <tr>\n",
       "      <th>2</th>\n",
       "      <td>Stephenie Meyer</td>\n",
       "      <td>41865.Twilight</td>\n",
       "      <td>Twilight (Twilight, #1)</td>\n",
       "    </tr>\n",
       "    <tr>\n",
       "      <th>3</th>\n",
       "      <td>Suzanne Collins</td>\n",
       "      <td>12091570-the-hunger-games</td>\n",
       "      <td>The Hunger Games (The Hunger Games, #1)</td>\n",
       "    </tr>\n",
       "    <tr>\n",
       "      <th>4</th>\n",
       "      <td>Lois Lowry (Goodreads Author)</td>\n",
       "      <td>3636.The_Giver</td>\n",
       "      <td>The Giver</td>\n",
       "    </tr>\n",
       "    <tr>\n",
       "      <th>5</th>\n",
       "      <td>Cassandra Clare (Goodreads Author)</td>\n",
       "      <td>256683.City_of_Bones</td>\n",
       "      <td>City of Bones (The Mortal Instruments, #1)</td>\n",
       "    </tr>\n",
       "    <tr>\n",
       "      <th>6</th>\n",
       "      <td>John Green (Goodreads Author)</td>\n",
       "      <td>11870085-the-fault-in-our-stars</td>\n",
       "      <td>The Fault in Our Stars</td>\n",
       "    </tr>\n",
       "    <tr>\n",
       "      <th>7</th>\n",
       "      <td>Veronica Roth (Goodreads Author)</td>\n",
       "      <td>13335037-divergent</td>\n",
       "      <td>Divergent (Divergent, #1)</td>\n",
       "    </tr>\n",
       "    <tr>\n",
       "      <th>8</th>\n",
       "      <td>Harper Lee</td>\n",
       "      <td>2657.To_Kill_a_Mockingbird</td>\n",
       "      <td>To Kill a Mockingbird</td>\n",
       "    </tr>\n",
       "    <tr>\n",
       "      <th>9</th>\n",
       "      <td>Markus Zusak (Goodreads Author)</td>\n",
       "      <td>19063.The_Book_Thief</td>\n",
       "      <td>The Book Thief</td>\n",
       "    </tr>\n",
       "    <tr>\n",
       "      <th>10</th>\n",
       "      <td>Stephen Chbosky</td>\n",
       "      <td>22628.The_Perks_of_Being_a_Wallflower</td>\n",
       "      <td>The Perks of Being a Wallflower</td>\n",
       "    </tr>\n",
       "    <tr>\n",
       "      <th>11</th>\n",
       "      <td>J.R.R. Tolkien</td>\n",
       "      <td>5907.The_Hobbit</td>\n",
       "      <td>The Hobbit</td>\n",
       "    </tr>\n",
       "  </tbody>\n",
       "</table>\n",
       "</div>"
      ],
      "text/plain": [
       "                                author  \\\n",
       "0                         J.K. Rowling   \n",
       "1      Rick Riordan (Goodreads Author)   \n",
       "2                      Stephenie Meyer   \n",
       "3                      Suzanne Collins   \n",
       "4        Lois Lowry (Goodreads Author)   \n",
       "5   Cassandra Clare (Goodreads Author)   \n",
       "6        John Green (Goodreads Author)   \n",
       "7     Veronica Roth (Goodreads Author)   \n",
       "8                           Harper Lee   \n",
       "9      Markus Zusak (Goodreads Author)   \n",
       "10                     Stephen Chbosky   \n",
       "11                      J.R.R. Tolkien   \n",
       "\n",
       "                                       slug  \\\n",
       "0   3.Harry_Potter_and_the_Sorcerer_s_Stone   \n",
       "1                 28187.The_Lightning_Thief   \n",
       "2                            41865.Twilight   \n",
       "3                 12091570-the-hunger-games   \n",
       "4                            3636.The_Giver   \n",
       "5                      256683.City_of_Bones   \n",
       "6           11870085-the-fault-in-our-stars   \n",
       "7                        13335037-divergent   \n",
       "8                2657.To_Kill_a_Mockingbird   \n",
       "9                      19063.The_Book_Thief   \n",
       "10    22628.The_Perks_of_Being_a_Wallflower   \n",
       "11                          5907.The_Hobbit   \n",
       "\n",
       "                                                title  \n",
       "0   Harry Potter and the Sorcerer's Stone (Harry P...  \n",
       "1   The Lightning Thief (Percy Jackson and the Oly...  \n",
       "2                             Twilight (Twilight, #1)  \n",
       "3             The Hunger Games (The Hunger Games, #1)  \n",
       "4                                           The Giver  \n",
       "5          City of Bones (The Mortal Instruments, #1)  \n",
       "6                              The Fault in Our Stars  \n",
       "7                           Divergent (Divergent, #1)  \n",
       "8                               To Kill a Mockingbird  \n",
       "9                                      The Book Thief  \n",
       "10                    The Perks of Being a Wallflower  \n",
       "11                                         The Hobbit  "
      ]
     },
     "execution_count": 2,
     "metadata": {},
     "output_type": "execute_result"
    }
   ],
   "source": [
    "book_list = pd.read_csv('../data/ya_books')\n",
    "book_list.drop(columns=['Unnamed: 0'], inplace=True)\n",
    "book_list.head(12)"
   ]
  },
  {
   "cell_type": "code",
   "execution_count": 3,
   "metadata": {},
   "outputs": [],
   "source": [
    "USERNAME = 'connietiet22@gmail.com'\n",
    "PASSWORD = 'dsiproject'"
   ]
  },
  {
   "cell_type": "markdown",
   "metadata": {},
   "source": [
    "### Sign-In Function"
   ]
  },
  {
   "cell_type": "code",
   "execution_count": 9,
   "metadata": {},
   "outputs": [],
   "source": [
    "def sign_in(username, password):\n",
    "    driver = webdriver.Chrome('/Users/connie/Downloads/chromedriver 2')\n",
    "    driver.get('https://www.goodreads.com/user/sign_in')\n",
    "    email_field = driver.find_element_by_xpath('//*[@id=\"user_email\"]')\n",
    "    email_field.send_keys(username)\n",
    "    password_field = driver.find_element_by_xpath('//*[@id=\"user_password\"]')\n",
    "    password_field.send_keys(password)\n",
    "    signin_button = driver.find_element_by_xpath('//*[@id=\"emailForm\"]/form/fieldset/div[5]/input')\n",
    "    signin_button.click()\n",
    "    return driver"
   ]
  },
  {
   "cell_type": "markdown",
   "metadata": {},
   "source": [
    "### Retrieve ISBN"
   ]
  },
  {
   "cell_type": "code",
   "execution_count": 61,
   "metadata": {},
   "outputs": [],
   "source": [
    "def get_isbn(username, password, df, col):\n",
    "    driver = sign_in(username, password)\n",
    "    with open('../data/isbns.csv', 'a+') as f:\n",
    "        writer = csv.writer(f)\n",
    "        writer.writerow(['book_slug', 'isbn'])\n",
    "    for book_slug in df[col]:\n",
    "        isbn = []\n",
    "        try:\n",
    "            driver.get(f'https://www.goodreads.com/book/show/{book_slug}')\n",
    "            WebDriverWait(driver, 10).until(EC.visibility_of_any_elements_located((By.XPATH, '//*[@id=\"bookDataBox\"]/div[2]/div[2]/span/span')))\n",
    "            source = driver.page_source\n",
    "            soup = BeautifulSoup(source, 'lxml')\n",
    "            isbn.append((book_slug, soup.find('span', {'itemprop': 'isbn'}).text))\n",
    "            with open('../data/book_data/isbns.csv', 'a+') as f:\n",
    "                writer = csv.writer(f)\n",
    "                writer.writerows(isbn)\n",
    "            with open('../data/logfiles/isbn_success.txt', 'a+') as f:\n",
    "                print(f'{book_slug}', file=f)\n",
    "            time.sleep(1) \n",
    "        except:\n",
    "            with open('../data/logfiles/isbn_fail.txt', 'a+') as f:\n",
    "                print(f'{book_slug}', file=f)\n",
    "    driver.quit()\n",
    "    return"
   ]
  },
  {
   "cell_type": "code",
   "execution_count": 7,
   "metadata": {},
   "outputs": [],
   "source": [
    "sample_books = book_list.head(10)"
   ]
  },
  {
   "cell_type": "code",
   "execution_count": 59,
   "metadata": {},
   "outputs": [],
   "source": [
    "get_isbn(username = USERNAME,\n",
    "         password = PASSWORD,\n",
    "         df = sample_books,\n",
    "         col = 'slug')"
   ]
  },
  {
   "cell_type": "markdown",
   "metadata": {},
   "source": [
    "### Iterate book_list['slug']"
   ]
  },
  {
   "cell_type": "code",
   "execution_count": 6,
   "metadata": {},
   "outputs": [],
   "source": [
    "# def get_book_slug(username, password, df, col)\n",
    "#     driver = sign_in(username, password)\n",
    "#     for book_slug in df[col]:\n",
    "#         get_book_reviewers(book_slug, driver)\n",
    "#     return"
   ]
  }
 ],
 "metadata": {
  "kernelspec": {
   "display_name": "Python 3",
   "language": "python",
   "name": "python3"
  },
  "language_info": {
   "codemirror_mode": {
    "name": "ipython",
    "version": 3
   },
   "file_extension": ".py",
   "mimetype": "text/x-python",
   "name": "python",
   "nbconvert_exporter": "python",
   "pygments_lexer": "ipython3",
   "version": "3.6.5"
  }
 },
 "nbformat": 4,
 "nbformat_minor": 2
}
