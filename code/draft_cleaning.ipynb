{
 "cells": [
  {
   "cell_type": "markdown",
   "metadata": {},
   "source": [
    "# EDA and Cleaning"
   ]
  },
  {
   "cell_type": "code",
   "execution_count": 1,
   "metadata": {},
   "outputs": [],
   "source": [
    "import requests\n",
    "import time\n",
    "import pandas as pd\n",
    "import json\n",
    "import psycopg2 as pg2\n",
    "from psycopg2.extras import RealDictCursor, Json\n",
    "import matplotlib.pyplot as plt\n",
    "import numpy as np\n",
    "import re\n",
    "from bs4 import BeautifulSoup\n",
    "from sklearn.decomposition import TruncatedSVD\n",
    "from sklearn.metrics import pairwise_distances"
   ]
  },
  {
   "cell_type": "code",
   "execution_count": 2,
   "metadata": {},
   "outputs": [],
   "source": [
    "%run ../bx_sql.py"
   ]
  },
  {
   "cell_type": "markdown",
   "metadata": {},
   "source": [
    "## Configure PostgreSQL Server with Docker"
   ]
  },
  {
   "cell_type": "code",
   "execution_count": 3,
   "metadata": {},
   "outputs": [],
   "source": [
    "def con_cur_to_db(dbname=DBNAME, dict_cur=None):\n",
    "    con = pg2.connect(host=IP_ADDRESS,\n",
    "                  dbname=dbname,\n",
    "                  user=USER,\n",
    "                  password=PASSWORD)\n",
    "    if dict_cur:\n",
    "        cur = con.cursor(cursor_factory=RealDictCursor)\n",
    "    else:\n",
    "        cur = con.cursor()\n",
    "    return con, cur\n",
    "    \n",
    "def execute_query(query, dbname=DBNAME, dict_cur=None, command=False):\n",
    "    con, cur = con_cur_to_db(dbname, dict_cur)\n",
    "    cur.execute(f'{query}')\n",
    "    if not command:\n",
    "        data = cur.fetchall()\n",
    "        con.close()\n",
    "        return data\n",
    "    con.commit() #sends to server\n",
    "    con.close() #closes server connection\n",
    "\n",
    "def insert_entry_json(data, tablename=None):\n",
    "    con, cur = con_cur_to_db()\n",
    "    for x in data:\n",
    "        cur.execute(f'INSERT INTO {tablename} (data) VALUES ({Json(x)});')\n",
    "    con.commit()\n",
    "    con.close()"
   ]
  },
  {
   "cell_type": "markdown",
   "metadata": {},
   "source": [
    "## Retrieve Data from PostgreSQL Database"
   ]
  },
  {
   "cell_type": "markdown",
   "metadata": {},
   "source": [
    "### Books"
   ]
  },
  {
   "cell_type": "code",
   "execution_count": 4,
   "metadata": {},
   "outputs": [],
   "source": [
    "books_query = '''SELECT * FROM books;\n",
    "'''\n",
    "\n",
    "books_results = execute_query(books_query, dict_cur=True)"
   ]
  },
  {
   "cell_type": "code",
   "execution_count": 5,
   "metadata": {},
   "outputs": [],
   "source": [
    "books_df = pd.DataFrame(books_results)"
   ]
  },
  {
   "cell_type": "markdown",
   "metadata": {},
   "source": [
    "### Users"
   ]
  },
  {
   "cell_type": "code",
   "execution_count": 6,
   "metadata": {},
   "outputs": [],
   "source": [
    "users_query = '''SELECT * FROM users;\n",
    "'''\n",
    "\n",
    "users_results = execute_query(users_query, dict_cur=True)"
   ]
  },
  {
   "cell_type": "code",
   "execution_count": 7,
   "metadata": {},
   "outputs": [],
   "source": [
    "users_df = pd.DataFrame(users_results)"
   ]
  },
  {
   "cell_type": "markdown",
   "metadata": {},
   "source": [
    "### Book Ratings"
   ]
  },
  {
   "cell_type": "code",
   "execution_count": 8,
   "metadata": {},
   "outputs": [],
   "source": [
    "ratings_query = '''SELECT * FROM book_ratings;\n",
    "'''\n",
    "\n",
    "ratings_results = execute_query(ratings_query, dict_cur=True)"
   ]
  },
  {
   "cell_type": "code",
   "execution_count": 9,
   "metadata": {},
   "outputs": [],
   "source": [
    "ratings_df = pd.DataFrame(ratings_results)"
   ]
  },
  {
   "cell_type": "markdown",
   "metadata": {},
   "source": [
    "## Clean Data"
   ]
  },
  {
   "cell_type": "markdown",
   "metadata": {},
   "source": [
    "### Books"
   ]
  },
  {
   "cell_type": "code",
   "execution_count": 10,
   "metadata": {},
   "outputs": [
    {
     "data": {
      "text/html": [
       "<div>\n",
       "<style scoped>\n",
       "    .dataframe tbody tr th:only-of-type {\n",
       "        vertical-align: middle;\n",
       "    }\n",
       "\n",
       "    .dataframe tbody tr th {\n",
       "        vertical-align: top;\n",
       "    }\n",
       "\n",
       "    .dataframe thead th {\n",
       "        text-align: right;\n",
       "    }\n",
       "</style>\n",
       "<table border=\"1\" class=\"dataframe\">\n",
       "  <thead>\n",
       "    <tr style=\"text-align: right;\">\n",
       "      <th></th>\n",
       "      <th>book_author</th>\n",
       "      <th>book_title</th>\n",
       "      <th>image_url_l</th>\n",
       "      <th>image_url_m</th>\n",
       "      <th>image_url_s</th>\n",
       "      <th>isbn</th>\n",
       "      <th>publisher</th>\n",
       "      <th>year_of_publication</th>\n",
       "    </tr>\n",
       "  </thead>\n",
       "  <tbody>\n",
       "    <tr>\n",
       "      <th>0</th>\n",
       "      <td>Mark P. O. Morford</td>\n",
       "      <td>Classical Mythology</td>\n",
       "      <td>http://images.amazon.com/images/P/0195153448.0...</td>\n",
       "      <td>http://images.amazon.com/images/P/0195153448.0...</td>\n",
       "      <td>http://images.amazon.com/images/P/0195153448.0...</td>\n",
       "      <td>0195153448</td>\n",
       "      <td>Oxford University Press</td>\n",
       "      <td>2002</td>\n",
       "    </tr>\n",
       "    <tr>\n",
       "      <th>1</th>\n",
       "      <td>Richard Bruce Wright</td>\n",
       "      <td>Clara Callan</td>\n",
       "      <td>http://images.amazon.com/images/P/0002005018.0...</td>\n",
       "      <td>http://images.amazon.com/images/P/0002005018.0...</td>\n",
       "      <td>http://images.amazon.com/images/P/0002005018.0...</td>\n",
       "      <td>0002005018</td>\n",
       "      <td>HarperFlamingo Canada</td>\n",
       "      <td>2001</td>\n",
       "    </tr>\n",
       "    <tr>\n",
       "      <th>2</th>\n",
       "      <td>Carlo D'Este</td>\n",
       "      <td>Decision in Normandy</td>\n",
       "      <td>http://images.amazon.com/images/P/0060973129.0...</td>\n",
       "      <td>http://images.amazon.com/images/P/0060973129.0...</td>\n",
       "      <td>http://images.amazon.com/images/P/0060973129.0...</td>\n",
       "      <td>0060973129</td>\n",
       "      <td>HarperPerennial</td>\n",
       "      <td>1991</td>\n",
       "    </tr>\n",
       "    <tr>\n",
       "      <th>3</th>\n",
       "      <td>Gina Bari Kolata</td>\n",
       "      <td>Flu: The Story of the Great Influenza Pandemic...</td>\n",
       "      <td>http://images.amazon.com/images/P/0374157065.0...</td>\n",
       "      <td>http://images.amazon.com/images/P/0374157065.0...</td>\n",
       "      <td>http://images.amazon.com/images/P/0374157065.0...</td>\n",
       "      <td>0374157065</td>\n",
       "      <td>Farrar Straus Giroux</td>\n",
       "      <td>1999</td>\n",
       "    </tr>\n",
       "    <tr>\n",
       "      <th>4</th>\n",
       "      <td>E. J. W. Barber</td>\n",
       "      <td>The Mummies of Urumchi</td>\n",
       "      <td>http://images.amazon.com/images/P/0393045218.0...</td>\n",
       "      <td>http://images.amazon.com/images/P/0393045218.0...</td>\n",
       "      <td>http://images.amazon.com/images/P/0393045218.0...</td>\n",
       "      <td>0393045218</td>\n",
       "      <td>W. W. Norton &amp;amp; Company</td>\n",
       "      <td>1999</td>\n",
       "    </tr>\n",
       "  </tbody>\n",
       "</table>\n",
       "</div>"
      ],
      "text/plain": [
       "            book_author                                         book_title  \\\n",
       "0    Mark P. O. Morford                                Classical Mythology   \n",
       "1  Richard Bruce Wright                                       Clara Callan   \n",
       "2          Carlo D'Este                               Decision in Normandy   \n",
       "3      Gina Bari Kolata  Flu: The Story of the Great Influenza Pandemic...   \n",
       "4       E. J. W. Barber                             The Mummies of Urumchi   \n",
       "\n",
       "                                         image_url_l  \\\n",
       "0  http://images.amazon.com/images/P/0195153448.0...   \n",
       "1  http://images.amazon.com/images/P/0002005018.0...   \n",
       "2  http://images.amazon.com/images/P/0060973129.0...   \n",
       "3  http://images.amazon.com/images/P/0374157065.0...   \n",
       "4  http://images.amazon.com/images/P/0393045218.0...   \n",
       "\n",
       "                                         image_url_m  \\\n",
       "0  http://images.amazon.com/images/P/0195153448.0...   \n",
       "1  http://images.amazon.com/images/P/0002005018.0...   \n",
       "2  http://images.amazon.com/images/P/0060973129.0...   \n",
       "3  http://images.amazon.com/images/P/0374157065.0...   \n",
       "4  http://images.amazon.com/images/P/0393045218.0...   \n",
       "\n",
       "                                         image_url_s        isbn  \\\n",
       "0  http://images.amazon.com/images/P/0195153448.0...  0195153448   \n",
       "1  http://images.amazon.com/images/P/0002005018.0...  0002005018   \n",
       "2  http://images.amazon.com/images/P/0060973129.0...  0060973129   \n",
       "3  http://images.amazon.com/images/P/0374157065.0...  0374157065   \n",
       "4  http://images.amazon.com/images/P/0393045218.0...  0393045218   \n",
       "\n",
       "                    publisher  year_of_publication  \n",
       "0     Oxford University Press                 2002  \n",
       "1       HarperFlamingo Canada                 2001  \n",
       "2             HarperPerennial                 1991  \n",
       "3        Farrar Straus Giroux                 1999  \n",
       "4  W. W. Norton &amp; Company                 1999  "
      ]
     },
     "execution_count": 10,
     "metadata": {},
     "output_type": "execute_result"
    }
   ],
   "source": [
    "books_df.head()"
   ]
  },
  {
   "cell_type": "code",
   "execution_count": 11,
   "metadata": {},
   "outputs": [
    {
     "name": "stdout",
     "output_type": "stream",
     "text": [
      "<class 'pandas.core.frame.DataFrame'>\n",
      "RangeIndex: 271379 entries, 0 to 271378\n",
      "Data columns (total 8 columns):\n",
      "book_author            271378 non-null object\n",
      "book_title             271379 non-null object\n",
      "image_url_l            271379 non-null object\n",
      "image_url_m            271379 non-null object\n",
      "image_url_s            271379 non-null object\n",
      "isbn                   271379 non-null object\n",
      "publisher              271377 non-null object\n",
      "year_of_publication    271379 non-null int64\n",
      "dtypes: int64(1), object(7)\n",
      "memory usage: 16.6+ MB\n"
     ]
    }
   ],
   "source": [
    "books_df.info()"
   ]
  },
  {
   "cell_type": "code",
   "execution_count": 12,
   "metadata": {},
   "outputs": [],
   "source": [
    "books_df.drop(columns=['image_url_l', 'image_url_m', 'image_url_s'], inplace=True)"
   ]
  },
  {
   "cell_type": "code",
   "execution_count": 13,
   "metadata": {},
   "outputs": [
    {
     "data": {
      "text/plain": [
       "book_author            1\n",
       "book_title             0\n",
       "isbn                   0\n",
       "publisher              2\n",
       "year_of_publication    0\n",
       "dtype: int64"
      ]
     },
     "execution_count": 13,
     "metadata": {},
     "output_type": "execute_result"
    }
   ],
   "source": [
    "books_df.isna().sum()"
   ]
  },
  {
   "cell_type": "markdown",
   "metadata": {},
   "source": [
    "##### Author"
   ]
  },
  {
   "cell_type": "code",
   "execution_count": 14,
   "metadata": {},
   "outputs": [
    {
     "data": {
      "text/html": [
       "<div>\n",
       "<style scoped>\n",
       "    .dataframe tbody tr th:only-of-type {\n",
       "        vertical-align: middle;\n",
       "    }\n",
       "\n",
       "    .dataframe tbody tr th {\n",
       "        vertical-align: top;\n",
       "    }\n",
       "\n",
       "    .dataframe thead th {\n",
       "        text-align: right;\n",
       "    }\n",
       "</style>\n",
       "<table border=\"1\" class=\"dataframe\">\n",
       "  <thead>\n",
       "    <tr style=\"text-align: right;\">\n",
       "      <th></th>\n",
       "      <th>book_author</th>\n",
       "      <th>book_title</th>\n",
       "      <th>isbn</th>\n",
       "      <th>publisher</th>\n",
       "      <th>year_of_publication</th>\n",
       "    </tr>\n",
       "  </thead>\n",
       "  <tbody>\n",
       "    <tr>\n",
       "      <th>187714</th>\n",
       "      <td>None</td>\n",
       "      <td>The Credit Suisse Guide to Managing Your Perso...</td>\n",
       "      <td>9627982032</td>\n",
       "      <td>Edinburgh Financial Publishing</td>\n",
       "      <td>1995</td>\n",
       "    </tr>\n",
       "  </tbody>\n",
       "</table>\n",
       "</div>"
      ],
      "text/plain": [
       "       book_author                                         book_title  \\\n",
       "187714        None  The Credit Suisse Guide to Managing Your Perso...   \n",
       "\n",
       "              isbn                       publisher  year_of_publication  \n",
       "187714  9627982032  Edinburgh Financial Publishing                 1995  "
      ]
     },
     "execution_count": 14,
     "metadata": {},
     "output_type": "execute_result"
    }
   ],
   "source": [
    "books_df[books_df['book_author'].isna()]"
   ]
  },
  {
   "cell_type": "markdown",
   "metadata": {},
   "source": [
    "[Amazon (The Credit Suisse Guide to Managing Your Personal Wealth)](https://www.amazon.ca/Credit-Suisse-Managing-Personal-Wealth/dp/9627982075)"
   ]
  },
  {
   "cell_type": "markdown",
   "metadata": {},
   "source": [
    "##### Publisher"
   ]
  },
  {
   "cell_type": "code",
   "execution_count": 15,
   "metadata": {},
   "outputs": [],
   "source": [
    "books_df.loc[187714, ['book_author']] = 'Larissa Anne Downes'"
   ]
  },
  {
   "cell_type": "code",
   "execution_count": 16,
   "metadata": {},
   "outputs": [
    {
     "data": {
      "text/html": [
       "<div>\n",
       "<style scoped>\n",
       "    .dataframe tbody tr th:only-of-type {\n",
       "        vertical-align: middle;\n",
       "    }\n",
       "\n",
       "    .dataframe tbody tr th {\n",
       "        vertical-align: top;\n",
       "    }\n",
       "\n",
       "    .dataframe thead th {\n",
       "        text-align: right;\n",
       "    }\n",
       "</style>\n",
       "<table border=\"1\" class=\"dataframe\">\n",
       "  <thead>\n",
       "    <tr style=\"text-align: right;\">\n",
       "      <th></th>\n",
       "      <th>book_author</th>\n",
       "      <th>book_title</th>\n",
       "      <th>isbn</th>\n",
       "      <th>publisher</th>\n",
       "      <th>year_of_publication</th>\n",
       "    </tr>\n",
       "  </thead>\n",
       "  <tbody>\n",
       "    <tr>\n",
       "      <th>128920</th>\n",
       "      <td>Elaine Corvidae</td>\n",
       "      <td>Tyrant Moon</td>\n",
       "      <td>193169656X</td>\n",
       "      <td>None</td>\n",
       "      <td>2002</td>\n",
       "    </tr>\n",
       "    <tr>\n",
       "      <th>129068</th>\n",
       "      <td>Linnea Sinclair</td>\n",
       "      <td>Finders Keepers</td>\n",
       "      <td>1931696993</td>\n",
       "      <td>None</td>\n",
       "      <td>2001</td>\n",
       "    </tr>\n",
       "  </tbody>\n",
       "</table>\n",
       "</div>"
      ],
      "text/plain": [
       "            book_author       book_title        isbn publisher  \\\n",
       "128920  Elaine Corvidae      Tyrant Moon  193169656X      None   \n",
       "129068  Linnea Sinclair  Finders Keepers  1931696993      None   \n",
       "\n",
       "        year_of_publication  \n",
       "128920                 2002  \n",
       "129068                 2001  "
      ]
     },
     "execution_count": 16,
     "metadata": {},
     "output_type": "execute_result"
    }
   ],
   "source": [
    "books_df[books_df['publisher'].isna()]"
   ]
  },
  {
   "cell_type": "markdown",
   "metadata": {},
   "source": [
    "Sources:\n",
    "-  [AbeBooks (Tyrant Moon)](https://www.abebooks.com/9781931696562/Tyrant-Moon-Elaine-Corvidae-193169656X/plp)\n",
    "-  [Google Books (Finders Keepers)](https://books.google.com/books/about/Finders_Keepers.html?id=M9pbPgAACAAJ)"
   ]
  },
  {
   "cell_type": "code",
   "execution_count": 17,
   "metadata": {},
   "outputs": [],
   "source": [
    "books_df.loc[128920, ['publisher']] = 'Novelbooks Incorporated'"
   ]
  },
  {
   "cell_type": "code",
   "execution_count": 18,
   "metadata": {},
   "outputs": [],
   "source": [
    "books_df.loc[129068, ['publisher']] = 'Novelbooks Incorporated'"
   ]
  },
  {
   "cell_type": "markdown",
   "metadata": {},
   "source": [
    "##### Year of Publication ????"
   ]
  },
  {
   "cell_type": "code",
   "execution_count": 19,
   "metadata": {},
   "outputs": [
    {
     "data": {
      "text/plain": [
       "array([   0, 1376, 1378, 1806, 1897, 1900, 1901, 1902, 1904, 1906, 1908,\n",
       "       1909, 1910, 1911, 1914, 1917, 1919, 1920, 1921, 1922, 1923, 1924,\n",
       "       1925, 1926, 1927, 1928, 1929, 1930, 1931, 1932, 1933, 1934, 1935,\n",
       "       1936, 1937, 1938, 1939, 1940, 1941, 1942, 1943, 1944, 1945, 1946,\n",
       "       1947, 1948, 1949, 1950, 1951, 1952, 1953, 1954, 1955, 1956, 1957,\n",
       "       1958, 1959, 1960, 1961, 1962, 1963, 1964, 1965, 1966, 1967, 1968,\n",
       "       1969, 1970, 1971, 1972, 1973, 1974, 1975, 1976, 1977, 1978, 1979,\n",
       "       1980, 1981, 1982, 1983, 1984, 1985, 1986, 1987, 1988, 1989, 1990,\n",
       "       1991, 1992, 1993, 1994, 1995, 1996, 1997, 1998, 1999, 2000, 2001,\n",
       "       2002, 2003, 2004, 2005, 2006, 2008, 2010, 2011, 2012, 2020, 2021,\n",
       "       2024, 2026, 2030, 2037, 2038, 2050])"
      ]
     },
     "execution_count": 19,
     "metadata": {},
     "output_type": "execute_result"
    }
   ],
   "source": [
    "np.asarray(sorted(books_df['year_of_publication'].unique()))"
   ]
  },
  {
   "cell_type": "code",
   "execution_count": 20,
   "metadata": {},
   "outputs": [
    {
     "data": {
      "text/html": [
       "<div>\n",
       "<style scoped>\n",
       "    .dataframe tbody tr th:only-of-type {\n",
       "        vertical-align: middle;\n",
       "    }\n",
       "\n",
       "    .dataframe tbody tr th {\n",
       "        vertical-align: top;\n",
       "    }\n",
       "\n",
       "    .dataframe thead th {\n",
       "        text-align: right;\n",
       "    }\n",
       "</style>\n",
       "<table border=\"1\" class=\"dataframe\">\n",
       "  <thead>\n",
       "    <tr style=\"text-align: right;\">\n",
       "      <th></th>\n",
       "      <th>book_author</th>\n",
       "      <th>book_title</th>\n",
       "      <th>isbn</th>\n",
       "      <th>publisher</th>\n",
       "      <th>year_of_publication</th>\n",
       "    </tr>\n",
       "  </thead>\n",
       "  <tbody>\n",
       "    <tr>\n",
       "      <th>177</th>\n",
       "      <td>Schiller</td>\n",
       "      <td>Kabale Und Liebe</td>\n",
       "      <td>3150000335</td>\n",
       "      <td>Philipp Reclam, Jun Verlag GmbH</td>\n",
       "      <td>0</td>\n",
       "    </tr>\n",
       "    <tr>\n",
       "      <th>189</th>\n",
       "      <td>Gabriel Garcia Marquez</td>\n",
       "      <td>Die Liebe in Den Zelten</td>\n",
       "      <td>342311360X</td>\n",
       "      <td>Deutscher Taschenbuch Verlag (DTV)</td>\n",
       "      <td>0</td>\n",
       "    </tr>\n",
       "    <tr>\n",
       "      <th>289</th>\n",
       "      <td>Barbara Kingsolver</td>\n",
       "      <td>Poisonwood Bible Edition Uk</td>\n",
       "      <td>0571197639</td>\n",
       "      <td>Faber Faber Inc</td>\n",
       "      <td>0</td>\n",
       "    </tr>\n",
       "    <tr>\n",
       "      <th>352</th>\n",
       "      <td>Golding</td>\n",
       "      <td>Herr Der Fliegen (Fiction, Poetry and Drama)</td>\n",
       "      <td>3596214629</td>\n",
       "      <td>Fischer Taschenbuch Verlag GmbH</td>\n",
       "      <td>0</td>\n",
       "    </tr>\n",
       "    <tr>\n",
       "      <th>542</th>\n",
       "      <td>P Coelho</td>\n",
       "      <td>Biblioteca Universale Rizzoli: Sulla Sponda De...</td>\n",
       "      <td>8845229041</td>\n",
       "      <td>Fabbri - RCS Libri</td>\n",
       "      <td>0</td>\n",
       "    </tr>\n",
       "  </tbody>\n",
       "</table>\n",
       "</div>"
      ],
      "text/plain": [
       "                book_author  \\\n",
       "177                Schiller   \n",
       "189  Gabriel Garcia Marquez   \n",
       "289      Barbara Kingsolver   \n",
       "352                 Golding   \n",
       "542                P Coelho   \n",
       "\n",
       "                                            book_title        isbn  \\\n",
       "177                                   Kabale Und Liebe  3150000335   \n",
       "189                            Die Liebe in Den Zelten  342311360X   \n",
       "289                        Poisonwood Bible Edition Uk  0571197639   \n",
       "352       Herr Der Fliegen (Fiction, Poetry and Drama)  3596214629   \n",
       "542  Biblioteca Universale Rizzoli: Sulla Sponda De...  8845229041   \n",
       "\n",
       "                              publisher  year_of_publication  \n",
       "177     Philipp Reclam, Jun Verlag GmbH                    0  \n",
       "189  Deutscher Taschenbuch Verlag (DTV)                    0  \n",
       "289                     Faber Faber Inc                    0  \n",
       "352     Fischer Taschenbuch Verlag GmbH                    0  \n",
       "542                  Fabbri - RCS Libri                    0  "
      ]
     },
     "execution_count": 20,
     "metadata": {},
     "output_type": "execute_result"
    }
   ],
   "source": [
    "books_df[books_df['year_of_publication'] == 0].head()"
   ]
  },
  {
   "cell_type": "code",
   "execution_count": 21,
   "metadata": {},
   "outputs": [
    {
     "data": {
      "text/html": [
       "<div>\n",
       "<style scoped>\n",
       "    .dataframe tbody tr th:only-of-type {\n",
       "        vertical-align: middle;\n",
       "    }\n",
       "\n",
       "    .dataframe tbody tr th {\n",
       "        vertical-align: top;\n",
       "    }\n",
       "\n",
       "    .dataframe thead th {\n",
       "        text-align: right;\n",
       "    }\n",
       "</style>\n",
       "<table border=\"1\" class=\"dataframe\">\n",
       "  <thead>\n",
       "    <tr style=\"text-align: right;\">\n",
       "      <th></th>\n",
       "      <th>book_author</th>\n",
       "      <th>book_title</th>\n",
       "      <th>isbn</th>\n",
       "      <th>publisher</th>\n",
       "      <th>year_of_publication</th>\n",
       "    </tr>\n",
       "  </thead>\n",
       "  <tbody>\n",
       "    <tr>\n",
       "      <th>3547</th>\n",
       "      <td>Grant Naylor</td>\n",
       "      <td>Red Dwarf</td>\n",
       "      <td>0140124373</td>\n",
       "      <td>Penguin Books Ltd</td>\n",
       "      <td>2005</td>\n",
       "    </tr>\n",
       "    <tr>\n",
       "      <th>12799</th>\n",
       "      <td>Kathleen E. Woodiwiss</td>\n",
       "      <td>A Rose in Winter</td>\n",
       "      <td>0380816792</td>\n",
       "      <td>Harper Mass Market Paperbacks</td>\n",
       "      <td>2011</td>\n",
       "    </tr>\n",
       "    <tr>\n",
       "      <th>26187</th>\n",
       "      <td>Frances Sakoian</td>\n",
       "      <td>The Astrologer's Handbook</td>\n",
       "      <td>006272004X</td>\n",
       "      <td>HarperResource</td>\n",
       "      <td>2005</td>\n",
       "    </tr>\n",
       "    <tr>\n",
       "      <th>30030</th>\n",
       "      <td>Kitty Kelley</td>\n",
       "      <td>The Royals</td>\n",
       "      <td>068160204X</td>\n",
       "      <td>Bausch &amp;amp; Lombard</td>\n",
       "      <td>2020</td>\n",
       "    </tr>\n",
       "    <tr>\n",
       "      <th>37505</th>\n",
       "      <td>Coville</td>\n",
       "      <td>MY TEACHER FRIED MY BRAINS (RACK SIZE) (MY TEA...</td>\n",
       "      <td>0671746103</td>\n",
       "      <td>Aladdin</td>\n",
       "      <td>2030</td>\n",
       "    </tr>\n",
       "  </tbody>\n",
       "</table>\n",
       "</div>"
      ],
      "text/plain": [
       "                 book_author  \\\n",
       "3547            Grant Naylor   \n",
       "12799  Kathleen E. Woodiwiss   \n",
       "26187        Frances Sakoian   \n",
       "30030           Kitty Kelley   \n",
       "37505                Coville   \n",
       "\n",
       "                                              book_title        isbn  \\\n",
       "3547                                           Red Dwarf  0140124373   \n",
       "12799                                   A Rose in Winter  0380816792   \n",
       "26187                          The Astrologer's Handbook  006272004X   \n",
       "30030                                         The Royals  068160204X   \n",
       "37505  MY TEACHER FRIED MY BRAINS (RACK SIZE) (MY TEA...  0671746103   \n",
       "\n",
       "                           publisher  year_of_publication  \n",
       "3547               Penguin Books Ltd                 2005  \n",
       "12799  Harper Mass Market Paperbacks                 2011  \n",
       "26187                 HarperResource                 2005  \n",
       "30030           Bausch &amp; Lombard                 2020  \n",
       "37505                        Aladdin                 2030  "
      ]
     },
     "execution_count": 21,
     "metadata": {},
     "output_type": "execute_result"
    }
   ],
   "source": [
    "books_df[books_df['year_of_publication'] >= 2005].head()"
   ]
  },
  {
   "cell_type": "code",
   "execution_count": 22,
   "metadata": {},
   "outputs": [],
   "source": [
    "url = 'https://www.goodreads.com/book/isbn/ISBN?format=xml&isbn=3150000335&key=prkLqGzgF7KgNNy3VqgJpQ'\n",
    "response = requests.get(url)"
   ]
  },
  {
   "cell_type": "code",
   "execution_count": 23,
   "metadata": {},
   "outputs": [],
   "source": [
    "soup = BeautifulSoup(response.text, 'xml')"
   ]
  },
  {
   "cell_type": "code",
   "execution_count": 24,
   "metadata": {},
   "outputs": [
    {
     "data": {
      "text/plain": [
       "1901"
      ]
     },
     "execution_count": 24,
     "metadata": {},
     "output_type": "execute_result"
    }
   ],
   "source": [
    "int(soup.find('original_publication_year').text)"
   ]
  },
  {
   "cell_type": "markdown",
   "metadata": {},
   "source": [
    "##### ISBN"
   ]
  },
  {
   "cell_type": "code",
   "execution_count": 25,
   "metadata": {},
   "outputs": [
    {
     "data": {
      "text/plain": [
       "271379"
      ]
     },
     "execution_count": 25,
     "metadata": {},
     "output_type": "execute_result"
    }
   ],
   "source": [
    "books_df['isbn'].nunique()"
   ]
  },
  {
   "cell_type": "markdown",
   "metadata": {},
   "source": [
    "##### Title"
   ]
  },
  {
   "cell_type": "code",
   "execution_count": 26,
   "metadata": {},
   "outputs": [
    {
     "data": {
      "text/plain": [
       "242154"
      ]
     },
     "execution_count": 26,
     "metadata": {},
     "output_type": "execute_result"
    }
   ],
   "source": [
    "books_df['book_title'].nunique()"
   ]
  },
  {
   "cell_type": "code",
   "execution_count": 27,
   "metadata": {},
   "outputs": [
    {
     "data": {
      "text/plain": [
       "29225"
      ]
     },
     "execution_count": 27,
     "metadata": {},
     "output_type": "execute_result"
    }
   ],
   "source": [
    "len(books_df[books_df['book_title'].duplicated()])"
   ]
  },
  {
   "cell_type": "code",
   "execution_count": 28,
   "metadata": {},
   "outputs": [
    {
     "data": {
      "text/html": [
       "<div>\n",
       "<style scoped>\n",
       "    .dataframe tbody tr th:only-of-type {\n",
       "        vertical-align: middle;\n",
       "    }\n",
       "\n",
       "    .dataframe tbody tr th {\n",
       "        vertical-align: top;\n",
       "    }\n",
       "\n",
       "    .dataframe thead th {\n",
       "        text-align: right;\n",
       "    }\n",
       "</style>\n",
       "<table border=\"1\" class=\"dataframe\">\n",
       "  <thead>\n",
       "    <tr style=\"text-align: right;\">\n",
       "      <th></th>\n",
       "      <th>book_title</th>\n",
       "    </tr>\n",
       "  </thead>\n",
       "  <tbody>\n",
       "    <tr>\n",
       "      <th>2280</th>\n",
       "      <td>Die Spinne und das MÃ?Â¤dchen.</td>\n",
       "    </tr>\n",
       "    <tr>\n",
       "      <th>2281</th>\n",
       "      <td>Die Bildhauerin.</td>\n",
       "    </tr>\n",
       "    <tr>\n",
       "      <th>2282</th>\n",
       "      <td>20 Jahre 40 bleiben. Jung und schÃ?Â¶n in den ...</td>\n",
       "    </tr>\n",
       "    <tr>\n",
       "      <th>2283</th>\n",
       "      <td>Goddess Blood: Book One of the Goddess Trilogy</td>\n",
       "    </tr>\n",
       "  </tbody>\n",
       "</table>\n",
       "</div>"
      ],
      "text/plain": [
       "                                             book_title\n",
       "2280                     Die Spinne und das MÃ?Â¤dchen.\n",
       "2281                                   Die Bildhauerin.\n",
       "2282  20 Jahre 40 bleiben. Jung und schÃ?Â¶n in den ...\n",
       "2283     Goddess Blood: Book One of the Goddess Trilogy"
      ]
     },
     "execution_count": 28,
     "metadata": {},
     "output_type": "execute_result"
    }
   ],
   "source": [
    "books_df[['book_title']].loc[2280: 2283]"
   ]
  },
  {
   "cell_type": "code",
   "execution_count": 29,
   "metadata": {},
   "outputs": [
    {
     "data": {
      "text/html": [
       "<div>\n",
       "<style scoped>\n",
       "    .dataframe tbody tr th:only-of-type {\n",
       "        vertical-align: middle;\n",
       "    }\n",
       "\n",
       "    .dataframe tbody tr th {\n",
       "        vertical-align: top;\n",
       "    }\n",
       "\n",
       "    .dataframe thead th {\n",
       "        text-align: right;\n",
       "    }\n",
       "</style>\n",
       "<table border=\"1\" class=\"dataframe\">\n",
       "  <thead>\n",
       "    <tr style=\"text-align: right;\">\n",
       "      <th></th>\n",
       "      <th>book_author</th>\n",
       "      <th>book_title</th>\n",
       "      <th>isbn</th>\n",
       "      <th>publisher</th>\n",
       "      <th>year_of_publication</th>\n",
       "    </tr>\n",
       "  </thead>\n",
       "  <tbody>\n",
       "    <tr>\n",
       "      <th>119</th>\n",
       "      <td>Dan Brown</td>\n",
       "      <td>Angels &amp;amp; Demons</td>\n",
       "      <td>0671027360</td>\n",
       "      <td>Pocket Star</td>\n",
       "      <td>2001</td>\n",
       "    </tr>\n",
       "    <tr>\n",
       "      <th>240</th>\n",
       "      <td>Dan Brown</td>\n",
       "      <td>Angels &amp;amp; Demons</td>\n",
       "      <td>0743486226</td>\n",
       "      <td>Atria</td>\n",
       "      <td>2003</td>\n",
       "    </tr>\n",
       "    <tr>\n",
       "      <th>28021</th>\n",
       "      <td>Dan Brown</td>\n",
       "      <td>Angels &amp;amp; Demons</td>\n",
       "      <td>0671027352</td>\n",
       "      <td>Atria</td>\n",
       "      <td>2000</td>\n",
       "    </tr>\n",
       "    <tr>\n",
       "      <th>36952</th>\n",
       "      <td>Dan Brown</td>\n",
       "      <td>Angels &amp;amp; Demons</td>\n",
       "      <td>0743535774</td>\n",
       "      <td>Audioworks</td>\n",
       "      <td>2003</td>\n",
       "    </tr>\n",
       "    <tr>\n",
       "      <th>163571</th>\n",
       "      <td>Dan Brown</td>\n",
       "      <td>Angels &amp;amp; Demons</td>\n",
       "      <td>0743535766</td>\n",
       "      <td>Simon &amp;amp; Schuster Audio</td>\n",
       "      <td>2003</td>\n",
       "    </tr>\n",
       "  </tbody>\n",
       "</table>\n",
       "</div>"
      ],
      "text/plain": [
       "       book_author           book_title        isbn  \\\n",
       "119      Dan Brown  Angels &amp; Demons  0671027360   \n",
       "240      Dan Brown  Angels &amp; Demons  0743486226   \n",
       "28021    Dan Brown  Angels &amp; Demons  0671027352   \n",
       "36952    Dan Brown  Angels &amp; Demons  0743535774   \n",
       "163571   Dan Brown  Angels &amp; Demons  0743535766   \n",
       "\n",
       "                         publisher  year_of_publication  \n",
       "119                    Pocket Star                 2001  \n",
       "240                          Atria                 2003  \n",
       "28021                        Atria                 2000  \n",
       "36952                   Audioworks                 2003  \n",
       "163571  Simon &amp; Schuster Audio                 2003  "
      ]
     },
     "execution_count": 29,
     "metadata": {},
     "output_type": "execute_result"
    }
   ],
   "source": [
    "books_df[books_df['book_title'] == 'Angels &amp; Demons']"
   ]
  },
  {
   "cell_type": "code",
   "execution_count": 30,
   "metadata": {},
   "outputs": [],
   "source": [
    "books_unique_df = books_df.drop_duplicates(subset=['book_author','book_title'])"
   ]
  },
  {
   "cell_type": "code",
   "execution_count": 31,
   "metadata": {},
   "outputs": [],
   "source": [
    "good_isbns = books_df['isbn'].map(lambda x: x if re.findall('^[\\dXx]+$', x) else None)"
   ]
  },
  {
   "cell_type": "code",
   "execution_count": 32,
   "metadata": {},
   "outputs": [],
   "source": [
    "bad_isbns = dict(zip(books_df[good_isbns.isna()].isbn, zip(books_df[good_isbns.isna()].book_author, books_df[good_isbns.isna()].book_title)))"
   ]
  },
  {
   "cell_type": "code",
   "execution_count": 33,
   "metadata": {},
   "outputs": [],
   "source": [
    "unique_good_isbns = books_df[good_isbns.notnull()].drop_duplicates(['book_author', 'book_title'])"
   ]
  },
  {
   "cell_type": "code",
   "execution_count": 34,
   "metadata": {},
   "outputs": [],
   "source": [
    "replacement_isbn = {}"
   ]
  },
  {
   "cell_type": "code",
   "execution_count": 35,
   "metadata": {},
   "outputs": [],
   "source": [
    "for bad_isbn, (author, title) in bad_isbns.items():\n",
    "    replacement_isbn[bad_isbn] = str(unique_good_isbns[(unique_good_isbns['book_author'] == author) & (unique_good_isbns['book_title'] == title)]['isbn'].values)"
   ]
  },
  {
   "cell_type": "code",
   "execution_count": 36,
   "metadata": {},
   "outputs": [
    {
     "data": {
      "text/plain": [
       "0         0195153448\n",
       "1         0002005018\n",
       "2         0060973129\n",
       "3         0374157065\n",
       "4         0393045218\n",
       "5         0399135782\n",
       "6         0425176428\n",
       "7         0671870432\n",
       "8         0679425608\n",
       "9         074322678X\n",
       "10        0771074670\n",
       "11        080652121X\n",
       "12        0887841740\n",
       "13        1552041778\n",
       "14        1558746218\n",
       "15        1567407781\n",
       "16        1575663937\n",
       "17        1881320189\n",
       "18        0440234743\n",
       "19        0452264464\n",
       "20        0609804618\n",
       "21        1841721522\n",
       "22        1879384493\n",
       "23        0061076031\n",
       "24        0439095026\n",
       "25        0689821166\n",
       "26        0971880107\n",
       "27        0345402871\n",
       "28        0345417623\n",
       "29        0684823802\n",
       "             ...    \n",
       "271349    3320016822\n",
       "271350    3423200944\n",
       "271351    3453065123\n",
       "271352    3525335423\n",
       "271353    3548740146\n",
       "271354    381440176X\n",
       "271355    3893312307\n",
       "271356    0971854823\n",
       "271357    0316640786\n",
       "271358    3257217323\n",
       "271359    3596156904\n",
       "271360    1874166633\n",
       "271361    0130897930\n",
       "271362    020130998X\n",
       "271363    2268032019\n",
       "271364    0684860112\n",
       "271365    0395264707\n",
       "271366    3442150663\n",
       "271367    0231128444\n",
       "271368    0520242335\n",
       "271369    0762412119\n",
       "271370    1582380805\n",
       "271371    1845170423\n",
       "271372    014002803X\n",
       "271373    0449906736\n",
       "271374    0440400988\n",
       "271375    0525447644\n",
       "271376    006008667X\n",
       "271377    0192126040\n",
       "271378    0767409752\n",
       "Name: isbn, Length: 271379, dtype: object"
      ]
     },
     "execution_count": 36,
     "metadata": {},
     "output_type": "execute_result"
    }
   ],
   "source": [
    "books_df.isbn.map(lambda x: replacement_isbn.get(x) if replacement_isbn.get(x) else x)"
   ]
  },
  {
   "cell_type": "code",
   "execution_count": 37,
   "metadata": {},
   "outputs": [
    {
     "data": {
      "text/plain": [
       "array([   0, 1376, 1378, 1806, 1897, 1900, 1901, 1902, 1904, 1906, 1908,\n",
       "       1909, 1911, 1914, 1917, 1919, 1920, 1921, 1922, 1923, 1924, 1925,\n",
       "       1926, 1927, 1928, 1929, 1930, 1931, 1932, 1933, 1934, 1935, 1936,\n",
       "       1937, 1938, 1939, 1940, 1941, 1942, 1943, 1944, 1945, 1946, 1947,\n",
       "       1948, 1949, 1950, 1951, 1952, 1953, 1954, 1955, 1956, 1957, 1958,\n",
       "       1959, 1960, 1961, 1962, 1963, 1964, 1965, 1966, 1967, 1968, 1969,\n",
       "       1970, 1971, 1972, 1973, 1974, 1975, 1976, 1977, 1978, 1979, 1980,\n",
       "       1981, 1982, 1983, 1984, 1985, 1986, 1987, 1988, 1989, 1990, 1991,\n",
       "       1992, 1993, 1994, 1995, 1996, 1997, 1998, 1999, 2000, 2001, 2002,\n",
       "       2003, 2004, 2005, 2006, 2008, 2011, 2012, 2020, 2024, 2026, 2030,\n",
       "       2037, 2038, 2050])"
      ]
     },
     "execution_count": 37,
     "metadata": {},
     "output_type": "execute_result"
    }
   ],
   "source": [
    "np.asarray(sorted(books_unique_df['year_of_publication'].unique()))"
   ]
  },
  {
   "cell_type": "code",
   "execution_count": 38,
   "metadata": {},
   "outputs": [],
   "source": [
    "incorrect_year = books_unique_df[(books_unique_df['year_of_publication'] == 0) | (books_unique_df['year_of_publication'] > 2004)] "
   ]
  },
  {
   "cell_type": "code",
   "execution_count": 39,
   "metadata": {},
   "outputs": [],
   "source": [
    "incorrect_year.to_csv('../data/books_incorrect_year.csv')"
   ]
  },
  {
   "cell_type": "markdown",
   "metadata": {},
   "source": [
    "### Users"
   ]
  },
  {
   "cell_type": "code",
   "execution_count": 40,
   "metadata": {},
   "outputs": [
    {
     "data": {
      "text/html": [
       "<div>\n",
       "<style scoped>\n",
       "    .dataframe tbody tr th:only-of-type {\n",
       "        vertical-align: middle;\n",
       "    }\n",
       "\n",
       "    .dataframe tbody tr th {\n",
       "        vertical-align: top;\n",
       "    }\n",
       "\n",
       "    .dataframe thead th {\n",
       "        text-align: right;\n",
       "    }\n",
       "</style>\n",
       "<table border=\"1\" class=\"dataframe\">\n",
       "  <thead>\n",
       "    <tr style=\"text-align: right;\">\n",
       "      <th></th>\n",
       "      <th>age</th>\n",
       "      <th>location</th>\n",
       "      <th>user_id</th>\n",
       "    </tr>\n",
       "  </thead>\n",
       "  <tbody>\n",
       "    <tr>\n",
       "      <th>0</th>\n",
       "      <td>None</td>\n",
       "      <td>nyc, new york, usa</td>\n",
       "      <td>1</td>\n",
       "    </tr>\n",
       "    <tr>\n",
       "      <th>1</th>\n",
       "      <td>18.0</td>\n",
       "      <td>stockton, california, usa</td>\n",
       "      <td>2</td>\n",
       "    </tr>\n",
       "    <tr>\n",
       "      <th>2</th>\n",
       "      <td>None</td>\n",
       "      <td>moscow, yukon territory, russia</td>\n",
       "      <td>3</td>\n",
       "    </tr>\n",
       "    <tr>\n",
       "      <th>3</th>\n",
       "      <td>17.0</td>\n",
       "      <td>porto, v.n.gaia, portugal</td>\n",
       "      <td>4</td>\n",
       "    </tr>\n",
       "    <tr>\n",
       "      <th>4</th>\n",
       "      <td>None</td>\n",
       "      <td>farnborough, hants, united kingdom</td>\n",
       "      <td>5</td>\n",
       "    </tr>\n",
       "  </tbody>\n",
       "</table>\n",
       "</div>"
      ],
      "text/plain": [
       "    age                            location  user_id\n",
       "0  None                  nyc, new york, usa        1\n",
       "1  18.0           stockton, california, usa        2\n",
       "2  None     moscow, yukon territory, russia        3\n",
       "3  17.0           porto, v.n.gaia, portugal        4\n",
       "4  None  farnborough, hants, united kingdom        5"
      ]
     },
     "execution_count": 40,
     "metadata": {},
     "output_type": "execute_result"
    }
   ],
   "source": [
    "users_df.head()"
   ]
  },
  {
   "cell_type": "code",
   "execution_count": 41,
   "metadata": {},
   "outputs": [
    {
     "name": "stdout",
     "output_type": "stream",
     "text": [
      "<class 'pandas.core.frame.DataFrame'>\n",
      "RangeIndex: 278858 entries, 0 to 278857\n",
      "Data columns (total 3 columns):\n",
      "age         168096 non-null object\n",
      "location    278858 non-null object\n",
      "user_id     278858 non-null int64\n",
      "dtypes: int64(1), object(2)\n",
      "memory usage: 6.4+ MB\n"
     ]
    }
   ],
   "source": [
    "users_df.info()"
   ]
  },
  {
   "cell_type": "markdown",
   "metadata": {},
   "source": [
    "#### User ID"
   ]
  },
  {
   "cell_type": "code",
   "execution_count": 42,
   "metadata": {},
   "outputs": [
    {
     "data": {
      "text/plain": [
       "True"
      ]
     },
     "execution_count": 42,
     "metadata": {},
     "output_type": "execute_result"
    }
   ],
   "source": [
    "users_df['user_id'].nunique() == len(users_df)"
   ]
  },
  {
   "cell_type": "markdown",
   "metadata": {},
   "source": [
    "#### Age"
   ]
  },
  {
   "cell_type": "code",
   "execution_count": 43,
   "metadata": {},
   "outputs": [
    {
     "data": {
      "text/plain": [
       "array([None, Decimal('18.0'), Decimal('17.0'), Decimal('61.0'),\n",
       "       Decimal('26.0'), Decimal('14.0'), Decimal('25.0'), Decimal('19.0'),\n",
       "       Decimal('46.0'), Decimal('55.0'), Decimal('32.0'), Decimal('24.0'),\n",
       "       Decimal('20.0'), Decimal('34.0'), Decimal('23.0'), Decimal('51.0'),\n",
       "       Decimal('31.0'), Decimal('21.0'), Decimal('44.0'), Decimal('30.0'),\n",
       "       Decimal('57.0'), Decimal('43.0'), Decimal('37.0'), Decimal('41.0'),\n",
       "       Decimal('54.0'), Decimal('42.0'), Decimal('50.0'), Decimal('39.0'),\n",
       "       Decimal('53.0'), Decimal('47.0'), Decimal('36.0'), Decimal('28.0'),\n",
       "       Decimal('35.0'), Decimal('13.0'), Decimal('58.0'), Decimal('49.0'),\n",
       "       Decimal('38.0'), Decimal('45.0'), Decimal('62.0'), Decimal('63.0'),\n",
       "       Decimal('27.0'), Decimal('33.0'), Decimal('29.0'), Decimal('66.0'),\n",
       "       Decimal('40.0'), Decimal('15.0'), Decimal('60.0'), Decimal('0.0'),\n",
       "       Decimal('79.0'), Decimal('22.0'), Decimal('16.0'), Decimal('65.0'),\n",
       "       Decimal('59.0'), Decimal('48.0'), Decimal('72.0'), Decimal('56.0'),\n",
       "       Decimal('67.0'), Decimal('1.0'), Decimal('80.0'), Decimal('52.0'),\n",
       "       Decimal('69.0'), Decimal('71.0'), Decimal('73.0'), Decimal('78.0'),\n",
       "       Decimal('9.0'), Decimal('64.0'), Decimal('103.0'),\n",
       "       Decimal('104.0'), Decimal('12.0'), Decimal('74.0'),\n",
       "       Decimal('75.0'), Decimal('231.0'), Decimal('3.0'), Decimal('76.0'),\n",
       "       Decimal('83.0'), Decimal('68.0'), Decimal('119.0'),\n",
       "       Decimal('11.0'), Decimal('77.0'), Decimal('2.0'), Decimal('70.0'),\n",
       "       Decimal('93.0'), Decimal('8.0'), Decimal('7.0'), Decimal('4.0'),\n",
       "       Decimal('81.0'), Decimal('114.0'), Decimal('230.0'),\n",
       "       Decimal('239.0'), Decimal('10.0'), Decimal('5.0'),\n",
       "       Decimal('148.0'), Decimal('151.0'), Decimal('6.0'),\n",
       "       Decimal('101.0'), Decimal('201.0'), Decimal('96.0'),\n",
       "       Decimal('84.0'), Decimal('82.0'), Decimal('90.0'),\n",
       "       Decimal('123.0'), Decimal('244.0'), Decimal('133.0'),\n",
       "       Decimal('91.0'), Decimal('128.0'), Decimal('94.0'),\n",
       "       Decimal('85.0'), Decimal('141.0'), Decimal('110.0'),\n",
       "       Decimal('97.0'), Decimal('219.0'), Decimal('86.0'),\n",
       "       Decimal('124.0'), Decimal('92.0'), Decimal('175.0'),\n",
       "       Decimal('172.0'), Decimal('209.0'), Decimal('212.0'),\n",
       "       Decimal('237.0'), Decimal('87.0'), Decimal('162.0'),\n",
       "       Decimal('100.0'), Decimal('156.0'), Decimal('136.0'),\n",
       "       Decimal('95.0'), Decimal('89.0'), Decimal('106.0'),\n",
       "       Decimal('99.0'), Decimal('108.0'), Decimal('210.0'),\n",
       "       Decimal('88.0'), Decimal('199.0'), Decimal('147.0'),\n",
       "       Decimal('168.0'), Decimal('132.0'), Decimal('159.0'),\n",
       "       Decimal('186.0'), Decimal('152.0'), Decimal('102.0'),\n",
       "       Decimal('116.0'), Decimal('200.0'), Decimal('115.0'),\n",
       "       Decimal('226.0'), Decimal('137.0'), Decimal('207.0'),\n",
       "       Decimal('229.0'), Decimal('138.0'), Decimal('109.0'),\n",
       "       Decimal('105.0'), Decimal('228.0'), Decimal('183.0'),\n",
       "       Decimal('204.0'), Decimal('98.0'), Decimal('223.0'),\n",
       "       Decimal('113.0'), Decimal('208.0'), Decimal('107.0'),\n",
       "       Decimal('157.0'), Decimal('111.0'), Decimal('146.0'),\n",
       "       Decimal('118.0'), Decimal('220.0'), Decimal('143.0'),\n",
       "       Decimal('140.0'), Decimal('189.0'), Decimal('127.0')], dtype=object)"
      ]
     },
     "execution_count": 43,
     "metadata": {},
     "output_type": "execute_result"
    }
   ],
   "source": [
    "np.asarray(users_df['age'].unique())"
   ]
  },
  {
   "cell_type": "code",
   "execution_count": 44,
   "metadata": {},
   "outputs": [
    {
     "data": {
      "text/plain": [
       "435"
      ]
     },
     "execution_count": 44,
     "metadata": {},
     "output_type": "execute_result"
    }
   ],
   "source": [
    "len(users_df[users_df['age'] >= 90])"
   ]
  },
  {
   "cell_type": "code",
   "execution_count": 45,
   "metadata": {},
   "outputs": [
    {
     "data": {
      "text/plain": [
       "908"
      ]
     },
     "execution_count": 45,
     "metadata": {},
     "output_type": "execute_result"
    }
   ],
   "source": [
    "len(users_df[users_df['age'] <= 5])"
   ]
  },
  {
   "cell_type": "code",
   "execution_count": 46,
   "metadata": {},
   "outputs": [
    {
     "data": {
      "text/plain": [
       "0.40201464544678656"
      ]
     },
     "execution_count": 46,
     "metadata": {},
     "output_type": "execute_result"
    }
   ],
   "source": [
    "(users_df['age'].isna().sum() + len(users_df[users_df['age'] >= 90]) + len(users_df[users_df['age'] <= 5]))/ len(users_df)"
   ]
  },
  {
   "cell_type": "code",
   "execution_count": 47,
   "metadata": {},
   "outputs": [],
   "source": [
    "users_df.drop(columns='age', inplace=True)"
   ]
  },
  {
   "cell_type": "markdown",
   "metadata": {},
   "source": [
    "#### Location"
   ]
  },
  {
   "cell_type": "code",
   "execution_count": 48,
   "metadata": {},
   "outputs": [
    {
     "name": "stdout",
     "output_type": "stream",
     "text": [
      "lawrenceville\n"
     ]
    }
   ],
   "source": [
    "for i in users_df['location']:\n",
    "    if ',' not in i:\n",
    "        print(i)"
   ]
  },
  {
   "cell_type": "code",
   "execution_count": 49,
   "metadata": {},
   "outputs": [
    {
     "data": {
      "text/html": [
       "<div>\n",
       "<style scoped>\n",
       "    .dataframe tbody tr th:only-of-type {\n",
       "        vertical-align: middle;\n",
       "    }\n",
       "\n",
       "    .dataframe tbody tr th {\n",
       "        vertical-align: top;\n",
       "    }\n",
       "\n",
       "    .dataframe thead th {\n",
       "        text-align: right;\n",
       "    }\n",
       "</style>\n",
       "<table border=\"1\" class=\"dataframe\">\n",
       "  <thead>\n",
       "    <tr style=\"text-align: right;\">\n",
       "      <th></th>\n",
       "      <th>location</th>\n",
       "      <th>user_id</th>\n",
       "    </tr>\n",
       "  </thead>\n",
       "  <tbody>\n",
       "    <tr>\n",
       "      <th>134376</th>\n",
       "      <td>lawrenceville</td>\n",
       "      <td>134377</td>\n",
       "    </tr>\n",
       "  </tbody>\n",
       "</table>\n",
       "</div>"
      ],
      "text/plain": [
       "             location  user_id\n",
       "134376  lawrenceville   134377"
      ]
     },
     "execution_count": 49,
     "metadata": {},
     "output_type": "execute_result"
    }
   ],
   "source": [
    "users_df[users_df['location'] == 'lawrenceville']"
   ]
  },
  {
   "cell_type": "code",
   "execution_count": 50,
   "metadata": {},
   "outputs": [],
   "source": [
    "users_df.loc[134376, 'location'] = 'lawrenceville, , '"
   ]
  },
  {
   "cell_type": "code",
   "execution_count": 51,
   "metadata": {},
   "outputs": [],
   "source": [
    "users_df['city'] = users_df['location'].apply(lambda x: x.split(',')[0])"
   ]
  },
  {
   "cell_type": "code",
   "execution_count": 52,
   "metadata": {},
   "outputs": [],
   "source": [
    "users_df['state'] = users_df['location'].apply(lambda x: re.findall(r'.*[,,]\\s(.*)[,]', x))\n",
    "users_df['state'] = users_df['state'].map(lambda x: None if not x else x[0])"
   ]
  },
  {
   "cell_type": "code",
   "execution_count": 53,
   "metadata": {},
   "outputs": [],
   "source": [
    "users_df['country'] = users_df['location'].apply(lambda x: re.findall(r'.*[,,].*[,]\\s(.*)', x))\n",
    "users_df['country'] = users_df['country'].map(lambda x: None if not x else x[0])"
   ]
  },
  {
   "cell_type": "code",
   "execution_count": 54,
   "metadata": {},
   "outputs": [
    {
     "data": {
      "text/html": [
       "<div>\n",
       "<style scoped>\n",
       "    .dataframe tbody tr th:only-of-type {\n",
       "        vertical-align: middle;\n",
       "    }\n",
       "\n",
       "    .dataframe tbody tr th {\n",
       "        vertical-align: top;\n",
       "    }\n",
       "\n",
       "    .dataframe thead th {\n",
       "        text-align: right;\n",
       "    }\n",
       "</style>\n",
       "<table border=\"1\" class=\"dataframe\">\n",
       "  <thead>\n",
       "    <tr style=\"text-align: right;\">\n",
       "      <th></th>\n",
       "      <th>location</th>\n",
       "      <th>user_id</th>\n",
       "      <th>city</th>\n",
       "      <th>state</th>\n",
       "      <th>country</th>\n",
       "    </tr>\n",
       "  </thead>\n",
       "  <tbody>\n",
       "    <tr>\n",
       "      <th>0</th>\n",
       "      <td>nyc, new york, usa</td>\n",
       "      <td>1</td>\n",
       "      <td>nyc</td>\n",
       "      <td>new york</td>\n",
       "      <td>usa</td>\n",
       "    </tr>\n",
       "    <tr>\n",
       "      <th>1</th>\n",
       "      <td>stockton, california, usa</td>\n",
       "      <td>2</td>\n",
       "      <td>stockton</td>\n",
       "      <td>california</td>\n",
       "      <td>usa</td>\n",
       "    </tr>\n",
       "    <tr>\n",
       "      <th>2</th>\n",
       "      <td>moscow, yukon territory, russia</td>\n",
       "      <td>3</td>\n",
       "      <td>moscow</td>\n",
       "      <td>yukon territory</td>\n",
       "      <td>russia</td>\n",
       "    </tr>\n",
       "    <tr>\n",
       "      <th>3</th>\n",
       "      <td>porto, v.n.gaia, portugal</td>\n",
       "      <td>4</td>\n",
       "      <td>porto</td>\n",
       "      <td>v.n.gaia</td>\n",
       "      <td>portugal</td>\n",
       "    </tr>\n",
       "    <tr>\n",
       "      <th>4</th>\n",
       "      <td>farnborough, hants, united kingdom</td>\n",
       "      <td>5</td>\n",
       "      <td>farnborough</td>\n",
       "      <td>hants</td>\n",
       "      <td>united kingdom</td>\n",
       "    </tr>\n",
       "  </tbody>\n",
       "</table>\n",
       "</div>"
      ],
      "text/plain": [
       "                             location  user_id         city            state  \\\n",
       "0                  nyc, new york, usa        1          nyc         new york   \n",
       "1           stockton, california, usa        2     stockton       california   \n",
       "2     moscow, yukon territory, russia        3       moscow  yukon territory   \n",
       "3           porto, v.n.gaia, portugal        4        porto         v.n.gaia   \n",
       "4  farnborough, hants, united kingdom        5  farnborough            hants   \n",
       "\n",
       "          country  \n",
       "0             usa  \n",
       "1             usa  \n",
       "2          russia  \n",
       "3        portugal  \n",
       "4  united kingdom  "
      ]
     },
     "execution_count": 54,
     "metadata": {},
     "output_type": "execute_result"
    }
   ],
   "source": [
    "users_df.head()"
   ]
  },
  {
   "cell_type": "code",
   "execution_count": 55,
   "metadata": {},
   "outputs": [
    {
     "data": {
      "text/plain": [
       "location       0\n",
       "user_id        0\n",
       "city           0\n",
       "state          1\n",
       "country     4573\n",
       "dtype: int64"
      ]
     },
     "execution_count": 55,
     "metadata": {},
     "output_type": "execute_result"
    }
   ],
   "source": [
    "users_df.isna().sum()"
   ]
  },
  {
   "cell_type": "code",
   "execution_count": 56,
   "metadata": {},
   "outputs": [
    {
     "data": {
      "text/html": [
       "<div>\n",
       "<style scoped>\n",
       "    .dataframe tbody tr th:only-of-type {\n",
       "        vertical-align: middle;\n",
       "    }\n",
       "\n",
       "    .dataframe tbody tr th {\n",
       "        vertical-align: top;\n",
       "    }\n",
       "\n",
       "    .dataframe thead th {\n",
       "        text-align: right;\n",
       "    }\n",
       "</style>\n",
       "<table border=\"1\" class=\"dataframe\">\n",
       "  <thead>\n",
       "    <tr style=\"text-align: right;\">\n",
       "      <th></th>\n",
       "      <th>location</th>\n",
       "      <th>user_id</th>\n",
       "      <th>city</th>\n",
       "      <th>state</th>\n",
       "      <th>country</th>\n",
       "    </tr>\n",
       "  </thead>\n",
       "  <tbody>\n",
       "    <tr>\n",
       "      <th>29419</th>\n",
       "      <td>st. louis, missouri</td>\n",
       "      <td>29420</td>\n",
       "      <td>st. louis</td>\n",
       "      <td>None</td>\n",
       "      <td>None</td>\n",
       "    </tr>\n",
       "  </tbody>\n",
       "</table>\n",
       "</div>"
      ],
      "text/plain": [
       "                  location  user_id       city state country\n",
       "29419  st. louis, missouri    29420  st. louis  None    None"
      ]
     },
     "execution_count": 56,
     "metadata": {},
     "output_type": "execute_result"
    }
   ],
   "source": [
    "users_df[users_df['state'].isna()]"
   ]
  },
  {
   "cell_type": "code",
   "execution_count": 57,
   "metadata": {},
   "outputs": [
    {
     "data": {
      "text/html": [
       "<div>\n",
       "<style scoped>\n",
       "    .dataframe tbody tr th:only-of-type {\n",
       "        vertical-align: middle;\n",
       "    }\n",
       "\n",
       "    .dataframe tbody tr th {\n",
       "        vertical-align: top;\n",
       "    }\n",
       "\n",
       "    .dataframe thead th {\n",
       "        text-align: right;\n",
       "    }\n",
       "</style>\n",
       "<table border=\"1\" class=\"dataframe\">\n",
       "  <thead>\n",
       "    <tr style=\"text-align: right;\">\n",
       "      <th></th>\n",
       "      <th>location</th>\n",
       "      <th>user_id</th>\n",
       "      <th>city</th>\n",
       "      <th>state</th>\n",
       "      <th>country</th>\n",
       "    </tr>\n",
       "  </thead>\n",
       "  <tbody>\n",
       "    <tr>\n",
       "      <th>18</th>\n",
       "      <td>weston, ,</td>\n",
       "      <td>19</td>\n",
       "      <td>weston</td>\n",
       "      <td></td>\n",
       "      <td>None</td>\n",
       "    </tr>\n",
       "    <tr>\n",
       "      <th>90</th>\n",
       "      <td>toronto/newmarket, ,</td>\n",
       "      <td>91</td>\n",
       "      <td>toronto/newmarket</td>\n",
       "      <td></td>\n",
       "      <td>None</td>\n",
       "    </tr>\n",
       "    <tr>\n",
       "      <th>311</th>\n",
       "      <td>lk, jlk,</td>\n",
       "      <td>312</td>\n",
       "      <td>lk</td>\n",
       "      <td>jlk</td>\n",
       "      <td>None</td>\n",
       "    </tr>\n",
       "    <tr>\n",
       "      <th>317</th>\n",
       "      <td>berlin, n/a,</td>\n",
       "      <td>318</td>\n",
       "      <td>berlin</td>\n",
       "      <td>n/a</td>\n",
       "      <td>None</td>\n",
       "    </tr>\n",
       "    <tr>\n",
       "      <th>536</th>\n",
       "      <td>davis, california,</td>\n",
       "      <td>537</td>\n",
       "      <td>davis</td>\n",
       "      <td>california</td>\n",
       "      <td>None</td>\n",
       "    </tr>\n",
       "  </tbody>\n",
       "</table>\n",
       "</div>"
      ],
      "text/plain": [
       "                 location  user_id               city       state country\n",
       "18              weston, ,       19             weston                None\n",
       "90   toronto/newmarket, ,       91  toronto/newmarket                None\n",
       "311              lk, jlk,      312                 lk         jlk    None\n",
       "317          berlin, n/a,      318             berlin         n/a    None\n",
       "536    davis, california,      537              davis  california    None"
      ]
     },
     "execution_count": 57,
     "metadata": {},
     "output_type": "execute_result"
    }
   ],
   "source": [
    "users_df[users_df['country'].isna()].head()"
   ]
  },
  {
   "cell_type": "markdown",
   "metadata": {},
   "source": [
    "### Book Ratings"
   ]
  },
  {
   "cell_type": "code",
   "execution_count": 58,
   "metadata": {},
   "outputs": [
    {
     "data": {
      "text/html": [
       "<div>\n",
       "<style scoped>\n",
       "    .dataframe tbody tr th:only-of-type {\n",
       "        vertical-align: middle;\n",
       "    }\n",
       "\n",
       "    .dataframe tbody tr th {\n",
       "        vertical-align: top;\n",
       "    }\n",
       "\n",
       "    .dataframe thead th {\n",
       "        text-align: right;\n",
       "    }\n",
       "</style>\n",
       "<table border=\"1\" class=\"dataframe\">\n",
       "  <thead>\n",
       "    <tr style=\"text-align: right;\">\n",
       "      <th></th>\n",
       "      <th>book_rating</th>\n",
       "      <th>isbn</th>\n",
       "      <th>user_id</th>\n",
       "    </tr>\n",
       "  </thead>\n",
       "  <tbody>\n",
       "    <tr>\n",
       "      <th>0</th>\n",
       "      <td>0</td>\n",
       "      <td>034545104X</td>\n",
       "      <td>276725</td>\n",
       "    </tr>\n",
       "    <tr>\n",
       "      <th>1</th>\n",
       "      <td>5</td>\n",
       "      <td>0155061224</td>\n",
       "      <td>276726</td>\n",
       "    </tr>\n",
       "    <tr>\n",
       "      <th>2</th>\n",
       "      <td>0</td>\n",
       "      <td>0446520802</td>\n",
       "      <td>276727</td>\n",
       "    </tr>\n",
       "    <tr>\n",
       "      <th>3</th>\n",
       "      <td>3</td>\n",
       "      <td>052165615X</td>\n",
       "      <td>276729</td>\n",
       "    </tr>\n",
       "    <tr>\n",
       "      <th>4</th>\n",
       "      <td>6</td>\n",
       "      <td>0521795028</td>\n",
       "      <td>276729</td>\n",
       "    </tr>\n",
       "  </tbody>\n",
       "</table>\n",
       "</div>"
      ],
      "text/plain": [
       "   book_rating        isbn  user_id\n",
       "0            0  034545104X   276725\n",
       "1            5  0155061224   276726\n",
       "2            0  0446520802   276727\n",
       "3            3  052165615X   276729\n",
       "4            6  0521795028   276729"
      ]
     },
     "execution_count": 58,
     "metadata": {},
     "output_type": "execute_result"
    }
   ],
   "source": [
    "ratings_df.head()"
   ]
  },
  {
   "cell_type": "code",
   "execution_count": 59,
   "metadata": {},
   "outputs": [
    {
     "name": "stdout",
     "output_type": "stream",
     "text": [
      "<class 'pandas.core.frame.DataFrame'>\n",
      "RangeIndex: 1149780 entries, 0 to 1149779\n",
      "Data columns (total 3 columns):\n",
      "book_rating    1149780 non-null int64\n",
      "isbn           1149780 non-null object\n",
      "user_id        1149780 non-null int64\n",
      "dtypes: int64(2), object(1)\n",
      "memory usage: 26.3+ MB\n"
     ]
    }
   ],
   "source": [
    "ratings_df.info()"
   ]
  },
  {
   "cell_type": "markdown",
   "metadata": {},
   "source": [
    "#### ISBN"
   ]
  },
  {
   "cell_type": "code",
   "execution_count": 60,
   "metadata": {},
   "outputs": [
    {
     "name": "stdout",
     "output_type": "stream",
     "text": [
      "Ratings ISBN: 340556\n",
      "Books ISBN:   271379\n"
     ]
    },
    {
     "data": {
      "text/plain": [
       "False"
      ]
     },
     "execution_count": 60,
     "metadata": {},
     "output_type": "execute_result"
    }
   ],
   "source": [
    "print('Ratings ISBN:',ratings_df['isbn'].nunique())\n",
    "print('Books ISBN:  ',books_df['isbn'].nunique())\n",
    "ratings_df['isbn'].nunique() == books_df['isbn'].nunique()"
   ]
  },
  {
   "cell_type": "code",
   "execution_count": 61,
   "metadata": {},
   "outputs": [],
   "source": [
    "ratings_match_df = ratings_df[ratings_df['isbn'].isin(books_df['isbn'])]"
   ]
  },
  {
   "cell_type": "code",
   "execution_count": 62,
   "metadata": {},
   "outputs": [
    {
     "name": "stdout",
     "output_type": "stream",
     "text": [
      "Number of Ratings: 1031175\n",
      "Number of Books:   270170\n"
     ]
    }
   ],
   "source": [
    "print('Number of Ratings:',ratings_match_df.shape[0])\n",
    "print('Number of Books:  ',ratings_match_df['isbn'].nunique())"
   ]
  },
  {
   "cell_type": "code",
   "execution_count": 63,
   "metadata": {},
   "outputs": [],
   "source": [
    "books_three_plus = ratings_match_df['isbn'].value_counts().keys()[ratings_match_df['isbn'].value_counts() >= 3]"
   ]
  },
  {
   "cell_type": "code",
   "execution_count": 64,
   "metadata": {},
   "outputs": [],
   "source": [
    "ratings_match_df = ratings_match_df[ratings_match_df['isbn'].isin(books_three_plus.values)]"
   ]
  },
  {
   "cell_type": "code",
   "execution_count": 65,
   "metadata": {},
   "outputs": [
    {
     "name": "stdout",
     "output_type": "stream",
     "text": [
      "Number of Ratings: 788645\n",
      "Number of Books:   76076\n"
     ]
    }
   ],
   "source": [
    "print('Number of Ratings:',ratings_match_df.shape[0])\n",
    "print('Number of Books:  ',ratings_match_df['isbn'].nunique())"
   ]
  },
  {
   "cell_type": "code",
   "execution_count": 66,
   "metadata": {},
   "outputs": [
    {
     "data": {
      "text/plain": [
       "array([2502, 1295,  883, ...,    3,    3,    3])"
      ]
     },
     "execution_count": 66,
     "metadata": {},
     "output_type": "execute_result"
    }
   ],
   "source": [
    "ratings_match_df['isbn'].value_counts().values"
   ]
  },
  {
   "cell_type": "code",
   "execution_count": 67,
   "metadata": {},
   "outputs": [
    {
     "data": {
      "image/png": "[encoded data removed]",
      "text/plain": [
       "<Figure size 576x360 with 1 Axes>"
      ]
     },
     "metadata": {},
     "output_type": "display_data"
    }
   ],
   "source": [
    "plt.figure(figsize=(8, 5))\n",
    "plt.hist(x=ratings_match_df['isbn'].value_counts().values,\n",
    "         bins=np.linspace(0,250,50))\n",
    "plt.gca().set_yscale(\"log\")\n",
    "plt.title('Ratings per Book', fontsize=20)\n",
    "plt.xlabel('Ratings Given', fontsize=15)\n",
    "plt.ylabel('Book Count', fontsize=15)\n",
    "plt.xticks(fontsize=10)\n",
    "plt.yticks(fontsize=10);"
   ]
  },
  {
   "cell_type": "code",
   "execution_count": 68,
   "metadata": {},
   "outputs": [],
   "source": [
    "# ratings_match_df['isbn'].apply(lambda x: re.findall('\\d+X?', x))"
   ]
  },
  {
   "cell_type": "markdown",
   "metadata": {},
   "source": [
    "#### User ID"
   ]
  },
  {
   "cell_type": "code",
   "execution_count": 69,
   "metadata": {},
   "outputs": [
    {
     "data": {
      "text/plain": [
       "array([9276, 4322, 4082, ...,    1,    1,    1])"
      ]
     },
     "execution_count": 69,
     "metadata": {},
     "output_type": "execute_result"
    }
   ],
   "source": [
    "ratings_match_df['user_id'].value_counts().values"
   ]
  },
  {
   "cell_type": "code",
   "execution_count": 70,
   "metadata": {},
   "outputs": [
    {
     "data": {
      "text/plain": [
       "80930"
      ]
     },
     "execution_count": 70,
     "metadata": {},
     "output_type": "execute_result"
    }
   ],
   "source": [
    "ratings_match_df['user_id'].nunique()"
   ]
  },
  {
   "cell_type": "code",
   "execution_count": 71,
   "metadata": {},
   "outputs": [],
   "source": [
    "users_three_plus = ratings_match_df['user_id'].value_counts().keys()[ratings_match_df['user_id'].value_counts() >= 3]"
   ]
  },
  {
   "cell_type": "code",
   "execution_count": 72,
   "metadata": {},
   "outputs": [],
   "source": [
    "ratings_match_df = ratings_match_df[ratings_match_df['user_id'].isin(users_three_plus.values)]"
   ]
  },
  {
   "cell_type": "markdown",
   "metadata": {},
   "source": [
    "#### why are there 1s???"
   ]
  },
  {
   "cell_type": "code",
   "execution_count": 73,
   "metadata": {},
   "outputs": [
    {
     "data": {
      "text/plain": [
       "array([1707, 1045,  766, ...,    1,    1,    1])"
      ]
     },
     "execution_count": 73,
     "metadata": {},
     "output_type": "execute_result"
    }
   ],
   "source": [
    "ratings_match_df['isbn'].value_counts().values"
   ]
  },
  {
   "cell_type": "code",
   "execution_count": 74,
   "metadata": {},
   "outputs": [
    {
     "name": "stdout",
     "output_type": "stream",
     "text": [
      "Number of Ratings: 723863\n",
      "Number of Users:   25897\n"
     ]
    }
   ],
   "source": [
    "print('Number of Ratings:',ratings_match_df.shape[0])\n",
    "print('Number of Users:  ',ratings_match_df['user_id'].nunique())"
   ]
  },
  {
   "cell_type": "code",
   "execution_count": 75,
   "metadata": {},
   "outputs": [
    {
     "data": {
      "image/png": "[encoded data removed]",
      "text/plain": [
       "<Figure size 576x360 with 1 Axes>"
      ]
     },
     "metadata": {},
     "output_type": "display_data"
    }
   ],
   "source": [
    "plt.figure(figsize=(8, 5))\n",
    "plt.hist(x=ratings_match_df['user_id'].value_counts().values,\n",
    "         bins=np.linspace(0,450,50))\n",
    "plt.gca().set_yscale(\"log\")\n",
    "plt.title('Ratings per User', fontsize=20)\n",
    "plt.xlabel('Ratings Given', fontsize=15)\n",
    "plt.ylabel('User Count', fontsize=15)\n",
    "plt.xticks(fontsize=10)\n",
    "plt.yticks(fontsize=10);"
   ]
  },
  {
   "cell_type": "markdown",
   "metadata": {},
   "source": [
    "#### Book Rating"
   ]
  },
  {
   "cell_type": "code",
   "execution_count": 76,
   "metadata": {},
   "outputs": [
    {
     "data": {
      "text/plain": [
       "0     472328\n",
       "1        864\n",
       "2       1472\n",
       "3       3260\n",
       "4       4814\n",
       "5      27663\n",
       "6      20585\n",
       "7      43623\n",
       "8      60999\n",
       "9      41923\n",
       "10     46332\n",
       "Name: book_rating, dtype: int64"
      ]
     },
     "execution_count": 76,
     "metadata": {},
     "output_type": "execute_result"
    }
   ],
   "source": [
    "ratings_match_df['book_rating'].value_counts().sort_index()"
   ]
  },
  {
   "cell_type": "code",
   "execution_count": 77,
   "metadata": {},
   "outputs": [
    {
     "data": {
      "image/png": "[encoded data removed]",
      "text/plain": [
       "<Figure size 576x360 with 1 Axes>"
      ]
     },
     "metadata": {},
     "output_type": "display_data"
    }
   ],
   "source": [
    "plt.figure(figsize=(8, 5))\n",
    "plt.bar(x=ratings_match_df['book_rating'].value_counts().index,\n",
    "        height=ratings_match_df['book_rating'].value_counts().values)\n",
    "plt.title('Total Book Ratings Count', fontsize=20)\n",
    "plt.xlabel('Rating', fontsize=15)\n",
    "plt.ylabel('Count', fontsize=15)\n",
    "plt.xticks(ratings_df['book_rating'].value_counts().index, fontsize=10)\n",
    "plt.yticks(fontsize=10);"
   ]
  },
  {
   "cell_type": "code",
   "execution_count": 78,
   "metadata": {},
   "outputs": [],
   "source": [
    "ratings_explicit_df = ratings_match_df[ratings_match_df['book_rating'] != 0]\n",
    "ratings_implicit_df = ratings_match_df[ratings_match_df['book_rating'] == 0]"
   ]
  },
  {
   "cell_type": "code",
   "execution_count": 79,
   "metadata": {},
   "outputs": [
    {
     "data": {
      "text/html": [
       "<div>\n",
       "<style scoped>\n",
       "    .dataframe tbody tr th:only-of-type {\n",
       "        vertical-align: middle;\n",
       "    }\n",
       "\n",
       "    .dataframe tbody tr th {\n",
       "        vertical-align: top;\n",
       "    }\n",
       "\n",
       "    .dataframe thead th {\n",
       "        text-align: right;\n",
       "    }\n",
       "</style>\n",
       "<table border=\"1\" class=\"dataframe\">\n",
       "  <thead>\n",
       "    <tr style=\"text-align: right;\">\n",
       "      <th></th>\n",
       "      <th>count</th>\n",
       "      <th>mean</th>\n",
       "      <th>std</th>\n",
       "      <th>min</th>\n",
       "      <th>25%</th>\n",
       "      <th>50%</th>\n",
       "      <th>75%</th>\n",
       "      <th>max</th>\n",
       "    </tr>\n",
       "  </thead>\n",
       "  <tbody>\n",
       "    <tr>\n",
       "      <th>book_rating</th>\n",
       "      <td>723863.0</td>\n",
       "      <td>2.664384</td>\n",
       "      <td>3.804532</td>\n",
       "      <td>0.0</td>\n",
       "      <td>0.0</td>\n",
       "      <td>0.0</td>\n",
       "      <td>7.0</td>\n",
       "      <td>10.0</td>\n",
       "    </tr>\n",
       "  </tbody>\n",
       "</table>\n",
       "</div>"
      ],
      "text/plain": [
       "                count      mean       std  min  25%  50%  75%   max\n",
       "book_rating  723863.0  2.664384  3.804532  0.0  0.0  0.0  7.0  10.0"
      ]
     },
     "execution_count": 79,
     "metadata": {},
     "output_type": "execute_result"
    }
   ],
   "source": [
    "ratings_match_df[['book_rating']].describe().T"
   ]
  },
  {
   "cell_type": "code",
   "execution_count": 80,
   "metadata": {},
   "outputs": [
    {
     "data": {
      "text/html": [
       "<div>\n",
       "<style scoped>\n",
       "    .dataframe tbody tr th:only-of-type {\n",
       "        vertical-align: middle;\n",
       "    }\n",
       "\n",
       "    .dataframe tbody tr th {\n",
       "        vertical-align: top;\n",
       "    }\n",
       "\n",
       "    .dataframe thead th {\n",
       "        text-align: right;\n",
       "    }\n",
       "</style>\n",
       "<table border=\"1\" class=\"dataframe\">\n",
       "  <thead>\n",
       "    <tr style=\"text-align: right;\">\n",
       "      <th></th>\n",
       "      <th>count</th>\n",
       "      <th>mean</th>\n",
       "      <th>std</th>\n",
       "      <th>min</th>\n",
       "      <th>25%</th>\n",
       "      <th>50%</th>\n",
       "      <th>75%</th>\n",
       "      <th>max</th>\n",
       "    </tr>\n",
       "  </thead>\n",
       "  <tbody>\n",
       "    <tr>\n",
       "      <th>book_rating</th>\n",
       "      <td>251535.0</td>\n",
       "      <td>7.667517</td>\n",
       "      <td>1.814581</td>\n",
       "      <td>1.0</td>\n",
       "      <td>7.0</td>\n",
       "      <td>8.0</td>\n",
       "      <td>9.0</td>\n",
       "      <td>10.0</td>\n",
       "    </tr>\n",
       "  </tbody>\n",
       "</table>\n",
       "</div>"
      ],
      "text/plain": [
       "                count      mean       std  min  25%  50%  75%   max\n",
       "book_rating  251535.0  7.667517  1.814581  1.0  7.0  8.0  9.0  10.0"
      ]
     },
     "execution_count": 80,
     "metadata": {},
     "output_type": "execute_result"
    }
   ],
   "source": [
    "ratings_explicit_df[['book_rating']].describe().T"
   ]
  },
  {
   "cell_type": "code",
   "execution_count": 81,
   "metadata": {},
   "outputs": [
    {
     "data": {
      "image/png": "[encoded data removed]",
      "text/plain": [
       "<Figure size 576x360 with 1 Axes>"
      ]
     },
     "metadata": {},
     "output_type": "display_data"
    }
   ],
   "source": [
    "plt.figure(figsize=(8, 5))\n",
    "plt.bar(x=ratings_explicit_df['book_rating'].value_counts().index,\n",
    "        height=ratings_explicit_df['book_rating'].value_counts().values)\n",
    "plt.title('Explicit Book Ratings Count', fontsize=20)\n",
    "plt.xlabel('Rating', fontsize=15)\n",
    "plt.ylabel('Count', fontsize=15)\n",
    "plt.xticks(ratings_explicit_df['book_rating'].value_counts().index, fontsize=10)\n",
    "plt.yticks(fontsize=10);"
   ]
  },
  {
   "cell_type": "markdown",
   "metadata": {},
   "source": [
    "## Combine `books` and `ratings`"
   ]
  },
  {
   "cell_type": "code",
   "execution_count": 82,
   "metadata": {},
   "outputs": [
    {
     "data": {
      "text/html": [
       "<div>\n",
       "<style scoped>\n",
       "    .dataframe tbody tr th:only-of-type {\n",
       "        vertical-align: middle;\n",
       "    }\n",
       "\n",
       "    .dataframe tbody tr th {\n",
       "        vertical-align: top;\n",
       "    }\n",
       "\n",
       "    .dataframe thead th {\n",
       "        text-align: right;\n",
       "    }\n",
       "</style>\n",
       "<table border=\"1\" class=\"dataframe\">\n",
       "  <thead>\n",
       "    <tr style=\"text-align: right;\">\n",
       "      <th></th>\n",
       "      <th>book_rating</th>\n",
       "      <th>isbn</th>\n",
       "      <th>user_id</th>\n",
       "    </tr>\n",
       "  </thead>\n",
       "  <tbody>\n",
       "    <tr>\n",
       "      <th>10</th>\n",
       "      <td>0</td>\n",
       "      <td>0425115801</td>\n",
       "      <td>276746</td>\n",
       "    </tr>\n",
       "    <tr>\n",
       "      <th>11</th>\n",
       "      <td>0</td>\n",
       "      <td>0449006522</td>\n",
       "      <td>276746</td>\n",
       "    </tr>\n",
       "    <tr>\n",
       "      <th>12</th>\n",
       "      <td>0</td>\n",
       "      <td>0553561618</td>\n",
       "      <td>276746</td>\n",
       "    </tr>\n",
       "    <tr>\n",
       "      <th>13</th>\n",
       "      <td>0</td>\n",
       "      <td>055356451X</td>\n",
       "      <td>276746</td>\n",
       "    </tr>\n",
       "    <tr>\n",
       "      <th>14</th>\n",
       "      <td>0</td>\n",
       "      <td>0786013990</td>\n",
       "      <td>276746</td>\n",
       "    </tr>\n",
       "  </tbody>\n",
       "</table>\n",
       "</div>"
      ],
      "text/plain": [
       "    book_rating        isbn  user_id\n",
       "10            0  0425115801   276746\n",
       "11            0  0449006522   276746\n",
       "12            0  0553561618   276746\n",
       "13            0  055356451X   276746\n",
       "14            0  0786013990   276746"
      ]
     },
     "execution_count": 82,
     "metadata": {},
     "output_type": "execute_result"
    }
   ],
   "source": [
    "ratings_match_df.head()"
   ]
  },
  {
   "cell_type": "code",
   "execution_count": 83,
   "metadata": {},
   "outputs": [
    {
     "data": {
      "text/plain": [
       "723863"
      ]
     },
     "execution_count": 83,
     "metadata": {},
     "output_type": "execute_result"
    }
   ],
   "source": [
    "ratings_match_df.shape[0]"
   ]
  },
  {
   "cell_type": "code",
   "execution_count": 84,
   "metadata": {},
   "outputs": [
    {
     "data": {
      "text/html": [
       "<div>\n",
       "<style scoped>\n",
       "    .dataframe tbody tr th:only-of-type {\n",
       "        vertical-align: middle;\n",
       "    }\n",
       "\n",
       "    .dataframe tbody tr th {\n",
       "        vertical-align: top;\n",
       "    }\n",
       "\n",
       "    .dataframe thead th {\n",
       "        text-align: right;\n",
       "    }\n",
       "</style>\n",
       "<table border=\"1\" class=\"dataframe\">\n",
       "  <thead>\n",
       "    <tr style=\"text-align: right;\">\n",
       "      <th></th>\n",
       "      <th>book_author</th>\n",
       "      <th>book_title</th>\n",
       "      <th>isbn</th>\n",
       "      <th>publisher</th>\n",
       "      <th>year_of_publication</th>\n",
       "    </tr>\n",
       "  </thead>\n",
       "  <tbody>\n",
       "    <tr>\n",
       "      <th>0</th>\n",
       "      <td>Mark P. O. Morford</td>\n",
       "      <td>Classical Mythology</td>\n",
       "      <td>0195153448</td>\n",
       "      <td>Oxford University Press</td>\n",
       "      <td>2002</td>\n",
       "    </tr>\n",
       "    <tr>\n",
       "      <th>1</th>\n",
       "      <td>Richard Bruce Wright</td>\n",
       "      <td>Clara Callan</td>\n",
       "      <td>0002005018</td>\n",
       "      <td>HarperFlamingo Canada</td>\n",
       "      <td>2001</td>\n",
       "    </tr>\n",
       "    <tr>\n",
       "      <th>2</th>\n",
       "      <td>Carlo D'Este</td>\n",
       "      <td>Decision in Normandy</td>\n",
       "      <td>0060973129</td>\n",
       "      <td>HarperPerennial</td>\n",
       "      <td>1991</td>\n",
       "    </tr>\n",
       "    <tr>\n",
       "      <th>3</th>\n",
       "      <td>Gina Bari Kolata</td>\n",
       "      <td>Flu: The Story of the Great Influenza Pandemic...</td>\n",
       "      <td>0374157065</td>\n",
       "      <td>Farrar Straus Giroux</td>\n",
       "      <td>1999</td>\n",
       "    </tr>\n",
       "    <tr>\n",
       "      <th>4</th>\n",
       "      <td>E. J. W. Barber</td>\n",
       "      <td>The Mummies of Urumchi</td>\n",
       "      <td>0393045218</td>\n",
       "      <td>W. W. Norton &amp;amp; Company</td>\n",
       "      <td>1999</td>\n",
       "    </tr>\n",
       "  </tbody>\n",
       "</table>\n",
       "</div>"
      ],
      "text/plain": [
       "            book_author                                         book_title  \\\n",
       "0    Mark P. O. Morford                                Classical Mythology   \n",
       "1  Richard Bruce Wright                                       Clara Callan   \n",
       "2          Carlo D'Este                               Decision in Normandy   \n",
       "3      Gina Bari Kolata  Flu: The Story of the Great Influenza Pandemic...   \n",
       "4       E. J. W. Barber                             The Mummies of Urumchi   \n",
       "\n",
       "         isbn                   publisher  year_of_publication  \n",
       "0  0195153448     Oxford University Press                 2002  \n",
       "1  0002005018       HarperFlamingo Canada                 2001  \n",
       "2  0060973129             HarperPerennial                 1991  \n",
       "3  0374157065        Farrar Straus Giroux                 1999  \n",
       "4  0393045218  W. W. Norton &amp; Company                 1999  "
      ]
     },
     "execution_count": 84,
     "metadata": {},
     "output_type": "execute_result"
    }
   ],
   "source": [
    "books_df.head()"
   ]
  },
  {
   "cell_type": "code",
   "execution_count": 85,
   "metadata": {},
   "outputs": [
    {
     "data": {
      "text/plain": [
       "271379"
      ]
     },
     "execution_count": 85,
     "metadata": {},
     "output_type": "execute_result"
    }
   ],
   "source": [
    "books_df.shape[0]"
   ]
  },
  {
   "cell_type": "code",
   "execution_count": 86,
   "metadata": {},
   "outputs": [
    {
     "data": {
      "text/html": [
       "<div>\n",
       "<style scoped>\n",
       "    .dataframe tbody tr th:only-of-type {\n",
       "        vertical-align: middle;\n",
       "    }\n",
       "\n",
       "    .dataframe tbody tr th {\n",
       "        vertical-align: top;\n",
       "    }\n",
       "\n",
       "    .dataframe thead th {\n",
       "        text-align: right;\n",
       "    }\n",
       "</style>\n",
       "<table border=\"1\" class=\"dataframe\">\n",
       "  <thead>\n",
       "    <tr style=\"text-align: right;\">\n",
       "      <th></th>\n",
       "      <th>book_author</th>\n",
       "      <th>book_title</th>\n",
       "      <th>isbn</th>\n",
       "      <th>publisher</th>\n",
       "      <th>year_of_publication</th>\n",
       "    </tr>\n",
       "  </thead>\n",
       "  <tbody>\n",
       "    <tr>\n",
       "      <th>0</th>\n",
       "      <td>Mark P. O. Morford</td>\n",
       "      <td>Classical Mythology</td>\n",
       "      <td>0195153448</td>\n",
       "      <td>Oxford University Press</td>\n",
       "      <td>2002</td>\n",
       "    </tr>\n",
       "    <tr>\n",
       "      <th>1</th>\n",
       "      <td>Richard Bruce Wright</td>\n",
       "      <td>Clara Callan</td>\n",
       "      <td>0002005018</td>\n",
       "      <td>HarperFlamingo Canada</td>\n",
       "      <td>2001</td>\n",
       "    </tr>\n",
       "    <tr>\n",
       "      <th>2</th>\n",
       "      <td>Carlo D'Este</td>\n",
       "      <td>Decision in Normandy</td>\n",
       "      <td>0060973129</td>\n",
       "      <td>HarperPerennial</td>\n",
       "      <td>1991</td>\n",
       "    </tr>\n",
       "    <tr>\n",
       "      <th>3</th>\n",
       "      <td>Gina Bari Kolata</td>\n",
       "      <td>Flu: The Story of the Great Influenza Pandemic...</td>\n",
       "      <td>0374157065</td>\n",
       "      <td>Farrar Straus Giroux</td>\n",
       "      <td>1999</td>\n",
       "    </tr>\n",
       "    <tr>\n",
       "      <th>4</th>\n",
       "      <td>E. J. W. Barber</td>\n",
       "      <td>The Mummies of Urumchi</td>\n",
       "      <td>0393045218</td>\n",
       "      <td>W. W. Norton &amp;amp; Company</td>\n",
       "      <td>1999</td>\n",
       "    </tr>\n",
       "  </tbody>\n",
       "</table>\n",
       "</div>"
      ],
      "text/plain": [
       "            book_author                                         book_title  \\\n",
       "0    Mark P. O. Morford                                Classical Mythology   \n",
       "1  Richard Bruce Wright                                       Clara Callan   \n",
       "2          Carlo D'Este                               Decision in Normandy   \n",
       "3      Gina Bari Kolata  Flu: The Story of the Great Influenza Pandemic...   \n",
       "4       E. J. W. Barber                             The Mummies of Urumchi   \n",
       "\n",
       "         isbn                   publisher  year_of_publication  \n",
       "0  0195153448     Oxford University Press                 2002  \n",
       "1  0002005018       HarperFlamingo Canada                 2001  \n",
       "2  0060973129             HarperPerennial                 1991  \n",
       "3  0374157065        Farrar Straus Giroux                 1999  \n",
       "4  0393045218  W. W. Norton &amp; Company                 1999  "
      ]
     },
     "execution_count": 86,
     "metadata": {},
     "output_type": "execute_result"
    }
   ],
   "source": [
    "books_unique_df.head()"
   ]
  },
  {
   "cell_type": "code",
   "execution_count": 87,
   "metadata": {},
   "outputs": [
    {
     "data": {
      "text/plain": [
       "251204"
      ]
     },
     "execution_count": 87,
     "metadata": {},
     "output_type": "execute_result"
    }
   ],
   "source": [
    "books_unique_df.shape[0]"
   ]
  },
  {
   "cell_type": "code",
   "execution_count": 88,
   "metadata": {},
   "outputs": [],
   "source": [
    "ratings_and_books = ratings_match_df.merge(books_df[['isbn', 'book_author', 'book_title']], how='left')"
   ]
  },
  {
   "cell_type": "code",
   "execution_count": 89,
   "metadata": {},
   "outputs": [
    {
     "data": {
      "text/html": [
       "<div>\n",
       "<style scoped>\n",
       "    .dataframe tbody tr th:only-of-type {\n",
       "        vertical-align: middle;\n",
       "    }\n",
       "\n",
       "    .dataframe tbody tr th {\n",
       "        vertical-align: top;\n",
       "    }\n",
       "\n",
       "    .dataframe thead th {\n",
       "        text-align: right;\n",
       "    }\n",
       "</style>\n",
       "<table border=\"1\" class=\"dataframe\">\n",
       "  <thead>\n",
       "    <tr style=\"text-align: right;\">\n",
       "      <th></th>\n",
       "      <th>book_rating</th>\n",
       "      <th>isbn</th>\n",
       "      <th>user_id</th>\n",
       "      <th>book_author</th>\n",
       "      <th>book_title</th>\n",
       "    </tr>\n",
       "  </thead>\n",
       "  <tbody>\n",
       "    <tr>\n",
       "      <th>0</th>\n",
       "      <td>0</td>\n",
       "      <td>0425115801</td>\n",
       "      <td>276746</td>\n",
       "      <td>Dean R. Koontz</td>\n",
       "      <td>Lightning</td>\n",
       "    </tr>\n",
       "    <tr>\n",
       "      <th>1</th>\n",
       "      <td>0</td>\n",
       "      <td>0449006522</td>\n",
       "      <td>276746</td>\n",
       "      <td>JOHN SAUL</td>\n",
       "      <td>Manhattan Hunt Club</td>\n",
       "    </tr>\n",
       "    <tr>\n",
       "      <th>2</th>\n",
       "      <td>0</td>\n",
       "      <td>0553561618</td>\n",
       "      <td>276746</td>\n",
       "      <td>TAMI HOAG</td>\n",
       "      <td>Dark Paradise</td>\n",
       "    </tr>\n",
       "    <tr>\n",
       "      <th>3</th>\n",
       "      <td>0</td>\n",
       "      <td>055356451X</td>\n",
       "      <td>276746</td>\n",
       "      <td>TAMI HOAG</td>\n",
       "      <td>Night Sins</td>\n",
       "    </tr>\n",
       "    <tr>\n",
       "      <th>4</th>\n",
       "      <td>0</td>\n",
       "      <td>0786013990</td>\n",
       "      <td>276746</td>\n",
       "      <td>David Dun</td>\n",
       "      <td>At the Edge</td>\n",
       "    </tr>\n",
       "  </tbody>\n",
       "</table>\n",
       "</div>"
      ],
      "text/plain": [
       "   book_rating        isbn  user_id     book_author           book_title\n",
       "0            0  0425115801   276746  Dean R. Koontz            Lightning\n",
       "1            0  0449006522   276746       JOHN SAUL  Manhattan Hunt Club\n",
       "2            0  0553561618   276746       TAMI HOAG        Dark Paradise\n",
       "3            0  055356451X   276746       TAMI HOAG           Night Sins\n",
       "4            0  0786013990   276746       David Dun          At the Edge"
      ]
     },
     "execution_count": 89,
     "metadata": {},
     "output_type": "execute_result"
    }
   ],
   "source": [
    "ratings_and_books.head()"
   ]
  },
  {
   "cell_type": "code",
   "execution_count": 90,
   "metadata": {},
   "outputs": [
    {
     "data": {
      "text/plain": [
       "723863"
      ]
     },
     "execution_count": 90,
     "metadata": {},
     "output_type": "execute_result"
    }
   ],
   "source": [
    "ratings_and_books.shape[0]"
   ]
  },
  {
   "cell_type": "code",
   "execution_count": 91,
   "metadata": {},
   "outputs": [],
   "source": [
    "new_ratings_and_books = books_unique_df.merge(ratings_and_books.drop(columns='isbn'), on=['book_author', 'book_title'])"
   ]
  },
  {
   "cell_type": "code",
   "execution_count": 92,
   "metadata": {},
   "outputs": [
    {
     "data": {
      "text/html": [
       "<div>\n",
       "<style scoped>\n",
       "    .dataframe tbody tr th:only-of-type {\n",
       "        vertical-align: middle;\n",
       "    }\n",
       "\n",
       "    .dataframe tbody tr th {\n",
       "        vertical-align: top;\n",
       "    }\n",
       "\n",
       "    .dataframe thead th {\n",
       "        text-align: right;\n",
       "    }\n",
       "</style>\n",
       "<table border=\"1\" class=\"dataframe\">\n",
       "  <thead>\n",
       "    <tr style=\"text-align: right;\">\n",
       "      <th></th>\n",
       "      <th>book_author</th>\n",
       "      <th>book_title</th>\n",
       "      <th>isbn</th>\n",
       "      <th>publisher</th>\n",
       "      <th>year_of_publication</th>\n",
       "      <th>book_rating</th>\n",
       "      <th>user_id</th>\n",
       "    </tr>\n",
       "  </thead>\n",
       "  <tbody>\n",
       "    <tr>\n",
       "      <th>0</th>\n",
       "      <td>Richard Bruce Wright</td>\n",
       "      <td>Clara Callan</td>\n",
       "      <td>0002005018</td>\n",
       "      <td>HarperFlamingo Canada</td>\n",
       "      <td>2001</td>\n",
       "      <td>5</td>\n",
       "      <td>8</td>\n",
       "    </tr>\n",
       "    <tr>\n",
       "      <th>1</th>\n",
       "      <td>Richard Bruce Wright</td>\n",
       "      <td>Clara Callan</td>\n",
       "      <td>0002005018</td>\n",
       "      <td>HarperFlamingo Canada</td>\n",
       "      <td>2001</td>\n",
       "      <td>0</td>\n",
       "      <td>11400</td>\n",
       "    </tr>\n",
       "    <tr>\n",
       "      <th>2</th>\n",
       "      <td>Richard Bruce Wright</td>\n",
       "      <td>Clara Callan</td>\n",
       "      <td>0002005018</td>\n",
       "      <td>HarperFlamingo Canada</td>\n",
       "      <td>2001</td>\n",
       "      <td>8</td>\n",
       "      <td>11676</td>\n",
       "    </tr>\n",
       "    <tr>\n",
       "      <th>3</th>\n",
       "      <td>Richard Bruce Wright</td>\n",
       "      <td>Clara Callan</td>\n",
       "      <td>0002005018</td>\n",
       "      <td>HarperFlamingo Canada</td>\n",
       "      <td>2001</td>\n",
       "      <td>0</td>\n",
       "      <td>41385</td>\n",
       "    </tr>\n",
       "    <tr>\n",
       "      <th>4</th>\n",
       "      <td>Richard Bruce Wright</td>\n",
       "      <td>Clara Callan</td>\n",
       "      <td>0002005018</td>\n",
       "      <td>HarperFlamingo Canada</td>\n",
       "      <td>2001</td>\n",
       "      <td>8</td>\n",
       "      <td>67544</td>\n",
       "    </tr>\n",
       "  </tbody>\n",
       "</table>\n",
       "</div>"
      ],
      "text/plain": [
       "            book_author    book_title        isbn              publisher  \\\n",
       "0  Richard Bruce Wright  Clara Callan  0002005018  HarperFlamingo Canada   \n",
       "1  Richard Bruce Wright  Clara Callan  0002005018  HarperFlamingo Canada   \n",
       "2  Richard Bruce Wright  Clara Callan  0002005018  HarperFlamingo Canada   \n",
       "3  Richard Bruce Wright  Clara Callan  0002005018  HarperFlamingo Canada   \n",
       "4  Richard Bruce Wright  Clara Callan  0002005018  HarperFlamingo Canada   \n",
       "\n",
       "   year_of_publication  book_rating  user_id  \n",
       "0                 2001            5        8  \n",
       "1                 2001            0    11400  \n",
       "2                 2001            8    11676  \n",
       "3                 2001            0    41385  \n",
       "4                 2001            8    67544  "
      ]
     },
     "execution_count": 92,
     "metadata": {},
     "output_type": "execute_result"
    }
   ],
   "source": [
    "new_ratings_and_books.head()"
   ]
  },
  {
   "cell_type": "code",
   "execution_count": 93,
   "metadata": {},
   "outputs": [
    {
     "data": {
      "text/plain": [
       "True"
      ]
     },
     "execution_count": 93,
     "metadata": {},
     "output_type": "execute_result"
    }
   ],
   "source": [
    "new_ratings_and_books.shape[0] == ratings_and_books.shape[0]"
   ]
  },
  {
   "cell_type": "code",
   "execution_count": 94,
   "metadata": {},
   "outputs": [
    {
     "data": {
      "text/plain": [
       "25897"
      ]
     },
     "execution_count": 94,
     "metadata": {},
     "output_type": "execute_result"
    }
   ],
   "source": [
    "new_ratings_and_books['user_id'].nunique()"
   ]
  },
  {
   "cell_type": "markdown",
   "metadata": {},
   "source": [
    "## Ratings Count"
   ]
  },
  {
   "cell_type": "code",
   "execution_count": 95,
   "metadata": {},
   "outputs": [],
   "source": [
    "total_count = new_ratings_and_books.groupby('isbn', as_index=False)[['book_rating']].count().rename(columns={'book_rating': 'total_count'})\n",
    "explicit_count = new_ratings_and_books[new_ratings_and_books['book_rating'] != 0].groupby('isbn', as_index=False)[['book_rating']].count().rename(columns={'book_rating': 'explicit_count'})"
   ]
  },
  {
   "cell_type": "code",
   "execution_count": 96,
   "metadata": {},
   "outputs": [],
   "source": [
    "ratings_count = total_count.merge(explicit_count, how='outer', on='isbn').fillna(0).astype({'explicit_count': int})"
   ]
  },
  {
   "cell_type": "code",
   "execution_count": 97,
   "metadata": {},
   "outputs": [
    {
     "data": {
      "text/html": [
       "<div>\n",
       "<style scoped>\n",
       "    .dataframe tbody tr th:only-of-type {\n",
       "        vertical-align: middle;\n",
       "    }\n",
       "\n",
       "    .dataframe tbody tr th {\n",
       "        vertical-align: top;\n",
       "    }\n",
       "\n",
       "    .dataframe thead th {\n",
       "        text-align: right;\n",
       "    }\n",
       "</style>\n",
       "<table border=\"1\" class=\"dataframe\">\n",
       "  <thead>\n",
       "    <tr style=\"text-align: right;\">\n",
       "      <th></th>\n",
       "      <th>isbn</th>\n",
       "      <th>total_count</th>\n",
       "      <th>explicit_count</th>\n",
       "    </tr>\n",
       "  </thead>\n",
       "  <tbody>\n",
       "    <tr>\n",
       "      <th>0</th>\n",
       "      <td>0001046438</td>\n",
       "      <td>8</td>\n",
       "      <td>2</td>\n",
       "    </tr>\n",
       "    <tr>\n",
       "      <th>1</th>\n",
       "      <td>0001837397</td>\n",
       "      <td>3</td>\n",
       "      <td>1</td>\n",
       "    </tr>\n",
       "    <tr>\n",
       "      <th>2</th>\n",
       "      <td>0001841572</td>\n",
       "      <td>3</td>\n",
       "      <td>0</td>\n",
       "    </tr>\n",
       "    <tr>\n",
       "      <th>3</th>\n",
       "      <td>0001848445</td>\n",
       "      <td>2</td>\n",
       "      <td>0</td>\n",
       "    </tr>\n",
       "    <tr>\n",
       "      <th>4</th>\n",
       "      <td>0001900277</td>\n",
       "      <td>2</td>\n",
       "      <td>0</td>\n",
       "    </tr>\n",
       "  </tbody>\n",
       "</table>\n",
       "</div>"
      ],
      "text/plain": [
       "         isbn  total_count  explicit_count\n",
       "0  0001046438            8               2\n",
       "1  0001837397            3               1\n",
       "2  0001841572            3               0\n",
       "3  0001848445            2               0\n",
       "4  0001900277            2               0"
      ]
     },
     "execution_count": 97,
     "metadata": {},
     "output_type": "execute_result"
    }
   ],
   "source": [
    "ratings_count.head()"
   ]
  },
  {
   "cell_type": "code",
   "execution_count": 98,
   "metadata": {},
   "outputs": [
    {
     "name": "stdout",
     "output_type": "stream",
     "text": [
      "<class 'pandas.core.frame.DataFrame'>\n",
      "Int64Index: 69591 entries, 0 to 69590\n",
      "Data columns (total 3 columns):\n",
      "isbn              69591 non-null object\n",
      "total_count       69591 non-null int64\n",
      "explicit_count    69591 non-null int64\n",
      "dtypes: int64(2), object(1)\n",
      "memory usage: 2.1+ MB\n"
     ]
    }
   ],
   "source": [
    "ratings_count.info()"
   ]
  },
  {
   "cell_type": "code",
   "execution_count": 99,
   "metadata": {},
   "outputs": [
    {
     "data": {
      "text/plain": [
       "14022"
      ]
     },
     "execution_count": 99,
     "metadata": {},
     "output_type": "execute_result"
    }
   ],
   "source": [
    "ratings_count[ratings_count['explicit_count'] == 0].shape[0]"
   ]
  },
  {
   "cell_type": "code",
   "execution_count": 100,
   "metadata": {},
   "outputs": [
    {
     "data": {
      "text/html": [
       "<div>\n",
       "<style scoped>\n",
       "    .dataframe tbody tr th:only-of-type {\n",
       "        vertical-align: middle;\n",
       "    }\n",
       "\n",
       "    .dataframe tbody tr th {\n",
       "        vertical-align: top;\n",
       "    }\n",
       "\n",
       "    .dataframe thead th {\n",
       "        text-align: right;\n",
       "    }\n",
       "</style>\n",
       "<table border=\"1\" class=\"dataframe\">\n",
       "  <thead>\n",
       "    <tr style=\"text-align: right;\">\n",
       "      <th></th>\n",
       "      <th>isbn</th>\n",
       "      <th>total_count</th>\n",
       "    </tr>\n",
       "  </thead>\n",
       "  <tbody>\n",
       "    <tr>\n",
       "      <th>69586</th>\n",
       "      <td>B00007MF56</td>\n",
       "      <td>12</td>\n",
       "    </tr>\n",
       "    <tr>\n",
       "      <th>69587</th>\n",
       "      <td>B00009APKU</td>\n",
       "      <td>11</td>\n",
       "    </tr>\n",
       "    <tr>\n",
       "      <th>69588</th>\n",
       "      <td>B0000A2U93</td>\n",
       "      <td>8</td>\n",
       "    </tr>\n",
       "    <tr>\n",
       "      <th>69589</th>\n",
       "      <td>B00013AX6W</td>\n",
       "      <td>6</td>\n",
       "    </tr>\n",
       "    <tr>\n",
       "      <th>69590</th>\n",
       "      <td>B0001GDNCK</td>\n",
       "      <td>25</td>\n",
       "    </tr>\n",
       "  </tbody>\n",
       "</table>\n",
       "</div>"
      ],
      "text/plain": [
       "             isbn  total_count\n",
       "69586  B00007MF56           12\n",
       "69587  B00009APKU           11\n",
       "69588  B0000A2U93            8\n",
       "69589  B00013AX6W            6\n",
       "69590  B0001GDNCK           25"
      ]
     },
     "execution_count": 100,
     "metadata": {},
     "output_type": "execute_result"
    }
   ],
   "source": [
    "total_count.tail()"
   ]
  },
  {
   "cell_type": "code",
   "execution_count": 101,
   "metadata": {},
   "outputs": [
    {
     "data": {
      "text/html": [
       "<div>\n",
       "<style scoped>\n",
       "    .dataframe tbody tr th:only-of-type {\n",
       "        vertical-align: middle;\n",
       "    }\n",
       "\n",
       "    .dataframe tbody tr th {\n",
       "        vertical-align: top;\n",
       "    }\n",
       "\n",
       "    .dataframe thead th {\n",
       "        text-align: right;\n",
       "    }\n",
       "</style>\n",
       "<table border=\"1\" class=\"dataframe\">\n",
       "  <thead>\n",
       "    <tr style=\"text-align: right;\">\n",
       "      <th></th>\n",
       "      <th>book_author</th>\n",
       "      <th>book_title</th>\n",
       "      <th>isbn</th>\n",
       "      <th>publisher</th>\n",
       "      <th>year_of_publication</th>\n",
       "    </tr>\n",
       "  </thead>\n",
       "  <tbody>\n",
       "    <tr>\n",
       "      <th>108622</th>\n",
       "      <td>T. Coraghessan Boyle</td>\n",
       "      <td>After the Plague: And Other Stories</td>\n",
       "      <td>B00013AX6W</td>\n",
       "      <td>Viking Press</td>\n",
       "      <td>2001</td>\n",
       "    </tr>\n",
       "    <tr>\n",
       "      <th>148180</th>\n",
       "      <td>T. Coraghessan Boyle</td>\n",
       "      <td>After the Plague: And Other Stories</td>\n",
       "      <td>0670030058</td>\n",
       "      <td>Viking Books</td>\n",
       "      <td>2001</td>\n",
       "    </tr>\n",
       "  </tbody>\n",
       "</table>\n",
       "</div>"
      ],
      "text/plain": [
       "                 book_author                           book_title        isbn  \\\n",
       "108622  T. Coraghessan Boyle  After the Plague: And Other Stories  B00013AX6W   \n",
       "148180  T. Coraghessan Boyle  After the Plague: And Other Stories  0670030058   \n",
       "\n",
       "           publisher  year_of_publication  \n",
       "108622  Viking Press                 2001  \n",
       "148180  Viking Books                 2001  "
      ]
     },
     "execution_count": 101,
     "metadata": {},
     "output_type": "execute_result"
    }
   ],
   "source": [
    "books_df[books_df['book_title'] == 'After the Plague: And Other Stories']"
   ]
  },
  {
   "cell_type": "code",
   "execution_count": 102,
   "metadata": {},
   "outputs": [
    {
     "data": {
      "text/html": [
       "<div>\n",
       "<style scoped>\n",
       "    .dataframe tbody tr th:only-of-type {\n",
       "        vertical-align: middle;\n",
       "    }\n",
       "\n",
       "    .dataframe tbody tr th {\n",
       "        vertical-align: top;\n",
       "    }\n",
       "\n",
       "    .dataframe thead th {\n",
       "        text-align: right;\n",
       "    }\n",
       "</style>\n",
       "<table border=\"1\" class=\"dataframe\">\n",
       "  <thead>\n",
       "    <tr style=\"text-align: right;\">\n",
       "      <th></th>\n",
       "      <th>book_author</th>\n",
       "      <th>book_title</th>\n",
       "      <th>isbn</th>\n",
       "      <th>publisher</th>\n",
       "      <th>year_of_publication</th>\n",
       "      <th>book_rating</th>\n",
       "      <th>user_id</th>\n",
       "    </tr>\n",
       "  </thead>\n",
       "  <tbody>\n",
       "  </tbody>\n",
       "</table>\n",
       "</div>"
      ],
      "text/plain": [
       "Empty DataFrame\n",
       "Columns: [book_author, book_title, isbn, publisher, year_of_publication, book_rating, user_id]\n",
       "Index: []"
      ]
     },
     "execution_count": 102,
     "metadata": {},
     "output_type": "execute_result"
    }
   ],
   "source": [
    "new_ratings_and_books[new_ratings_and_books['isbn'] == '0670030058'].head()"
   ]
  },
  {
   "cell_type": "code",
   "execution_count": 103,
   "metadata": {},
   "outputs": [
    {
     "data": {
      "text/html": [
       "<div>\n",
       "<style scoped>\n",
       "    .dataframe tbody tr th:only-of-type {\n",
       "        vertical-align: middle;\n",
       "    }\n",
       "\n",
       "    .dataframe tbody tr th {\n",
       "        vertical-align: top;\n",
       "    }\n",
       "\n",
       "    .dataframe thead th {\n",
       "        text-align: right;\n",
       "    }\n",
       "</style>\n",
       "<table border=\"1\" class=\"dataframe\">\n",
       "  <thead>\n",
       "    <tr style=\"text-align: right;\">\n",
       "      <th></th>\n",
       "      <th>isbn</th>\n",
       "      <th>total_count</th>\n",
       "    </tr>\n",
       "  </thead>\n",
       "  <tbody>\n",
       "    <tr>\n",
       "      <th>69584</th>\n",
       "      <td>B00005U7YK</td>\n",
       "      <td>3</td>\n",
       "    </tr>\n",
       "    <tr>\n",
       "      <th>69585</th>\n",
       "      <td>B0000633PU</td>\n",
       "      <td>2</td>\n",
       "    </tr>\n",
       "    <tr>\n",
       "      <th>69586</th>\n",
       "      <td>B00007MF56</td>\n",
       "      <td>12</td>\n",
       "    </tr>\n",
       "    <tr>\n",
       "      <th>69587</th>\n",
       "      <td>B00009APKU</td>\n",
       "      <td>11</td>\n",
       "    </tr>\n",
       "    <tr>\n",
       "      <th>69588</th>\n",
       "      <td>B0000A2U93</td>\n",
       "      <td>8</td>\n",
       "    </tr>\n",
       "    <tr>\n",
       "      <th>69589</th>\n",
       "      <td>B00013AX6W</td>\n",
       "      <td>6</td>\n",
       "    </tr>\n",
       "    <tr>\n",
       "      <th>69590</th>\n",
       "      <td>B0001GDNCK</td>\n",
       "      <td>25</td>\n",
       "    </tr>\n",
       "  </tbody>\n",
       "</table>\n",
       "</div>"
      ],
      "text/plain": [
       "             isbn  total_count\n",
       "69584  B00005U7YK            3\n",
       "69585  B0000633PU            2\n",
       "69586  B00007MF56           12\n",
       "69587  B00009APKU           11\n",
       "69588  B0000A2U93            8\n",
       "69589  B00013AX6W            6\n",
       "69590  B0001GDNCK           25"
      ]
     },
     "execution_count": 103,
     "metadata": {},
     "output_type": "execute_result"
    }
   ],
   "source": [
    "total_count.tail(7)"
   ]
  },
  {
   "cell_type": "code",
   "execution_count": 104,
   "metadata": {},
   "outputs": [],
   "source": [
    "total_count.loc[69590, ['isbn']] = '0671644467'\n",
    "\n",
    "total_count.loc[69584, ['isbn']] = '081440491X'\n",
    "\n",
    "total_count.loc[69586, ['isbn']] = '0743223306'\n",
    "\n",
    "total_count.loc[69587, ['isbn']] = '1561560936'\n",
    "\n",
    "total_count.loc[69588, ['isbn']] = '1843500728'\n",
    "\n",
    "total_count.loc[69589, ['isbn']] = '0670030058'"
   ]
  },
  {
   "cell_type": "code",
   "execution_count": 105,
   "metadata": {},
   "outputs": [],
   "source": [
    "new_ratings_and_books.replace(to_replace='B0001GDNCK', value='0671644467', inplace=True)\n",
    "\n",
    "new_ratings_and_books.replace(to_replace='B00005U7YK', value='081440491X', inplace=True)\n",
    "\n",
    "new_ratings_and_books.replace(to_replace='B00007MF56', value='0743223306', inplace=True)\n",
    "\n",
    "new_ratings_and_books.replace(to_replace='B00009APKU', value='1561560936', inplace=True)\n",
    "\n",
    "new_ratings_and_books.replace(to_replace='B0000A2U93', value='1843500728', inplace=True)\n",
    "\n",
    "new_ratings_and_books.replace(to_replace='B00013AX6W', value='0670030058', inplace=True)"
   ]
  },
  {
   "cell_type": "markdown",
   "metadata": {},
   "source": [
    "## Save Explicit Ratings ONLY"
   ]
  },
  {
   "cell_type": "code",
   "execution_count": 202,
   "metadata": {},
   "outputs": [],
   "source": [
    "remove_imp = new_ratings_and_books[new_ratings_and_books['book_rating'] != 0]"
   ]
  },
  {
   "cell_type": "code",
   "execution_count": 122,
   "metadata": {},
   "outputs": [
    {
     "data": {
      "text/plain": [
       "723863"
      ]
     },
     "execution_count": 122,
     "metadata": {},
     "output_type": "execute_result"
    }
   ],
   "source": [
    "new_ratings_and_books.shape[0]"
   ]
  },
  {
   "cell_type": "code",
   "execution_count": 124,
   "metadata": {},
   "outputs": [
    {
     "data": {
      "text/plain": [
       "69591"
      ]
     },
     "execution_count": 124,
     "metadata": {},
     "output_type": "execute_result"
    }
   ],
   "source": [
    "new_ratings_and_books['isbn'].nunique()"
   ]
  },
  {
   "cell_type": "code",
   "execution_count": null,
   "metadata": {},
   "outputs": [],
   "source": []
  },
  {
   "cell_type": "code",
   "execution_count": null,
   "metadata": {},
   "outputs": [],
   "source": []
  },
  {
   "cell_type": "code",
   "execution_count": 130,
   "metadata": {},
   "outputs": [],
   "source": [
    "isbn_greater_ten = new_ratings_and_books['isbn'].value_counts().index[new_ratings_and_books['isbn'].value_counts().values > 10]"
   ]
  },
  {
   "cell_type": "code",
   "execution_count": 175,
   "metadata": {},
   "outputs": [],
   "source": [
    "test_ratings = new_ratings_and_books[new_ratings_and_books['isbn'].isin(isbn_greater_ten)]"
   ]
  },
  {
   "cell_type": "code",
   "execution_count": 176,
   "metadata": {},
   "outputs": [],
   "source": [
    "test_implicit = test_ratings[test_ratings.book_rating == 0][['isbn', 'user_id']].to_dict('list')"
   ]
  },
  {
   "cell_type": "code",
   "execution_count": 181,
   "metadata": {},
   "outputs": [],
   "source": [
    "test_imp_dict = dict(zip(test_implicit['isbn'], test_implicit['user_id']))"
   ]
  },
  {
   "cell_type": "code",
   "execution_count": 169,
   "metadata": {},
   "outputs": [
    {
     "name": "stderr",
     "output_type": "stream",
     "text": [
      "/Users/connie/anaconda3/lib/python3.6/site-packages/ipykernel_launcher.py:1: SettingWithCopyWarning: \n",
      "A value is trying to be set on a copy of a slice from a DataFrame.\n",
      "Try using .loc[row_indexer,col_indexer] = value instead\n",
      "\n",
      "See the caveats in the documentation: http://pandas.pydata.org/pandas-docs/stable/indexing.html#indexing-view-versus-copy\n",
      "  \"\"\"Entry point for launching an IPython kernel.\n"
     ]
    }
   ],
   "source": [
    "test_ratings['book_rating'] = test_ratings['book_rating'].apply(lambda x: np.nan if x == 0 else x)"
   ]
  },
  {
   "cell_type": "code",
   "execution_count": 146,
   "metadata": {},
   "outputs": [
    {
     "data": {
      "text/html": [
       "<div>\n",
       "<style scoped>\n",
       "    .dataframe tbody tr th:only-of-type {\n",
       "        vertical-align: middle;\n",
       "    }\n",
       "\n",
       "    .dataframe tbody tr th {\n",
       "        vertical-align: top;\n",
       "    }\n",
       "\n",
       "    .dataframe thead th {\n",
       "        text-align: right;\n",
       "    }\n",
       "</style>\n",
       "<table border=\"1\" class=\"dataframe\">\n",
       "  <thead>\n",
       "    <tr style=\"text-align: right;\">\n",
       "      <th></th>\n",
       "      <th>book_author</th>\n",
       "      <th>book_title</th>\n",
       "      <th>isbn</th>\n",
       "      <th>publisher</th>\n",
       "      <th>year_of_publication</th>\n",
       "      <th>book_rating</th>\n",
       "      <th>user_id</th>\n",
       "    </tr>\n",
       "  </thead>\n",
       "  <tbody>\n",
       "    <tr>\n",
       "      <th>0</th>\n",
       "      <td>Richard Bruce Wright</td>\n",
       "      <td>Clara Callan</td>\n",
       "      <td>0002005018</td>\n",
       "      <td>HarperFlamingo Canada</td>\n",
       "      <td>2001</td>\n",
       "      <td>5.0</td>\n",
       "      <td>8</td>\n",
       "    </tr>\n",
       "    <tr>\n",
       "      <th>1</th>\n",
       "      <td>Richard Bruce Wright</td>\n",
       "      <td>Clara Callan</td>\n",
       "      <td>0002005018</td>\n",
       "      <td>HarperFlamingo Canada</td>\n",
       "      <td>2001</td>\n",
       "      <td>NaN</td>\n",
       "      <td>11400</td>\n",
       "    </tr>\n",
       "    <tr>\n",
       "      <th>2</th>\n",
       "      <td>Richard Bruce Wright</td>\n",
       "      <td>Clara Callan</td>\n",
       "      <td>0002005018</td>\n",
       "      <td>HarperFlamingo Canada</td>\n",
       "      <td>2001</td>\n",
       "      <td>8.0</td>\n",
       "      <td>11676</td>\n",
       "    </tr>\n",
       "    <tr>\n",
       "      <th>3</th>\n",
       "      <td>Richard Bruce Wright</td>\n",
       "      <td>Clara Callan</td>\n",
       "      <td>0002005018</td>\n",
       "      <td>HarperFlamingo Canada</td>\n",
       "      <td>2001</td>\n",
       "      <td>NaN</td>\n",
       "      <td>41385</td>\n",
       "    </tr>\n",
       "    <tr>\n",
       "      <th>4</th>\n",
       "      <td>Richard Bruce Wright</td>\n",
       "      <td>Clara Callan</td>\n",
       "      <td>0002005018</td>\n",
       "      <td>HarperFlamingo Canada</td>\n",
       "      <td>2001</td>\n",
       "      <td>8.0</td>\n",
       "      <td>67544</td>\n",
       "    </tr>\n",
       "  </tbody>\n",
       "</table>\n",
       "</div>"
      ],
      "text/plain": [
       "            book_author    book_title        isbn              publisher  \\\n",
       "0  Richard Bruce Wright  Clara Callan  0002005018  HarperFlamingo Canada   \n",
       "1  Richard Bruce Wright  Clara Callan  0002005018  HarperFlamingo Canada   \n",
       "2  Richard Bruce Wright  Clara Callan  0002005018  HarperFlamingo Canada   \n",
       "3  Richard Bruce Wright  Clara Callan  0002005018  HarperFlamingo Canada   \n",
       "4  Richard Bruce Wright  Clara Callan  0002005018  HarperFlamingo Canada   \n",
       "\n",
       "   year_of_publication  book_rating  user_id  \n",
       "0                 2001          5.0        8  \n",
       "1                 2001          NaN    11400  \n",
       "2                 2001          8.0    11676  \n",
       "3                 2001          NaN    41385  \n",
       "4                 2001          8.0    67544  "
      ]
     },
     "execution_count": 146,
     "metadata": {},
     "output_type": "execute_result"
    }
   ],
   "source": [
    "test_ratings.head()"
   ]
  },
  {
   "cell_type": "code",
   "execution_count": 148,
   "metadata": {},
   "outputs": [],
   "source": [
    "test_ratings = test_ratings[['isbn', 'user_id', 'book_rating']]"
   ]
  },
  {
   "cell_type": "code",
   "execution_count": 152,
   "metadata": {},
   "outputs": [],
   "source": [
    "test_list = test_ratings.to_dict('list')"
   ]
  },
  {
   "cell_type": "code",
   "execution_count": 155,
   "metadata": {},
   "outputs": [],
   "source": [
    "test_ratings = {}\n",
    "for user, book, rating in zip(test_list['user_id'], test_list['isbn'], test_list['book_rating']):\n",
    "    if test_ratings.get(user):\n",
    "        test_ratings[user][book] = rating\n",
    "    else:\n",
    "        test_ratings[user] = {book: rating}"
   ]
  },
  {
   "cell_type": "code",
   "execution_count": 157,
   "metadata": {},
   "outputs": [
    {
     "data": {
      "text/plain": [
       "25193"
      ]
     },
     "execution_count": 157,
     "metadata": {},
     "output_type": "execute_result"
    }
   ],
   "source": [
    "len(test_ratings)"
   ]
  },
  {
   "cell_type": "code",
   "execution_count": 159,
   "metadata": {},
   "outputs": [],
   "source": [
    "test_ratings_sdf = pd.SparseDataFrame(test_ratings)"
   ]
  },
  {
   "cell_type": "code",
   "execution_count": 160,
   "metadata": {},
   "outputs": [
    {
     "data": {
      "text/html": [
       "<div>\n",
       "<style scoped>\n",
       "    .dataframe tbody tr th:only-of-type {\n",
       "        vertical-align: middle;\n",
       "    }\n",
       "\n",
       "    .dataframe tbody tr th {\n",
       "        vertical-align: top;\n",
       "    }\n",
       "\n",
       "    .dataframe thead th {\n",
       "        text-align: right;\n",
       "    }\n",
       "</style>\n",
       "<table border=\"1\" class=\"dataframe\">\n",
       "  <thead>\n",
       "    <tr style=\"text-align: right;\">\n",
       "      <th></th>\n",
       "      <th>8</th>\n",
       "      <th>11400</th>\n",
       "      <th>11676</th>\n",
       "      <th>41385</th>\n",
       "      <th>67544</th>\n",
       "      <th>85526</th>\n",
       "      <th>96054</th>\n",
       "      <th>116866</th>\n",
       "      <th>177458</th>\n",
       "      <th>200273</th>\n",
       "      <th>...</th>\n",
       "      <th>150108</th>\n",
       "      <th>228999</th>\n",
       "      <th>179438</th>\n",
       "      <th>196721</th>\n",
       "      <th>66685</th>\n",
       "      <th>202371</th>\n",
       "      <th>64992</th>\n",
       "      <th>135129</th>\n",
       "      <th>224316</th>\n",
       "      <th>86016</th>\n",
       "    </tr>\n",
       "  </thead>\n",
       "  <tbody>\n",
       "    <tr>\n",
       "      <th>0002005018</th>\n",
       "      <td>5.0</td>\n",
       "      <td>NaN</td>\n",
       "      <td>8.0</td>\n",
       "      <td>NaN</td>\n",
       "      <td>8.0</td>\n",
       "      <td>NaN</td>\n",
       "      <td>NaN</td>\n",
       "      <td>9.0</td>\n",
       "      <td>NaN</td>\n",
       "      <td>8.0</td>\n",
       "      <td>...</td>\n",
       "      <td>NaN</td>\n",
       "      <td>NaN</td>\n",
       "      <td>NaN</td>\n",
       "      <td>NaN</td>\n",
       "      <td>NaN</td>\n",
       "      <td>NaN</td>\n",
       "      <td>NaN</td>\n",
       "      <td>NaN</td>\n",
       "      <td>NaN</td>\n",
       "      <td>NaN</td>\n",
       "    </tr>\n",
       "    <tr>\n",
       "      <th>0002251760</th>\n",
       "      <td>NaN</td>\n",
       "      <td>NaN</td>\n",
       "      <td>NaN</td>\n",
       "      <td>NaN</td>\n",
       "      <td>NaN</td>\n",
       "      <td>NaN</td>\n",
       "      <td>NaN</td>\n",
       "      <td>NaN</td>\n",
       "      <td>NaN</td>\n",
       "      <td>NaN</td>\n",
       "      <td>...</td>\n",
       "      <td>NaN</td>\n",
       "      <td>NaN</td>\n",
       "      <td>NaN</td>\n",
       "      <td>NaN</td>\n",
       "      <td>NaN</td>\n",
       "      <td>NaN</td>\n",
       "      <td>NaN</td>\n",
       "      <td>NaN</td>\n",
       "      <td>NaN</td>\n",
       "      <td>NaN</td>\n",
       "    </tr>\n",
       "    <tr>\n",
       "      <th>0006148891</th>\n",
       "      <td>NaN</td>\n",
       "      <td>NaN</td>\n",
       "      <td>NaN</td>\n",
       "      <td>NaN</td>\n",
       "      <td>NaN</td>\n",
       "      <td>NaN</td>\n",
       "      <td>NaN</td>\n",
       "      <td>NaN</td>\n",
       "      <td>NaN</td>\n",
       "      <td>NaN</td>\n",
       "      <td>...</td>\n",
       "      <td>NaN</td>\n",
       "      <td>NaN</td>\n",
       "      <td>NaN</td>\n",
       "      <td>NaN</td>\n",
       "      <td>NaN</td>\n",
       "      <td>NaN</td>\n",
       "      <td>NaN</td>\n",
       "      <td>NaN</td>\n",
       "      <td>NaN</td>\n",
       "      <td>NaN</td>\n",
       "    </tr>\n",
       "    <tr>\n",
       "      <th>0006479561</th>\n",
       "      <td>NaN</td>\n",
       "      <td>NaN</td>\n",
       "      <td>NaN</td>\n",
       "      <td>NaN</td>\n",
       "      <td>NaN</td>\n",
       "      <td>NaN</td>\n",
       "      <td>NaN</td>\n",
       "      <td>NaN</td>\n",
       "      <td>NaN</td>\n",
       "      <td>NaN</td>\n",
       "      <td>...</td>\n",
       "      <td>NaN</td>\n",
       "      <td>NaN</td>\n",
       "      <td>NaN</td>\n",
       "      <td>NaN</td>\n",
       "      <td>NaN</td>\n",
       "      <td>NaN</td>\n",
       "      <td>NaN</td>\n",
       "      <td>NaN</td>\n",
       "      <td>NaN</td>\n",
       "      <td>NaN</td>\n",
       "    </tr>\n",
       "    <tr>\n",
       "      <th>0006480608</th>\n",
       "      <td>NaN</td>\n",
       "      <td>NaN</td>\n",
       "      <td>NaN</td>\n",
       "      <td>NaN</td>\n",
       "      <td>NaN</td>\n",
       "      <td>NaN</td>\n",
       "      <td>NaN</td>\n",
       "      <td>NaN</td>\n",
       "      <td>NaN</td>\n",
       "      <td>NaN</td>\n",
       "      <td>...</td>\n",
       "      <td>NaN</td>\n",
       "      <td>NaN</td>\n",
       "      <td>NaN</td>\n",
       "      <td>NaN</td>\n",
       "      <td>NaN</td>\n",
       "      <td>NaN</td>\n",
       "      <td>NaN</td>\n",
       "      <td>NaN</td>\n",
       "      <td>NaN</td>\n",
       "      <td>NaN</td>\n",
       "    </tr>\n",
       "  </tbody>\n",
       "</table>\n",
       "<p>5 rows × 25193 columns</p>\n",
       "</div>"
      ],
      "text/plain": [
       "            8       11400   11676   41385   67544   85526   96054   116866  \\\n",
       "0002005018     5.0     NaN     8.0     NaN     8.0     NaN     NaN     9.0   \n",
       "0002251760     NaN     NaN     NaN     NaN     NaN     NaN     NaN     NaN   \n",
       "0006148891     NaN     NaN     NaN     NaN     NaN     NaN     NaN     NaN   \n",
       "0006479561     NaN     NaN     NaN     NaN     NaN     NaN     NaN     NaN   \n",
       "0006480608     NaN     NaN     NaN     NaN     NaN     NaN     NaN     NaN   \n",
       "\n",
       "            177458  200273   ...    150108  228999  179438  196721  66685   \\\n",
       "0002005018     NaN     8.0   ...       NaN     NaN     NaN     NaN     NaN   \n",
       "0002251760     NaN     NaN   ...       NaN     NaN     NaN     NaN     NaN   \n",
       "0006148891     NaN     NaN   ...       NaN     NaN     NaN     NaN     NaN   \n",
       "0006479561     NaN     NaN   ...       NaN     NaN     NaN     NaN     NaN   \n",
       "0006480608     NaN     NaN   ...       NaN     NaN     NaN     NaN     NaN   \n",
       "\n",
       "            202371  64992   135129  224316  86016   \n",
       "0002005018     NaN     NaN     NaN     NaN     NaN  \n",
       "0002251760     NaN     NaN     NaN     NaN     NaN  \n",
       "0006148891     NaN     NaN     NaN     NaN     NaN  \n",
       "0006479561     NaN     NaN     NaN     NaN     NaN  \n",
       "0006480608     NaN     NaN     NaN     NaN     NaN  \n",
       "\n",
       "[5 rows x 25193 columns]"
      ]
     },
     "execution_count": 160,
     "metadata": {},
     "output_type": "execute_result"
    }
   ],
   "source": [
    "test_ratings_sdf.head()"
   ]
  },
  {
   "cell_type": "code",
   "execution_count": 161,
   "metadata": {},
   "outputs": [
    {
     "name": "stderr",
     "output_type": "stream",
     "text": [
      "/Users/connie/anaconda3/lib/python3.6/site-packages/ipykernel_launcher.py:1: RuntimeWarning: Mean of empty slice\n",
      "  \"\"\"Entry point for launching an IPython kernel.\n",
      "/Users/connie/anaconda3/lib/python3.6/site-packages/numpy/lib/nanfunctions.py:1545: RuntimeWarning: Degrees of freedom <= 0 for slice.\n",
      "  keepdims=keepdims)\n"
     ]
    }
   ],
   "source": [
    "test_scaled = (test_ratings_sdf - np.nanmean(test_ratings_sdf, axis=0))/np.nanstd(test_ratings_sdf, axis=0) "
   ]
  },
  {
   "cell_type": "code",
   "execution_count": 163,
   "metadata": {},
   "outputs": [],
   "source": [
    "dense_test = test_scaled.to_dense()"
   ]
  },
  {
   "cell_type": "code",
   "execution_count": 200,
   "metadata": {},
   "outputs": [
    {
     "data": {
      "text/plain": [
       "177458"
      ]
     },
     "execution_count": 200,
     "metadata": {},
     "output_type": "execute_result"
    }
   ],
   "source": [
    "test_imp_dict['0002005018']"
   ]
  },
  {
   "cell_type": "code",
   "execution_count": 183,
   "metadata": {},
   "outputs": [],
   "source": [
    "for isbn, user in test_imp_dict.items():\n",
    "    try:\n",
    "        avg_book = dense_test.loc[isbn].mean()\n",
    "        dense_test.loc[isbn, user] = avg_book\n",
    "    except:\n",
    "        print(isbn, user)"
   ]
  },
  {
   "cell_type": "code",
   "execution_count": 185,
   "metadata": {},
   "outputs": [],
   "source": [
    "svd = TruncatedSVD(n_components=100, random_state=44)"
   ]
  },
  {
   "cell_type": "code",
   "execution_count": 187,
   "metadata": {},
   "outputs": [],
   "source": [
    "svd_ratings = svd.fit_transform(test_scaled.fillna(0).T)"
   ]
  },
  {
   "cell_type": "code",
   "execution_count": 188,
   "metadata": {},
   "outputs": [
    {
     "data": {
      "text/plain": [
       "(25193, 100)"
      ]
     },
     "execution_count": 188,
     "metadata": {},
     "output_type": "execute_result"
    }
   ],
   "source": [
    "svd_ratings.shape"
   ]
  },
  {
   "cell_type": "code",
   "execution_count": 189,
   "metadata": {},
   "outputs": [
    {
     "data": {
      "text/plain": [
       "(100, 13821)"
      ]
     },
     "execution_count": 189,
     "metadata": {},
     "output_type": "execute_result"
    }
   ],
   "source": [
    "svd.components_.shape"
   ]
  },
  {
   "cell_type": "code",
   "execution_count": 190,
   "metadata": {},
   "outputs": [
    {
     "data": {
      "image/png": "[encoded data removed]",
      "text/plain": [
       "<Figure size 1440x720 with 1 Axes>"
      ]
     },
     "metadata": {},
     "output_type": "display_data"
    }
   ],
   "source": [
    "fig = plt.figure(figsize=(20,10))\n",
    "plt.bar(np.array(range(100))+1, \n",
    "        svd.explained_variance_ratio_, \n",
    "        color='g', \n",
    "        label='explained variance')\n",
    "plt.plot(np.array(range(100))+1, \n",
    "         np.cumsum(svd.explained_variance_ratio_), \n",
    "         label='cumulative explained variance')\n",
    "plt.legend(fontsize=16)\n",
    "plt.xlabel('component', fontsize=20)\n",
    "plt.ylabel('variance ratio', fontsize=20)\n",
    "plt.title('Explained variance by component', fontsize=36);"
   ]
  },
  {
   "cell_type": "code",
   "execution_count": 191,
   "metadata": {},
   "outputs": [],
   "source": [
    "U = pairwise_distances(svd_ratings, svd_ratings, metric=\"cosine\")"
   ]
  },
  {
   "cell_type": "code",
   "execution_count": 193,
   "metadata": {},
   "outputs": [
    {
     "data": {
      "text/html": [
       "<div>\n",
       "<style scoped>\n",
       "    .dataframe tbody tr th:only-of-type {\n",
       "        vertical-align: middle;\n",
       "    }\n",
       "\n",
       "    .dataframe tbody tr th {\n",
       "        vertical-align: top;\n",
       "    }\n",
       "\n",
       "    .dataframe thead th {\n",
       "        text-align: right;\n",
       "    }\n",
       "</style>\n",
       "<table border=\"1\" class=\"dataframe\">\n",
       "  <thead>\n",
       "    <tr style=\"text-align: right;\">\n",
       "      <th></th>\n",
       "      <th>book</th>\n",
       "      <th>distance</th>\n",
       "    </tr>\n",
       "  </thead>\n",
       "  <tbody>\n",
       "    <tr>\n",
       "      <th>0</th>\n",
       "      <td>0002005018</td>\n",
       "      <td>0.000000</td>\n",
       "    </tr>\n",
       "    <tr>\n",
       "      <th>7438</th>\n",
       "      <td>0451078721</td>\n",
       "      <td>0.641753</td>\n",
       "    </tr>\n",
       "    <tr>\n",
       "      <th>7003</th>\n",
       "      <td>0446609781</td>\n",
       "      <td>0.642731</td>\n",
       "    </tr>\n",
       "    <tr>\n",
       "      <th>11253</th>\n",
       "      <td>0679767207</td>\n",
       "      <td>0.652713</td>\n",
       "    </tr>\n",
       "    <tr>\n",
       "      <th>11767</th>\n",
       "      <td>0743202236</td>\n",
       "      <td>0.654398</td>\n",
       "    </tr>\n",
       "    <tr>\n",
       "      <th>164</th>\n",
       "      <td>0060168013</td>\n",
       "      <td>0.660771</td>\n",
       "    </tr>\n",
       "    <tr>\n",
       "      <th>6314</th>\n",
       "      <td>044022859X</td>\n",
       "      <td>0.663255</td>\n",
       "    </tr>\n",
       "    <tr>\n",
       "      <th>3215</th>\n",
       "      <td>0345440021</td>\n",
       "      <td>0.664486</td>\n",
       "    </tr>\n",
       "    <tr>\n",
       "      <th>12672</th>\n",
       "      <td>0804107432</td>\n",
       "      <td>0.668909</td>\n",
       "    </tr>\n",
       "    <tr>\n",
       "      <th>8010</th>\n",
       "      <td>0451526805</td>\n",
       "      <td>0.671489</td>\n",
       "    </tr>\n",
       "  </tbody>\n",
       "</table>\n",
       "</div>"
      ],
      "text/plain": [
       "             book  distance\n",
       "0      0002005018  0.000000\n",
       "7438   0451078721  0.641753\n",
       "7003   0446609781  0.642731\n",
       "11253  0679767207  0.652713\n",
       "11767  0743202236  0.654398\n",
       "164    0060168013  0.660771\n",
       "6314   044022859X  0.663255\n",
       "3215   0345440021  0.664486\n",
       "12672  0804107432  0.668909\n",
       "8010   0451526805  0.671489"
      ]
     },
     "execution_count": 193,
     "metadata": {},
     "output_type": "execute_result"
    }
   ],
   "source": [
    "target_book = ratings_scaled.index.tolist().index('0002005018')\n",
    "\n",
    "book_sim = U[target_book]\n",
    "\n",
    "recs = pd.DataFrame(\n",
    "    list(zip(ratings_scaled.index.tolist(), book_sim)), columns=['book', 'distance'])\n",
    "\n",
    "recs.sort_values('distance').head(10)"
   ]
  },
  {
   "cell_type": "code",
   "execution_count": null,
   "metadata": {},
   "outputs": [],
   "source": []
  },
  {
   "cell_type": "code",
   "execution_count": 203,
   "metadata": {},
   "outputs": [],
   "source": [
    "isbn_greater_three = remove_imp['isbn'].value_counts().index[remove_imp['isbn'].value_counts().values > 3]"
   ]
  },
  {
   "cell_type": "code",
   "execution_count": 204,
   "metadata": {},
   "outputs": [],
   "source": [
    "exp_ratings = remove_imp[remove_imp['isbn'].isin(isbn_greater_three)]"
   ]
  },
  {
   "cell_type": "code",
   "execution_count": 205,
   "metadata": {},
   "outputs": [
    {
     "data": {
      "text/html": [
       "<div>\n",
       "<style scoped>\n",
       "    .dataframe tbody tr th:only-of-type {\n",
       "        vertical-align: middle;\n",
       "    }\n",
       "\n",
       "    .dataframe tbody tr th {\n",
       "        vertical-align: top;\n",
       "    }\n",
       "\n",
       "    .dataframe thead th {\n",
       "        text-align: right;\n",
       "    }\n",
       "</style>\n",
       "<table border=\"1\" class=\"dataframe\">\n",
       "  <thead>\n",
       "    <tr style=\"text-align: right;\">\n",
       "      <th></th>\n",
       "      <th>book_author</th>\n",
       "      <th>book_title</th>\n",
       "      <th>isbn</th>\n",
       "      <th>publisher</th>\n",
       "      <th>year_of_publication</th>\n",
       "      <th>book_rating</th>\n",
       "      <th>user_id</th>\n",
       "    </tr>\n",
       "  </thead>\n",
       "  <tbody>\n",
       "    <tr>\n",
       "      <th>0</th>\n",
       "      <td>Richard Bruce Wright</td>\n",
       "      <td>Clara Callan</td>\n",
       "      <td>0002005018</td>\n",
       "      <td>HarperFlamingo Canada</td>\n",
       "      <td>2001</td>\n",
       "      <td>5</td>\n",
       "      <td>8</td>\n",
       "    </tr>\n",
       "    <tr>\n",
       "      <th>2</th>\n",
       "      <td>Richard Bruce Wright</td>\n",
       "      <td>Clara Callan</td>\n",
       "      <td>0002005018</td>\n",
       "      <td>HarperFlamingo Canada</td>\n",
       "      <td>2001</td>\n",
       "      <td>8</td>\n",
       "      <td>11676</td>\n",
       "    </tr>\n",
       "    <tr>\n",
       "      <th>4</th>\n",
       "      <td>Richard Bruce Wright</td>\n",
       "      <td>Clara Callan</td>\n",
       "      <td>0002005018</td>\n",
       "      <td>HarperFlamingo Canada</td>\n",
       "      <td>2001</td>\n",
       "      <td>8</td>\n",
       "      <td>67544</td>\n",
       "    </tr>\n",
       "    <tr>\n",
       "      <th>7</th>\n",
       "      <td>Richard Bruce Wright</td>\n",
       "      <td>Clara Callan</td>\n",
       "      <td>0002005018</td>\n",
       "      <td>HarperFlamingo Canada</td>\n",
       "      <td>2001</td>\n",
       "      <td>9</td>\n",
       "      <td>116866</td>\n",
       "    </tr>\n",
       "    <tr>\n",
       "      <th>9</th>\n",
       "      <td>Richard Bruce Wright</td>\n",
       "      <td>Clara Callan</td>\n",
       "      <td>0002005018</td>\n",
       "      <td>HarperFlamingo Canada</td>\n",
       "      <td>2001</td>\n",
       "      <td>8</td>\n",
       "      <td>200273</td>\n",
       "    </tr>\n",
       "  </tbody>\n",
       "</table>\n",
       "</div>"
      ],
      "text/plain": [
       "            book_author    book_title        isbn              publisher  \\\n",
       "0  Richard Bruce Wright  Clara Callan  0002005018  HarperFlamingo Canada   \n",
       "2  Richard Bruce Wright  Clara Callan  0002005018  HarperFlamingo Canada   \n",
       "4  Richard Bruce Wright  Clara Callan  0002005018  HarperFlamingo Canada   \n",
       "7  Richard Bruce Wright  Clara Callan  0002005018  HarperFlamingo Canada   \n",
       "9  Richard Bruce Wright  Clara Callan  0002005018  HarperFlamingo Canada   \n",
       "\n",
       "   year_of_publication  book_rating  user_id  \n",
       "0                 2001            5        8  \n",
       "2                 2001            8    11676  \n",
       "4                 2001            8    67544  \n",
       "7                 2001            9   116866  \n",
       "9                 2001            8   200273  "
      ]
     },
     "execution_count": 205,
     "metadata": {},
     "output_type": "execute_result"
    }
   ],
   "source": [
    "exp_ratings.head()"
   ]
  },
  {
   "cell_type": "code",
   "execution_count": 206,
   "metadata": {},
   "outputs": [
    {
     "data": {
      "text/plain": [
       "183150"
      ]
     },
     "execution_count": 206,
     "metadata": {},
     "output_type": "execute_result"
    }
   ],
   "source": [
    "exp_ratings.shape[0]"
   ]
  },
  {
   "cell_type": "code",
   "execution_count": 207,
   "metadata": {},
   "outputs": [
    {
     "data": {
      "text/plain": [
       "15479"
      ]
     },
     "execution_count": 207,
     "metadata": {},
     "output_type": "execute_result"
    }
   ],
   "source": [
    "exp_ratings['isbn'].nunique()"
   ]
  },
  {
   "cell_type": "code",
   "execution_count": 208,
   "metadata": {},
   "outputs": [],
   "source": [
    "exp_ratings = exp_ratings[['isbn', 'user_id', 'book_rating']]"
   ]
  },
  {
   "cell_type": "code",
   "execution_count": 209,
   "metadata": {},
   "outputs": [],
   "source": [
    "ratings_list = exp_ratings.to_dict('list')"
   ]
  },
  {
   "cell_type": "code",
   "execution_count": 210,
   "metadata": {},
   "outputs": [],
   "source": [
    "wide_ratings = {}\n",
    "for user, book, rating in zip(ratings_list['user_id'], ratings_list['isbn'], ratings_list['book_rating']):\n",
    "    if wide_ratings.get(user):\n",
    "        wide_ratings[user][book] = rating\n",
    "    else:\n",
    "        wide_ratings[user] = {book: rating}"
   ]
  },
  {
   "cell_type": "code",
   "execution_count": 211,
   "metadata": {},
   "outputs": [
    {
     "data": {
      "text/plain": [
       "22774"
      ]
     },
     "execution_count": 211,
     "metadata": {},
     "output_type": "execute_result"
    }
   ],
   "source": [
    "len(wide_ratings)"
   ]
  },
  {
   "cell_type": "code",
   "execution_count": 212,
   "metadata": {},
   "outputs": [],
   "source": [
    "wide_ratings_sdf = pd.SparseDataFrame(wide_ratings)"
   ]
  },
  {
   "cell_type": "code",
   "execution_count": 116,
   "metadata": {},
   "outputs": [
    {
     "data": {
      "text/html": [
       "<div>\n",
       "<style scoped>\n",
       "    .dataframe tbody tr th:only-of-type {\n",
       "        vertical-align: middle;\n",
       "    }\n",
       "\n",
       "    .dataframe tbody tr th {\n",
       "        vertical-align: top;\n",
       "    }\n",
       "\n",
       "    .dataframe thead th {\n",
       "        text-align: right;\n",
       "    }\n",
       "</style>\n",
       "<table border=\"1\" class=\"dataframe\">\n",
       "  <thead>\n",
       "    <tr style=\"text-align: right;\">\n",
       "      <th></th>\n",
       "      <th>8</th>\n",
       "      <th>11676</th>\n",
       "      <th>67544</th>\n",
       "      <th>116866</th>\n",
       "      <th>200273</th>\n",
       "      <th>210926</th>\n",
       "      <th>219008</th>\n",
       "      <th>263325</th>\n",
       "      <th>35704</th>\n",
       "      <th>110912</th>\n",
       "      <th>...</th>\n",
       "      <th>255028</th>\n",
       "      <th>254022</th>\n",
       "      <th>119146</th>\n",
       "      <th>191709</th>\n",
       "      <th>223503</th>\n",
       "      <th>227835</th>\n",
       "      <th>278089</th>\n",
       "      <th>241294</th>\n",
       "      <th>145374</th>\n",
       "      <th>152469</th>\n",
       "    </tr>\n",
       "  </thead>\n",
       "  <tbody>\n",
       "    <tr>\n",
       "      <th>0002005018</th>\n",
       "      <td>5.0</td>\n",
       "      <td>8.0</td>\n",
       "      <td>8.0</td>\n",
       "      <td>9.0</td>\n",
       "      <td>8.0</td>\n",
       "      <td>9.0</td>\n",
       "      <td>7.0</td>\n",
       "      <td>6.0</td>\n",
       "      <td>NaN</td>\n",
       "      <td>NaN</td>\n",
       "      <td>...</td>\n",
       "      <td>NaN</td>\n",
       "      <td>NaN</td>\n",
       "      <td>NaN</td>\n",
       "      <td>NaN</td>\n",
       "      <td>NaN</td>\n",
       "      <td>NaN</td>\n",
       "      <td>NaN</td>\n",
       "      <td>NaN</td>\n",
       "      <td>NaN</td>\n",
       "      <td>NaN</td>\n",
       "    </tr>\n",
       "    <tr>\n",
       "      <th>0002251760</th>\n",
       "      <td>NaN</td>\n",
       "      <td>NaN</td>\n",
       "      <td>NaN</td>\n",
       "      <td>NaN</td>\n",
       "      <td>NaN</td>\n",
       "      <td>NaN</td>\n",
       "      <td>NaN</td>\n",
       "      <td>NaN</td>\n",
       "      <td>NaN</td>\n",
       "      <td>NaN</td>\n",
       "      <td>...</td>\n",
       "      <td>NaN</td>\n",
       "      <td>NaN</td>\n",
       "      <td>NaN</td>\n",
       "      <td>NaN</td>\n",
       "      <td>NaN</td>\n",
       "      <td>NaN</td>\n",
       "      <td>NaN</td>\n",
       "      <td>NaN</td>\n",
       "      <td>NaN</td>\n",
       "      <td>NaN</td>\n",
       "    </tr>\n",
       "    <tr>\n",
       "      <th>0002259834</th>\n",
       "      <td>NaN</td>\n",
       "      <td>NaN</td>\n",
       "      <td>NaN</td>\n",
       "      <td>NaN</td>\n",
       "      <td>NaN</td>\n",
       "      <td>NaN</td>\n",
       "      <td>NaN</td>\n",
       "      <td>NaN</td>\n",
       "      <td>NaN</td>\n",
       "      <td>NaN</td>\n",
       "      <td>...</td>\n",
       "      <td>NaN</td>\n",
       "      <td>NaN</td>\n",
       "      <td>NaN</td>\n",
       "      <td>NaN</td>\n",
       "      <td>NaN</td>\n",
       "      <td>NaN</td>\n",
       "      <td>NaN</td>\n",
       "      <td>NaN</td>\n",
       "      <td>NaN</td>\n",
       "      <td>NaN</td>\n",
       "    </tr>\n",
       "    <tr>\n",
       "      <th>0002550563</th>\n",
       "      <td>NaN</td>\n",
       "      <td>NaN</td>\n",
       "      <td>NaN</td>\n",
       "      <td>NaN</td>\n",
       "      <td>NaN</td>\n",
       "      <td>NaN</td>\n",
       "      <td>NaN</td>\n",
       "      <td>NaN</td>\n",
       "      <td>NaN</td>\n",
       "      <td>NaN</td>\n",
       "      <td>...</td>\n",
       "      <td>NaN</td>\n",
       "      <td>NaN</td>\n",
       "      <td>NaN</td>\n",
       "      <td>NaN</td>\n",
       "      <td>NaN</td>\n",
       "      <td>NaN</td>\n",
       "      <td>NaN</td>\n",
       "      <td>NaN</td>\n",
       "      <td>NaN</td>\n",
       "      <td>NaN</td>\n",
       "    </tr>\n",
       "    <tr>\n",
       "      <th>0003300277</th>\n",
       "      <td>NaN</td>\n",
       "      <td>NaN</td>\n",
       "      <td>NaN</td>\n",
       "      <td>NaN</td>\n",
       "      <td>NaN</td>\n",
       "      <td>NaN</td>\n",
       "      <td>NaN</td>\n",
       "      <td>NaN</td>\n",
       "      <td>NaN</td>\n",
       "      <td>NaN</td>\n",
       "      <td>...</td>\n",
       "      <td>NaN</td>\n",
       "      <td>NaN</td>\n",
       "      <td>NaN</td>\n",
       "      <td>NaN</td>\n",
       "      <td>NaN</td>\n",
       "      <td>NaN</td>\n",
       "      <td>NaN</td>\n",
       "      <td>NaN</td>\n",
       "      <td>NaN</td>\n",
       "      <td>NaN</td>\n",
       "    </tr>\n",
       "  </tbody>\n",
       "</table>\n",
       "<p>5 rows × 22774 columns</p>\n",
       "</div>"
      ],
      "text/plain": [
       "            8       11676   67544   116866  200273  210926  219008  263325  \\\n",
       "0002005018     5.0     8.0     8.0     9.0     8.0     9.0     7.0     6.0   \n",
       "0002251760     NaN     NaN     NaN     NaN     NaN     NaN     NaN     NaN   \n",
       "0002259834     NaN     NaN     NaN     NaN     NaN     NaN     NaN     NaN   \n",
       "0002550563     NaN     NaN     NaN     NaN     NaN     NaN     NaN     NaN   \n",
       "0003300277     NaN     NaN     NaN     NaN     NaN     NaN     NaN     NaN   \n",
       "\n",
       "            35704   110912   ...    255028  254022  119146  191709  223503  \\\n",
       "0002005018     NaN     NaN   ...       NaN     NaN     NaN     NaN     NaN   \n",
       "0002251760     NaN     NaN   ...       NaN     NaN     NaN     NaN     NaN   \n",
       "0002259834     NaN     NaN   ...       NaN     NaN     NaN     NaN     NaN   \n",
       "0002550563     NaN     NaN   ...       NaN     NaN     NaN     NaN     NaN   \n",
       "0003300277     NaN     NaN   ...       NaN     NaN     NaN     NaN     NaN   \n",
       "\n",
       "            227835  278089  241294  145374  152469  \n",
       "0002005018     NaN     NaN     NaN     NaN     NaN  \n",
       "0002251760     NaN     NaN     NaN     NaN     NaN  \n",
       "0002259834     NaN     NaN     NaN     NaN     NaN  \n",
       "0002550563     NaN     NaN     NaN     NaN     NaN  \n",
       "0003300277     NaN     NaN     NaN     NaN     NaN  \n",
       "\n",
       "[5 rows x 22774 columns]"
      ]
     },
     "execution_count": 116,
     "metadata": {},
     "output_type": "execute_result"
    }
   ],
   "source": [
    "wide_ratings_sdf.head()"
   ]
  },
  {
   "cell_type": "code",
   "execution_count": 213,
   "metadata": {},
   "outputs": [],
   "source": [
    "ratings_scaled = (wide_ratings_sdf - np.nanmean(wide_ratings_sdf, axis=0))/np.nanstd(wide_ratings_sdf, axis=0) "
   ]
  },
  {
   "cell_type": "code",
   "execution_count": 214,
   "metadata": {},
   "outputs": [
    {
     "data": {
      "text/html": [
       "<div>\n",
       "<style scoped>\n",
       "    .dataframe tbody tr th:only-of-type {\n",
       "        vertical-align: middle;\n",
       "    }\n",
       "\n",
       "    .dataframe tbody tr th {\n",
       "        vertical-align: top;\n",
       "    }\n",
       "\n",
       "    .dataframe thead th {\n",
       "        text-align: right;\n",
       "    }\n",
       "</style>\n",
       "<table border=\"1\" class=\"dataframe\">\n",
       "  <thead>\n",
       "    <tr style=\"text-align: right;\">\n",
       "      <th></th>\n",
       "      <th>8</th>\n",
       "      <th>11676</th>\n",
       "      <th>67544</th>\n",
       "      <th>116866</th>\n",
       "      <th>200273</th>\n",
       "      <th>210926</th>\n",
       "      <th>219008</th>\n",
       "      <th>263325</th>\n",
       "      <th>35704</th>\n",
       "      <th>110912</th>\n",
       "      <th>...</th>\n",
       "      <th>255028</th>\n",
       "      <th>254022</th>\n",
       "      <th>119146</th>\n",
       "      <th>191709</th>\n",
       "      <th>223503</th>\n",
       "      <th>227835</th>\n",
       "      <th>278089</th>\n",
       "      <th>241294</th>\n",
       "      <th>145374</th>\n",
       "      <th>152469</th>\n",
       "    </tr>\n",
       "  </thead>\n",
       "  <tbody>\n",
       "    <tr>\n",
       "      <th>0002005018</th>\n",
       "      <td>NaN</td>\n",
       "      <td>0.259098</td>\n",
       "      <td>0.866025</td>\n",
       "      <td>1.005141</td>\n",
       "      <td>1.0</td>\n",
       "      <td>0.559017</td>\n",
       "      <td>0.25</td>\n",
       "      <td>-1.512048</td>\n",
       "      <td>NaN</td>\n",
       "      <td>NaN</td>\n",
       "      <td>...</td>\n",
       "      <td>NaN</td>\n",
       "      <td>NaN</td>\n",
       "      <td>NaN</td>\n",
       "      <td>NaN</td>\n",
       "      <td>NaN</td>\n",
       "      <td>NaN</td>\n",
       "      <td>NaN</td>\n",
       "      <td>NaN</td>\n",
       "      <td>NaN</td>\n",
       "      <td>NaN</td>\n",
       "    </tr>\n",
       "    <tr>\n",
       "      <th>0002251760</th>\n",
       "      <td>NaN</td>\n",
       "      <td>NaN</td>\n",
       "      <td>NaN</td>\n",
       "      <td>NaN</td>\n",
       "      <td>NaN</td>\n",
       "      <td>NaN</td>\n",
       "      <td>NaN</td>\n",
       "      <td>NaN</td>\n",
       "      <td>NaN</td>\n",
       "      <td>NaN</td>\n",
       "      <td>...</td>\n",
       "      <td>NaN</td>\n",
       "      <td>NaN</td>\n",
       "      <td>NaN</td>\n",
       "      <td>NaN</td>\n",
       "      <td>NaN</td>\n",
       "      <td>NaN</td>\n",
       "      <td>NaN</td>\n",
       "      <td>NaN</td>\n",
       "      <td>NaN</td>\n",
       "      <td>NaN</td>\n",
       "    </tr>\n",
       "    <tr>\n",
       "      <th>0002259834</th>\n",
       "      <td>NaN</td>\n",
       "      <td>NaN</td>\n",
       "      <td>NaN</td>\n",
       "      <td>NaN</td>\n",
       "      <td>NaN</td>\n",
       "      <td>NaN</td>\n",
       "      <td>NaN</td>\n",
       "      <td>NaN</td>\n",
       "      <td>NaN</td>\n",
       "      <td>NaN</td>\n",
       "      <td>...</td>\n",
       "      <td>NaN</td>\n",
       "      <td>NaN</td>\n",
       "      <td>NaN</td>\n",
       "      <td>NaN</td>\n",
       "      <td>NaN</td>\n",
       "      <td>NaN</td>\n",
       "      <td>NaN</td>\n",
       "      <td>NaN</td>\n",
       "      <td>NaN</td>\n",
       "      <td>NaN</td>\n",
       "    </tr>\n",
       "    <tr>\n",
       "      <th>0002550563</th>\n",
       "      <td>NaN</td>\n",
       "      <td>NaN</td>\n",
       "      <td>NaN</td>\n",
       "      <td>NaN</td>\n",
       "      <td>NaN</td>\n",
       "      <td>NaN</td>\n",
       "      <td>NaN</td>\n",
       "      <td>NaN</td>\n",
       "      <td>NaN</td>\n",
       "      <td>NaN</td>\n",
       "      <td>...</td>\n",
       "      <td>NaN</td>\n",
       "      <td>NaN</td>\n",
       "      <td>NaN</td>\n",
       "      <td>NaN</td>\n",
       "      <td>NaN</td>\n",
       "      <td>NaN</td>\n",
       "      <td>NaN</td>\n",
       "      <td>NaN</td>\n",
       "      <td>NaN</td>\n",
       "      <td>NaN</td>\n",
       "    </tr>\n",
       "    <tr>\n",
       "      <th>0003300277</th>\n",
       "      <td>NaN</td>\n",
       "      <td>NaN</td>\n",
       "      <td>NaN</td>\n",
       "      <td>NaN</td>\n",
       "      <td>NaN</td>\n",
       "      <td>NaN</td>\n",
       "      <td>NaN</td>\n",
       "      <td>NaN</td>\n",
       "      <td>NaN</td>\n",
       "      <td>NaN</td>\n",
       "      <td>...</td>\n",
       "      <td>NaN</td>\n",
       "      <td>NaN</td>\n",
       "      <td>NaN</td>\n",
       "      <td>NaN</td>\n",
       "      <td>NaN</td>\n",
       "      <td>NaN</td>\n",
       "      <td>NaN</td>\n",
       "      <td>NaN</td>\n",
       "      <td>NaN</td>\n",
       "      <td>NaN</td>\n",
       "    </tr>\n",
       "  </tbody>\n",
       "</table>\n",
       "<p>5 rows × 22774 columns</p>\n",
       "</div>"
      ],
      "text/plain": [
       "            8         11676     67544     116866  200273    210926  219008  \\\n",
       "0002005018     NaN  0.259098  0.866025  1.005141     1.0  0.559017    0.25   \n",
       "0002251760     NaN       NaN       NaN       NaN     NaN       NaN     NaN   \n",
       "0002259834     NaN       NaN       NaN       NaN     NaN       NaN     NaN   \n",
       "0002550563     NaN       NaN       NaN       NaN     NaN       NaN     NaN   \n",
       "0003300277     NaN       NaN       NaN       NaN     NaN       NaN     NaN   \n",
       "\n",
       "              263325  35704   110912   ...    255028  254022  119146  191709  \\\n",
       "0002005018 -1.512048     NaN     NaN   ...       NaN     NaN     NaN     NaN   \n",
       "0002251760       NaN     NaN     NaN   ...       NaN     NaN     NaN     NaN   \n",
       "0002259834       NaN     NaN     NaN   ...       NaN     NaN     NaN     NaN   \n",
       "0002550563       NaN     NaN     NaN   ...       NaN     NaN     NaN     NaN   \n",
       "0003300277       NaN     NaN     NaN   ...       NaN     NaN     NaN     NaN   \n",
       "\n",
       "            223503  227835  278089  241294  145374  152469  \n",
       "0002005018     NaN     NaN     NaN     NaN     NaN     NaN  \n",
       "0002251760     NaN     NaN     NaN     NaN     NaN     NaN  \n",
       "0002259834     NaN     NaN     NaN     NaN     NaN     NaN  \n",
       "0002550563     NaN     NaN     NaN     NaN     NaN     NaN  \n",
       "0003300277     NaN     NaN     NaN     NaN     NaN     NaN  \n",
       "\n",
       "[5 rows x 22774 columns]"
      ]
     },
     "execution_count": 214,
     "metadata": {},
     "output_type": "execute_result"
    }
   ],
   "source": [
    "ratings_scaled.head()"
   ]
  },
  {
   "cell_type": "code",
   "execution_count": 119,
   "metadata": {},
   "outputs": [],
   "source": [
    "dense_ratings = ratings_scaled.to_dense()"
   ]
  },
  {
   "cell_type": "code",
   "execution_count": null,
   "metadata": {},
   "outputs": [],
   "source": [
    "for isbn, user in imp_dict.items():\n",
    "    try:\n",
    "        avg_book = dense_ratings.loc[isbn].mean()\n",
    "        dense_ratings.loc[isbn, user] = avg_book\n",
    "    except:\n",
    "        print(isbn, user)"
   ]
  },
  {
   "cell_type": "code",
   "execution_count": 215,
   "metadata": {},
   "outputs": [],
   "source": [
    "svd = TruncatedSVD(n_components=100, random_state=44)"
   ]
  },
  {
   "cell_type": "code",
   "execution_count": 216,
   "metadata": {},
   "outputs": [],
   "source": [
    "svd_ratings = svd.fit_transform(ratings_scaled.fillna(0).T)"
   ]
  },
  {
   "cell_type": "code",
   "execution_count": 217,
   "metadata": {},
   "outputs": [
    {
     "data": {
      "text/plain": [
       "(22774, 100)"
      ]
     },
     "execution_count": 217,
     "metadata": {},
     "output_type": "execute_result"
    }
   ],
   "source": [
    "svd_ratings.shape"
   ]
  },
  {
   "cell_type": "code",
   "execution_count": 218,
   "metadata": {},
   "outputs": [
    {
     "data": {
      "text/plain": [
       "(100, 15479)"
      ]
     },
     "execution_count": 218,
     "metadata": {},
     "output_type": "execute_result"
    }
   ],
   "source": [
    "svd.components_.shape"
   ]
  },
  {
   "cell_type": "code",
   "execution_count": 219,
   "metadata": {},
   "outputs": [
    {
     "data": {
      "image/png": "[encoded data removed]",
      "text/plain": [
       "<Figure size 1440x720 with 1 Axes>"
      ]
     },
     "metadata": {},
     "output_type": "display_data"
    }
   ],
   "source": [
    "fig = plt.figure(figsize=(20,10))\n",
    "plt.bar(np.array(range(100))+1, \n",
    "        svd.explained_variance_ratio_, \n",
    "        color='g', \n",
    "        label='explained variance')\n",
    "plt.plot(np.array(range(100))+1, \n",
    "         np.cumsum(svd.explained_variance_ratio_), \n",
    "         label='cumulative explained variance')\n",
    "plt.legend(fontsize=16)\n",
    "plt.xlabel('component', fontsize=20)\n",
    "plt.ylabel('variance ratio', fontsize=20)\n",
    "plt.title('Explained variance by component', fontsize=36);"
   ]
  },
  {
   "cell_type": "code",
   "execution_count": 220,
   "metadata": {},
   "outputs": [
    {
     "data": {
      "text/plain": [
       "15479"
      ]
     },
     "execution_count": 220,
     "metadata": {},
     "output_type": "execute_result"
    }
   ],
   "source": [
    "len(ratings_scaled.index.get_values())"
   ]
  },
  {
   "cell_type": "code",
   "execution_count": 221,
   "metadata": {},
   "outputs": [],
   "source": [
    "U = pairwise_distances(svd_ratings, svd_ratings, metric=\"cosine\")"
   ]
  },
  {
   "cell_type": "code",
   "execution_count": 224,
   "metadata": {},
   "outputs": [
    {
     "data": {
      "text/html": [
       "<div>\n",
       "<style scoped>\n",
       "    .dataframe tbody tr th:only-of-type {\n",
       "        vertical-align: middle;\n",
       "    }\n",
       "\n",
       "    .dataframe tbody tr th {\n",
       "        vertical-align: top;\n",
       "    }\n",
       "\n",
       "    .dataframe thead th {\n",
       "        text-align: right;\n",
       "    }\n",
       "</style>\n",
       "<table border=\"1\" class=\"dataframe\">\n",
       "  <thead>\n",
       "    <tr style=\"text-align: right;\">\n",
       "      <th></th>\n",
       "      <th>book</th>\n",
       "      <th>distance</th>\n",
       "    </tr>\n",
       "  </thead>\n",
       "  <tbody>\n",
       "    <tr>\n",
       "      <th>1</th>\n",
       "      <td>0002251760</td>\n",
       "      <td>0.000000</td>\n",
       "    </tr>\n",
       "    <tr>\n",
       "      <th>8979</th>\n",
       "      <td>0553271091</td>\n",
       "      <td>0.010520</td>\n",
       "    </tr>\n",
       "    <tr>\n",
       "      <th>11882</th>\n",
       "      <td>0743254392</td>\n",
       "      <td>0.010938</td>\n",
       "    </tr>\n",
       "    <tr>\n",
       "      <th>14552</th>\n",
       "      <td>1581346085</td>\n",
       "      <td>0.011655</td>\n",
       "    </tr>\n",
       "    <tr>\n",
       "      <th>13847</th>\n",
       "      <td>0971766711</td>\n",
       "      <td>0.012283</td>\n",
       "    </tr>\n",
       "    <tr>\n",
       "      <th>10590</th>\n",
       "      <td>0671724517</td>\n",
       "      <td>0.014705</td>\n",
       "    </tr>\n",
       "    <tr>\n",
       "      <th>3786</th>\n",
       "      <td>0375412557</td>\n",
       "      <td>0.016555</td>\n",
       "    </tr>\n",
       "    <tr>\n",
       "      <th>13496</th>\n",
       "      <td>0877959757</td>\n",
       "      <td>0.016776</td>\n",
       "    </tr>\n",
       "    <tr>\n",
       "      <th>8283</th>\n",
       "      <td>0515093025</td>\n",
       "      <td>0.019403</td>\n",
       "    </tr>\n",
       "    <tr>\n",
       "      <th>420</th>\n",
       "      <td>0060801263</td>\n",
       "      <td>0.020868</td>\n",
       "    </tr>\n",
       "  </tbody>\n",
       "</table>\n",
       "</div>"
      ],
      "text/plain": [
       "             book  distance\n",
       "1      0002251760  0.000000\n",
       "8979   0553271091  0.010520\n",
       "11882  0743254392  0.010938\n",
       "14552  1581346085  0.011655\n",
       "13847  0971766711  0.012283\n",
       "10590  0671724517  0.014705\n",
       "3786   0375412557  0.016555\n",
       "13496  0877959757  0.016776\n",
       "8283   0515093025  0.019403\n",
       "420    0060801263  0.020868"
      ]
     },
     "execution_count": 224,
     "metadata": {},
     "output_type": "execute_result"
    }
   ],
   "source": [
    "target_book = ratings_scaled.index.tolist().index('0002251760')\n",
    "\n",
    "book_sim = U[target_book]\n",
    "\n",
    "recs = pd.DataFrame(\n",
    "    list(zip(ratings_scaled.index.tolist(), book_sim)), columns=['book', 'distance'])\n",
    "\n",
    "recs.sort_values('distance').head(10)"
   ]
  },
  {
   "cell_type": "code",
   "execution_count": 223,
   "metadata": {},
   "outputs": [
    {
     "data": {
      "text/plain": [
       "['0002005018',\n",
       " '0002251760',\n",
       " '0002259834',\n",
       " '0002550563',\n",
       " '0003300277',\n",
       " '000617616X',\n",
       " '0006479561',\n",
       " '0006480608',\n",
       " '000648302X',\n",
       " '0006492347',\n",
       " '000649840X',\n",
       " '0006511767',\n",
       " '0006546684',\n",
       " '0006547834',\n",
       " '0006548830',\n",
       " '0006550576',\n",
       " '0006550789',\n",
       " '0006550924',\n",
       " '0006551971',\n",
       " '0006552390',\n",
       " '0006716652',\n",
       " '0006742939',\n",
       " '0007100922',\n",
       " '0007110928',\n",
       " '0007119860',\n",
       " '0007122039',\n",
       " '0007141076',\n",
       " '0007154615',\n",
       " '000716226X',\n",
       " '0007163541',\n",
       " '0020125305',\n",
       " '0020125607',\n",
       " '0020198817',\n",
       " '0020198906',\n",
       " '0020199600',\n",
       " '0020223722',\n",
       " '0020264763',\n",
       " '002026478X',\n",
       " '0020306652',\n",
       " '0020360754',\n",
       " '002040400X',\n",
       " '0020418809',\n",
       " '0020427115',\n",
       " '0020427859',\n",
       " '0020442009',\n",
       " '0020442106',\n",
       " '0020442203',\n",
       " '0020442300',\n",
       " '0020442408',\n",
       " '0020442602',\n",
       " '0020442807',\n",
       " '0020446500',\n",
       " '0020449313',\n",
       " '0020518501',\n",
       " '0020518609',\n",
       " '0020518706',\n",
       " '0020519001',\n",
       " '0020532105',\n",
       " '0020633505',\n",
       " '0020811853',\n",
       " '0020868308',\n",
       " '002089130X',\n",
       " '002411510X',\n",
       " '0024182001',\n",
       " '0025196359',\n",
       " '002542730X',\n",
       " '0026098407',\n",
       " '0027860302',\n",
       " '0028603869',\n",
       " '0028603958',\n",
       " '0028604032',\n",
       " '0028604199',\n",
       " '0028604202',\n",
       " '0028610105',\n",
       " '0028613228',\n",
       " '0028621239',\n",
       " '0030018897',\n",
       " '0030554381',\n",
       " '003061368X',\n",
       " '0030632366',\n",
       " '0044409494',\n",
       " '0048230871',\n",
       " '0048231398',\n",
       " '0060000961',\n",
       " '0060001453',\n",
       " '0060001801',\n",
       " '0060002050',\n",
       " '0060002069',\n",
       " '0060002077',\n",
       " '0060002093',\n",
       " '0060002492',\n",
       " '006000438X',\n",
       " '0060004533',\n",
       " '006000469X',\n",
       " '0060004746',\n",
       " '0060005548',\n",
       " '0060006641',\n",
       " '0060007192',\n",
       " '0060007575',\n",
       " '0060007788',\n",
       " '006000780X',\n",
       " '0060008024',\n",
       " '0060008369',\n",
       " '0060008725',\n",
       " '0060008776',\n",
       " '0060008865',\n",
       " '0060009012',\n",
       " '0060009241',\n",
       " '006000925X',\n",
       " '006000942X',\n",
       " '0060011904',\n",
       " '0060011912',\n",
       " '0060011939',\n",
       " '006001203X',\n",
       " '0060012331',\n",
       " '0060012781',\n",
       " '0060012811',\n",
       " '0060013117',\n",
       " '006001315X',\n",
       " '0060014342',\n",
       " '0060080841',\n",
       " '0060081597',\n",
       " '006008166X',\n",
       " '0060081961',\n",
       " '0060082194',\n",
       " '0060083255',\n",
       " '0060083263',\n",
       " '0060083298',\n",
       " '0060083948',\n",
       " '0060083956',\n",
       " '0060084022',\n",
       " '0060084405',\n",
       " '0060084456',\n",
       " '006008460X',\n",
       " '0060085444',\n",
       " '0060085452',\n",
       " '0060085495',\n",
       " '0060086246',\n",
       " '0060090375',\n",
       " '0060092130',\n",
       " '0060092149',\n",
       " '0060092645',\n",
       " '0060092653',\n",
       " '0060092661',\n",
       " '0060092963',\n",
       " '0060096195',\n",
       " '0060096209',\n",
       " '0060097469',\n",
       " '0060097825',\n",
       " '0060097973',\n",
       " '0060099453',\n",
       " '0060139145',\n",
       " '0060152583',\n",
       " '0060153830',\n",
       " '0060154969',\n",
       " '0060159081',\n",
       " '0060159383',\n",
       " '0060160713',\n",
       " '0060161582',\n",
       " '006016249X',\n",
       " '0060163747',\n",
       " '0060163976',\n",
       " '0060165529',\n",
       " '0060165979',\n",
       " '0060168013',\n",
       " '006016848X',\n",
       " '0060169281',\n",
       " '0060169443',\n",
       " '0060170190',\n",
       " '0060170808',\n",
       " '0060171316',\n",
       " '006017143X',\n",
       " '0060171510',\n",
       " '0060171626',\n",
       " '0060172126',\n",
       " '0060172916',\n",
       " '0060173076',\n",
       " '0060173211',\n",
       " '0060173289',\n",
       " '0060173858',\n",
       " '0060174900',\n",
       " '0060175400',\n",
       " '0060175532',\n",
       " '0060175605',\n",
       " '0060175680',\n",
       " '0060175702',\n",
       " '0060175818',\n",
       " '0060175869',\n",
       " '0060175966',\n",
       " '0060176083',\n",
       " '0060176156',\n",
       " '0060176164',\n",
       " '0060176539',\n",
       " '0060176660',\n",
       " '0060176733',\n",
       " '0060176792',\n",
       " '0060176806',\n",
       " '0060177012',\n",
       " '0060177209',\n",
       " '0060177233',\n",
       " '0060177241',\n",
       " '0060177500',\n",
       " '0060177888',\n",
       " '0060179228',\n",
       " '006017935X',\n",
       " '006017949X',\n",
       " '0060182172',\n",
       " '0060182792',\n",
       " '0060183225',\n",
       " '0060183489',\n",
       " '0060183772',\n",
       " '0060184817',\n",
       " '0060184957',\n",
       " '0060185287',\n",
       " '0060186976',\n",
       " '0060187263',\n",
       " '0060187271',\n",
       " '0060187425',\n",
       " '0060187840',\n",
       " '0060188650',\n",
       " '0060188731',\n",
       " '0060188952',\n",
       " '0060191015',\n",
       " '0060191058',\n",
       " '0060191414',\n",
       " '0060191538',\n",
       " '0060191813',\n",
       " '0060191821',\n",
       " '0060191872',\n",
       " '0060191929',\n",
       " '0060192119',\n",
       " '0060192240',\n",
       " '006019250X',\n",
       " '0060192704',\n",
       " '0060192895',\n",
       " '0060193328',\n",
       " '0060193395',\n",
       " '0060193611',\n",
       " '0060193751',\n",
       " '006019393X',\n",
       " '0060194170',\n",
       " '006019443X',\n",
       " '0060194723',\n",
       " '0060194790',\n",
       " '0060194804',\n",
       " '006019491X',\n",
       " '0060194995',\n",
       " '0060195339',\n",
       " '006019538X',\n",
       " '006019541X',\n",
       " '0060195444',\n",
       " '0060195460',\n",
       " '0060195622',\n",
       " '0060195827',\n",
       " '0060195932',\n",
       " '0060197005',\n",
       " '0060198125',\n",
       " '0060198303',\n",
       " '0060198508',\n",
       " '0060198702',\n",
       " '006019877X',\n",
       " '0060198788',\n",
       " '0060199334',\n",
       " '0060199563',\n",
       " '0060199652',\n",
       " '006020186X',\n",
       " '0060229357',\n",
       " '0060234814',\n",
       " '0060234970',\n",
       " '0060243090',\n",
       " '0060244151',\n",
       " '0060245867',\n",
       " '0060248025',\n",
       " '0060254920',\n",
       " '0060256575',\n",
       " '0060256664',\n",
       " '0060256672',\n",
       " '0060256737',\n",
       " '0060263954',\n",
       " '0060264306',\n",
       " '0060264454',\n",
       " '0060269456',\n",
       " '0060269944',\n",
       " '0060275103',\n",
       " '0060277475',\n",
       " '0060278234',\n",
       " '0060278250',\n",
       " '0060280034',\n",
       " '0060280921',\n",
       " '0060281375',\n",
       " '0060292873',\n",
       " '0060294884',\n",
       " '0060298898',\n",
       " '0060391448',\n",
       " '0060391502',\n",
       " '0060391537',\n",
       " '0060391553',\n",
       " '0060391626',\n",
       " '0060391677',\n",
       " '0060391839',\n",
       " '0060391901',\n",
       " '0060392096',\n",
       " '0060392452',\n",
       " '0060392584',\n",
       " '0060392827',\n",
       " '0060392991',\n",
       " '0060393009',\n",
       " '0060393203',\n",
       " '0060393211',\n",
       " '0060393297',\n",
       " '0060393823',\n",
       " '006039384X',\n",
       " '0060394447',\n",
       " '0060502258',\n",
       " '0060502290',\n",
       " '0060504072',\n",
       " '0060504080',\n",
       " '0060504110',\n",
       " '0060505249',\n",
       " '0060505729',\n",
       " '0060505885',\n",
       " '0060506067',\n",
       " '0060506512',\n",
       " '0060506679',\n",
       " '0060506989',\n",
       " '0060507365',\n",
       " '0060507403',\n",
       " '0060507594',\n",
       " '0060507772',\n",
       " '0060507845',\n",
       " '0060508108',\n",
       " '0060508175',\n",
       " '0060508183',\n",
       " '0060508302',\n",
       " '0060509171',\n",
       " '0060509392',\n",
       " '0060509465',\n",
       " '0060509546',\n",
       " '0060510323',\n",
       " '0060511508',\n",
       " '0060512202',\n",
       " '0060512377',\n",
       " '006051261X',\n",
       " '0060512806',\n",
       " '0060513640',\n",
       " '006051406x',\n",
       " '0060514930',\n",
       " '0060514949',\n",
       " '0060514957',\n",
       " '0060516054',\n",
       " '0060516283',\n",
       " '0060517212',\n",
       " '0060517611',\n",
       " '0060517794',\n",
       " '0060519134',\n",
       " '0060520507',\n",
       " '0060520841',\n",
       " '0060521848',\n",
       " '0060523794',\n",
       " '0060525010',\n",
       " '006052510X',\n",
       " '0060525460',\n",
       " '0060528370',\n",
       " '0060529148',\n",
       " '0060529709',\n",
       " '0060530421',\n",
       " '0060531231',\n",
       " '0060532149',\n",
       " '0060533986',\n",
       " '0060534044',\n",
       " '0060534214',\n",
       " '006053429X',\n",
       " '0060539860',\n",
       " '0060540753',\n",
       " '0060542128',\n",
       " '0060542845',\n",
       " '0060548215',\n",
       " '0060548258',\n",
       " '0060548266',\n",
       " '0060549270',\n",
       " '0060555513',\n",
       " '0060555653',\n",
       " '0060557257',\n",
       " '0060557540',\n",
       " '0060557818',\n",
       " '0060558008',\n",
       " '0060558121',\n",
       " '0060558199',\n",
       " '0060558865',\n",
       " '0060559128',\n",
       " '0060560754',\n",
       " '0060561661',\n",
       " '0060562080',\n",
       " '0060562250',\n",
       " '0060562773',\n",
       " '0060563079',\n",
       " '006056668X',\n",
       " '0060571314',\n",
       " '0060572965',\n",
       " '0060577487',\n",
       " '0060578955',\n",
       " '0060580208',\n",
       " '0060580275',\n",
       " '0060582294',\n",
       " '0060582308',\n",
       " '0060582553',\n",
       " '0060586605',\n",
       " '0060589272',\n",
       " '0060591706',\n",
       " '006059537X',\n",
       " '0060609176',\n",
       " '0060633875',\n",
       " '0060652934',\n",
       " '0060675322',\n",
       " '0060675357',\n",
       " '0060730552',\n",
       " '006073941X',\n",
       " '0060740450',\n",
       " '0060745908',\n",
       " '0060801115',\n",
       " '0060801263',\n",
       " '0060806583',\n",
       " '0060807792',\n",
       " '0060808241',\n",
       " '0060808551',\n",
       " '0060809248',\n",
       " '006080971X',\n",
       " '0060809736',\n",
       " '0060809833',\n",
       " '0060809876',\n",
       " '0060812451',\n",
       " '0060812508',\n",
       " '0060830557',\n",
       " '0060901012',\n",
       " '0060907002',\n",
       " '0060907010',\n",
       " '0060909005',\n",
       " '0060911271',\n",
       " '006091291X',\n",
       " '0060913061',\n",
       " '006091307X',\n",
       " '0060913304',\n",
       " '006091341X',\n",
       " '0060913509',\n",
       " '0060913983',\n",
       " '0060914068',\n",
       " '0060914653',\n",
       " '0060915153',\n",
       " '0060915188',\n",
       " '0060915544',\n",
       " '006091565X',\n",
       " '0060916087',\n",
       " '0060916338',\n",
       " '006091646X',\n",
       " '0060916486',\n",
       " '0060916508',\n",
       " '0060916516',\n",
       " '0060917016',\n",
       " '0060919655',\n",
       " '0060919884',\n",
       " '0060920084',\n",
       " '0060920335',\n",
       " '0060920432',\n",
       " '0060920718',\n",
       " '0060921056',\n",
       " '0060921145',\n",
       " '0060922249',\n",
       " '0060922583',\n",
       " '0060923245',\n",
       " '006092327X',\n",
       " '0060923288',\n",
       " '0060923415',\n",
       " '006092411X',\n",
       " '0060924349',\n",
       " '0060924640',\n",
       " '0060924659',\n",
       " '0060924799',\n",
       " '0060924802',\n",
       " '0060924837',\n",
       " '0060924845',\n",
       " '0060924926',\n",
       " '0060924985',\n",
       " '0060925000',\n",
       " '0060925493',\n",
       " '0060925752',\n",
       " '0060926015',\n",
       " '0060926201',\n",
       " '0060926317',\n",
       " '0060926945',\n",
       " '0060927216',\n",
       " '0060927240',\n",
       " '0060927488',\n",
       " '0060927569',\n",
       " '0060927860',\n",
       " '0060928336',\n",
       " '0060928360',\n",
       " '0060928417',\n",
       " '0060928832',\n",
       " '0060929375',\n",
       " '0060929510',\n",
       " '0060929596',\n",
       " '0060929782',\n",
       " '0060929790',\n",
       " '0060929804',\n",
       " '0060929847',\n",
       " '006092988X',\n",
       " '0060929979',\n",
       " '0060930071',\n",
       " '0060930179',\n",
       " '0060930187',\n",
       " '0060930535',\n",
       " '006093090X',\n",
       " '0060930934',\n",
       " '0060931213',\n",
       " '0060931221',\n",
       " '0060931280',\n",
       " '0060931396',\n",
       " '0060931418',\n",
       " '0060931671',\n",
       " '0060931736',\n",
       " '0060931809',\n",
       " '0060931914',\n",
       " '0060932139',\n",
       " '0060932147',\n",
       " '0060932171',\n",
       " '0060932759',\n",
       " '0060932767',\n",
       " '0060932813',\n",
       " '0060932902',\n",
       " '0060933267',\n",
       " '0060933577',\n",
       " '006093395X',\n",
       " '0060934417',\n",
       " '0060934425',\n",
       " '0060934700',\n",
       " '0060934719',\n",
       " '0060934794',\n",
       " '0060934913',\n",
       " '006093493X',\n",
       " '0060935332',\n",
       " '0060936142',\n",
       " '0060936231',\n",
       " '0060936363',\n",
       " '0060937742',\n",
       " '0060937866',\n",
       " '0060938080',\n",
       " '0060938099',\n",
       " '006093817X',\n",
       " '0060938412',\n",
       " '0060938455',\n",
       " '0060950536',\n",
       " '0060951303',\n",
       " '0060951311',\n",
       " '0060951710',\n",
       " '0060952423',\n",
       " '0060952520',\n",
       " '0060952768',\n",
       " '0060952970',\n",
       " '0060953225',\n",
       " '0060953691',\n",
       " '0060953713',\n",
       " '0060955406',\n",
       " '0060955570',\n",
       " '0060955775',\n",
       " '0060956445',\n",
       " '006095647X',\n",
       " '0060957409',\n",
       " '0060958022',\n",
       " '0060958324',\n",
       " '0060959037',\n",
       " '0060959517',\n",
       " '0060959541',\n",
       " '0060959576',\n",
       " '0060960248',\n",
       " '0060961325',\n",
       " '0060962526',\n",
       " '0060964049',\n",
       " '0060964057',\n",
       " '0060965819',\n",
       " '0060968966',\n",
       " '006096975X',\n",
       " '0060969911',\n",
       " '0060970790',\n",
       " '0060971479',\n",
       " '0060972122',\n",
       " '0060972459',\n",
       " '0060972777',\n",
       " '0060972874',\n",
       " '0060972920',\n",
       " '0060973277',\n",
       " '0060973323',\n",
       " '0060973617',\n",
       " '0060973722',\n",
       " '0060973897',\n",
       " '0060974109',\n",
       " '0060974486',\n",
       " '0060974788',\n",
       " '0060974990',\n",
       " '0060975210',\n",
       " '0060975229',\n",
       " '0060975288',\n",
       " '0060975547',\n",
       " '0060975644',\n",
       " '0060975849',\n",
       " '0060976241',\n",
       " '0060976497',\n",
       " '0060976683',\n",
       " '006097673X',\n",
       " '0060976845',\n",
       " '0060976926',\n",
       " '0060976977',\n",
       " '0060977027',\n",
       " '0060977035',\n",
       " '0060977191',\n",
       " '0060977337',\n",
       " '0060977477',\n",
       " '0060977493',\n",
       " '0060977507',\n",
       " '0060977744',\n",
       " '0060981180',\n",
       " '0060984031',\n",
       " '0060984333',\n",
       " '0060987049',\n",
       " '0060987103',\n",
       " '0060987219',\n",
       " '006098726X',\n",
       " '0060987324',\n",
       " '0060987529',\n",
       " '0060987561',\n",
       " '0060988096',\n",
       " '006098824X',\n",
       " '0060988258',\n",
       " '0060988649',\n",
       " '0060989238',\n",
       " '006099486X',\n",
       " '0060995084',\n",
       " '0060995149',\n",
       " '0061000019',\n",
       " '0061000027',\n",
       " '0061000035',\n",
       " '0061000043',\n",
       " '0061000078',\n",
       " '0061000175',\n",
       " '0061000280',\n",
       " '0061000299',\n",
       " '006100037X',\n",
       " '0061001023',\n",
       " '0061002860',\n",
       " '0061003638',\n",
       " '0061003697',\n",
       " '0061006629',\n",
       " '0061007129',\n",
       " '0061007145',\n",
       " '0061007153',\n",
       " '0061007161',\n",
       " '006100717X',\n",
       " '0061007226',\n",
       " '0061008079',\n",
       " '0061008095',\n",
       " '0061008109',\n",
       " '0061009059',\n",
       " '0061009431',\n",
       " '0061009504',\n",
       " '006101009X',\n",
       " '0061010251',\n",
       " '0061010650',\n",
       " '0061010707',\n",
       " '0061010871',\n",
       " '0061010995',\n",
       " '0061011738',\n",
       " '0061011983',\n",
       " '0061012165',\n",
       " '0061012289',\n",
       " '0061012351',\n",
       " '0061012491',\n",
       " '0061012513',\n",
       " '006101253X',\n",
       " '0061013315',\n",
       " '0061013412',\n",
       " '0061013439',\n",
       " '0061013579',\n",
       " '0061013706',\n",
       " '0061014176',\n",
       " '0061014230',\n",
       " '006101432X',\n",
       " '0061014591',\n",
       " '0061014672',\n",
       " '0061015725',\n",
       " '0061020052',\n",
       " '0061020362',\n",
       " '0061020397',\n",
       " '0061020559',\n",
       " '0061020613',\n",
       " '006102063X',\n",
       " '0061020648',\n",
       " '0061020656',\n",
       " '0061020664',\n",
       " '0061020672',\n",
       " '0061020699',\n",
       " '0061020702',\n",
       " '0061020710',\n",
       " '0061020842',\n",
       " '0061030015',\n",
       " '006103004X',\n",
       " '006103018X',\n",
       " '0061030244',\n",
       " '0061030430',\n",
       " '0061030597',\n",
       " '0061030635',\n",
       " '0061030643',\n",
       " '0061030651',\n",
       " '006103066X',\n",
       " '006103083X',\n",
       " '0061030996',\n",
       " '0061031011',\n",
       " '0061031070',\n",
       " '0061031089',\n",
       " '0061031127',\n",
       " '0061031143',\n",
       " '0061031151',\n",
       " '0061031232',\n",
       " '0061031410',\n",
       " '0061031429',\n",
       " '0061031526',\n",
       " '0061031534',\n",
       " '0061031550',\n",
       " '0061031569',\n",
       " '0061031755',\n",
       " '0061031844',\n",
       " '0061031992',\n",
       " '0061032034',\n",
       " '0061032077',\n",
       " '0061032093',\n",
       " '0061032212',\n",
       " '0061032425',\n",
       " '0061040797',\n",
       " '0061041998',\n",
       " '0061042935',\n",
       " '0061042943',\n",
       " '0061043508',\n",
       " '0061043516',\n",
       " '0061043559',\n",
       " '0061043966',\n",
       " '0061044431',\n",
       " '006104444X',\n",
       " '0061044490',\n",
       " '0061044571',\n",
       " '0061044636',\n",
       " '006105044X',\n",
       " '0061051578',\n",
       " '0061052507',\n",
       " '0061052892',\n",
       " '0061053104',\n",
       " '0061053147',\n",
       " '0061053309',\n",
       " '0061053538',\n",
       " '0061053554',\n",
       " '0061053589',\n",
       " '0061054097',\n",
       " '0061054143',\n",
       " '0061054151',\n",
       " '0061054232',\n",
       " '0061054275',\n",
       " '0061054437',\n",
       " '0061054887',\n",
       " '0061054895',\n",
       " '0061054909',\n",
       " '0061056014',\n",
       " '0061056022',\n",
       " '006105609X',\n",
       " '0061056219',\n",
       " '0061056774',\n",
       " '0061056871',\n",
       " '0061056898',\n",
       " '0061056901',\n",
       " '006105691X',\n",
       " '0061056928',\n",
       " '006105710X',\n",
       " '0061057274',\n",
       " '0061057363',\n",
       " '0061057649',\n",
       " '0061057797',\n",
       " '0061057894',\n",
       " '0061057908',\n",
       " '0061057940',\n",
       " '0061059056',\n",
       " '0061059064',\n",
       " '0061059072',\n",
       " '0061059323',\n",
       " '0061059900',\n",
       " '0061060992',\n",
       " '0061061433',\n",
       " '0061065730',\n",
       " '0061067121',\n",
       " '0061067199',\n",
       " '0061073628',\n",
       " '0061074292',\n",
       " '0061080969',\n",
       " '006108171X',\n",
       " '006108185X',\n",
       " '006108199X',\n",
       " '0061083259',\n",
       " '0061084050',\n",
       " '006108445X',\n",
       " '0061087122',\n",
       " '0061087130',\n",
       " '0061090808',\n",
       " '0061090891',\n",
       " '0061091227',\n",
       " '0061091316',\n",
       " '0061091464',\n",
       " '0061091502',\n",
       " '0061091561',\n",
       " '006109157X',\n",
       " '0061091618',\n",
       " '0061091669',\n",
       " '0061091707',\n",
       " '006109174X',\n",
       " '0061091790',\n",
       " '0061091804',\n",
       " '0061091944',\n",
       " '0061091979',\n",
       " '0061092002',\n",
       " '0061092029',\n",
       " '0061092037',\n",
       " '0061092045',\n",
       " '0061092088',\n",
       " '0061092177',\n",
       " '0061092193',\n",
       " '0061092355',\n",
       " '0061092533',\n",
       " '0061092568',\n",
       " '0061092606',\n",
       " '0061092614',\n",
       " '0061092622',\n",
       " '0061092800',\n",
       " '0061092819',\n",
       " '0061092827',\n",
       " '006109286X',\n",
       " '0061092886',\n",
       " '0061093084',\n",
       " '0061093092',\n",
       " '0061093106',\n",
       " '0061093327',\n",
       " '0061093335',\n",
       " '0061093343',\n",
       " '0061093491',\n",
       " '0061093580',\n",
       " '0061093653',\n",
       " '0061093890',\n",
       " '006109398X',\n",
       " '0061093998',\n",
       " '0061094048',\n",
       " '0061094110',\n",
       " '0061094129',\n",
       " '0061094145',\n",
       " '0061094196',\n",
       " '0061094226',\n",
       " '0061094234',\n",
       " '0061094404',\n",
       " '0061094595',\n",
       " '0061094609',\n",
       " '0061094757',\n",
       " '0061095052',\n",
       " '0061095435',\n",
       " '0061095540',\n",
       " '0061095869',\n",
       " '006109594X',\n",
       " '0061096083',\n",
       " '0061096105',\n",
       " '0061096113',\n",
       " '0061096164',\n",
       " '0061096253',\n",
       " '0061096644',\n",
       " '0061096857',\n",
       " '0061096962',\n",
       " '0061097101',\n",
       " '0061097152',\n",
       " '0061097349',\n",
       " '0061097357',\n",
       " '0061097373',\n",
       " '0061097497',\n",
       " '0061097500',\n",
       " '0061097632',\n",
       " '0061097659',\n",
       " '0061097853',\n",
       " '0061097861',\n",
       " '0061098019',\n",
       " '0061098027',\n",
       " '0061098035',\n",
       " '0061098256',\n",
       " '0061098361',\n",
       " '0061098752',\n",
       " '0061098795',\n",
       " '0061099015',\n",
       " '0061099058',\n",
       " '0061099155',\n",
       " '006109918X',\n",
       " '006109921X',\n",
       " '0061099252',\n",
       " '0061099279',\n",
       " '0061099325',\n",
       " '0061099341',\n",
       " '0061099368',\n",
       " '0061099481',\n",
       " '0061099570',\n",
       " '0061099686',\n",
       " '0061099708',\n",
       " '0061099805',\n",
       " '0061099813',\n",
       " '0062500260',\n",
       " '0062500295',\n",
       " '0062500872',\n",
       " '0062501860',\n",
       " '0062502174',\n",
       " '0062502727',\n",
       " '0062505017',\n",
       " '0062505319',\n",
       " '0062505963',\n",
       " '0062506838',\n",
       " '0062507249',\n",
       " '006250746X',\n",
       " '0062508113',\n",
       " '0062508342',\n",
       " '006250925X',\n",
       " '0062509594',\n",
       " '0062511866',\n",
       " '0062512021',\n",
       " '0062512234',\n",
       " '0062512668',\n",
       " '006251279X',\n",
       " '0062513346',\n",
       " '0062513591',\n",
       " '0062513982',\n",
       " '0062515845',\n",
       " '0062515888',\n",
       " '0062516329',\n",
       " '0062516582',\n",
       " '0062516590',\n",
       " '0062517317',\n",
       " '0062517856',\n",
       " '0062517864',\n",
       " '0062545035',\n",
       " '006254862X',\n",
       " '0062548662',\n",
       " '0062553895',\n",
       " '0062554468',\n",
       " '006273024X',\n",
       " '0062735233',\n",
       " '0064400018',\n",
       " '0064400026',\n",
       " '0064400034',\n",
       " '0064400042',\n",
       " '0064400050',\n",
       " '0064400069',\n",
       " '0064400077',\n",
       " '0064400085',\n",
       " '0064400204',\n",
       " '006440031X',\n",
       " '0064400409',\n",
       " '0064400484',\n",
       " '0064400557',\n",
       " '0064400565',\n",
       " '0064400581',\n",
       " '0064400808',\n",
       " '0064400859',\n",
       " '0064400972',\n",
       " '0064400980',\n",
       " '0064400999',\n",
       " '0064401103',\n",
       " '0064401111',\n",
       " '0064401324',\n",
       " '0064401480',\n",
       " '0064401510',\n",
       " '0064401707',\n",
       " '006440174X',\n",
       " '0064401774',\n",
       " '0064401987',\n",
       " '0064402010',\n",
       " '0064402053',\n",
       " '0064402754',\n",
       " '0064402967',\n",
       " '0064403149',\n",
       " '0064404188',\n",
       " '0064404773',\n",
       " '0064404781',\n",
       " '0064404994',\n",
       " '0064405001',\n",
       " '006440501X',\n",
       " '0064405028',\n",
       " '0064405036',\n",
       " '0064405044',\n",
       " '0064405052',\n",
       " '0064405079',\n",
       " '0064405109',\n",
       " '0064405176',\n",
       " '0064405451',\n",
       " '006440546X',\n",
       " '0064405737',\n",
       " '0064405788',\n",
       " ...]"
      ]
     },
     "execution_count": 223,
     "metadata": {},
     "output_type": "execute_result"
    }
   ],
   "source": [
    "ratings_scaled.index.tolist()"
   ]
  },
  {
   "cell_type": "code",
   "execution_count": null,
   "metadata": {},
   "outputs": [],
   "source": [
    "# imp_dict"
   ]
  },
  {
   "cell_type": "markdown",
   "metadata": {},
   "source": [
    "## Save as CSV"
   ]
  },
  {
   "cell_type": "code",
   "execution_count": null,
   "metadata": {},
   "outputs": [],
   "source": [
    "new_ratings_and_books.to_csv('../data/ratings_and_books.csv')"
   ]
  },
  {
   "cell_type": "code",
   "execution_count": null,
   "metadata": {},
   "outputs": [],
   "source": [
    "new_ratings_and_books[new_ratings_and_books['book_rating'] != 0].to_csv('../data/explicit_ratings.csv')"
   ]
  },
  {
   "cell_type": "code",
   "execution_count": null,
   "metadata": {},
   "outputs": [],
   "source": [
    "implicit = new_ratings_and_books[new_ratings_and_books.book_rating == 0][['isbn', 'user_id']].to_dict('list')"
   ]
  },
  {
   "cell_type": "code",
   "execution_count": null,
   "metadata": {},
   "outputs": [],
   "source": [
    "imp_dict = dict(zip(implicit['isbn'], implicit['user_id']))"
   ]
  },
  {
   "cell_type": "code",
   "execution_count": null,
   "metadata": {},
   "outputs": [],
   "source": [
    "len(imp_dict)"
   ]
  },
  {
   "cell_type": "code",
   "execution_count": null,
   "metadata": {},
   "outputs": [],
   "source": []
  }
 ],
 "metadata": {
  "kernelspec": {
   "display_name": "Python 3",
   "language": "python",
   "name": "python3"
  },
  "language_info": {
   "codemirror_mode": {
    "name": "ipython",
    "version": 3
   },
   "file_extension": ".py",
   "mimetype": "text/x-python",
   "name": "python",
   "nbconvert_exporter": "python",
   "pygments_lexer": "ipython3",
   "version": "3.6.5"
  }
 },
 "nbformat": 4,
 "nbformat_minor": 2
}
