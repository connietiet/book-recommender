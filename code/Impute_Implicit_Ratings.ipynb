{
 "cells": [
  {
   "cell_type": "code",
   "execution_count": 2,
   "metadata": {},
   "outputs": [
    {
     "name": "stdout",
     "output_type": "stream",
     "text": [
      "Collecting scikit-surprise\n",
      "\u001b[?25l  Downloading https://files.pythonhosted.org/packages/4d/fc/cd4210b247d1dca421c25994740cbbf03c5e980e31881f10eaddf45fdab0/scikit-surprise-1.0.6.tar.gz (3.3MB)\n",
      "\u001b[K    100% |████████████████████████████████| 3.3MB 1.0MB/s \n",
      "\u001b[?25hCollecting joblib>=0.11 (from scikit-surprise)\n",
      "\u001b[?25l  Downloading https://files.pythonhosted.org/packages/49/d9/4ea194a4c1d0148f9446054b9135f47218c23ccc6f649aeb09fab4c0925c/joblib-0.13.1-py2.py3-none-any.whl (278kB)\n",
      "\u001b[K    100% |████████████████████████████████| 286kB 2.6MB/s \n",
      "\u001b[?25hRequirement already satisfied: numpy>=1.11.2 in /opt/conda/lib/python3.6/site-packages (from scikit-surprise) (1.13.3)\n",
      "Requirement already satisfied: scipy>=1.0.0 in /opt/conda/lib/python3.6/site-packages (from scikit-surprise) (1.1.0)\n",
      "Requirement already satisfied: six>=1.10.0 in /opt/conda/lib/python3.6/site-packages (from scikit-surprise) (1.12.0)\n",
      "Building wheels for collected packages: scikit-surprise\n",
      "  Running setup.py bdist_wheel for scikit-surprise ... \u001b[?25ldone\n",
      "\u001b[?25h  Stored in directory: /home/jovyan/.cache/pip/wheels/ec/c0/55/3a28eab06b53c220015063ebbdb81213cd3dcbb72c088251ec\n",
      "Successfully built scikit-surprise\n",
      "Installing collected packages: joblib, scikit-surprise\n",
      "Successfully installed joblib-0.13.1 scikit-surprise-1.0.6\n"
     ]
    }
   ],
   "source": [
    "!pip install scikit-surprise"
   ]
  },
  {
   "cell_type": "code",
   "execution_count": 2,
   "metadata": {},
   "outputs": [],
   "source": [
    "import pandas as pd\n",
    "import numpy as np\n",
    "# from surprise import Reader, Dataset, SVD, evaluate, NMF\n",
    "from sklearn.decomposition import TruncatedSVD\n",
    "from sklearn.metrics import pairwise_distances\n",
    "from sklearn.preprocessing import StandardScaler\n",
    "import sqlite3"
   ]
  },
  {
   "cell_type": "code",
   "execution_count": 3,
   "metadata": {},
   "outputs": [],
   "source": [
    "ratings_and_books = pd.read_csv('../data/ratings_and_books.csv')"
   ]
  },
  {
   "cell_type": "code",
   "execution_count": 4,
   "metadata": {},
   "outputs": [],
   "source": [
    "ratings_and_books.drop(columns='Unnamed: 0', inplace=True)"
   ]
  },
  {
   "cell_type": "code",
   "execution_count": 5,
   "metadata": {},
   "outputs": [
    {
     "data": {
      "text/html": [
       "<div>\n",
       "<style scoped>\n",
       "    .dataframe tbody tr th:only-of-type {\n",
       "        vertical-align: middle;\n",
       "    }\n",
       "\n",
       "    .dataframe tbody tr th {\n",
       "        vertical-align: top;\n",
       "    }\n",
       "\n",
       "    .dataframe thead th {\n",
       "        text-align: right;\n",
       "    }\n",
       "</style>\n",
       "<table border=\"1\" class=\"dataframe\">\n",
       "  <thead>\n",
       "    <tr style=\"text-align: right;\">\n",
       "      <th></th>\n",
       "      <th>book_author</th>\n",
       "      <th>book_title</th>\n",
       "      <th>isbn</th>\n",
       "      <th>publisher</th>\n",
       "      <th>year_of_publication</th>\n",
       "      <th>book_rating</th>\n",
       "      <th>user_id</th>\n",
       "    </tr>\n",
       "  </thead>\n",
       "  <tbody>\n",
       "    <tr>\n",
       "      <th>0</th>\n",
       "      <td>Richard Bruce Wright</td>\n",
       "      <td>Clara Callan</td>\n",
       "      <td>0002005018</td>\n",
       "      <td>HarperFlamingo Canada</td>\n",
       "      <td>2001</td>\n",
       "      <td>5</td>\n",
       "      <td>8</td>\n",
       "    </tr>\n",
       "    <tr>\n",
       "      <th>1</th>\n",
       "      <td>Richard Bruce Wright</td>\n",
       "      <td>Clara Callan</td>\n",
       "      <td>0002005018</td>\n",
       "      <td>HarperFlamingo Canada</td>\n",
       "      <td>2001</td>\n",
       "      <td>0</td>\n",
       "      <td>11400</td>\n",
       "    </tr>\n",
       "    <tr>\n",
       "      <th>2</th>\n",
       "      <td>Richard Bruce Wright</td>\n",
       "      <td>Clara Callan</td>\n",
       "      <td>0002005018</td>\n",
       "      <td>HarperFlamingo Canada</td>\n",
       "      <td>2001</td>\n",
       "      <td>8</td>\n",
       "      <td>11676</td>\n",
       "    </tr>\n",
       "    <tr>\n",
       "      <th>3</th>\n",
       "      <td>Richard Bruce Wright</td>\n",
       "      <td>Clara Callan</td>\n",
       "      <td>0002005018</td>\n",
       "      <td>HarperFlamingo Canada</td>\n",
       "      <td>2001</td>\n",
       "      <td>0</td>\n",
       "      <td>41385</td>\n",
       "    </tr>\n",
       "    <tr>\n",
       "      <th>4</th>\n",
       "      <td>Richard Bruce Wright</td>\n",
       "      <td>Clara Callan</td>\n",
       "      <td>0002005018</td>\n",
       "      <td>HarperFlamingo Canada</td>\n",
       "      <td>2001</td>\n",
       "      <td>8</td>\n",
       "      <td>67544</td>\n",
       "    </tr>\n",
       "  </tbody>\n",
       "</table>\n",
       "</div>"
      ],
      "text/plain": [
       "            book_author    book_title        isbn              publisher  \\\n",
       "0  Richard Bruce Wright  Clara Callan  0002005018  HarperFlamingo Canada   \n",
       "1  Richard Bruce Wright  Clara Callan  0002005018  HarperFlamingo Canada   \n",
       "2  Richard Bruce Wright  Clara Callan  0002005018  HarperFlamingo Canada   \n",
       "3  Richard Bruce Wright  Clara Callan  0002005018  HarperFlamingo Canada   \n",
       "4  Richard Bruce Wright  Clara Callan  0002005018  HarperFlamingo Canada   \n",
       "\n",
       "   year_of_publication  book_rating  user_id  \n",
       "0                 2001            5        8  \n",
       "1                 2001            0    11400  \n",
       "2                 2001            8    11676  \n",
       "3                 2001            0    41385  \n",
       "4                 2001            8    67544  "
      ]
     },
     "execution_count": 5,
     "metadata": {},
     "output_type": "execute_result"
    }
   ],
   "source": [
    "ratings_and_books.head()"
   ]
  },
  {
   "cell_type": "code",
   "execution_count": 7,
   "metadata": {},
   "outputs": [
    {
     "data": {
      "text/plain": [
       "498217"
      ]
     },
     "execution_count": 7,
     "metadata": {},
     "output_type": "execute_result"
    }
   ],
   "source": [
    "len(ratings_and_books[ratings_and_books['book_rating'] == 0])"
   ]
  },
  {
   "cell_type": "code",
   "execution_count": 8,
   "metadata": {},
   "outputs": [
    {
     "data": {
      "text/plain": [
       "290428"
      ]
     },
     "execution_count": 8,
     "metadata": {},
     "output_type": "execute_result"
    }
   ],
   "source": [
    "len(ratings_and_books[ratings_and_books['book_rating'] != 0])"
   ]
  },
  {
   "cell_type": "code",
   "execution_count": 9,
   "metadata": {},
   "outputs": [],
   "source": [
    "explicit_ratings = pd.read_csv('../data/explicit_ratings.csv')"
   ]
  },
  {
   "cell_type": "code",
   "execution_count": 11,
   "metadata": {},
   "outputs": [],
   "source": [
    "explicit_ratings.drop(columns='Unnamed: 0', inplace=True)"
   ]
  },
  {
   "cell_type": "code",
   "execution_count": 14,
   "metadata": {},
   "outputs": [
    {
     "data": {
      "text/plain": [
       "1      1059\n",
       "2      1783\n",
       "3      3879\n",
       "4      5729\n",
       "5     31418\n",
       "6     24076\n",
       "7     50986\n",
       "8     71531\n",
       "9     47702\n",
       "10    52265\n",
       "Name: book_rating, dtype: int64"
      ]
     },
     "execution_count": 14,
     "metadata": {},
     "output_type": "execute_result"
    }
   ],
   "source": [
    "explicit_ratings['book_rating'].value_counts().sort_index()"
   ]
  },
  {
   "cell_type": "markdown",
   "metadata": {},
   "source": [
    "## Surprise"
   ]
  },
  {
   "cell_type": "code",
   "execution_count": 9,
   "metadata": {},
   "outputs": [],
   "source": [
    "# reader = Reader(rating_scale=(0, 10))"
   ]
  },
  {
   "cell_type": "code",
   "execution_count": 11,
   "metadata": {},
   "outputs": [],
   "source": [
    "# ratings_data = Dataset.load_from_df(ratings_and_books[['user_id', 'isbn', 'book_rating']], reader)"
   ]
  },
  {
   "cell_type": "code",
   "execution_count": 16,
   "metadata": {},
   "outputs": [],
   "source": [
    "# ratings_data.split()"
   ]
  },
  {
   "cell_type": "code",
   "execution_count": 18,
   "metadata": {},
   "outputs": [],
   "source": [
    "# algo = SVD()\n",
    "# evaluate(algo, ratings_data, measures=['rmse'])"
   ]
  },
  {
   "cell_type": "markdown",
   "metadata": {},
   "source": [
    "## SVD"
   ]
  },
  {
   "cell_type": "code",
   "execution_count": null,
   "metadata": {},
   "outputs": [],
   "source": [
    "explicit_book_ratings = explicit_ratings.pivot_table(values='book_rating',\n",
    "                                            index='user_id',\n",
    "                                            columns='book_title').fillna(0)"
   ]
  },
  {
   "cell_type": "code",
   "execution_count": null,
   "metadata": {},
   "outputs": [],
   "source": []
  }
 ],
 "metadata": {
  "kernelspec": {
   "display_name": "Python 3",
   "language": "python",
   "name": "python3"
  },
  "language_info": {
   "codemirror_mode": {
    "name": "ipython",
    "version": 3
   },
   "file_extension": ".py",
   "mimetype": "text/x-python",
   "name": "python",
   "nbconvert_exporter": "python",
   "pygments_lexer": "ipython3",
   "version": "3.6.5"
  }
 },
 "nbformat": 4,
 "nbformat_minor": 2
}
