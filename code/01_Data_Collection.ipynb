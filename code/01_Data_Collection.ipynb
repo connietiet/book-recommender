{
 "cells": [
  {
   "cell_type": "markdown",
   "metadata": {},
   "source": [
    "# Data Collection"
   ]
  },
  {
   "cell_type": "markdown",
   "metadata": {},
   "source": [
    "## Review Statistics"
   ]
  },
  {
   "cell_type": "code",
   "execution_count": 1,
   "metadata": {},
   "outputs": [],
   "source": [
    "import requests\n",
    "import json\n",
    "import pandas as pd\n",
    "from bs4 import BeautifulSoup\n",
    "import re"
   ]
  },
  {
   "cell_type": "markdown",
   "metadata": {},
   "source": [
    "### Goodreads API"
   ]
  },
  {
   "cell_type": "code",
   "execution_count": 2,
   "metadata": {},
   "outputs": [],
   "source": [
    "url = 'https://www.goodreads.com/book/review_counts.json?key=prkLqGzgF7KgNNy3VqgJpQ&isbns=9780439554930'"
   ]
  },
  {
   "cell_type": "code",
   "execution_count": 3,
   "metadata": {},
   "outputs": [],
   "source": [
    "response = requests.get(url)"
   ]
  },
  {
   "cell_type": "code",
   "execution_count": 4,
   "metadata": {},
   "outputs": [
    {
     "data": {
      "text/plain": [
       "200"
      ]
     },
     "execution_count": 4,
     "metadata": {},
     "output_type": "execute_result"
    }
   ],
   "source": [
    "response.status_code"
   ]
  },
  {
   "cell_type": "code",
   "execution_count": 5,
   "metadata": {},
   "outputs": [
    {
     "data": {
      "text/plain": [
       "{'books': [{'id': 3,\n",
       "   'isbn': '0439554934',\n",
       "   'isbn13': '9780439554930',\n",
       "   'ratings_count': 5434624,\n",
       "   'reviews_count': 6411168,\n",
       "   'text_reviews_count': 67637,\n",
       "   'work_ratings_count': 5705019,\n",
       "   'work_reviews_count': 6426692,\n",
       "   'work_text_reviews_count': 91045,\n",
       "   'average_rating': '4.46'}]}"
      ]
     },
     "execution_count": 5,
     "metadata": {},
     "output_type": "execute_result"
    }
   ],
   "source": [
    "response.json()"
   ]
  },
  {
   "cell_type": "code",
   "execution_count": null,
   "metadata": {},
   "outputs": [],
   "source": []
  },
  {
   "cell_type": "markdown",
   "metadata": {},
   "source": [
    "#### YA List - Title and Author"
   ]
  },
  {
   "cell_type": "code",
   "execution_count": 2,
   "metadata": {},
   "outputs": [
    {
     "name": "stdout",
     "output_type": "stream",
     "text": [
      "Finished scraping page 1\n",
      "Finished scraping page 2\n",
      "Finished scraping page 3\n",
      "Finished scraping page 4\n",
      "Finished scraping page 5\n",
      "Finished scraping page 6\n",
      "Finished scraping page 7\n",
      "Finished scraping page 8\n",
      "Finished scraping page 9\n",
      "Finished scraping page 10\n",
      "Finished scraping page 11\n",
      "Finished scraping page 12\n",
      "Finished scraping page 13\n",
      "Finished scraping page 14\n",
      "Finished scraping page 15\n",
      "Finished scraping page 16\n",
      "Finished scraping page 17\n",
      "Finished scraping page 18\n",
      "Finished scraping page 19\n",
      "Finished scraping page 20\n",
      "Finished scraping page 21\n",
      "Finished scraping page 22\n",
      "Finished scraping page 23\n",
      "Finished scraping page 24\n",
      "Finished scraping page 25\n",
      "Finished scraping page 26\n",
      "Finished scraping page 27\n",
      "Finished scraping page 28\n",
      "Finished scraping page 29\n",
      "Finished scraping page 30\n",
      "Finished scraping page 31\n",
      "Finished scraping page 32\n",
      "Finished scraping page 33\n",
      "Finished scraping page 34\n",
      "Finished scraping page 35\n",
      "Finished scraping page 36\n",
      "Finished scraping page 37\n",
      "Finished scraping page 38\n",
      "Finished scraping page 39\n",
      "Finished scraping page 40\n",
      "Finished scraping page 41\n",
      "Finished scraping page 42\n",
      "Finished scraping page 43\n",
      "Finished scraping page 44\n",
      "Finished scraping page 45\n",
      "Finished scraping page 46\n",
      "Finished scraping page 47\n",
      "Finished scraping page 48\n",
      "Finished scraping page 49\n",
      "Finished scraping page 50\n",
      "Finished scraping page 51\n",
      "Finished scraping page 52\n",
      "Finished scraping page 53\n",
      "Finished scraping page 54\n",
      "Finished scraping page 55\n",
      "Finished scraping page 56\n",
      "Finished scraping page 57\n",
      "Finished scraping page 58\n",
      "Finished scraping page 59\n",
      "Finished scraping page 60\n",
      "Finished scraping page 61\n",
      "Finished scraping page 62\n",
      "Finished scraping page 63\n",
      "Finished scraping page 64\n",
      "Finished scraping page 65\n",
      "Finished scraping page 66\n",
      "Finished scraping page 67\n",
      "Finished scraping page 68\n",
      "Finished scraping page 69\n",
      "Finished scraping page 70\n",
      "Finished scraping page 71\n",
      "Finished scraping page 72\n",
      "Finished scraping page 73\n",
      "Finished scraping page 74\n",
      "Finished scraping page 75\n",
      "Finished scraping page 76\n",
      "Finished scraping page 77\n",
      "Finished scraping page 78\n",
      "Finished scraping page 79\n",
      "Finished scraping page 80\n",
      "Finished scraping page 81\n",
      "Finished scraping page 82\n",
      "Finished scraping page 83\n",
      "Finished scraping page 84\n",
      "Finished scraping page 85\n",
      "Finished scraping page 86\n",
      "Finished scraping page 87\n",
      "Finished scraping page 88\n",
      "Finished scraping page 89\n",
      "Finished scraping page 90\n",
      "Finished scraping page 91\n",
      "Finished scraping page 92\n",
      "Finished scraping page 93\n",
      "Finished scraping page 94\n",
      "Finished scraping page 95\n",
      "Finished scraping page 96\n",
      "Finished scraping page 97\n",
      "Finished scraping page 98\n",
      "Finished scraping page 99\n",
      "Finished scraping page 100\n",
      "Finished scraping page 101\n",
      "Finished scraping page 102\n",
      "Finished scraping page 103\n",
      "Finished scraping page 104\n",
      "Finished scraping page 105\n",
      "Finished scraping page 106\n",
      "Finished scraping page 107\n",
      "Finished scraping page 108\n",
      "Finished scraping page 109\n",
      "Finished scraping page 110\n",
      "Finished scraping page 111\n",
      "Finished scraping page 112\n",
      "Finished scraping page 113\n",
      "Finished scraping page 114\n",
      "Finished scraping page 115\n",
      "Finished scraping page 116\n"
     ]
    }
   ],
   "source": [
    "ya_books = []\n",
    "for i in range(1, 117):\n",
    "    url = f'https://www.goodreads.com/list/show/43.Best_Young_Adult_Books?page={i}'\n",
    "    response = requests.get(url)\n",
    "    soup = BeautifulSoup(response.content, 'lxml')\n",
    "    table = soup.find('div', {'id': 'all_votes'})\n",
    "    for row in table.find_all('tr'):\n",
    "        ya_book = {}\n",
    "        ya_book['title'] = row.find('span', {'itemprop': 'name'}).text\n",
    "        ya_book['author'] = row.find('span', {'itemprop': 'author'}).text.replace('\\n\\n', '')\n",
    "        ya_book['slug'] = row.find('a').attrs['href'].replace('/book/show/', '')\n",
    "        ya_books.append(ya_book)\n",
    "    print(f'Finished scraping page {i}')"
   ]
  },
  {
   "cell_type": "code",
   "execution_count": 3,
   "metadata": {},
   "outputs": [],
   "source": [
    "book_list = pd.DataFrame(ya_books)"
   ]
  },
  {
   "cell_type": "code",
   "execution_count": 4,
   "metadata": {},
   "outputs": [],
   "source": [
    "book_list.to_csv('./data/ya_books')"
   ]
  },
  {
   "cell_type": "code",
   "execution_count": 71,
   "metadata": {},
   "outputs": [
    {
     "data": {
      "text/plain": [
       "11542"
      ]
     },
     "execution_count": 71,
     "metadata": {},
     "output_type": "execute_result"
    }
   ],
   "source": [
    "len(book_list)"
   ]
  },
  {
   "cell_type": "code",
   "execution_count": 73,
   "metadata": {},
   "outputs": [
    {
     "data": {
      "text/html": [
       "<div>\n",
       "<style scoped>\n",
       "    .dataframe tbody tr th:only-of-type {\n",
       "        vertical-align: middle;\n",
       "    }\n",
       "\n",
       "    .dataframe tbody tr th {\n",
       "        vertical-align: top;\n",
       "    }\n",
       "\n",
       "    .dataframe thead th {\n",
       "        text-align: right;\n",
       "    }\n",
       "</style>\n",
       "<table border=\"1\" class=\"dataframe\">\n",
       "  <thead>\n",
       "    <tr style=\"text-align: right;\">\n",
       "      <th></th>\n",
       "      <th>author</th>\n",
       "      <th>slug</th>\n",
       "      <th>title</th>\n",
       "    </tr>\n",
       "  </thead>\n",
       "  <tbody>\n",
       "    <tr>\n",
       "      <th>0</th>\n",
       "      <td>J.K. Rowling</td>\n",
       "      <td>3.Harry_Potter_and_the_Sorcerer_s_Stone</td>\n",
       "      <td>Harry Potter and the Sorcerer's Stone (Harry P...</td>\n",
       "    </tr>\n",
       "    <tr>\n",
       "      <th>1</th>\n",
       "      <td>Rick Riordan (Goodreads Author)</td>\n",
       "      <td>28187.The_Lightning_Thief</td>\n",
       "      <td>The Lightning Thief (Percy Jackson and the Oly...</td>\n",
       "    </tr>\n",
       "    <tr>\n",
       "      <th>2</th>\n",
       "      <td>Stephenie Meyer</td>\n",
       "      <td>41865.Twilight</td>\n",
       "      <td>Twilight (Twilight, #1)</td>\n",
       "    </tr>\n",
       "    <tr>\n",
       "      <th>3</th>\n",
       "      <td>Suzanne Collins</td>\n",
       "      <td>12091570-the-hunger-games</td>\n",
       "      <td>The Hunger Games (The Hunger Games, #1)</td>\n",
       "    </tr>\n",
       "    <tr>\n",
       "      <th>4</th>\n",
       "      <td>Lois Lowry (Goodreads Author)</td>\n",
       "      <td>3636.The_Giver</td>\n",
       "      <td>The Giver</td>\n",
       "    </tr>\n",
       "  </tbody>\n",
       "</table>\n",
       "</div>"
      ],
      "text/plain": [
       "                            author                                     slug  \\\n",
       "0                     J.K. Rowling  3.Harry_Potter_and_the_Sorcerer_s_Stone   \n",
       "1  Rick Riordan (Goodreads Author)                28187.The_Lightning_Thief   \n",
       "2                  Stephenie Meyer                           41865.Twilight   \n",
       "3                  Suzanne Collins                12091570-the-hunger-games   \n",
       "4    Lois Lowry (Goodreads Author)                           3636.The_Giver   \n",
       "\n",
       "                                               title  \n",
       "0  Harry Potter and the Sorcerer's Stone (Harry P...  \n",
       "1  The Lightning Thief (Percy Jackson and the Oly...  \n",
       "2                            Twilight (Twilight, #1)  \n",
       "3            The Hunger Games (The Hunger Games, #1)  \n",
       "4                                          The Giver  "
      ]
     },
     "execution_count": 73,
     "metadata": {},
     "output_type": "execute_result"
    }
   ],
   "source": [
    "book_list.head()"
   ]
  },
  {
   "cell_type": "markdown",
   "metadata": {},
   "source": [
    "#### Book Page - ISBN, Reviews, User IDs"
   ]
  },
  {
   "cell_type": "code",
   "execution_count": 159,
   "metadata": {},
   "outputs": [
    {
     "data": {
      "text/plain": [
       "200"
      ]
     },
     "execution_count": 159,
     "metadata": {},
     "output_type": "execute_result"
    }
   ],
   "source": [
    "url = 'https://www.goodreads.com/book/show/3.Harry_Potter_and_the_Sorcerer_s_Stone'\n",
    "response = requests.get(url)\n",
    "response.status_code"
   ]
  },
  {
   "cell_type": "code",
   "execution_count": 160,
   "metadata": {},
   "outputs": [],
   "source": [
    "soup = BeautifulSoup(response.content, 'lxml')"
   ]
  },
  {
   "cell_type": "code",
   "execution_count": 98,
   "metadata": {},
   "outputs": [],
   "source": [
    "review_ids = re.findall(r'freeTextContainer\\d+', str(soup.find_all('span')))"
   ]
  },
  {
   "cell_type": "code",
   "execution_count": 133,
   "metadata": {},
   "outputs": [
    {
     "data": {
      "text/html": [
       "<div>\n",
       "<style scoped>\n",
       "    .dataframe tbody tr th:only-of-type {\n",
       "        vertical-align: middle;\n",
       "    }\n",
       "\n",
       "    .dataframe tbody tr th {\n",
       "        vertical-align: top;\n",
       "    }\n",
       "\n",
       "    .dataframe thead th {\n",
       "        text-align: right;\n",
       "    }\n",
       "</style>\n",
       "<table border=\"1\" class=\"dataframe\">\n",
       "  <thead>\n",
       "    <tr style=\"text-align: right;\">\n",
       "      <th></th>\n",
       "      <th>0</th>\n",
       "    </tr>\n",
       "  </thead>\n",
       "  <tbody>\n",
       "    <tr>\n",
       "      <th>0</th>\n",
       "      <td>I'm going to keep this brief since there isn't...</td>\n",
       "    </tr>\n",
       "    <tr>\n",
       "      <th>1</th>\n",
       "      <td>My original review was a comparison of sorts b...</td>\n",
       "    </tr>\n",
       "    <tr>\n",
       "      <th>2</th>\n",
       "      <td>Rereading for the 3rd time for the group read....</td>\n",
       "    </tr>\n",
       "    <tr>\n",
       "      <th>3</th>\n",
       "      <td>&lt;i&gt;Review for Illustrated Edition&lt;/i&gt;&lt;br/&gt;&lt;br/...</td>\n",
       "    </tr>\n",
       "    <tr>\n",
       "      <th>4</th>\n",
       "      <td>&lt;b&gt;***Because I got hate in the comments for O...</td>\n",
       "    </tr>\n",
       "    <tr>\n",
       "      <th>5</th>\n",
       "      <td>One of my first jobs was at a bookstore. When ...</td>\n",
       "    </tr>\n",
       "    <tr>\n",
       "      <th>6</th>\n",
       "      <td>Here are three reasons why Harry Potter rocks ...</td>\n",
       "    </tr>\n",
       "    <tr>\n",
       "      <th>7</th>\n",
       "      <td>&lt;b&gt;It's Always Great, Coming back Home..&lt;br/&gt;&lt;...</td>\n",
       "    </tr>\n",
       "    <tr>\n",
       "      <th>8</th>\n",
       "      <td>On my list of &lt;b&gt;reasons&lt;/b&gt; why &lt;b&gt;my daughte...</td>\n",
       "    </tr>\n",
       "    <tr>\n",
       "      <th>9</th>\n",
       "      <td>&lt;b&gt;How can more than half of my Goodreads frie...</td>\n",
       "    </tr>\n",
       "    <tr>\n",
       "      <th>10</th>\n",
       "      <td>ENGLISH (&lt;a href=\"https://www.goodreads.com/bo...</td>\n",
       "    </tr>\n",
       "    <tr>\n",
       "      <th>11</th>\n",
       "      <td>&lt;b&gt;Re-Read 2017&lt;/b&gt;&lt;br/&gt;&lt;br/&gt;MY BLOG: &lt;a href=...</td>\n",
       "    </tr>\n",
       "    <tr>\n",
       "      <th>12</th>\n",
       "      <td>&lt;i&gt;“There are some things you can't share with...</td>\n",
       "    </tr>\n",
       "    <tr>\n",
       "      <th>13</th>\n",
       "      <td>As wonderful and magical as promised. Because ...</td>\n",
       "    </tr>\n",
       "  </tbody>\n",
       "</table>\n",
       "</div>"
      ],
      "text/plain": [
       "                                                    0\n",
       "0   I'm going to keep this brief since there isn't...\n",
       "1   My original review was a comparison of sorts b...\n",
       "2   Rereading for the 3rd time for the group read....\n",
       "3   <i>Review for Illustrated Edition</i><br/><br/...\n",
       "4   <b>***Because I got hate in the comments for O...\n",
       "5   One of my first jobs was at a bookstore. When ...\n",
       "6   Here are three reasons why Harry Potter rocks ...\n",
       "7   <b>It's Always Great, Coming back Home..<br/><...\n",
       "8   On my list of <b>reasons</b> why <b>my daughte...\n",
       "9   <b>How can more than half of my Goodreads frie...\n",
       "10  ENGLISH (<a href=\"https://www.goodreads.com/bo...\n",
       "11  <b>Re-Read 2017</b><br/><br/>MY BLOG: <a href=...\n",
       "12  <i>“There are some things you can't share with...\n",
       "13  As wonderful and magical as promised. Because ..."
      ]
     },
     "execution_count": 133,
     "metadata": {},
     "output_type": "execute_result"
    }
   ],
   "source": [
    "pd.DataFrame(re.findall(r'freeText\\d+\"\\sstyle=\"display:none\">(.*)\\<\\/s', \n",
    "             str(soup.find('div', {'id': 'bookReviews'}).find_all('span', {'class': 'readable'}))))"
   ]
  },
  {
   "cell_type": "code",
   "execution_count": 154,
   "metadata": {},
   "outputs": [
    {
     "name": "stdout",
     "output_type": "stream",
     "text": [
      "I'm going to keep this brief since there isn't much to say that hasn't already been said. *clears throat*I think the reason I waited so long to read this series is because I just couldn't imagine myself enjoying reading about an eleven-year-old boy and his adventures at a school of wizardry. I thought it would be too juvenile for my taste. I was wrong, of course.I can honestly say that I loved every minute of this. It's a spectacular little romp with funny, courageous, and endearing characters t\n",
      "\n",
      "---------------------------------------------------------------------------\n",
      "\n",
      "I'm going to keep this brief since there isn't much to say that hasn't already been said. *clears throat*I think the reason I waited so long to read this series is because I just couldn't imagine myself enjoying reading about an eleven-year-old boy and his adventures at a school of wizardry. I thought it would be too juvenile for my taste. I was wrong, of course.I can honestly say that I loved every minute of this. It's a spectacular little romp with funny, courageous, and endearing characters that you can't help but love.It has talking chess pieces, singing hats, a giant three-headed dog named Fluffy, a hilarious giant with a dragon fetish, a master wizard that's just a little bit crazy, mail carrier owls, goblins running a bank, unicorns, centaurs(!), trolls . . . and probably much more that I'm forgetting. And then there's the lead characters: Hermione, the young scholar who starts out prim and up-tight but soon becomes a true friend; Ron, the boy who has little money but who has an abundance of family and loyalty to his friends to make up for it; and then there's Harry, the boy who starts out sleeping in a closet and ends up being a hero. Harry is kind to those that deserve it, fearless when it counts the most, and wonderfully intelligent. What's not to love? In regards to the ending: (view spoiler)[I feel silly saying this about a middle grade novel, but I didn't suspect Quirrell a bit! If there were hints that he was the true culprit and not Snape, I obviously missed them. (hide spoiler)]FAVORITE QUOTE: \"But from that moment on, Hermione Granger became their friend. There are some things you can't share without ending up liking each other, and knocking out a twelve-foot mountain troll is one of them.\"Now, if you'll excuse me, I'm off to start Harry Potter and the Chamber of Secrets.*******************************************************My reviews of other titles in this series:Harry Potter and the Chamber of Secrets\n",
      "\n",
      "---------------------------------------------------------------------------\n",
      "\n",
      "My original review was a comparison of sorts between Harry Potter and Twilight. However, this is stupid as the two are incomparable. Honestly, its not even worth discussing. Its not just that Twilight doesn't come close, it is the fact that Harry Potter transcends other similar works. Its peerless. To quote Samuel L. Jackson in Pulp Fiction: It \"ain't the same fuckin' ballpark, it ain't the same league, it ain't even the same fuckin' sport.\" There was a day when I thought I needed to defend Harr\n",
      "\n",
      "---------------------------------------------------------------------------\n",
      "\n",
      "My original review was a comparison of sorts between Harry Potter and Twilight. However, this is stupid as the two are incomparable. Honestly, its not even worth discussing. Its not just that Twilight doesn't come close, it is the fact that Harry Potter transcends other similar works. Its peerless. To quote Samuel L. Jackson in Pulp Fiction: It \"ain't the same fuckin' ballpark, it ain't the same league, it ain't even the same fuckin' sport.\" There was a day when I thought I needed to defend Harry Potter, in the midst of the now dead Twilight craze, and you can see that below in what was my original review. It is a testament to the power of this series, that while various other franchises (Twilight, Hunger Games) have surged into popularity and then faded, Harry Potter remains unwaveringly strong after nineteen years. It is clear readers hold just as much admiration for these books as they always have. Time has not dimmed that.I will, one day, write an essay about what these books mean to me. Eternal, this is the one that started it all. Original review (circa 2010) A note in regard to the on-going Potter vs Twilight debate: Go ahed, tell me Twilight is better. Tell me that James is scarier than Voldemort, That the Cullens are a better family than the Weasly's That Edward is cooler than Harry, and Bella is smarter than Hermione. Tell me that Stephenie Meyer is more talented than J.K. Rowling. Go ahead, I dare you. Those who think the topic of Harry Potter or Twilight is worth debating and arguing over, are utterly stupid. Quite frankly-this book is amazing. \n",
      "\n",
      "---------------------------------------------------------------------------\n",
      "\n",
      "Rereading for the 3rd time for the group read.Once upon a time, there was a 10th grader named Khanh who didn't get along with people very well. She wasn't an outcast in school, and all the bullying and teasing stopped with the commencement of high school, but she had always been a bookworm and has generally preferred the company of her own thoughts.Lunchtime had always been dedicated not to eating, but to sitting in the library, browsing through books.(Not to worry, she got her nutrition in 5th\n",
      "\n",
      "---------------------------------------------------------------------------\n",
      "\n",
      "Rereading for the 3rd time for the group read.Once upon a time, there was a 10th grader named Khanh who didn't get along with people very well. She wasn't an outcast in school, and all the bullying and teasing stopped with the commencement of high school, but she had always been a bookworm and has generally preferred the company of her own thoughts.Lunchtime had always been dedicated not to eating, but to sitting in the library, browsing through books.(Not to worry, she got her nutrition in 5th period in the form of a giant 6-inch M&M studded cookie and a package of Sour Patch Kids and/or a package of Reese's Pieces. Ah, the effortless metabolism of youth.)One day, there were shiny new books on her school library's \"New Releases\" shelf. Harry Potter, books 1 through 3. She had heard of the books before, of course, since they were a constant presence on the NYT bestsellers list, but she had always avoided them, thinking of them as children's novels.At the grand age of 14, surely she was too old for a little kid's fantasy novel. She had read the Outlander series earlier that year, after all. And it had sex in it. SEX! She didn't really quite understand everything in the book, but the point is, she had read them. Surely, at 14, Khanh was ready for more mature novels.And that did not include Harry Potter. Harry Potter is 11. Khanh is 14. There is a vast difference in their ages. Khanh was a teenager, dammit.But the Harry Potter books were new. Brand new. They were shiny, they had never been touched by another reader. And Khanh was tempted.She picked up the first book in the series: Harry Potter and the Sorcerer's Stone.The end.Or rather, the beginning.\n",
      "\n",
      "---------------------------------------------------------------------------\n",
      "\n",
      "I'm on page 27. I can already tell this is going to be a big hit someday. Everyone take note of this author. He's going places. Couldn't find him on Twitter, though. Wanted to tell him how great I thought page 23 was. \n",
      "\n",
      "---------------------------------------------------------------------------\n",
      "\n",
      "\n",
      "\n",
      "---------------------------------------------------------------------------\n",
      "\n",
      "IT'S HARRY FREAKIN POTTER OF COURSE I LOVE IT*reread in March 2017 (for the first time in like 5 years)(STILL WONDERFUL)\n",
      "\n",
      "---------------------------------------------------------------------------\n",
      "\n",
      "I've FINALLY read a Harry Potter book!!!(Watch my review here): https://youtu.be/oUZ0EMsggSk\n",
      "\n",
      "---------------------------------------------------------------------------\n",
      "\n",
      "Update September 2016: Currently rereading this series again! (I need to sort out my priorities.)I will never ever rate this lower than 5 stars. BEAUTIFUL. \n",
      "\n",
      "---------------------------------------------------------------------------\n",
      "\n",
      "\n",
      "\n",
      "---------------------------------------------------------------------------\n",
      "\n",
      "Why the heck did I not read Harry Potter before now...its flipping magical (literally)!\n",
      "\n",
      "---------------------------------------------------------------------------\n",
      "\n",
      "This is a disgrace to all pure bloods. My head looked quite dashing on that strange professor's head.. If only I could have extended my stay. Harry Potter.. This is not over yet.\n",
      "\n",
      "---------------------------------------------------------------------------\n",
      "\n",
      "There are no words to do this book justice. \n",
      "\n",
      "---------------------------------------------------------------------------\n",
      "\n",
      "Review for Illustrated EditionPerfect. Duh.  Re-Read in December 2014 for Harry Christmas To YouOH LORDY. Every time I read this book it brings back so many memories, and also gets me excited to read the rest of the series again as well because there is so much foreshadowing!! For example:-Sirius Black is casually mentioned in the first chapter-Mrs. Figg is talked about a bit, as she looks after Harry from time to time (or all the time, ayyyy?)-it always cracks me up when Hagrid says you'd have\n",
      "\n",
      "---------------------------------------------------------------------------\n",
      "\n",
      "Review for Illustrated EditionPerfect. Duh.  Re-Read in December 2014 for Harry Christmas To YouOH LORDY. Every time I read this book it brings back so many memories, and also gets me excited to read the rest of the series again as well because there is so much foreshadowing!! For example:-Sirius Black is casually mentioned in the first chapter-Mrs. Figg is talked about a bit, as she looks after Harry from time to time (or all the time, ayyyy?)-it always cracks me up when Hagrid says you'd have to be mad to try and rob Gringotts... Damn crazy kids.Also here was a line in Dumbledore's chocolate frog card bio that said AND I QUOTE, \"Professor Dumbledore enjoys chamber music and tenpin bowling.\" HAHAHAHA WHAT EVEN. NOW I'M IMAGINING HIM BOWLING DRAMATICALLY TO CHAMBER MUSIC.Rowling is the queen forever and always.Re-Read in July 2012GINNY'S FANGIRLING IN THIS BOOK IS JUST TOO GOOD.Also, the Dursleys aren't as bad as people think they are, because after all, they DID pick Harry up at the end of the year rather than just abandoning him. So THAT'S worth something.mmmm, this book smells so good. It's good to be back.\n",
      "\n",
      "---------------------------------------------------------------------------\n",
      "\n",
      "Can you hear me screaming?As expected, the illustrations brought this book to a whole new level. I legitimately want to buy another copy, solely to take it apart and frame it. Each page is just bursting with new life. Honestly, how could you  not  love such beautiful images? I just can't get over how much detail is present in these pictures! I think at this point, everyone and their great-great-grandmother has heard of this book.Harry Potter, orphaned before he was one, was sent to live with his\n",
      "\n",
      "---------------------------------------------------------------------------\n",
      "\n",
      "***Because I got hate in the comments for OMG swearing in a children's book review (which I get, I guess...), DON'T READ THIS IF YOU ARE UNDER 18. Happy now, everyone?***Well, I did it. I FINALLY read my first Harry Potter book...and in the same year as its 20th anniversary no less.But better late than never, no?Annnnd I already ordered the illustrated hardback. And asked for the full hardcover set for Christmas. From my dad. Because nothing says, “I’m a thirty-fucking-five-year-old adult” like\n",
      "\n",
      "---------------------------------------------------------------------------\n",
      "\n",
      "***Because I got hate in the comments for OMG swearing in a children's book review (which I get, I guess...), DON'T READ THIS IF YOU ARE UNDER 18. Happy now, everyone?***Well, I did it. I FINALLY read my first Harry Potter book...and in the same year as its 20th anniversary no less.But better late than never, no?Annnnd I already ordered the illustrated hardback. And asked for the full hardcover set for Christmas. From my dad. Because nothing says, “I’m a thirty-fucking-five-year-old adult” like asking Daddy for Harry Potter for Christmas. #TeamDumbledore XXXXXXXXXXXI have a confession to make. ***I have never read Harry Potter. Yes, yes, I know...this is akin to reader sacrilege.But I just had no interest in these books when they came out. I was too busy reading about men in kilts fucking the milkmaid. Therefore, my only experience with \"Hermione\" is the SNL skit where Lindsey Lohan shows Harry and that other scarfed dude her ginormous tatas. Well, what with everyone going ape shit over the newest installment, I figure I should probably find out what all this Hogwart's business is about. And since my friend's 9 year old demanded that I read his copy, I now have the paperback in my possession. Hoping to get starting this week...\n",
      "\n",
      "---------------------------------------------------------------------------\n",
      "\n",
      "Perfection\n",
      "\n",
      "---------------------------------------------------------------------------\n",
      "\n",
      "Doing a listen of the entire series, Stephen Fry edition. \n",
      "\n",
      "---------------------------------------------------------------------------\n",
      "\n",
      "One of my first jobs was at a bookstore. When I was a kid my Mom would take me to the mall and I would spend tons of time hanging out at Waldenbooks (who here remembers Waldenbooks?) Right when I became legally old enough to work, I went in and submitted my application and a few weeks later I was selling literature to the masses.Why do I tell you this story on this review, you ask? Well, at the time, young adult/teen literature consisted mainly of RL Stein, Christopher Pike, Beverly Cleary, Judy\n",
      "\n",
      "---------------------------------------------------------------------------\n",
      "\n",
      "One of my first jobs was at a bookstore. When I was a kid my Mom would take me to the mall and I would spend tons of time hanging out at Waldenbooks (who here remembers Waldenbooks?) Right when I became legally old enough to work, I went in and submitted my application and a few weeks later I was selling literature to the masses.Why do I tell you this story on this review, you ask? Well, at the time, young adult/teen literature consisted mainly of RL Stein, Christopher Pike, Beverly Cleary, Judy Blume, and a few other classic Newberry Award winners, but certainly we did not have a YA section to the extent you see it today.Towards the end of my tenure at Waldenbooks - as Oprah's book club was hitting its stride and Men Are From Mars, Women Are From Venus was in its bazzilionth week on the New York Times best seller list - a book display arrived featuring a buzzy new title about a certain boy wizard. I remember the display at the front of the store, and selling a few copies, but I didn't realize what it would become.A few years later (early 2000s), I had kinda gotten out of the loop on what was big in books. I had just finished college, which had taken up most of my free reading time. A friend of mine named Bronco (yup, real name, not a nickname, who also was the Best Man at my wedding) had a copy of this book on his coffee table. Holy cow! Here is that same book we were selling at Waldenbooks about 5 years before - what was he doing with it!?Well, he said it was good, so I borrowed it. I quickly plowed through the first 4 books and then got the pleasure of joining the world in waiting for the release of Order of the Phoenix. And, I noticed when I went to the bookstore, the YA section and selection was not so small anymore. I truly believe it was Harry Potter that opened the door to get more young adults (and even adults, of course) reading and authors interested in writing for that genre.\n",
      "\n",
      "---------------------------------------------------------------------------\n",
      "\n",
      "Here are three reasons why Harry Potter rocks my socks:1. A Better WorldOne of the main reasons Harry Potter is so wonderful is because Rowling shows you a boring world; it is the world of reality, dry, boring and ordinary. Then under it she reveals fantasy; she reveals everything a reader longs for: she reveals pure escapism. I still want to go to Hogwarts. I always will. 2. We’re all a bit like HarryOkay so not many of us are orphans, and not many of us are practically abused in their own home\n",
      "\n",
      "---------------------------------------------------------------------------\n",
      "\n",
      "Here are three reasons why Harry Potter rocks my socks:1. A Better WorldOne of the main reasons Harry Potter is so wonderful is because Rowling shows you a boring world; it is the world of reality, dry, boring and ordinary. Then under it she reveals fantasy; she reveals everything a reader longs for: she reveals pure escapism. I still want to go to Hogwarts. I always will. 2. We’re all a bit like HarryOkay so not many of us are orphans, and not many of us are practically abused in their own homes, but a lot of us feel isolated in the world, a lot of us wish for a fantastic group of friends as a child. I know I did, and this again leads back to my first point. Not everyone finds a Ron and Hermione.3. The magicSeems a bit of an obvious point doesn’t it? But, seriously, not many books have such a well-developed system. We have different categories, spell names, potions and books, lots of books on magic. And who doesn’t like books on magic? Blog | Twitter | Facebook | Insta | Academia\n",
      "\n",
      "---------------------------------------------------------------------------\n",
      "\n",
      "It's Always Great, Coming back Home..There's a reason us, the Fans, feel that we're connected, no matter where we from, different culture, ethics, ages..we're all graduated from there....Hogwarts.. even like we were in same class,classmates, no matter which edition we read....Cause Harry Potter is not just a story..it's a Life..The Boy Who Saved Flourished the Book IndustryIt's One of the most important novels in modern history, Sorry, it's The Most Important ONE.This Review also for those who h\n",
      "\n",
      "---------------------------------------------------------------------------\n",
      "\n",
      "It's Always Great, Coming back Home..There's a reason us, the Fans, feel that we're connected, no matter where we from, different culture, ethics, ages..we're all graduated from there....Hogwarts.. even like we were in same class,classmates, no matter which edition we read....Cause Harry Potter is not just a story..it's a Life..The Boy Who Saved\n",
      "\n",
      "---------------------------------------------------------------------------\n",
      "\n",
      "On my list of reasons why my daughters are the bestest thing to ever happen to me, Number 14,577 is that they gave me, at 41 years old, the perfect excuse to revisit the Harry Potter series. When my oldest angel told me she wanted to start reading the Harry Potter books, I couldn’t have been happier. As I was collecting all seven volumes off the shelf to bring up to her room, I started feeling nostalgic for the whole Hogwarts gang, and I realized that I’d never done more than a perfunctory revie\n",
      "\n",
      "---------------------------------------------------------------------------\n",
      "\n",
      "On my list of reasons why my daughters are the bestest thing to ever happen to me, Number 14,577 is that they gave me, at 41 years old, the perfect excuse to revisit the Harry Potter series. When my oldest angel told me she wanted to start reading the Harry Potter books, I couldn’t have been happier. As I was collecting all seven volumes off the shelf to bring up to her room, I started feeling nostalgic for the whole Hogwarts gang, and I realized that I’d never done more than a perfunctory review of this first volume. I figured it was high time to rectify that oversight.Harry deserves it. However, with over a million ratings, and almost two reviews for every day I’ve been alive, I think I can dispense with any plot distillation or character profiles. It has all been eloquently said before. Therefore, I just want to briefly express what I see as the essential magic at the heart of the series, and why I think it has resonated so strongly with so many people. Here goes...Only rarely does a story come along that can so completely wrap you up in a warm blanket of contentment and good feelings. One that can hold at bay, even if only for precious moments, the nasty brutishness of what often passes for daily life. These stories do that. It’s an escape into a world of optimism, honor, and hope, where things always look hopeful and anything is possible. Who wouldn't want to hang around in a place like that, especially when it is decorated with sorting hats, kindly giants, magic wands and Quidditch.Granted...no aspect of the story is revolutionary, or even particularly noteworthy, from the standpoint of blazing new trails within the fantasy genre. It isn’t great literature, and nothing about its technical merits makes it befitting of even a fraction of its unprecedented success. Fine...acknowledged. And? So what!The virtue of this story is the postive feelings it conjures in its readers. Harry’s story is something that radiates acceptance, inclusion, and friendship. It invokes a sense of belonging. Inside these pages, you can find the impetus to see the better angels of humanity’s nature, and feel just a little better about the world around you.How is that not worthy of praise?As for Harry himself, he’s just a good kid. The quintessential everyman who makes good. A loving boy with a clear head on his shoulders and a caring heart that pumps affection for the world around him. He’s someone you can’t help but like. He’s not perfect. He makes mistakes, he’s occasionally short sighted, and I know many of us wish he would stick up for himself a little more. Maybe reduce his aunt and uncle to a pair of fatty stains on the carpet, or give Dudley an atomic wedgie until his skivvies scrape against his pancreas. But that’s not Harry. He’s a better person than that. That’s why we love him. Maybe all of the above is a bit much. Like I said, I was feeling nostalgic and maybe the gush got a tad away from me. Let’s just say that these stories are perfect comfort food and reading them will make you happy. I’ll certainly settle for that. As for the rating, I Initially only gave this first volume 3 stars, and I’m not going to change that now. As much as I love the series as a whole, I don’t think it reaches stratospheric heights until Harry Potter and the Goblet of Fire. Still, this is where it all began. As such, it should be read and savored knowing that it only gets better.3.0 stars. Highly Recommended. \n",
      "\n",
      "---------------------------------------------------------------------------\n",
      "\n",
      "How can more than half of my Goodreads friends be wrong with this?I have to get this right. As of this writing, I have 98 Goodreads friends. 61 (62%) of them have read J. K. Rowling's Harry Potter and the Sorcerer's Stone. Out of those who read this, 39 (64%) rated this with 5 stars. 11 of them with 4 stars. All the others gave 3 or 2. Only 2 rated this with 1 star. One of them admitted not being able to finish it. She should not have rated it really since she did not read its entirety. (But she\n",
      "\n",
      "---------------------------------------------------------------------------\n",
      "\n",
      "How can more than half of my Goodreads friends be wrong with this?I have to get this right. As of this writing, I have 98 Goodreads friends. 61 (62%) of them have read J. K. Rowling's Harry Potter and the Sorcerer's Stone. Out of those who read this, 39 (64%) rated this with 5 stars. 11 of them with 4 stars. All the others gave 3 or 2. Only 2 rated this with 1 star. One of them admitted not being able to finish it. She should not have rated it really since she did not read its entirety. (But she is my friend and it is her right, so why question?)\n",
      "\n",
      "---------------------------------------------------------------------------\n",
      "\n",
      " ❝This boy will be famous. There won't be a child in our world who doesn't know his name.❞ Everyone grew up with Harry Potter. They read all the books when they were young and watched all the films. They would re-watch and re-read them. They would fall in love with the Wizarding World and would completely adore Harry, Ron, and Hermione. They would talk about them non stop, about Hogwarts, about its teachings, about them wanting to become students there and pretending they are, about joining the\n",
      "\n",
      "---------------------------------------------------------------------------\n",
      "\n",
      "(A-) 83% | Very GoodNotes: Despite a weak climax, it’s a delightful read: an excellent introduction to its richly layered, wildly imaginative world.\n",
      "\n",
      "---------------------------------------------------------------------------\n",
      "\n",
      "ENGLISH (Harry Potter and the Philosopher's Stone) / ITALIANOLet me dream.I'm reading for the first time this book to my daughter (6 years old), but for me (37 years old) it's the third time I read \"Harry Potter and the philosopher's stone\". Everyone should read this book, if only to realize why the phenomenon \"Harry Potter\" has spread. With an essential and enjoyable style, J.K. Rowling catapults the reader into a fantasy world, populated by wizards and flying broomsticks, unicorns and talking\n",
      "\n",
      "---------------------------------------------------------------------------\n",
      "\n",
      "ENGLISH (Harry Potter and the Philosopher's Stone) / ITALIANOLet me dream.I'm reading for the first time this book to my daughter (6 years old), but for me (37 years old) it's the third time I read \"Harry Potter and the philosopher's stone\". Everyone should read this book, if only to realize why the phenomenon \"Harry Potter\" has spread. With an essential and enjoyable style, J.K. Rowling catapults the reader into a fantasy world, populated by wizards and flying broomsticks, unicorns and talking hats. A world where even the most complicated topics, such as the death, are treated with delicate gentleness. «After all, to the well-organized mind, death is but the next great adventure» words of Albus Dumbledore, the master of life and the most charismatic character of the universe created by Rowling. An universe where your worst misfortune is to be a non-magical, a sad \"muggle\" who will never be able to see the platform nine and three quarters.Let me dream.Vote: 10Lasciatemi sognare.Mentre leggo per la prima volta a mia figlia (6 anni) questo volume, personalmente (37 anni) sono alla terza rilettura di \"Harry Potter e la Pietra Filosofale\". Tutti dovrebbero leggere questo libro, quantomeno per rendersi conto del perché si sia diffuso il fenomeno \"Harry Potter\". Con uno stile godibilissimo ed essenziale J.K. Rowling catapulta il lettore in un mondo fantastico, popolato da maghi e scope volanti, unicorni e cappelli parlanti. Un mondo dove perfino i temi più complicati come la morte vengono trattati con delicata leggerezza. «In fin dei conti, per una mente ben organizzata, la morte non è che una nuova, grande avventura» ci dice Silente, il maestro di vita, la figura più carismatica dell'universo creato dalla Rowling. Un universo dove la sfortuna più grande è quella di essere un non magico, un triste \"babbano\" che non sarà mai in grado di vedere il binario nove e tre quarti.Lasciatemi sognare.Voto: 10\n",
      "\n",
      "---------------------------------------------------------------------------\n",
      "\n",
      "Re-Read 2017MY BLOG: Melissa Martin's Reading ListI'M GOING TO ADD MY BIG OLE SPOILER THING FOR THOSE THAT HAVEN'T READ THESE BOOKS YET. I'M ALSO GOING TO ADD A FEW PICTURES THAT ARE IN THE BOOK SO YOU CAN SEE HOW BEAUTIFUL IT IS AND RUN OUT AND BUY IT, IF YOU HAVEN'T ALREADY!LET US BEGIN!Poor Harry's parents were killed by VOLDEMORT! Yep, I said it :-) So Dumbledore (the head honcho) and the gang decide to leave Harry with his mother's sister, Aunt Petunia and Uncle Vernon and their brat of a s\n",
      "\n",
      "---------------------------------------------------------------------------\n",
      "\n",
      "Re-Read 2017MY BLOG: Melissa Martin's Reading ListI'M GOING TO ADD MY BIG OLE SPOILER THING FOR THOSE THAT HAVEN'T READ THESE BOOKS YET. I'M ALSO GOING TO ADD A FEW PICTURES THAT ARE IN THE BOOK SO YOU CAN SEE HOW BEAUTIFUL IT IS AND RUN OUT AND BUY IT, IF YOU HAVEN'T ALREADY!LET US BEGIN!Poor Harry's parents were killed by VOLDEMORT! Yep, I said it :-) So Dumbledore (the head honcho) and the gang decide to leave Harry with his mother's sister, Aunt Petunia and Uncle Vernon and their brat of a son, Dudley. This was a huge mistake because they were so mean to him growing up. He had to live in a cupboard under the stairs and wear Dudley's hand-me-downs. They didn't get him gifts or do anything nice for him. :-( They didn't even tell him what really happened to his parents, what they were and what he was... until one day.. on his eleventh birthday he started getting all of these letters in the mail inviting him to Hogwarts School of Witchcraft and Wizardry. But his stupid family tried to keep the letters from Harry, this didn't go over well and we get to meet sweet, wonderful Hagrid. :-)Hagrid is stunned that Harry doesn't know anything about anything and begins to fill him in, he also brings him a cake for his bday :-)Moving on.. so Harry finds out about all the things he needs to find out about and Hagrid carts him off to the bank to get all of this money his parents left for him so he can buy supplies for school! I just loved in the movies and the books when they went shopping at Diagon Alley. I want to go there! After Harry gets to school he gets into Gryffindor with his new friends, Ron, Hermione (my heroine), all of the Weasley's, and Neville. There are a lot of sweet people in their house. He has an arch nemesis named Malfoy that get into Slytherin, the house Voldemort was in at one time. Soooooo.... I'm not going to tell every little thing about the book as most have read it and some that haven't just might take a little peek :-) Let's sum this up to say that Harry gets on the Quidditch team (read to find out what that is), there are trolls with nasty snot, a secret the group are trying to figure out, great times spent with Hagrid, many magical moments and an appearance of sorts by someone that will not be named......I'm going to leave you with some pictures from the book, I had no idea that Jim Kay who is the illustrator is the same man who illustrated, \"A Monster Calls,\" by Patrick Ness and he also has a rescued greyhound like me :-) Yay! ...OH and there will be no captions to the pictures, you can figure out most yourself or just look at the pretty pictures, just know that there are many more pictures in the book and all of the pages have something cool on them! I highly recommend this edition of the book!I will say again to go out and buy this illustrated edition, it's so wonderful and I can't wait to get the rest of them in the illustrated editions!!!!!!!! Like yesterday!!!!!! Kudos to J.K. Rowling for writing the series and to Jim Kay for his wonderful illustrations! Professor McGonagall approves :-)I LOVED TAKING THIS TRIP BACK DOWN MEMORY LANE WITH THE GROUP AND THE MAGIC!\n",
      "\n",
      "---------------------------------------------------------------------------\n",
      "\n",
      "“There are some things you can't share without ending up liking each other, and knocking out a twelve-foot mountain troll is one of them.”Harry Potter is the most amazing series that I have ever read in my whole life, and it probably forever will be. I will never love any books as much as I love these. I don't think I have to tell you guys about how good this book is because most of you have already read it anyway.I haven't written a review so far because I just did not feel the need to put this\n",
      "\n",
      "---------------------------------------------------------------------------\n",
      "\n",
      "“There are some things you can't share without ending up liking each other, and knocking out a twelve-foot mountain troll is one of them.”Harry Potter is the most amazing series that I have ever read in my whole life, and it probably forever will be. I will never love any books as much as I love these. I don't think I have to tell you guys about how good this book is because most of you have already read it anyway.I haven't written a review so far because I just did not feel the need to put this obvious opinion into words. I don't think anything I write here hasn't been said already. But I've just read the illustrated edition by Jim Kay and if it is possible, it makes this book even more outstanding than it already is. Jim Kay is awesome. Maybe you have read  A Monster Calls  and already know him. If not, you should definitley reconsider your life choices.I am certainly going to buy an edition of this, it's so pretty I could die. Looking forward to the illustrated sequels!1000/5 stars.Find more of my books on Instagram\n",
      "\n",
      "---------------------------------------------------------------------------\n",
      "\n",
      "Yes, I've been living under a rock.\n",
      "\n",
      "---------------------------------------------------------------------------\n",
      "\n",
      "This doesn't really need a review, does it?This series is brilliant and it will live on forever in our hearts and minds.\n",
      "\n",
      "---------------------------------------------------------------------------\n",
      "\n",
      "As wonderful and magical as promised. Because I didn't remember the movie, the third act of the book was a delightful surprise to me.I wish I'd had this book when I was a kid, because the idea that someone could be special without knowing it, and then get to visit a special world where the things that made him different were the same things that made him awesome would have been really inspiring to me.Anne's finishing this, too, and I have to wait for her before I start in on the second book ...\n",
      "\n",
      "---------------------------------------------------------------------------\n",
      "\n",
      "As wonderful and magical as promised. Because I didn't remember the movie, the third act of the book was a delightful surprise to me.I wish I'd had this book when I was a kid, because the idea that someone could be special without knowing it, and then get to visit a special world where the things that made him different were the same things that made him awesome would have been really inspiring to me.Anne's finishing this, too, and I have to wait for her before I start in on the second book ... HURRY UP ANNE!\n",
      "\n",
      "---------------------------------------------------------------------------\n",
      "\n"
     ]
    },
    {
     "name": "stderr",
     "output_type": "stream",
     "text": [
      "/Users/connie/anaconda3/lib/python3.6/site-packages/bs4/__init__.py:181: UserWarning: No parser was explicitly specified, so I'm using the best available HTML parser for this system (\"lxml\"). This usually isn't a problem, but if you run this code on another system, or in a different virtual environment, it may use a different parser and behave differently.\n",
      "\n",
      "The code that caused this warning is on line 193 of the file /Users/connie/anaconda3/lib/python3.6/runpy.py. To get rid of this warning, change code that looks like this:\n",
      "\n",
      " BeautifulSoup(YOUR_MARKUP})\n",
      "\n",
      "to this:\n",
      "\n",
      " BeautifulSoup(YOUR_MARKUP, \"lxml\")\n",
      "\n",
      "  markup_type=markup_type))\n"
     ]
    }
   ],
   "source": [
    "for i in (re.findall(r'freeText[Container]*\\d+\"[\\sstyle=\"display:none\"]*>(.*)\\<\\/s', \n",
    "           str(soup.find('div', {'id': 'bookReviews'}).find_all('span', {'class': 'readable'})))):\n",
    "    print(BeautifulSoup(i).get_text())\n",
    "    print('')\n",
    "    print('---------------------------------------------------------------------------')\n",
    "    print('')"
   ]
  },
  {
   "cell_type": "code",
   "execution_count": 155,
   "metadata": {},
   "outputs": [],
   "source": [
    "# soup.find('div', {'id': 'bookReviews'}).find_all('span', {'class': 'readable'})"
   ]
  },
  {
   "cell_type": "code",
   "execution_count": 109,
   "metadata": {},
   "outputs": [
    {
     "data": {
      "text/plain": [
       "[]"
      ]
     },
     "execution_count": 109,
     "metadata": {},
     "output_type": "execute_result"
    }
   ],
   "source": [
    "re.findall(r'freeText\\d+\">.*\\<', \n",
    "           str(soup.find('div', {'id': 'bookReviews'}).find_all('span', {'class': 'readable'})))"
   ]
  },
  {
   "cell_type": "code",
   "execution_count": 13,
   "metadata": {},
   "outputs": [
    {
     "data": {
      "text/plain": [
       "'9780439554930'"
      ]
     },
     "execution_count": 13,
     "metadata": {},
     "output_type": "execute_result"
    }
   ],
   "source": [
    "soup.find('span', {'itemprop': 'isbn'}).text"
   ]
  },
  {
   "cell_type": "code",
   "execution_count": null,
   "metadata": {},
   "outputs": [],
   "source": []
  },
  {
   "cell_type": "code",
   "execution_count": 46,
   "metadata": {},
   "outputs": [
    {
     "ename": "AttributeError",
     "evalue": "'int' object has no attribute 'attrs'",
     "output_type": "error",
     "traceback": [
      "\u001b[0;31m---------------------------------------------------------------------------\u001b[0m",
      "\u001b[0;31mAttributeError\u001b[0m                            Traceback (most recent call last)",
      "\u001b[0;32m<ipython-input-46-6d3ba573bfd4>\u001b[0m in \u001b[0;36m<module>\u001b[0;34m()\u001b[0m\n\u001b[1;32m      3\u001b[0m \u001b[0;32mfor\u001b[0m \u001b[0mrow\u001b[0m \u001b[0;32min\u001b[0m \u001b[0mreviews\u001b[0m\u001b[0;34m:\u001b[0m\u001b[0;34m\u001b[0m\u001b[0m\n\u001b[1;32m      4\u001b[0m     \u001b[0muser_id\u001b[0m \u001b[0;34m=\u001b[0m \u001b[0;34m{\u001b[0m\u001b[0;34m}\u001b[0m\u001b[0;34m\u001b[0m\u001b[0m\n\u001b[0;32m----> 5\u001b[0;31m     \u001b[0muser_id\u001b[0m\u001b[0;34m[\u001b[0m\u001b[0;34m'id'\u001b[0m\u001b[0;34m]\u001b[0m \u001b[0;34m=\u001b[0m \u001b[0mrow\u001b[0m\u001b[0;34m.\u001b[0m\u001b[0mfind\u001b[0m\u001b[0;34m(\u001b[0m\u001b[0;34m'a'\u001b[0m\u001b[0;34m)\u001b[0m\u001b[0;34m.\u001b[0m\u001b[0mattrs\u001b[0m\u001b[0;34m[\u001b[0m\u001b[0;34m'href'\u001b[0m\u001b[0;34m]\u001b[0m\u001b[0;34m\u001b[0m\u001b[0m\n\u001b[0m\u001b[1;32m      6\u001b[0m     \u001b[0muser_ids\u001b[0m\u001b[0;34m.\u001b[0m\u001b[0mappend\u001b[0m\u001b[0;34m(\u001b[0m\u001b[0muser_id\u001b[0m\u001b[0;34m)\u001b[0m\u001b[0;34m\u001b[0m\u001b[0m\n\u001b[1;32m      7\u001b[0m \u001b[0;34m\u001b[0m\u001b[0m\n",
      "\u001b[0;31mAttributeError\u001b[0m: 'int' object has no attribute 'attrs'"
     ]
    }
   ],
   "source": [
    "reviews = soup.find('div', {'id': 'bookReviews'})\n",
    "user_ids = []\n",
    "for row in reviews:\n",
    "    user_id = {}\n",
    "    user_id['id'] = row.find('a').attrs['href']\n",
    "    user_ids.append(user_id)\n",
    "    \n",
    "user_ids"
   ]
  },
  {
   "cell_type": "code",
   "execution_count": 16,
   "metadata": {},
   "outputs": [
    {
     "data": {
      "text/plain": [
       "['4632071']"
      ]
     },
     "execution_count": 16,
     "metadata": {},
     "output_type": "execute_result"
    }
   ],
   "source": [
    "re.findall(r'\\d+', foobar.find('a').attrs['href'])"
   ]
  },
  {
   "cell_type": "code",
   "execution_count": 36,
   "metadata": {},
   "outputs": [
    {
     "data": {
      "text/plain": [
       "'/user/show/4632071-lora'"
      ]
     },
     "execution_count": 36,
     "metadata": {},
     "output_type": "execute_result"
    }
   ],
   "source": [
    "reviews.find('a').attrs['href']"
   ]
  },
  {
   "cell_type": "code",
   "execution_count": 45,
   "metadata": {},
   "outputs": [
    {
     "data": {
      "text/plain": [
       "<a class=\"left imgcol\" href=\"/user/show/4632071-lora\" title=\"Lora\"><img alt=\"Lora\" src=\"https://images.gr-assets.com/users/1305237530p2/4632071.jpg\"/></a>"
      ]
     },
     "execution_count": 45,
     "metadata": {},
     "output_type": "execute_result"
    }
   ],
   "source": [
    "reviews.find('a')"
   ]
  },
  {
   "cell_type": "code",
   "execution_count": 40,
   "metadata": {},
   "outputs": [
    {
     "name": "stdout",
     "output_type": "stream",
     "text": [
      "<img alt=\"Lora\" src=\"https://images.gr-assets.com/users/1305237530p2/4632071.jpg\"/>\n"
     ]
    }
   ],
   "source": [
    "for row in reviews.find('a'):\n",
    "    print(row)"
   ]
  },
  {
   "cell_type": "code",
   "execution_count": 156,
   "metadata": {},
   "outputs": [],
   "source": [
    "# for row in reviews.find_all('a'):\n",
    "#     print(row.attrs)"
   ]
  },
  {
   "cell_type": "code",
   "execution_count": null,
   "metadata": {},
   "outputs": [],
   "source": []
  },
  {
   "cell_type": "code",
   "execution_count": 158,
   "metadata": {},
   "outputs": [
    {
     "data": {
      "text/plain": [
       "<bound method Response.json of <Response [200]>>"
      ]
     },
     "execution_count": 158,
     "metadata": {},
     "output_type": "execute_result"
    }
   ],
   "source": [
    "url = 'https://www.goodreads.com/review/show.xml?key=prkLqGzgF7KgNNy3VqgJpQ&id=173429036&format=json'\n",
    "response = requests.get(url)\n",
    "response.json"
   ]
  },
  {
   "cell_type": "code",
   "execution_count": null,
   "metadata": {},
   "outputs": [],
   "source": []
  }
 ],
 "metadata": {
  "kernelspec": {
   "display_name": "Python 3",
   "language": "python",
   "name": "python3"
  },
  "language_info": {
   "codemirror_mode": {
    "name": "ipython",
    "version": 3
   },
   "file_extension": ".py",
   "mimetype": "text/x-python",
   "name": "python",
   "nbconvert_exporter": "python",
   "pygments_lexer": "ipython3",
   "version": "3.6.5"
  }
 },
 "nbformat": 4,
 "nbformat_minor": 2
}
