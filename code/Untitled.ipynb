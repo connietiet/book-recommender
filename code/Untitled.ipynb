{
 "cells": [
  {
   "cell_type": "markdown",
   "metadata": {},
   "source": [
    "# EDA and Cleaning"
   ]
  },
  {
   "cell_type": "code",
   "execution_count": 1,
   "metadata": {},
   "outputs": [],
   "source": [
    "import pandas as pd\n",
    "import numpy as np\n",
    "import matplotlib.pyplot as plt\n",
    "import seaborn as sns\n",
    "import re\n",
    "import psycopg2 as pg2\n",
    "from sqlalchemy import create_engine\n",
    "\n",
    "from sklearn.decomposition import TruncatedSVD\n",
    "from sklearn.metrics import pairwise_distances\n",
    "\n",
    "sns.set_style('darkgrid')\n",
    "sns.set_palette(palette='colorblind')\n",
    "%matplotlib inline"
   ]
  },
  {
   "cell_type": "code",
   "execution_count": 2,
   "metadata": {},
   "outputs": [],
   "source": [
    "%run ../bx_sql.py"
   ]
  },
  {
   "cell_type": "code",
   "execution_count": 3,
   "metadata": {},
   "outputs": [],
   "source": [
    "engine = create_engine(f'postgres://{USER}:{PASSWORD}@{FULL_IP_ADDRESS}:5432/{DBNAME}')"
   ]
  },
  {
   "cell_type": "markdown",
   "metadata": {},
   "source": [
    "## Configure PostgreSQL Server with Docker"
   ]
  },
  {
   "cell_type": "code",
   "execution_count": 4,
   "metadata": {},
   "outputs": [],
   "source": [
    "# def con_cur_to_db(dbname=DBNAME, dict_cur=None):\n",
    "#     con = pg2.connect(host=IP_ADDRESS,\n",
    "#                   dbname=dbname,\n",
    "#                   user=USER,\n",
    "#                   password=PASSWORD)\n",
    "#     if dict_cur:\n",
    "#         cur = con.cursor(cursor_factory=RealDictCursor)\n",
    "#     else:\n",
    "#         cur = con.cursor()\n",
    "#     return con, cur\n",
    "    \n",
    "# def execute_query(query, dbname=DBNAME, dict_cur=None, command=False):\n",
    "#     con, cur = con_cur_to_db(dbname, dict_cur)\n",
    "#     cur.execute(f'{query}')\n",
    "#     if not command:\n",
    "#         data = cur.fetchall()\n",
    "#         con.close()\n",
    "#         return data\n",
    "#     con.commit() #sends to server\n",
    "#     con.close() #closes server connection\n",
    "\n",
    "# def insert_entry_json(data, tablename=None):\n",
    "#     con, cur = con_cur_to_db()\n",
    "#     for x in data:\n",
    "#         cur.execute(f'INSERT INTO {tablename} (data) VALUES ({Json(x)});')\n",
    "#     con.commit()\n",
    "#     con.close()"
   ]
  },
  {
   "cell_type": "markdown",
   "metadata": {},
   "source": [
    "## Retrieve Data from PostgreSQL Database"
   ]
  },
  {
   "cell_type": "markdown",
   "metadata": {},
   "source": [
    "### Books"
   ]
  },
  {
   "cell_type": "code",
   "execution_count": 5,
   "metadata": {},
   "outputs": [
    {
     "data": {
      "text/html": [
       "<div>\n",
       "<style scoped>\n",
       "    .dataframe tbody tr th:only-of-type {\n",
       "        vertical-align: middle;\n",
       "    }\n",
       "\n",
       "    .dataframe tbody tr th {\n",
       "        vertical-align: top;\n",
       "    }\n",
       "\n",
       "    .dataframe thead th {\n",
       "        text-align: right;\n",
       "    }\n",
       "</style>\n",
       "<table border=\"1\" class=\"dataframe\">\n",
       "  <thead>\n",
       "    <tr style=\"text-align: right;\">\n",
       "      <th></th>\n",
       "      <th>isbn</th>\n",
       "      <th>book_title</th>\n",
       "      <th>book_author</th>\n",
       "      <th>year_of_publication</th>\n",
       "      <th>publisher</th>\n",
       "      <th>image_url_s</th>\n",
       "      <th>image_url_m</th>\n",
       "      <th>image_url_l</th>\n",
       "    </tr>\n",
       "  </thead>\n",
       "  <tbody>\n",
       "    <tr>\n",
       "      <th>0</th>\n",
       "      <td>0195153448</td>\n",
       "      <td>Classical Mythology</td>\n",
       "      <td>Mark P. O. Morford</td>\n",
       "      <td>2002</td>\n",
       "      <td>Oxford University Press</td>\n",
       "      <td>http://images.amazon.com/images/P/0195153448.0...</td>\n",
       "      <td>http://images.amazon.com/images/P/0195153448.0...</td>\n",
       "      <td>http://images.amazon.com/images/P/0195153448.0...</td>\n",
       "    </tr>\n",
       "    <tr>\n",
       "      <th>1</th>\n",
       "      <td>0002005018</td>\n",
       "      <td>Clara Callan</td>\n",
       "      <td>Richard Bruce Wright</td>\n",
       "      <td>2001</td>\n",
       "      <td>HarperFlamingo Canada</td>\n",
       "      <td>http://images.amazon.com/images/P/0002005018.0...</td>\n",
       "      <td>http://images.amazon.com/images/P/0002005018.0...</td>\n",
       "      <td>http://images.amazon.com/images/P/0002005018.0...</td>\n",
       "    </tr>\n",
       "    <tr>\n",
       "      <th>2</th>\n",
       "      <td>0060973129</td>\n",
       "      <td>Decision in Normandy</td>\n",
       "      <td>Carlo D'Este</td>\n",
       "      <td>1991</td>\n",
       "      <td>HarperPerennial</td>\n",
       "      <td>http://images.amazon.com/images/P/0060973129.0...</td>\n",
       "      <td>http://images.amazon.com/images/P/0060973129.0...</td>\n",
       "      <td>http://images.amazon.com/images/P/0060973129.0...</td>\n",
       "    </tr>\n",
       "    <tr>\n",
       "      <th>3</th>\n",
       "      <td>0374157065</td>\n",
       "      <td>Flu: The Story of the Great Influenza Pandemic...</td>\n",
       "      <td>Gina Bari Kolata</td>\n",
       "      <td>1999</td>\n",
       "      <td>Farrar Straus Giroux</td>\n",
       "      <td>http://images.amazon.com/images/P/0374157065.0...</td>\n",
       "      <td>http://images.amazon.com/images/P/0374157065.0...</td>\n",
       "      <td>http://images.amazon.com/images/P/0374157065.0...</td>\n",
       "    </tr>\n",
       "    <tr>\n",
       "      <th>4</th>\n",
       "      <td>0393045218</td>\n",
       "      <td>The Mummies of Urumchi</td>\n",
       "      <td>E. J. W. Barber</td>\n",
       "      <td>1999</td>\n",
       "      <td>W. W. Norton &amp;amp; Company</td>\n",
       "      <td>http://images.amazon.com/images/P/0393045218.0...</td>\n",
       "      <td>http://images.amazon.com/images/P/0393045218.0...</td>\n",
       "      <td>http://images.amazon.com/images/P/0393045218.0...</td>\n",
       "    </tr>\n",
       "  </tbody>\n",
       "</table>\n",
       "</div>"
      ],
      "text/plain": [
       "         isbn                                         book_title  \\\n",
       "0  0195153448                                Classical Mythology   \n",
       "1  0002005018                                       Clara Callan   \n",
       "2  0060973129                               Decision in Normandy   \n",
       "3  0374157065  Flu: The Story of the Great Influenza Pandemic...   \n",
       "4  0393045218                             The Mummies of Urumchi   \n",
       "\n",
       "            book_author  year_of_publication                   publisher  \\\n",
       "0    Mark P. O. Morford                 2002     Oxford University Press   \n",
       "1  Richard Bruce Wright                 2001       HarperFlamingo Canada   \n",
       "2          Carlo D'Este                 1991             HarperPerennial   \n",
       "3      Gina Bari Kolata                 1999        Farrar Straus Giroux   \n",
       "4       E. J. W. Barber                 1999  W. W. Norton &amp; Company   \n",
       "\n",
       "                                         image_url_s  \\\n",
       "0  http://images.amazon.com/images/P/0195153448.0...   \n",
       "1  http://images.amazon.com/images/P/0002005018.0...   \n",
       "2  http://images.amazon.com/images/P/0060973129.0...   \n",
       "3  http://images.amazon.com/images/P/0374157065.0...   \n",
       "4  http://images.amazon.com/images/P/0393045218.0...   \n",
       "\n",
       "                                         image_url_m  \\\n",
       "0  http://images.amazon.com/images/P/0195153448.0...   \n",
       "1  http://images.amazon.com/images/P/0002005018.0...   \n",
       "2  http://images.amazon.com/images/P/0060973129.0...   \n",
       "3  http://images.amazon.com/images/P/0374157065.0...   \n",
       "4  http://images.amazon.com/images/P/0393045218.0...   \n",
       "\n",
       "                                         image_url_l  \n",
       "0  http://images.amazon.com/images/P/0195153448.0...  \n",
       "1  http://images.amazon.com/images/P/0002005018.0...  \n",
       "2  http://images.amazon.com/images/P/0060973129.0...  \n",
       "3  http://images.amazon.com/images/P/0374157065.0...  \n",
       "4  http://images.amazon.com/images/P/0393045218.0...  "
      ]
     },
     "execution_count": 5,
     "metadata": {},
     "output_type": "execute_result"
    }
   ],
   "source": [
    "books_df = pd.read_sql_table('books', engine)\n",
    "\n",
    "books_df.head()"
   ]
  },
  {
   "cell_type": "code",
   "execution_count": 6,
   "metadata": {},
   "outputs": [],
   "source": [
    "# books_query = '''SELECT * FROM books;\n",
    "# '''\n",
    "# books_results = execute_query(books_query, dict_cur=True)\n",
    "\n",
    "# books_df = pd.DataFrame(books_results)"
   ]
  },
  {
   "cell_type": "markdown",
   "metadata": {},
   "source": [
    "### Ratings"
   ]
  },
  {
   "cell_type": "code",
   "execution_count": 7,
   "metadata": {},
   "outputs": [
    {
     "data": {
      "text/html": [
       "<div>\n",
       "<style scoped>\n",
       "    .dataframe tbody tr th:only-of-type {\n",
       "        vertical-align: middle;\n",
       "    }\n",
       "\n",
       "    .dataframe tbody tr th {\n",
       "        vertical-align: top;\n",
       "    }\n",
       "\n",
       "    .dataframe thead th {\n",
       "        text-align: right;\n",
       "    }\n",
       "</style>\n",
       "<table border=\"1\" class=\"dataframe\">\n",
       "  <thead>\n",
       "    <tr style=\"text-align: right;\">\n",
       "      <th></th>\n",
       "      <th>user_id</th>\n",
       "      <th>isbn</th>\n",
       "      <th>book_rating</th>\n",
       "    </tr>\n",
       "  </thead>\n",
       "  <tbody>\n",
       "    <tr>\n",
       "      <th>0</th>\n",
       "      <td>276725</td>\n",
       "      <td>034545104X</td>\n",
       "      <td>0</td>\n",
       "    </tr>\n",
       "    <tr>\n",
       "      <th>1</th>\n",
       "      <td>276726</td>\n",
       "      <td>0155061224</td>\n",
       "      <td>5</td>\n",
       "    </tr>\n",
       "    <tr>\n",
       "      <th>2</th>\n",
       "      <td>276727</td>\n",
       "      <td>0446520802</td>\n",
       "      <td>0</td>\n",
       "    </tr>\n",
       "    <tr>\n",
       "      <th>3</th>\n",
       "      <td>276729</td>\n",
       "      <td>052165615X</td>\n",
       "      <td>3</td>\n",
       "    </tr>\n",
       "    <tr>\n",
       "      <th>4</th>\n",
       "      <td>276729</td>\n",
       "      <td>0521795028</td>\n",
       "      <td>6</td>\n",
       "    </tr>\n",
       "  </tbody>\n",
       "</table>\n",
       "</div>"
      ],
      "text/plain": [
       "   user_id        isbn  book_rating\n",
       "0   276725  034545104X            0\n",
       "1   276726  0155061224            5\n",
       "2   276727  0446520802            0\n",
       "3   276729  052165615X            3\n",
       "4   276729  0521795028            6"
      ]
     },
     "execution_count": 7,
     "metadata": {},
     "output_type": "execute_result"
    }
   ],
   "source": [
    "ratings_df = pd.read_sql_table('book_ratings', engine)\n",
    "\n",
    "ratings_df.head()"
   ]
  },
  {
   "cell_type": "code",
   "execution_count": 8,
   "metadata": {},
   "outputs": [],
   "source": [
    "# ratings_query = '''SELECT * FROM book_ratings;\n",
    "# '''\n",
    "\n",
    "# ratings_results = execute_query(ratings_query, dict_cur=True)\n",
    "\n",
    "# ratings_df = pd.DataFrame(ratings_results)"
   ]
  },
  {
   "cell_type": "markdown",
   "metadata": {},
   "source": [
    "## Combine `books` and `ratings`"
   ]
  },
  {
   "cell_type": "code",
   "execution_count": 9,
   "metadata": {},
   "outputs": [],
   "source": [
    "books_df.drop(columns=['image_url_l', 'image_url_m', 'image_url_s'], inplace=True)"
   ]
  },
  {
   "cell_type": "code",
   "execution_count": 10,
   "metadata": {},
   "outputs": [
    {
     "name": "stdout",
     "output_type": "stream",
     "text": [
      "Ratings ISBN: 340556\n",
      "Books ISBN:   271379\n"
     ]
    },
    {
     "data": {
      "text/plain": [
       "False"
      ]
     },
     "execution_count": 10,
     "metadata": {},
     "output_type": "execute_result"
    }
   ],
   "source": [
    "print('Ratings ISBN:',ratings_df['isbn'].nunique())\n",
    "print('Books ISBN:  ',books_df['isbn'].nunique())\n",
    "ratings_df['isbn'].nunique() == books_df['isbn'].nunique()"
   ]
  },
  {
   "cell_type": "code",
   "execution_count": 11,
   "metadata": {},
   "outputs": [],
   "source": [
    "match_isbns = ratings_df[ratings_df['isbn'].isin(books_df['isbn'])]"
   ]
  },
  {
   "cell_type": "code",
   "execution_count": 12,
   "metadata": {},
   "outputs": [
    {
     "name": "stdout",
     "output_type": "stream",
     "text": [
      "Number of Ratings: 1031175\n",
      "Number of Books:   270170\n"
     ]
    }
   ],
   "source": [
    "print('Number of Ratings:',match_isbns.shape[0])\n",
    "print('Number of Books:  ',match_isbns['isbn'].nunique())"
   ]
  },
  {
   "cell_type": "code",
   "execution_count": 13,
   "metadata": {},
   "outputs": [
    {
     "data": {
      "text/html": [
       "<div>\n",
       "<style scoped>\n",
       "    .dataframe tbody tr th:only-of-type {\n",
       "        vertical-align: middle;\n",
       "    }\n",
       "\n",
       "    .dataframe tbody tr th {\n",
       "        vertical-align: top;\n",
       "    }\n",
       "\n",
       "    .dataframe thead th {\n",
       "        text-align: right;\n",
       "    }\n",
       "</style>\n",
       "<table border=\"1\" class=\"dataframe\">\n",
       "  <thead>\n",
       "    <tr style=\"text-align: right;\">\n",
       "      <th></th>\n",
       "      <th>user_id</th>\n",
       "      <th>isbn</th>\n",
       "      <th>book_rating</th>\n",
       "    </tr>\n",
       "  </thead>\n",
       "  <tbody>\n",
       "    <tr>\n",
       "      <th>0</th>\n",
       "      <td>276725</td>\n",
       "      <td>034545104X</td>\n",
       "      <td>0</td>\n",
       "    </tr>\n",
       "    <tr>\n",
       "      <th>1</th>\n",
       "      <td>276726</td>\n",
       "      <td>0155061224</td>\n",
       "      <td>5</td>\n",
       "    </tr>\n",
       "    <tr>\n",
       "      <th>2</th>\n",
       "      <td>276727</td>\n",
       "      <td>0446520802</td>\n",
       "      <td>0</td>\n",
       "    </tr>\n",
       "    <tr>\n",
       "      <th>3</th>\n",
       "      <td>276729</td>\n",
       "      <td>052165615X</td>\n",
       "      <td>3</td>\n",
       "    </tr>\n",
       "    <tr>\n",
       "      <th>4</th>\n",
       "      <td>276729</td>\n",
       "      <td>0521795028</td>\n",
       "      <td>6</td>\n",
       "    </tr>\n",
       "  </tbody>\n",
       "</table>\n",
       "</div>"
      ],
      "text/plain": [
       "   user_id        isbn  book_rating\n",
       "0   276725  034545104X            0\n",
       "1   276726  0155061224            5\n",
       "2   276727  0446520802            0\n",
       "3   276729  052165615X            3\n",
       "4   276729  0521795028            6"
      ]
     },
     "execution_count": 13,
     "metadata": {},
     "output_type": "execute_result"
    }
   ],
   "source": [
    "match_isbns.head()"
   ]
  },
  {
   "cell_type": "code",
   "execution_count": 14,
   "metadata": {},
   "outputs": [],
   "source": [
    "combined_df = match_isbns.merge(books_df[['isbn', 'book_author', 'book_title']], how='left')"
   ]
  },
  {
   "cell_type": "code",
   "execution_count": 15,
   "metadata": {},
   "outputs": [
    {
     "data": {
      "text/html": [
       "<div>\n",
       "<style scoped>\n",
       "    .dataframe tbody tr th:only-of-type {\n",
       "        vertical-align: middle;\n",
       "    }\n",
       "\n",
       "    .dataframe tbody tr th {\n",
       "        vertical-align: top;\n",
       "    }\n",
       "\n",
       "    .dataframe thead th {\n",
       "        text-align: right;\n",
       "    }\n",
       "</style>\n",
       "<table border=\"1\" class=\"dataframe\">\n",
       "  <thead>\n",
       "    <tr style=\"text-align: right;\">\n",
       "      <th></th>\n",
       "      <th>user_id</th>\n",
       "      <th>isbn</th>\n",
       "      <th>book_rating</th>\n",
       "      <th>book_author</th>\n",
       "      <th>book_title</th>\n",
       "    </tr>\n",
       "  </thead>\n",
       "  <tbody>\n",
       "    <tr>\n",
       "      <th>0</th>\n",
       "      <td>276725</td>\n",
       "      <td>034545104X</td>\n",
       "      <td>0</td>\n",
       "      <td>M. J. Rose</td>\n",
       "      <td>Flesh Tones: A Novel</td>\n",
       "    </tr>\n",
       "    <tr>\n",
       "      <th>1</th>\n",
       "      <td>276726</td>\n",
       "      <td>0155061224</td>\n",
       "      <td>5</td>\n",
       "      <td>Judith Rae</td>\n",
       "      <td>Rites of Passage</td>\n",
       "    </tr>\n",
       "    <tr>\n",
       "      <th>2</th>\n",
       "      <td>276727</td>\n",
       "      <td>0446520802</td>\n",
       "      <td>0</td>\n",
       "      <td>Nicholas Sparks</td>\n",
       "      <td>The Notebook</td>\n",
       "    </tr>\n",
       "    <tr>\n",
       "      <th>3</th>\n",
       "      <td>276729</td>\n",
       "      <td>052165615X</td>\n",
       "      <td>3</td>\n",
       "      <td>Philip Prowse</td>\n",
       "      <td>Help!: Level 1</td>\n",
       "    </tr>\n",
       "    <tr>\n",
       "      <th>4</th>\n",
       "      <td>276729</td>\n",
       "      <td>0521795028</td>\n",
       "      <td>6</td>\n",
       "      <td>Sue Leather</td>\n",
       "      <td>The Amsterdam Connection : Level 4 (Cambridge ...</td>\n",
       "    </tr>\n",
       "  </tbody>\n",
       "</table>\n",
       "</div>"
      ],
      "text/plain": [
       "   user_id        isbn  book_rating      book_author  \\\n",
       "0   276725  034545104X            0       M. J. Rose   \n",
       "1   276726  0155061224            5       Judith Rae   \n",
       "2   276727  0446520802            0  Nicholas Sparks   \n",
       "3   276729  052165615X            3    Philip Prowse   \n",
       "4   276729  0521795028            6      Sue Leather   \n",
       "\n",
       "                                          book_title  \n",
       "0                               Flesh Tones: A Novel  \n",
       "1                                   Rites of Passage  \n",
       "2                                       The Notebook  \n",
       "3                                     Help!: Level 1  \n",
       "4  The Amsterdam Connection : Level 4 (Cambridge ...  "
      ]
     },
     "execution_count": 15,
     "metadata": {},
     "output_type": "execute_result"
    }
   ],
   "source": [
    "combined_df.head()"
   ]
  },
  {
   "cell_type": "code",
   "execution_count": 16,
   "metadata": {},
   "outputs": [
    {
     "data": {
      "text/plain": [
       "20175"
      ]
     },
     "execution_count": 16,
     "metadata": {},
     "output_type": "execute_result"
    }
   ],
   "source": [
    "len(books_df[books_df[['book_title', 'book_author']].duplicated()])"
   ]
  },
  {
   "cell_type": "code",
   "execution_count": 17,
   "metadata": {},
   "outputs": [],
   "source": [
    "unique_books = books_df.drop_duplicates(subset=['book_author','book_title'])"
   ]
  },
  {
   "cell_type": "code",
   "execution_count": 18,
   "metadata": {},
   "outputs": [],
   "source": [
    "ratings_and_books = unique_books.merge(combined_df.drop(columns=['isbn']), \n",
    "                                       on=['book_author', 'book_title'])"
   ]
  },
  {
   "cell_type": "code",
   "execution_count": 19,
   "metadata": {},
   "outputs": [
    {
     "data": {
      "text/html": [
       "<div>\n",
       "<style scoped>\n",
       "    .dataframe tbody tr th:only-of-type {\n",
       "        vertical-align: middle;\n",
       "    }\n",
       "\n",
       "    .dataframe tbody tr th {\n",
       "        vertical-align: top;\n",
       "    }\n",
       "\n",
       "    .dataframe thead th {\n",
       "        text-align: right;\n",
       "    }\n",
       "</style>\n",
       "<table border=\"1\" class=\"dataframe\">\n",
       "  <thead>\n",
       "    <tr style=\"text-align: right;\">\n",
       "      <th></th>\n",
       "      <th>isbn</th>\n",
       "      <th>book_title</th>\n",
       "      <th>book_author</th>\n",
       "      <th>year_of_publication</th>\n",
       "      <th>publisher</th>\n",
       "      <th>user_id</th>\n",
       "      <th>book_rating</th>\n",
       "    </tr>\n",
       "  </thead>\n",
       "  <tbody>\n",
       "    <tr>\n",
       "      <th>0</th>\n",
       "      <td>0195153448</td>\n",
       "      <td>Classical Mythology</td>\n",
       "      <td>Mark P. O. Morford</td>\n",
       "      <td>2002</td>\n",
       "      <td>Oxford University Press</td>\n",
       "      <td>2</td>\n",
       "      <td>0</td>\n",
       "    </tr>\n",
       "    <tr>\n",
       "      <th>1</th>\n",
       "      <td>0195153448</td>\n",
       "      <td>Classical Mythology</td>\n",
       "      <td>Mark P. O. Morford</td>\n",
       "      <td>2002</td>\n",
       "      <td>Oxford University Press</td>\n",
       "      <td>269782</td>\n",
       "      <td>7</td>\n",
       "    </tr>\n",
       "    <tr>\n",
       "      <th>2</th>\n",
       "      <td>0002005018</td>\n",
       "      <td>Clara Callan</td>\n",
       "      <td>Richard Bruce Wright</td>\n",
       "      <td>2001</td>\n",
       "      <td>HarperFlamingo Canada</td>\n",
       "      <td>8</td>\n",
       "      <td>5</td>\n",
       "    </tr>\n",
       "    <tr>\n",
       "      <th>3</th>\n",
       "      <td>0002005018</td>\n",
       "      <td>Clara Callan</td>\n",
       "      <td>Richard Bruce Wright</td>\n",
       "      <td>2001</td>\n",
       "      <td>HarperFlamingo Canada</td>\n",
       "      <td>11400</td>\n",
       "      <td>0</td>\n",
       "    </tr>\n",
       "    <tr>\n",
       "      <th>4</th>\n",
       "      <td>0002005018</td>\n",
       "      <td>Clara Callan</td>\n",
       "      <td>Richard Bruce Wright</td>\n",
       "      <td>2001</td>\n",
       "      <td>HarperFlamingo Canada</td>\n",
       "      <td>11676</td>\n",
       "      <td>8</td>\n",
       "    </tr>\n",
       "  </tbody>\n",
       "</table>\n",
       "</div>"
      ],
      "text/plain": [
       "         isbn           book_title           book_author  year_of_publication  \\\n",
       "0  0195153448  Classical Mythology    Mark P. O. Morford                 2002   \n",
       "1  0195153448  Classical Mythology    Mark P. O. Morford                 2002   \n",
       "2  0002005018         Clara Callan  Richard Bruce Wright                 2001   \n",
       "3  0002005018         Clara Callan  Richard Bruce Wright                 2001   \n",
       "4  0002005018         Clara Callan  Richard Bruce Wright                 2001   \n",
       "\n",
       "                 publisher  user_id  book_rating  \n",
       "0  Oxford University Press        2            0  \n",
       "1  Oxford University Press   269782            7  \n",
       "2    HarperFlamingo Canada        8            5  \n",
       "3    HarperFlamingo Canada    11400            0  \n",
       "4    HarperFlamingo Canada    11676            8  "
      ]
     },
     "execution_count": 19,
     "metadata": {},
     "output_type": "execute_result"
    }
   ],
   "source": [
    "ratings_and_books.head()"
   ]
  },
  {
   "cell_type": "code",
   "execution_count": 20,
   "metadata": {},
   "outputs": [
    {
     "data": {
      "text/plain": [
       "True"
      ]
     },
     "execution_count": 20,
     "metadata": {},
     "output_type": "execute_result"
    }
   ],
   "source": [
    "ratings_and_books.shape[0] == combined_df.shape[0]"
   ]
  },
  {
   "cell_type": "code",
   "execution_count": 21,
   "metadata": {},
   "outputs": [
    {
     "name": "stdout",
     "output_type": "stream",
     "text": [
      "Users:   92107\n",
      "Books:   250105\n",
      "Ratings: 1031175\n"
     ]
    }
   ],
   "source": [
    "print('Users:  ', ratings_and_books['user_id'].nunique())\n",
    "print('Books:  ', ratings_and_books['isbn'].nunique())\n",
    "print('Ratings:', ratings_and_books.shape[0])"
   ]
  },
  {
   "cell_type": "markdown",
   "metadata": {},
   "source": [
    "### Save to PostgreSQL Database"
   ]
  },
  {
   "cell_type": "code",
   "execution_count": 23,
   "metadata": {},
   "outputs": [],
   "source": [
    "# ratings_and_books.to_sql(name='ratings_and_books',\n",
    "#                          con=engine,\n",
    "#                          if_exists='append',\n",
    "#                          index=False)"
   ]
  },
  {
   "cell_type": "markdown",
   "metadata": {},
   "source": [
    "## Clean Data"
   ]
  },
  {
   "cell_type": "code",
   "execution_count": 24,
   "metadata": {},
   "outputs": [
    {
     "data": {
      "text/html": [
       "<div>\n",
       "<style scoped>\n",
       "    .dataframe tbody tr th:only-of-type {\n",
       "        vertical-align: middle;\n",
       "    }\n",
       "\n",
       "    .dataframe tbody tr th {\n",
       "        vertical-align: top;\n",
       "    }\n",
       "\n",
       "    .dataframe thead th {\n",
       "        text-align: right;\n",
       "    }\n",
       "</style>\n",
       "<table border=\"1\" class=\"dataframe\">\n",
       "  <thead>\n",
       "    <tr style=\"text-align: right;\">\n",
       "      <th></th>\n",
       "      <th>isbn</th>\n",
       "      <th>book_title</th>\n",
       "      <th>book_author</th>\n",
       "      <th>year_of_publication</th>\n",
       "      <th>publisher</th>\n",
       "      <th>user_id</th>\n",
       "      <th>book_rating</th>\n",
       "    </tr>\n",
       "  </thead>\n",
       "  <tbody>\n",
       "    <tr>\n",
       "      <th>0</th>\n",
       "      <td>0195153448</td>\n",
       "      <td>Classical Mythology</td>\n",
       "      <td>Mark P. O. Morford</td>\n",
       "      <td>2002</td>\n",
       "      <td>Oxford University Press</td>\n",
       "      <td>2</td>\n",
       "      <td>0</td>\n",
       "    </tr>\n",
       "    <tr>\n",
       "      <th>1</th>\n",
       "      <td>0195153448</td>\n",
       "      <td>Classical Mythology</td>\n",
       "      <td>Mark P. O. Morford</td>\n",
       "      <td>2002</td>\n",
       "      <td>Oxford University Press</td>\n",
       "      <td>269782</td>\n",
       "      <td>7</td>\n",
       "    </tr>\n",
       "    <tr>\n",
       "      <th>2</th>\n",
       "      <td>0002005018</td>\n",
       "      <td>Clara Callan</td>\n",
       "      <td>Richard Bruce Wright</td>\n",
       "      <td>2001</td>\n",
       "      <td>HarperFlamingo Canada</td>\n",
       "      <td>8</td>\n",
       "      <td>5</td>\n",
       "    </tr>\n",
       "    <tr>\n",
       "      <th>3</th>\n",
       "      <td>0002005018</td>\n",
       "      <td>Clara Callan</td>\n",
       "      <td>Richard Bruce Wright</td>\n",
       "      <td>2001</td>\n",
       "      <td>HarperFlamingo Canada</td>\n",
       "      <td>11400</td>\n",
       "      <td>0</td>\n",
       "    </tr>\n",
       "    <tr>\n",
       "      <th>4</th>\n",
       "      <td>0002005018</td>\n",
       "      <td>Clara Callan</td>\n",
       "      <td>Richard Bruce Wright</td>\n",
       "      <td>2001</td>\n",
       "      <td>HarperFlamingo Canada</td>\n",
       "      <td>11676</td>\n",
       "      <td>8</td>\n",
       "    </tr>\n",
       "  </tbody>\n",
       "</table>\n",
       "</div>"
      ],
      "text/plain": [
       "         isbn           book_title           book_author  year_of_publication  \\\n",
       "0  0195153448  Classical Mythology    Mark P. O. Morford                 2002   \n",
       "1  0195153448  Classical Mythology    Mark P. O. Morford                 2002   \n",
       "2  0002005018         Clara Callan  Richard Bruce Wright                 2001   \n",
       "3  0002005018         Clara Callan  Richard Bruce Wright                 2001   \n",
       "4  0002005018         Clara Callan  Richard Bruce Wright                 2001   \n",
       "\n",
       "                 publisher  user_id  book_rating  \n",
       "0  Oxford University Press        2            0  \n",
       "1  Oxford University Press   269782            7  \n",
       "2    HarperFlamingo Canada        8            5  \n",
       "3    HarperFlamingo Canada    11400            0  \n",
       "4    HarperFlamingo Canada    11676            8  "
      ]
     },
     "execution_count": 24,
     "metadata": {},
     "output_type": "execute_result"
    }
   ],
   "source": [
    "ratings_and_books.head()"
   ]
  },
  {
   "cell_type": "code",
   "execution_count": 25,
   "metadata": {},
   "outputs": [
    {
     "name": "stdout",
     "output_type": "stream",
     "text": [
      "<class 'pandas.core.frame.DataFrame'>\n",
      "Int64Index: 1031175 entries, 0 to 1031174\n",
      "Data columns (total 7 columns):\n",
      "isbn                   1031175 non-null object\n",
      "book_title             1031175 non-null object\n",
      "book_author            1031174 non-null object\n",
      "year_of_publication    1031175 non-null int64\n",
      "publisher              1031173 non-null object\n",
      "user_id                1031175 non-null int64\n",
      "book_rating            1031175 non-null int64\n",
      "dtypes: int64(3), object(4)\n",
      "memory usage: 62.9+ MB\n"
     ]
    }
   ],
   "source": [
    "ratings_and_books.info()"
   ]
  },
  {
   "cell_type": "code",
   "execution_count": 26,
   "metadata": {},
   "outputs": [
    {
     "data": {
      "text/plain": [
       "isbn                   0\n",
       "book_title             0\n",
       "book_author            1\n",
       "year_of_publication    0\n",
       "publisher              2\n",
       "user_id                0\n",
       "book_rating            0\n",
       "dtype: int64"
      ]
     },
     "execution_count": 26,
     "metadata": {},
     "output_type": "execute_result"
    }
   ],
   "source": [
    "ratings_and_books.isna().sum()"
   ]
  },
  {
   "cell_type": "markdown",
   "metadata": {},
   "source": [
    "### Author"
   ]
  },
  {
   "cell_type": "code",
   "execution_count": 27,
   "metadata": {},
   "outputs": [
    {
     "data": {
      "text/plain": [
       "101593"
      ]
     },
     "execution_count": 27,
     "metadata": {},
     "output_type": "execute_result"
    }
   ],
   "source": [
    "ratings_and_books['book_author'].nunique()"
   ]
  },
  {
   "cell_type": "markdown",
   "metadata": {},
   "source": [
    "COUNT DISTINCT WITH SQL"
   ]
  },
  {
   "cell_type": "code",
   "execution_count": 28,
   "metadata": {},
   "outputs": [
    {
     "data": {
      "text/html": [
       "<div>\n",
       "<style scoped>\n",
       "    .dataframe tbody tr th:only-of-type {\n",
       "        vertical-align: middle;\n",
       "    }\n",
       "\n",
       "    .dataframe tbody tr th {\n",
       "        vertical-align: top;\n",
       "    }\n",
       "\n",
       "    .dataframe thead th {\n",
       "        text-align: right;\n",
       "    }\n",
       "</style>\n",
       "<table border=\"1\" class=\"dataframe\">\n",
       "  <thead>\n",
       "    <tr style=\"text-align: right;\">\n",
       "      <th></th>\n",
       "      <th>book_title</th>\n",
       "    </tr>\n",
       "    <tr>\n",
       "      <th>book_author</th>\n",
       "      <th></th>\n",
       "    </tr>\n",
       "  </thead>\n",
       "  <tbody>\n",
       "    <tr>\n",
       "      <th>D. Chiel</th>\n",
       "      <td>4</td>\n",
       "    </tr>\n",
       "    <tr>\n",
       "      <th>J. D. Landis</th>\n",
       "      <td>1</td>\n",
       "    </tr>\n",
       "    <tr>\n",
       "      <th>Mimma Balia</th>\n",
       "      <td>1</td>\n",
       "    </tr>\n",
       "    <tr>\n",
       "      <th>'N Sync</th>\n",
       "      <td>1</td>\n",
       "    </tr>\n",
       "    <tr>\n",
       "      <th>142 moms from all over the world</th>\n",
       "      <td>1</td>\n",
       "    </tr>\n",
       "    <tr>\n",
       "      <th>1977 Inaugural Committee (U.S.)</th>\n",
       "      <td>1</td>\n",
       "    </tr>\n",
       "    <tr>\n",
       "      <th>1st Graders of Samuel s Nixon School Carnegie Penn</th>\n",
       "      <td>1</td>\n",
       "    </tr>\n",
       "    <tr>\n",
       "      <th>21st Century Publishing</th>\n",
       "      <td>2</td>\n",
       "    </tr>\n",
       "    <tr>\n",
       "      <th>73 Magazine Editors</th>\n",
       "      <td>1</td>\n",
       "    </tr>\n",
       "    <tr>\n",
       "      <th>;Katie Stewart\"</th>\n",
       "      <td>2</td>\n",
       "    </tr>\n",
       "  </tbody>\n",
       "</table>\n",
       "</div>"
      ],
      "text/plain": [
       "                                                    book_title\n",
       "book_author                                                   \n",
       " D. Chiel                                                    4\n",
       " J. D. Landis                                                1\n",
       " Mimma Balia                                                 1\n",
       "'N Sync                                                      1\n",
       "142 moms from all over the world                             1\n",
       "1977 Inaugural Committee (U.S.)                              1\n",
       "1st Graders of Samuel s Nixon School Carnegie Penn           1\n",
       "21st Century Publishing                                      2\n",
       "73 Magazine Editors                                          1\n",
       ";Katie Stewart\"                                              2"
      ]
     },
     "execution_count": 28,
     "metadata": {},
     "output_type": "execute_result"
    }
   ],
   "source": [
    "ratings_and_books.groupby('book_author').count()[['book_title']].head(10)"
   ]
  },
  {
   "cell_type": "markdown",
   "metadata": {},
   "source": [
    "### Year of Publication"
   ]
  },
  {
   "cell_type": "code",
   "execution_count": 29,
   "metadata": {},
   "outputs": [
    {
     "data": {
      "text/plain": [
       "array([   0, 1376, 1378, 1806, 1897, 1900, 1901, 1902, 1904, 1906, 1908,\n",
       "       1909, 1911, 1914, 1917, 1919, 1920, 1921, 1922, 1923, 1924, 1925,\n",
       "       1926, 1927, 1928, 1929, 1930, 1931, 1932, 1933, 1934, 1935, 1936,\n",
       "       1937, 1938, 1939, 1940, 1941, 1942, 1943, 1944, 1945, 1946, 1947,\n",
       "       1948, 1949, 1950, 1951, 1952, 1953, 1954, 1955, 1956, 1957, 1958,\n",
       "       1959, 1960, 1961, 1962, 1963, 1964, 1965, 1966, 1967, 1968, 1969,\n",
       "       1970, 1971, 1972, 1973, 1974, 1975, 1976, 1977, 1978, 1979, 1980,\n",
       "       1981, 1982, 1983, 1984, 1985, 1986, 1987, 1988, 1989, 1990, 1991,\n",
       "       1992, 1993, 1994, 1995, 1996, 1997, 1998, 1999, 2000, 2001, 2002,\n",
       "       2003, 2004, 2005, 2006, 2008, 2011, 2012, 2020, 2024, 2026, 2030,\n",
       "       2037, 2038, 2050])"
      ]
     },
     "execution_count": 29,
     "metadata": {},
     "output_type": "execute_result"
    }
   ],
   "source": [
    "np.asarray(sorted(ratings_and_books['year_of_publication'].unique()))"
   ]
  },
  {
   "cell_type": "code",
   "execution_count": 30,
   "metadata": {},
   "outputs": [
    {
     "data": {
      "text/plain": [
       "14383"
      ]
     },
     "execution_count": 30,
     "metadata": {},
     "output_type": "execute_result"
    }
   ],
   "source": [
    "ratings_and_books[(ratings_and_books['year_of_publication'] == 0) | \n",
    "                  (ratings_and_books['year_of_publication'] > 2004)].shape[0]"
   ]
  },
  {
   "cell_type": "code",
   "execution_count": 31,
   "metadata": {},
   "outputs": [
    {
     "data": {
      "text/plain": [
       "Int64Index([2002, 2001, 1999, 2000, 2003, 1998, 1997, 1996, 1995, 1994,\n",
       "            ...\n",
       "            1897, 2008, 1934, 1904, 1906, 2024, 2037, 2012, 1914, 1917],\n",
       "           dtype='int64', length=113)"
      ]
     },
     "execution_count": 31,
     "metadata": {},
     "output_type": "execute_result"
    }
   ],
   "source": [
    "ratings_and_books[(ratings_and_books['year_of_publication'] > 0) | \n",
    "                  (ratings_and_books['year_of_publication'] < 2005)]['year_of_publication'].value_counts().index"
   ]
  },
  {
   "cell_type": "markdown",
   "metadata": {},
   "source": [
    "### ISBN"
   ]
  },
  {
   "cell_type": "code",
   "execution_count": 32,
   "metadata": {},
   "outputs": [],
   "source": [
    "good_isbns = ratings_and_books['isbn'].map(lambda x: x if re.findall('^[\\dXx]+$', x) else None)"
   ]
  },
  {
   "cell_type": "markdown",
   "metadata": {},
   "source": [
    "### Users"
   ]
  },
  {
   "cell_type": "code",
   "execution_count": 33,
   "metadata": {},
   "outputs": [
    {
     "data": {
      "image/png": "[encoded data removed]",
      "text/plain": [
       "<Figure size 1440x720 with 1 Axes>"
      ]
     },
     "metadata": {},
     "output_type": "display_data"
    }
   ],
   "source": [
    "plt.figure(figsize=(20, 10))\n",
    "plt.hist(x=ratings_and_books['user_id'].value_counts().values,\n",
    "         bins=np.linspace(0, 350, 75)) \n",
    "plt.gca().set_yscale(\"log\")\n",
    "plt.title('Ratings per User', fontsize=30)\n",
    "plt.xlabel('Ratings Given', fontsize=25)\n",
    "plt.ylabel('Log User Count', fontsize=25)\n",
    "plt.xticks(fontsize=20)\n",
    "plt.yticks(fontsize=20);"
   ]
  },
  {
   "cell_type": "markdown",
   "metadata": {},
   "source": [
    "### Ratings"
   ]
  },
  {
   "cell_type": "code",
   "execution_count": 34,
   "metadata": {},
   "outputs": [
    {
     "data": {
      "text/plain": [
       "0     647323\n",
       "1       1481\n",
       "2       2375\n",
       "3       5118\n",
       "4       7617\n",
       "5      45355\n",
       "6      31689\n",
       "7      66404\n",
       "8      91806\n",
       "9      60780\n",
       "10     71227\n",
       "Name: book_rating, dtype: int64"
      ]
     },
     "execution_count": 34,
     "metadata": {},
     "output_type": "execute_result"
    }
   ],
   "source": [
    "ratings_and_books['book_rating'].value_counts().sort_index()"
   ]
  },
  {
   "cell_type": "code",
   "execution_count": 35,
   "metadata": {},
   "outputs": [
    {
     "data": {
      "image/png": "[encoded data removed]",
      "text/plain": [
       "<Figure size 1440x720 with 1 Axes>"
      ]
     },
     "metadata": {},
     "output_type": "display_data"
    }
   ],
   "source": [
    "plt.figure(figsize=(20, 10))\n",
    "plt.bar(x=ratings_and_books['book_rating'].value_counts().index,\n",
    "        height=ratings_and_books['book_rating'].value_counts().values)\n",
    "plt.title('Total Ratings Count', fontsize=30)\n",
    "plt.xlabel('Rating', fontsize=25)\n",
    "plt.ylabel('Count', fontsize=25)\n",
    "plt.xticks(ratings_df['book_rating'].value_counts().index, fontsize=20)\n",
    "plt.yticks(fontsize=20);"
   ]
  },
  {
   "cell_type": "code",
   "execution_count": 36,
   "metadata": {},
   "outputs": [
    {
     "data": {
      "image/png": "[encoded data removed]",
      "text/plain": [
       "<Figure size 1440x720 with 1 Axes>"
      ]
     },
     "metadata": {},
     "output_type": "display_data"
    }
   ],
   "source": [
    "plt.figure(figsize=(20, 10))\n",
    "plt.bar(x=ratings_and_books['book_rating'].value_counts().index[1:],\n",
    "        height=ratings_and_books['book_rating'].value_counts().values[1:])\n",
    "plt.title('Total Explicit Ratings Count', fontsize=30)\n",
    "plt.xlabel('Explicit Rating', fontsize=25)\n",
    "plt.ylabel('Count', fontsize=25)\n",
    "plt.xticks(ratings_df['book_rating'].value_counts().index, fontsize=20)\n",
    "plt.yticks(fontsize=20);"
   ]
  },
  {
   "cell_type": "code",
   "execution_count": 37,
   "metadata": {},
   "outputs": [
    {
     "data": {
      "image/png": "[encoded data removed]",
      "text/plain": [
       "<Figure size 432x288 with 1 Axes>"
      ]
     },
     "metadata": {},
     "output_type": "display_data"
    }
   ],
   "source": [
    "sns.boxplot(x=ratings_and_books['book_rating'].value_counts().index,\n",
    "            y=ratings_and_books['book_rating'].value_counts().values);"
   ]
  },
  {
   "cell_type": "code",
   "execution_count": 38,
   "metadata": {},
   "outputs": [
    {
     "data": {
      "image/png": "[encoded data removed]",
      "text/plain": [
       "<Figure size 1440x720 with 1 Axes>"
      ]
     },
     "metadata": {},
     "output_type": "display_data"
    }
   ],
   "source": [
    "plt.figure(figsize=(20, 10))\n",
    "plt.hist(x=ratings_and_books['isbn'].value_counts().values,\n",
    "         bins=np.linspace(0,500,100))\n",
    "plt.gca().set_yscale(\"log\")\n",
    "plt.title('Total Ratings per Book', fontsize=30)\n",
    "plt.xlabel('Total Ratings Given', fontsize=25)\n",
    "plt.ylabel('Log Book Count', fontsize=25)\n",
    "plt.xticks(fontsize=20)\n",
    "plt.yticks(fontsize=20);"
   ]
  },
  {
   "cell_type": "markdown",
   "metadata": {},
   "source": [
    "## Explicit and Implicit Ratings"
   ]
  },
  {
   "cell_type": "code",
   "execution_count": 39,
   "metadata": {},
   "outputs": [],
   "source": [
    "exp_ratings = ratings_and_books[ratings_and_books['book_rating'] != 0] "
   ]
  },
  {
   "cell_type": "code",
   "execution_count": 40,
   "metadata": {},
   "outputs": [
    {
     "data": {
      "text/html": [
       "<div>\n",
       "<style scoped>\n",
       "    .dataframe tbody tr th:only-of-type {\n",
       "        vertical-align: middle;\n",
       "    }\n",
       "\n",
       "    .dataframe tbody tr th {\n",
       "        vertical-align: top;\n",
       "    }\n",
       "\n",
       "    .dataframe thead th {\n",
       "        text-align: right;\n",
       "    }\n",
       "</style>\n",
       "<table border=\"1\" class=\"dataframe\">\n",
       "  <thead>\n",
       "    <tr style=\"text-align: right;\">\n",
       "      <th></th>\n",
       "      <th>count</th>\n",
       "      <th>mean</th>\n",
       "      <th>std</th>\n",
       "      <th>min</th>\n",
       "      <th>25%</th>\n",
       "      <th>50%</th>\n",
       "      <th>75%</th>\n",
       "      <th>max</th>\n",
       "    </tr>\n",
       "  </thead>\n",
       "  <tbody>\n",
       "    <tr>\n",
       "      <th>book_rating</th>\n",
       "      <td>383852.0</td>\n",
       "      <td>7.62671</td>\n",
       "      <td>1.841331</td>\n",
       "      <td>1.0</td>\n",
       "      <td>7.0</td>\n",
       "      <td>8.0</td>\n",
       "      <td>9.0</td>\n",
       "      <td>10.0</td>\n",
       "    </tr>\n",
       "  </tbody>\n",
       "</table>\n",
       "</div>"
      ],
      "text/plain": [
       "                count     mean       std  min  25%  50%  75%   max\n",
       "book_rating  383852.0  7.62671  1.841331  1.0  7.0  8.0  9.0  10.0"
      ]
     },
     "execution_count": 40,
     "metadata": {},
     "output_type": "execute_result"
    }
   ],
   "source": [
    "exp_ratings[['book_rating']].describe().T"
   ]
  },
  {
   "cell_type": "code",
   "execution_count": 41,
   "metadata": {},
   "outputs": [],
   "source": [
    "imp_ratings = ratings_and_books[ratings_and_books['book_rating'] == 0]"
   ]
  },
  {
   "cell_type": "code",
   "execution_count": 42,
   "metadata": {},
   "outputs": [
    {
     "name": "stdout",
     "output_type": "stream",
     "text": [
      "Explicit: 383852\n",
      "Implicit: 647323\n"
     ]
    }
   ],
   "source": [
    "print(\"Explicit:\", exp_ratings.shape[0])\n",
    "print(\"Implicit:\", imp_ratings.shape[0])"
   ]
  },
  {
   "cell_type": "code",
   "execution_count": 43,
   "metadata": {},
   "outputs": [
    {
     "data": {
      "text/html": [
       "<div>\n",
       "<style scoped>\n",
       "    .dataframe tbody tr th:only-of-type {\n",
       "        vertical-align: middle;\n",
       "    }\n",
       "\n",
       "    .dataframe tbody tr th {\n",
       "        vertical-align: top;\n",
       "    }\n",
       "\n",
       "    .dataframe thead th {\n",
       "        text-align: right;\n",
       "    }\n",
       "</style>\n",
       "<table border=\"1\" class=\"dataframe\">\n",
       "  <thead>\n",
       "    <tr style=\"text-align: right;\">\n",
       "      <th></th>\n",
       "      <th>isbn</th>\n",
       "      <th>book_title</th>\n",
       "      <th>explicit_count</th>\n",
       "    </tr>\n",
       "  </thead>\n",
       "  <tbody>\n",
       "    <tr>\n",
       "      <th>0</th>\n",
       "      <td>0000913154</td>\n",
       "      <td>The Way Things Work: An Illustrated Encycloped...</td>\n",
       "      <td>1</td>\n",
       "    </tr>\n",
       "    <tr>\n",
       "      <th>1</th>\n",
       "      <td>0001046438</td>\n",
       "      <td>Liar</td>\n",
       "      <td>3</td>\n",
       "    </tr>\n",
       "    <tr>\n",
       "      <th>2</th>\n",
       "      <td>000104687X</td>\n",
       "      <td>T.S. Eliot Reading \\The Wasteland\\\" and Other ...</td>\n",
       "      <td>1</td>\n",
       "    </tr>\n",
       "    <tr>\n",
       "      <th>3</th>\n",
       "      <td>0001047213</td>\n",
       "      <td>The Fighting Man</td>\n",
       "      <td>1</td>\n",
       "    </tr>\n",
       "    <tr>\n",
       "      <th>4</th>\n",
       "      <td>000104799X</td>\n",
       "      <td>Monk's-hood</td>\n",
       "      <td>2</td>\n",
       "    </tr>\n",
       "    <tr>\n",
       "      <th>5</th>\n",
       "      <td>0001053736</td>\n",
       "      <td>Sir Gawain and the Green Knight</td>\n",
       "      <td>1</td>\n",
       "    </tr>\n",
       "    <tr>\n",
       "      <th>6</th>\n",
       "      <td>0001053744</td>\n",
       "      <td>Pearl and Sir Orfeo</td>\n",
       "      <td>1</td>\n",
       "    </tr>\n",
       "    <tr>\n",
       "      <th>7</th>\n",
       "      <td>0001055607</td>\n",
       "      <td>Cereus Blooms At Night</td>\n",
       "      <td>1</td>\n",
       "    </tr>\n",
       "    <tr>\n",
       "      <th>8</th>\n",
       "      <td>0001056107</td>\n",
       "      <td>Farmer Giles of Ham: And Other Stories</td>\n",
       "      <td>2</td>\n",
       "    </tr>\n",
       "    <tr>\n",
       "      <th>9</th>\n",
       "      <td>0001061127</td>\n",
       "      <td>CHESS FOR YOUNG BEGINNERS</td>\n",
       "      <td>1</td>\n",
       "    </tr>\n",
       "    <tr>\n",
       "      <th>10</th>\n",
       "      <td>0001360469</td>\n",
       "      <td>Babe Dressing</td>\n",
       "      <td>1</td>\n",
       "    </tr>\n",
       "    <tr>\n",
       "      <th>11</th>\n",
       "      <td>0001374362</td>\n",
       "      <td>When It's Time for Bed (Collins Baby &amp;amp; Tod...</td>\n",
       "      <td>1</td>\n",
       "    </tr>\n",
       "    <tr>\n",
       "      <th>12</th>\n",
       "      <td>0001374869</td>\n",
       "      <td>Baby Plays (Collins Baby and Toddler Series)</td>\n",
       "      <td>1</td>\n",
       "    </tr>\n",
       "    <tr>\n",
       "      <th>13</th>\n",
       "      <td>000160418X</td>\n",
       "      <td>The Clue in the Crumbling Wall</td>\n",
       "      <td>1</td>\n",
       "    </tr>\n",
       "    <tr>\n",
       "      <th>14</th>\n",
       "      <td>0001714600</td>\n",
       "      <td>I Want to Be Somebody New! (I Can Read It All ...</td>\n",
       "      <td>1</td>\n",
       "    </tr>\n",
       "    <tr>\n",
       "      <th>15</th>\n",
       "      <td>0001811819</td>\n",
       "      <td>Paddington and the Marmalade Maze (Paddington ...</td>\n",
       "      <td>1</td>\n",
       "    </tr>\n",
       "    <tr>\n",
       "      <th>16</th>\n",
       "      <td>0001821326</td>\n",
       "      <td>Paddington at the Tower (A Paddington Picture ...</td>\n",
       "      <td>1</td>\n",
       "    </tr>\n",
       "    <tr>\n",
       "      <th>17</th>\n",
       "      <td>0001837397</td>\n",
       "      <td>Autumn Story Brambly Hedge</td>\n",
       "      <td>1</td>\n",
       "    </tr>\n",
       "    <tr>\n",
       "      <th>18</th>\n",
       "      <td>0001841572</td>\n",
       "      <td>Red Shift</td>\n",
       "      <td>2</td>\n",
       "    </tr>\n",
       "    <tr>\n",
       "      <th>19</th>\n",
       "      <td>0001845039</td>\n",
       "      <td>The Moon of Gomrath</td>\n",
       "      <td>1</td>\n",
       "    </tr>\n",
       "    <tr>\n",
       "      <th>20</th>\n",
       "      <td>0001850121</td>\n",
       "      <td>A place called Lantern Light</td>\n",
       "      <td>1</td>\n",
       "    </tr>\n",
       "    <tr>\n",
       "      <th>21</th>\n",
       "      <td>0001856367</td>\n",
       "      <td>The Collins Book of Ballet and Dance</td>\n",
       "      <td>1</td>\n",
       "    </tr>\n",
       "    <tr>\n",
       "      <th>22</th>\n",
       "      <td>0001857258</td>\n",
       "      <td>Little Wolf's Book of Badness</td>\n",
       "      <td>1</td>\n",
       "    </tr>\n",
       "    <tr>\n",
       "      <th>23</th>\n",
       "      <td>0001900277</td>\n",
       "      <td>Glue (First Facts - First Skills)</td>\n",
       "      <td>1</td>\n",
       "    </tr>\n",
       "    <tr>\n",
       "      <th>24</th>\n",
       "      <td>0001935968</td>\n",
       "      <td>The Brambly Hedge Treasury</td>\n",
       "      <td>1</td>\n",
       "    </tr>\n",
       "    <tr>\n",
       "      <th>25</th>\n",
       "      <td>0001939203</td>\n",
       "      <td>The Collins Book of Nursery Tales</td>\n",
       "      <td>1</td>\n",
       "    </tr>\n",
       "    <tr>\n",
       "      <th>26</th>\n",
       "      <td>0001941941</td>\n",
       "      <td>Little Grey Rabbit's Christmas (Collins Colour...</td>\n",
       "      <td>1</td>\n",
       "    </tr>\n",
       "    <tr>\n",
       "      <th>27</th>\n",
       "      <td>0001941968</td>\n",
       "      <td>Little Grey Rabbit's Birthday (Little Grey Rab...</td>\n",
       "      <td>1</td>\n",
       "    </tr>\n",
       "    <tr>\n",
       "      <th>28</th>\n",
       "      <td>0001944711</td>\n",
       "      <td>Count Duckula: Vampire Vacation</td>\n",
       "      <td>1</td>\n",
       "    </tr>\n",
       "    <tr>\n",
       "      <th>29</th>\n",
       "      <td>0001945203</td>\n",
       "      <td>The Revenge of Murray the Mantis</td>\n",
       "      <td>1</td>\n",
       "    </tr>\n",
       "    <tr>\n",
       "      <th>...</th>\n",
       "      <td>...</td>\n",
       "      <td>...</td>\n",
       "      <td>...</td>\n",
       "    </tr>\n",
       "    <tr>\n",
       "      <th>139618</th>\n",
       "      <td>9999999999</td>\n",
       "      <td>World Directory of Awards and Prizes</td>\n",
       "      <td>1</td>\n",
       "    </tr>\n",
       "    <tr>\n",
       "      <th>139619</th>\n",
       "      <td>B00001U0CP</td>\n",
       "      <td>Unnatural Exposure</td>\n",
       "      <td>2</td>\n",
       "    </tr>\n",
       "    <tr>\n",
       "      <th>139620</th>\n",
       "      <td>B0000523SY</td>\n",
       "      <td>Strike Zone (Star Trek: The Next Generation, B...</td>\n",
       "      <td>1</td>\n",
       "    </tr>\n",
       "    <tr>\n",
       "      <th>139621</th>\n",
       "      <td>B00005B4LM</td>\n",
       "      <td>Downward to the Earth</td>\n",
       "      <td>1</td>\n",
       "    </tr>\n",
       "    <tr>\n",
       "      <th>139622</th>\n",
       "      <td>B00005TZWI</td>\n",
       "      <td>Sandkings</td>\n",
       "      <td>1</td>\n",
       "    </tr>\n",
       "    <tr>\n",
       "      <th>139623</th>\n",
       "      <td>B00005U7YK</td>\n",
       "      <td>The New Gurus -- From Sun-Tzu And Jesus To Mac...</td>\n",
       "      <td>2</td>\n",
       "    </tr>\n",
       "    <tr>\n",
       "      <th>139624</th>\n",
       "      <td>B00005UMI4</td>\n",
       "      <td>Desecration:  Left Behind #9</td>\n",
       "      <td>1</td>\n",
       "    </tr>\n",
       "    <tr>\n",
       "      <th>139625</th>\n",
       "      <td>B00005UMK6</td>\n",
       "      <td>Best a Man Can Get</td>\n",
       "      <td>2</td>\n",
       "    </tr>\n",
       "    <tr>\n",
       "      <th>139626</th>\n",
       "      <td>B0000633PU</td>\n",
       "      <td>The Story of Aladdin and the Wonderful Lamp</td>\n",
       "      <td>2</td>\n",
       "    </tr>\n",
       "    <tr>\n",
       "      <th>139627</th>\n",
       "      <td>B00006CRTE</td>\n",
       "      <td>Devil Knows You're Dead, The: A Matthew Scudde...</td>\n",
       "      <td>1</td>\n",
       "    </tr>\n",
       "    <tr>\n",
       "      <th>139628</th>\n",
       "      <td>B00007MF56</td>\n",
       "      <td>More, Now, Again: A Memoir of Addiction</td>\n",
       "      <td>4</td>\n",
       "    </tr>\n",
       "    <tr>\n",
       "      <th>139629</th>\n",
       "      <td>B00008NRHQ</td>\n",
       "      <td>Mystic Rose, The</td>\n",
       "      <td>1</td>\n",
       "    </tr>\n",
       "    <tr>\n",
       "      <th>139630</th>\n",
       "      <td>B000092Q0A</td>\n",
       "      <td>The Community of the Ark: A Visit to the Utopi...</td>\n",
       "      <td>1</td>\n",
       "    </tr>\n",
       "    <tr>\n",
       "      <th>139631</th>\n",
       "      <td>B00009APKU</td>\n",
       "      <td>Moby Dick</td>\n",
       "      <td>7</td>\n",
       "    </tr>\n",
       "    <tr>\n",
       "      <th>139632</th>\n",
       "      <td>B00009MBYK</td>\n",
       "      <td>99 Cows</td>\n",
       "      <td>1</td>\n",
       "    </tr>\n",
       "    <tr>\n",
       "      <th>139633</th>\n",
       "      <td>B0000A2U93</td>\n",
       "      <td>Carmilla</td>\n",
       "      <td>3</td>\n",
       "    </tr>\n",
       "    <tr>\n",
       "      <th>139634</th>\n",
       "      <td>B0000AZW79</td>\n",
       "      <td>O Is for Outlaw</td>\n",
       "      <td>1</td>\n",
       "    </tr>\n",
       "    <tr>\n",
       "      <th>139635</th>\n",
       "      <td>B0000C2W5U</td>\n",
       "      <td>Femme Fatale: Famous Beauties Then and Now</td>\n",
       "      <td>1</td>\n",
       "    </tr>\n",
       "    <tr>\n",
       "      <th>139636</th>\n",
       "      <td>B0000D9PEZ</td>\n",
       "      <td>Body in the Library, The: A Miss Marple Mystery</td>\n",
       "      <td>1</td>\n",
       "    </tr>\n",
       "    <tr>\n",
       "      <th>139637</th>\n",
       "      <td>B0000DAOHN</td>\n",
       "      <td>Hard Eight</td>\n",
       "      <td>1</td>\n",
       "    </tr>\n",
       "    <tr>\n",
       "      <th>139638</th>\n",
       "      <td>B0000DAPP1</td>\n",
       "      <td>Discover Your Genius: How to Think Like Histor...</td>\n",
       "      <td>1</td>\n",
       "    </tr>\n",
       "    <tr>\n",
       "      <th>139639</th>\n",
       "      <td>B0000DYXID</td>\n",
       "      <td>A Kid's Guide To How to Save the Planet</td>\n",
       "      <td>1</td>\n",
       "    </tr>\n",
       "    <tr>\n",
       "      <th>139640</th>\n",
       "      <td>B0000X8HIE</td>\n",
       "      <td>THE FIRST TARZAN OMNIBUS: Tarzan of the Apes; ...</td>\n",
       "      <td>1</td>\n",
       "    </tr>\n",
       "    <tr>\n",
       "      <th>139641</th>\n",
       "      <td>B00013AFZQ</td>\n",
       "      <td>Pu-239 and Other Russian Fantasies: A Novella ...</td>\n",
       "      <td>1</td>\n",
       "    </tr>\n",
       "    <tr>\n",
       "      <th>139642</th>\n",
       "      <td>B00013AX9E</td>\n",
       "      <td>Modern Contemporary: Aspects of Art at MoMA Si...</td>\n",
       "      <td>1</td>\n",
       "    </tr>\n",
       "    <tr>\n",
       "      <th>139643</th>\n",
       "      <td>B00014WRH4</td>\n",
       "      <td>Hornet Flight: A Novel</td>\n",
       "      <td>1</td>\n",
       "    </tr>\n",
       "    <tr>\n",
       "      <th>139644</th>\n",
       "      <td>B00019U4II</td>\n",
       "      <td>Big Four, The</td>\n",
       "      <td>1</td>\n",
       "    </tr>\n",
       "    <tr>\n",
       "      <th>139645</th>\n",
       "      <td>B0001GDNCK</td>\n",
       "      <td>The Taming</td>\n",
       "      <td>8</td>\n",
       "    </tr>\n",
       "    <tr>\n",
       "      <th>139646</th>\n",
       "      <td>B0001I1KOG</td>\n",
       "      <td>New York Public Library Literature Companion</td>\n",
       "      <td>1</td>\n",
       "    </tr>\n",
       "    <tr>\n",
       "      <th>139647</th>\n",
       "      <td>B000234N3A</td>\n",
       "      <td>Fraud</td>\n",
       "      <td>1</td>\n",
       "    </tr>\n",
       "  </tbody>\n",
       "</table>\n",
       "<p>139648 rows × 3 columns</p>\n",
       "</div>"
      ],
      "text/plain": [
       "              isbn                                         book_title  \\\n",
       "0       0000913154  The Way Things Work: An Illustrated Encycloped...   \n",
       "1       0001046438                                               Liar   \n",
       "2       000104687X  T.S. Eliot Reading \\The Wasteland\\\" and Other ...   \n",
       "3       0001047213                                   The Fighting Man   \n",
       "4       000104799X                                        Monk's-hood   \n",
       "5       0001053736                    Sir Gawain and the Green Knight   \n",
       "6       0001053744                                Pearl and Sir Orfeo   \n",
       "7       0001055607                             Cereus Blooms At Night   \n",
       "8       0001056107             Farmer Giles of Ham: And Other Stories   \n",
       "9       0001061127                          CHESS FOR YOUNG BEGINNERS   \n",
       "10      0001360469                                      Babe Dressing   \n",
       "11      0001374362  When It's Time for Bed (Collins Baby &amp; Tod...   \n",
       "12      0001374869       Baby Plays (Collins Baby and Toddler Series)   \n",
       "13      000160418X                     The Clue in the Crumbling Wall   \n",
       "14      0001714600  I Want to Be Somebody New! (I Can Read It All ...   \n",
       "15      0001811819  Paddington and the Marmalade Maze (Paddington ...   \n",
       "16      0001821326  Paddington at the Tower (A Paddington Picture ...   \n",
       "17      0001837397                         Autumn Story Brambly Hedge   \n",
       "18      0001841572                                          Red Shift   \n",
       "19      0001845039                                The Moon of Gomrath   \n",
       "20      0001850121                       A place called Lantern Light   \n",
       "21      0001856367               The Collins Book of Ballet and Dance   \n",
       "22      0001857258                      Little Wolf's Book of Badness   \n",
       "23      0001900277                  Glue (First Facts - First Skills)   \n",
       "24      0001935968                         The Brambly Hedge Treasury   \n",
       "25      0001939203                  The Collins Book of Nursery Tales   \n",
       "26      0001941941  Little Grey Rabbit's Christmas (Collins Colour...   \n",
       "27      0001941968  Little Grey Rabbit's Birthday (Little Grey Rab...   \n",
       "28      0001944711                    Count Duckula: Vampire Vacation   \n",
       "29      0001945203                   The Revenge of Murray the Mantis   \n",
       "...            ...                                                ...   \n",
       "139618  9999999999               World Directory of Awards and Prizes   \n",
       "139619  B00001U0CP                                 Unnatural Exposure   \n",
       "139620  B0000523SY  Strike Zone (Star Trek: The Next Generation, B...   \n",
       "139621  B00005B4LM                              Downward to the Earth   \n",
       "139622  B00005TZWI                                          Sandkings   \n",
       "139623  B00005U7YK  The New Gurus -- From Sun-Tzu And Jesus To Mac...   \n",
       "139624  B00005UMI4                       Desecration:  Left Behind #9   \n",
       "139625  B00005UMK6                                 Best a Man Can Get   \n",
       "139626  B0000633PU        The Story of Aladdin and the Wonderful Lamp   \n",
       "139627  B00006CRTE  Devil Knows You're Dead, The: A Matthew Scudde...   \n",
       "139628  B00007MF56            More, Now, Again: A Memoir of Addiction   \n",
       "139629  B00008NRHQ                                   Mystic Rose, The   \n",
       "139630  B000092Q0A  The Community of the Ark: A Visit to the Utopi...   \n",
       "139631  B00009APKU                                          Moby Dick   \n",
       "139632  B00009MBYK                                            99 Cows   \n",
       "139633  B0000A2U93                                           Carmilla   \n",
       "139634  B0000AZW79                                    O Is for Outlaw   \n",
       "139635  B0000C2W5U         Femme Fatale: Famous Beauties Then and Now   \n",
       "139636  B0000D9PEZ    Body in the Library, The: A Miss Marple Mystery   \n",
       "139637  B0000DAOHN                                         Hard Eight   \n",
       "139638  B0000DAPP1  Discover Your Genius: How to Think Like Histor...   \n",
       "139639  B0000DYXID            A Kid's Guide To How to Save the Planet   \n",
       "139640  B0000X8HIE  THE FIRST TARZAN OMNIBUS: Tarzan of the Apes; ...   \n",
       "139641  B00013AFZQ  Pu-239 and Other Russian Fantasies: A Novella ...   \n",
       "139642  B00013AX9E  Modern Contemporary: Aspects of Art at MoMA Si...   \n",
       "139643  B00014WRH4                             Hornet Flight: A Novel   \n",
       "139644  B00019U4II                                      Big Four, The   \n",
       "139645  B0001GDNCK                                         The Taming   \n",
       "139646  B0001I1KOG       New York Public Library Literature Companion   \n",
       "139647  B000234N3A                                              Fraud   \n",
       "\n",
       "        explicit_count  \n",
       "0                    1  \n",
       "1                    3  \n",
       "2                    1  \n",
       "3                    1  \n",
       "4                    2  \n",
       "5                    1  \n",
       "6                    1  \n",
       "7                    1  \n",
       "8                    2  \n",
       "9                    1  \n",
       "10                   1  \n",
       "11                   1  \n",
       "12                   1  \n",
       "13                   1  \n",
       "14                   1  \n",
       "15                   1  \n",
       "16                   1  \n",
       "17                   1  \n",
       "18                   2  \n",
       "19                   1  \n",
       "20                   1  \n",
       "21                   1  \n",
       "22                   1  \n",
       "23                   1  \n",
       "24                   1  \n",
       "25                   1  \n",
       "26                   1  \n",
       "27                   1  \n",
       "28                   1  \n",
       "29                   1  \n",
       "...                ...  \n",
       "139618               1  \n",
       "139619               2  \n",
       "139620               1  \n",
       "139621               1  \n",
       "139622               1  \n",
       "139623               2  \n",
       "139624               1  \n",
       "139625               2  \n",
       "139626               2  \n",
       "139627               1  \n",
       "139628               4  \n",
       "139629               1  \n",
       "139630               1  \n",
       "139631               7  \n",
       "139632               1  \n",
       "139633               3  \n",
       "139634               1  \n",
       "139635               1  \n",
       "139636               1  \n",
       "139637               1  \n",
       "139638               1  \n",
       "139639               1  \n",
       "139640               1  \n",
       "139641               1  \n",
       "139642               1  \n",
       "139643               1  \n",
       "139644               1  \n",
       "139645               8  \n",
       "139646               1  \n",
       "139647               1  \n",
       "\n",
       "[139648 rows x 3 columns]"
      ]
     },
     "execution_count": 43,
     "metadata": {},
     "output_type": "execute_result"
    }
   ],
   "source": [
    "exp_ratings.groupby(\n",
    "    ['isbn', 'book_title'], as_index=False)[['book_rating']].count().rename(\n",
    "    columns={'book_rating': 'explicit_count'})"
   ]
  },
  {
   "cell_type": "code",
   "execution_count": 44,
   "metadata": {},
   "outputs": [],
   "source": [
    "imp_count = imp_ratings.groupby(\n",
    "    ['isbn', 'book_title'], as_index=False)[['book_rating']].count().rename(\n",
    "    columns={'book_rating': 'implicit_count'})\n",
    "\n",
    "exp_count = exp_ratings.groupby(\n",
    "    ['isbn', 'book_title'], as_index=False)[['book_rating']].count().rename(\n",
    "    columns={'book_rating': 'explicit_count'})"
   ]
  },
  {
   "cell_type": "code",
   "execution_count": 45,
   "metadata": {},
   "outputs": [],
   "source": [
    "ratings_count = imp_count.merge(exp_count.drop(columns='book_title'), \n",
    "                                how='outer', \n",
    "                                on='isbn').fillna(0).astype({'implicit_count': int, 'explicit_count': int})"
   ]
  },
  {
   "cell_type": "code",
   "execution_count": 46,
   "metadata": {},
   "outputs": [],
   "source": [
    "ratings_count['total_count'] = ratings_count['implicit_count'] + ratings_count['explicit_count']"
   ]
  },
  {
   "cell_type": "code",
   "execution_count": 47,
   "metadata": {},
   "outputs": [
    {
     "data": {
      "text/html": [
       "<div>\n",
       "<style scoped>\n",
       "    .dataframe tbody tr th:only-of-type {\n",
       "        vertical-align: middle;\n",
       "    }\n",
       "\n",
       "    .dataframe tbody tr th {\n",
       "        vertical-align: top;\n",
       "    }\n",
       "\n",
       "    .dataframe thead th {\n",
       "        text-align: right;\n",
       "    }\n",
       "</style>\n",
       "<table border=\"1\" class=\"dataframe\">\n",
       "  <thead>\n",
       "    <tr style=\"text-align: right;\">\n",
       "      <th></th>\n",
       "      <th>isbn</th>\n",
       "      <th>book_title</th>\n",
       "      <th>implicit_count</th>\n",
       "      <th>explicit_count</th>\n",
       "      <th>total_count</th>\n",
       "    </tr>\n",
       "  </thead>\n",
       "  <tbody>\n",
       "    <tr>\n",
       "      <th>153881</th>\n",
       "      <td>0971880107</td>\n",
       "      <td>Wild Animus</td>\n",
       "      <td>1921</td>\n",
       "      <td>581</td>\n",
       "      <td>2502</td>\n",
       "    </tr>\n",
       "    <tr>\n",
       "      <th>26543</th>\n",
       "      <td>0316666343</td>\n",
       "      <td>The Lovely Bones: A Novel</td>\n",
       "      <td>588</td>\n",
       "      <td>707</td>\n",
       "      <td>1295</td>\n",
       "    </tr>\n",
       "    <tr>\n",
       "      <th>52568</th>\n",
       "      <td>0385504209</td>\n",
       "      <td>The Da Vinci Code</td>\n",
       "      <td>399</td>\n",
       "      <td>488</td>\n",
       "      <td>887</td>\n",
       "    </tr>\n",
       "    <tr>\n",
       "      <th>22922</th>\n",
       "      <td>0312278586</td>\n",
       "      <td>The Nanny Diaries: A Novel</td>\n",
       "      <td>435</td>\n",
       "      <td>393</td>\n",
       "      <td>828</td>\n",
       "    </tr>\n",
       "    <tr>\n",
       "      <th>27313</th>\n",
       "      <td>0330332775</td>\n",
       "      <td>Bridget Jones's Diary</td>\n",
       "      <td>438</td>\n",
       "      <td>377</td>\n",
       "      <td>815</td>\n",
       "    </tr>\n",
       "    <tr>\n",
       "      <th>14922</th>\n",
       "      <td>0142001740</td>\n",
       "      <td>The Secret Life of Bees</td>\n",
       "      <td>368</td>\n",
       "      <td>406</td>\n",
       "      <td>774</td>\n",
       "    </tr>\n",
       "    <tr>\n",
       "      <th>4922</th>\n",
       "      <td>0060928336</td>\n",
       "      <td>Divine Secrets of the Ya-Ya Sisterhood: A Novel</td>\n",
       "      <td>417</td>\n",
       "      <td>323</td>\n",
       "      <td>740</td>\n",
       "    </tr>\n",
       "    <tr>\n",
       "      <th>22292</th>\n",
       "      <td>0312195516</td>\n",
       "      <td>The Red Tent (Bestselling Backlist)</td>\n",
       "      <td>340</td>\n",
       "      <td>383</td>\n",
       "      <td>723</td>\n",
       "    </tr>\n",
       "    <tr>\n",
       "      <th>97681</th>\n",
       "      <td>0671027360</td>\n",
       "      <td>Angels &amp;amp; Demons</td>\n",
       "      <td>360</td>\n",
       "      <td>310</td>\n",
       "      <td>670</td>\n",
       "    </tr>\n",
       "    <tr>\n",
       "      <th>15297</th>\n",
       "      <td>0151008116</td>\n",
       "      <td>Life of Pi</td>\n",
       "      <td>328</td>\n",
       "      <td>336</td>\n",
       "      <td>664</td>\n",
       "    </tr>\n",
       "  </tbody>\n",
       "</table>\n",
       "</div>"
      ],
      "text/plain": [
       "              isbn                                       book_title  \\\n",
       "153881  0971880107                                      Wild Animus   \n",
       "26543   0316666343                        The Lovely Bones: A Novel   \n",
       "52568   0385504209                                The Da Vinci Code   \n",
       "22922   0312278586                       The Nanny Diaries: A Novel   \n",
       "27313   0330332775                            Bridget Jones's Diary   \n",
       "14922   0142001740                          The Secret Life of Bees   \n",
       "4922    0060928336  Divine Secrets of the Ya-Ya Sisterhood: A Novel   \n",
       "22292   0312195516              The Red Tent (Bestselling Backlist)   \n",
       "97681   0671027360                              Angels &amp; Demons   \n",
       "15297   0151008116                                       Life of Pi   \n",
       "\n",
       "        implicit_count  explicit_count  total_count  \n",
       "153881            1921             581         2502  \n",
       "26543              588             707         1295  \n",
       "52568              399             488          887  \n",
       "22922              435             393          828  \n",
       "27313              438             377          815  \n",
       "14922              368             406          774  \n",
       "4922               417             323          740  \n",
       "22292              340             383          723  \n",
       "97681              360             310          670  \n",
       "15297              328             336          664  "
      ]
     },
     "execution_count": 47,
     "metadata": {},
     "output_type": "execute_result"
    }
   ],
   "source": [
    "ratings_count.sort_values(by='total_count', ascending=False).head(10)"
   ]
  },
  {
   "cell_type": "code",
   "execution_count": 48,
   "metadata": {},
   "outputs": [
    {
     "data": {
      "image/png": "[encoded data removed]",
      "text/plain": [
       "<Figure size 1440x720 with 1 Axes>"
      ]
     },
     "metadata": {},
     "output_type": "display_data"
    }
   ],
   "source": [
    "plt.figure(figsize=(20, 10))\n",
    "plt.barh(y=ratings_count.sort_values(by='total_count', ascending=False)['book_title'].head(10),\n",
    "         width=ratings_count.sort_values(by='total_count', ascending=False)['implicit_count'].head(10))\n",
    "plt.barh(y=ratings_count.sort_values(by='total_count', ascending=False)['book_title'].head(10),\n",
    "         width=ratings_count.sort_values(by='total_count', ascending=False)['explicit_count'].head(10))\n",
    "plt.legend(['Implicit', 'Explicit'], fontsize=15)\n",
    "plt.title('Top 10 Books - Ratings', fontsize=30)\n",
    "plt.xlabel('Ratings Count', fontsize=25)\n",
    "plt.xticks(fontsize=20)\n",
    "plt.yticks(fontsize=20);"
   ]
  },
  {
   "cell_type": "code",
   "execution_count": 49,
   "metadata": {},
   "outputs": [
    {
     "data": {
      "image/png": "[encoded data removed]",
      "text/plain": [
       "<Figure size 1440x720 with 1 Axes>"
      ]
     },
     "metadata": {},
     "output_type": "display_data"
    }
   ],
   "source": [
    "plt.figure(figsize=(20, 10))\n",
    "plt.scatter(x=ratings_count['implicit_count'],\n",
    "            y=ratings_count['explicit_count'])\n",
    "plt.xlabel('Implicit Ratings', fontsize=25)\n",
    "plt.ylabel('Explicit Ratings', fontsize=25)\n",
    "plt.title('Implicit vs. Explicit Ratings', fontsize=30)\n",
    "plt.xticks(fontsize=20)\n",
    "plt.yticks(fontsize=20);"
   ]
  },
  {
   "cell_type": "markdown",
   "metadata": {},
   "source": [
    "## Explicit Ratings Threshold"
   ]
  },
  {
   "cell_type": "code",
   "execution_count": 50,
   "metadata": {},
   "outputs": [],
   "source": [
    "isbn_greater_three = exp_ratings['isbn'].value_counts().index[exp_ratings['isbn'].value_counts().values > 3]"
   ]
  },
  {
   "cell_type": "code",
   "execution_count": 51,
   "metadata": {},
   "outputs": [],
   "source": [
    "new_exp_ratings = exp_ratings[exp_ratings['isbn'].isin(isbn_greater_three)]"
   ]
  },
  {
   "cell_type": "code",
   "execution_count": 52,
   "metadata": {},
   "outputs": [
    {
     "name": "stdout",
     "output_type": "stream",
     "text": [
      "Users:   51762\n",
      "Books:   18263\n",
      "Ratings: 224114\n"
     ]
    }
   ],
   "source": [
    "print('Users:  ', new_exp_ratings['user_id'].nunique())\n",
    "print('Books:  ', new_exp_ratings['isbn'].nunique())\n",
    "print('Ratings:', new_exp_ratings.shape[0])"
   ]
  },
  {
   "cell_type": "code",
   "execution_count": 53,
   "metadata": {},
   "outputs": [],
   "source": [
    "# new_exp_ratings.to_sql(name='exp_ratings',\n",
    "#                        con=engine,\n",
    "#                        index=False)"
   ]
  },
  {
   "cell_type": "code",
   "execution_count": 54,
   "metadata": {},
   "outputs": [],
   "source": [
    "new_exp_ratings.to_csv('../data/explicit_ratings.csv')"
   ]
  },
  {
   "cell_type": "code",
   "execution_count": 61,
   "metadata": {},
   "outputs": [
    {
     "data": {
      "text/html": [
       "<div>\n",
       "<style scoped>\n",
       "    .dataframe tbody tr th:only-of-type {\n",
       "        vertical-align: middle;\n",
       "    }\n",
       "\n",
       "    .dataframe tbody tr th {\n",
       "        vertical-align: top;\n",
       "    }\n",
       "\n",
       "    .dataframe thead th {\n",
       "        text-align: right;\n",
       "    }\n",
       "</style>\n",
       "<table border=\"1\" class=\"dataframe\">\n",
       "  <thead>\n",
       "    <tr style=\"text-align: right;\">\n",
       "      <th></th>\n",
       "      <th>isbn</th>\n",
       "      <th>book_title</th>\n",
       "      <th>book_author</th>\n",
       "      <th>year_of_publication</th>\n",
       "      <th>publisher</th>\n",
       "      <th>user_id</th>\n",
       "      <th>book_rating</th>\n",
       "    </tr>\n",
       "  </thead>\n",
       "  <tbody>\n",
       "    <tr>\n",
       "      <th>2</th>\n",
       "      <td>0002005018</td>\n",
       "      <td>Clara Callan</td>\n",
       "      <td>Richard Bruce Wright</td>\n",
       "      <td>2001</td>\n",
       "      <td>HarperFlamingo Canada</td>\n",
       "      <td>8</td>\n",
       "      <td>5</td>\n",
       "    </tr>\n",
       "    <tr>\n",
       "      <th>4</th>\n",
       "      <td>0002005018</td>\n",
       "      <td>Clara Callan</td>\n",
       "      <td>Richard Bruce Wright</td>\n",
       "      <td>2001</td>\n",
       "      <td>HarperFlamingo Canada</td>\n",
       "      <td>11676</td>\n",
       "      <td>8</td>\n",
       "    </tr>\n",
       "    <tr>\n",
       "      <th>6</th>\n",
       "      <td>0002005018</td>\n",
       "      <td>Clara Callan</td>\n",
       "      <td>Richard Bruce Wright</td>\n",
       "      <td>2001</td>\n",
       "      <td>HarperFlamingo Canada</td>\n",
       "      <td>67544</td>\n",
       "      <td>8</td>\n",
       "    </tr>\n",
       "    <tr>\n",
       "      <th>9</th>\n",
       "      <td>0002005018</td>\n",
       "      <td>Clara Callan</td>\n",
       "      <td>Richard Bruce Wright</td>\n",
       "      <td>2001</td>\n",
       "      <td>HarperFlamingo Canada</td>\n",
       "      <td>116866</td>\n",
       "      <td>9</td>\n",
       "    </tr>\n",
       "    <tr>\n",
       "      <th>10</th>\n",
       "      <td>0002005018</td>\n",
       "      <td>Clara Callan</td>\n",
       "      <td>Richard Bruce Wright</td>\n",
       "      <td>2001</td>\n",
       "      <td>HarperFlamingo Canada</td>\n",
       "      <td>123629</td>\n",
       "      <td>9</td>\n",
       "    </tr>\n",
       "  </tbody>\n",
       "</table>\n",
       "</div>"
      ],
      "text/plain": [
       "          isbn    book_title           book_author  year_of_publication  \\\n",
       "2   0002005018  Clara Callan  Richard Bruce Wright                 2001   \n",
       "4   0002005018  Clara Callan  Richard Bruce Wright                 2001   \n",
       "6   0002005018  Clara Callan  Richard Bruce Wright                 2001   \n",
       "9   0002005018  Clara Callan  Richard Bruce Wright                 2001   \n",
       "10  0002005018  Clara Callan  Richard Bruce Wright                 2001   \n",
       "\n",
       "                publisher  user_id  book_rating  \n",
       "2   HarperFlamingo Canada        8            5  \n",
       "4   HarperFlamingo Canada    11676            8  \n",
       "6   HarperFlamingo Canada    67544            8  \n",
       "9   HarperFlamingo Canada   116866            9  \n",
       "10  HarperFlamingo Canada   123629            9  "
      ]
     },
     "execution_count": 61,
     "metadata": {},
     "output_type": "execute_result"
    }
   ],
   "source": [
    "new_exp_ratings.head()"
   ]
  },
  {
   "cell_type": "markdown",
   "metadata": {},
   "source": [
    "## Sparse DataFrame"
   ]
  },
  {
   "cell_type": "code",
   "execution_count": 55,
   "metadata": {},
   "outputs": [],
   "source": [
    "# ratings_list = exp_ratings.to_dict('list')\n",
    "\n",
    "# wide_ratings = {}\n",
    "# for user, book, rating in zip(exp_ratings['user_id'], exp_ratings['isbn'], exp_ratings['book_rating']):\n",
    "#     if wide_ratings.get(user):\n",
    "#         wide_ratings[user][book] = rating\n",
    "#     else:\n",
    "#         wide_ratings[user] = {book: rating}\n",
    "\n",
    "# sdf_ratings = pd.SparseDataFrame(wide_ratings)\n",
    "\n",
    "# sdf_ratings.head()\n",
    "\n",
    "# sdf_ratings_scaled = (sdf_ratings - np.nanmean(sdf_ratings, axis=0))/np.nanstd(sdf_ratings, axis=0) "
   ]
  },
  {
   "cell_type": "code",
   "execution_count": null,
   "metadata": {},
   "outputs": [],
   "source": []
  }
 ],
 "metadata": {
  "kernelspec": {
   "display_name": "Python 3",
   "language": "python",
   "name": "python3"
  },
  "language_info": {
   "codemirror_mode": {
    "name": "ipython",
    "version": 3
   },
   "file_extension": ".py",
   "mimetype": "text/x-python",
   "name": "python",
   "nbconvert_exporter": "python",
   "pygments_lexer": "ipython3",
   "version": "3.6.5"
  }
 },
 "nbformat": 4,
 "nbformat_minor": 2
}
