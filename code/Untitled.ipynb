{
 "cells": [
  {
   "cell_type": "markdown",
   "metadata": {},
   "source": [
    "# EDA and Cleaning"
   ]
  },
  {
   "cell_type": "code",
   "execution_count": 1,
   "metadata": {},
   "outputs": [],
   "source": [
    "import pandas as pd\n",
    "import numpy as np\n",
    "import matplotlib.pyplot as plt\n",
    "import seaborn as sns\n",
    "import re\n",
    "import psycopg2 as pg2\n",
    "from sqlalchemy import create_engine\n",
    "\n",
    "from sklearn.decomposition import TruncatedSVD\n",
    "from sklearn.metrics import pairwise_distances\n",
    "\n",
    "sns.set_style('darkgrid')\n",
    "sns.set_palette(palette='colorblind')\n",
    "%matplotlib inline"
   ]
  },
  {
   "cell_type": "code",
   "execution_count": 2,
   "metadata": {},
   "outputs": [],
   "source": [
    "%run ../bx_sql.py"
   ]
  },
  {
   "cell_type": "code",
   "execution_count": 3,
   "metadata": {},
   "outputs": [],
   "source": [
    "engine = create_engine(f'postgres://{USER}:{PASSWORD}@{FULL_IP_ADDRESS}:5432/{DBNAME}')"
   ]
  },
  {
   "cell_type": "markdown",
   "metadata": {},
   "source": [
    "## Retrieve Data from PostgreSQL Database"
   ]
  },
  {
   "cell_type": "markdown",
   "metadata": {},
   "source": [
    "### Books"
   ]
  },
  {
   "cell_type": "code",
   "execution_count": 4,
   "metadata": {},
   "outputs": [
    {
     "data": {
      "text/html": [
       "<div>\n",
       "<style scoped>\n",
       "    .dataframe tbody tr th:only-of-type {\n",
       "        vertical-align: middle;\n",
       "    }\n",
       "\n",
       "    .dataframe tbody tr th {\n",
       "        vertical-align: top;\n",
       "    }\n",
       "\n",
       "    .dataframe thead th {\n",
       "        text-align: right;\n",
       "    }\n",
       "</style>\n",
       "<table border=\"1\" class=\"dataframe\">\n",
       "  <thead>\n",
       "    <tr style=\"text-align: right;\">\n",
       "      <th></th>\n",
       "      <th>isbn</th>\n",
       "      <th>book_title</th>\n",
       "      <th>book_author</th>\n",
       "      <th>year_of_publication</th>\n",
       "      <th>publisher</th>\n",
       "      <th>image_url_s</th>\n",
       "      <th>image_url_m</th>\n",
       "      <th>image_url_l</th>\n",
       "    </tr>\n",
       "  </thead>\n",
       "  <tbody>\n",
       "    <tr>\n",
       "      <th>0</th>\n",
       "      <td>8440616252</td>\n",
       "      <td>El paraÃ­so (Tiempos modernos)</td>\n",
       "      <td>Elena Castedo</td>\n",
       "      <td>1991</td>\n",
       "      <td>Editiones B, Grupo Zeta</td>\n",
       "      <td>http://images.amazon.com/images/P/8440616252.0...</td>\n",
       "      <td>http://images.amazon.com/images/P/8440616252.0...</td>\n",
       "      <td>http://images.amazon.com/images/P/8440616252.0...</td>\n",
       "    </tr>\n",
       "    <tr>\n",
       "      <th>1</th>\n",
       "      <td>8472224260</td>\n",
       "      <td>Negra i consentida (ColÂ¨lecciÃ³ El Mirall)</td>\n",
       "      <td>OfÃ¨lia Dracs</td>\n",
       "      <td>1983</td>\n",
       "      <td>Laia</td>\n",
       "      <td>http://images.amazon.com/images/P/8472224260.0...</td>\n",
       "      <td>http://images.amazon.com/images/P/8472224260.0...</td>\n",
       "      <td>http://images.amazon.com/images/P/8472224260.0...</td>\n",
       "    </tr>\n",
       "    <tr>\n",
       "      <th>2</th>\n",
       "      <td>8472227421</td>\n",
       "      <td>Essa efa (ColÂ¨lecciÃ³ El Mirall i el temps)</td>\n",
       "      <td>OfÃ¨lia Dracs</td>\n",
       "      <td>1985</td>\n",
       "      <td>Editorial Laia</td>\n",
       "      <td>http://images.amazon.com/images/P/8472227421.0...</td>\n",
       "      <td>http://images.amazon.com/images/P/8472227421.0...</td>\n",
       "      <td>http://images.amazon.com/images/P/8472227421.0...</td>\n",
       "    </tr>\n",
       "    <tr>\n",
       "      <th>3</th>\n",
       "      <td>8474103347</td>\n",
       "      <td>Espurnes de sang (La Negra)</td>\n",
       "      <td>Antoni Serra</td>\n",
       "      <td>1987</td>\n",
       "      <td>Edicions de la Magrana</td>\n",
       "      <td>http://images.amazon.com/images/P/8474103347.0...</td>\n",
       "      <td>http://images.amazon.com/images/P/8474103347.0...</td>\n",
       "      <td>http://images.amazon.com/images/P/8474103347.0...</td>\n",
       "    </tr>\n",
       "    <tr>\n",
       "      <th>4</th>\n",
       "      <td>8475960936</td>\n",
       "      <td>Les llengÃ¼es d'Africa (Biblioteca universal E...</td>\n",
       "      <td>M. Carme Junyent</td>\n",
       "      <td>1986</td>\n",
       "      <td>Editorial EmpÃºries</td>\n",
       "      <td>http://images.amazon.com/images/P/8475960936.0...</td>\n",
       "      <td>http://images.amazon.com/images/P/8475960936.0...</td>\n",
       "      <td>http://images.amazon.com/images/P/8475960936.0...</td>\n",
       "    </tr>\n",
       "  </tbody>\n",
       "</table>\n",
       "</div>"
      ],
      "text/plain": [
       "         isbn                                         book_title  \\\n",
       "0  8440616252                     El paraÃ­so (Tiempos modernos)   \n",
       "1  8472224260        Negra i consentida (ColÂ¨lecciÃ³ El Mirall)   \n",
       "2  8472227421       Essa efa (ColÂ¨lecciÃ³ El Mirall i el temps)   \n",
       "3  8474103347                        Espurnes de sang (La Negra)   \n",
       "4  8475960936  Les llengÃ¼es d'Africa (Biblioteca universal E...   \n",
       "\n",
       "        book_author  year_of_publication                publisher  \\\n",
       "0     Elena Castedo                 1991  Editiones B, Grupo Zeta   \n",
       "1     OfÃ¨lia Dracs                 1983                     Laia   \n",
       "2     OfÃ¨lia Dracs                 1985           Editorial Laia   \n",
       "3      Antoni Serra                 1987   Edicions de la Magrana   \n",
       "4  M. Carme Junyent                 1986      Editorial EmpÃºries   \n",
       "\n",
       "                                         image_url_s  \\\n",
       "0  http://images.amazon.com/images/P/8440616252.0...   \n",
       "1  http://images.amazon.com/images/P/8472224260.0...   \n",
       "2  http://images.amazon.com/images/P/8472227421.0...   \n",
       "3  http://images.amazon.com/images/P/8474103347.0...   \n",
       "4  http://images.amazon.com/images/P/8475960936.0...   \n",
       "\n",
       "                                         image_url_m  \\\n",
       "0  http://images.amazon.com/images/P/8440616252.0...   \n",
       "1  http://images.amazon.com/images/P/8472224260.0...   \n",
       "2  http://images.amazon.com/images/P/8472227421.0...   \n",
       "3  http://images.amazon.com/images/P/8474103347.0...   \n",
       "4  http://images.amazon.com/images/P/8475960936.0...   \n",
       "\n",
       "                                         image_url_l  \n",
       "0  http://images.amazon.com/images/P/8440616252.0...  \n",
       "1  http://images.amazon.com/images/P/8472224260.0...  \n",
       "2  http://images.amazon.com/images/P/8472227421.0...  \n",
       "3  http://images.amazon.com/images/P/8474103347.0...  \n",
       "4  http://images.amazon.com/images/P/8475960936.0...  "
      ]
     },
     "execution_count": 4,
     "metadata": {},
     "output_type": "execute_result"
    }
   ],
   "source": [
    "books_df = pd.read_sql_table('books', engine)\n",
    "\n",
    "books_df.head()"
   ]
  },
  {
   "cell_type": "markdown",
   "metadata": {},
   "source": [
    "### Ratings"
   ]
  },
  {
   "cell_type": "code",
   "execution_count": 5,
   "metadata": {},
   "outputs": [
    {
     "data": {
      "text/html": [
       "<div>\n",
       "<style scoped>\n",
       "    .dataframe tbody tr th:only-of-type {\n",
       "        vertical-align: middle;\n",
       "    }\n",
       "\n",
       "    .dataframe tbody tr th {\n",
       "        vertical-align: top;\n",
       "    }\n",
       "\n",
       "    .dataframe thead th {\n",
       "        text-align: right;\n",
       "    }\n",
       "</style>\n",
       "<table border=\"1\" class=\"dataframe\">\n",
       "  <thead>\n",
       "    <tr style=\"text-align: right;\">\n",
       "      <th></th>\n",
       "      <th>user_id</th>\n",
       "      <th>isbn</th>\n",
       "      <th>book_rating</th>\n",
       "    </tr>\n",
       "  </thead>\n",
       "  <tbody>\n",
       "    <tr>\n",
       "      <th>0</th>\n",
       "      <td>276725</td>\n",
       "      <td>034545104X</td>\n",
       "      <td>0</td>\n",
       "    </tr>\n",
       "    <tr>\n",
       "      <th>1</th>\n",
       "      <td>276726</td>\n",
       "      <td>0155061224</td>\n",
       "      <td>5</td>\n",
       "    </tr>\n",
       "    <tr>\n",
       "      <th>2</th>\n",
       "      <td>276727</td>\n",
       "      <td>0446520802</td>\n",
       "      <td>0</td>\n",
       "    </tr>\n",
       "    <tr>\n",
       "      <th>3</th>\n",
       "      <td>276729</td>\n",
       "      <td>052165615X</td>\n",
       "      <td>3</td>\n",
       "    </tr>\n",
       "    <tr>\n",
       "      <th>4</th>\n",
       "      <td>276729</td>\n",
       "      <td>0521795028</td>\n",
       "      <td>6</td>\n",
       "    </tr>\n",
       "  </tbody>\n",
       "</table>\n",
       "</div>"
      ],
      "text/plain": [
       "   user_id        isbn  book_rating\n",
       "0   276725  034545104X            0\n",
       "1   276726  0155061224            5\n",
       "2   276727  0446520802            0\n",
       "3   276729  052165615X            3\n",
       "4   276729  0521795028            6"
      ]
     },
     "execution_count": 5,
     "metadata": {},
     "output_type": "execute_result"
    }
   ],
   "source": [
    "ratings_df = pd.read_sql_table('book_ratings', engine)\n",
    "\n",
    "ratings_df.head()"
   ]
  },
  {
   "cell_type": "markdown",
   "metadata": {},
   "source": [
    "## Combine `books` and `ratings`"
   ]
  },
  {
   "cell_type": "code",
   "execution_count": 6,
   "metadata": {},
   "outputs": [],
   "source": [
    "books_df.drop(columns=['image_url_l', 'image_url_m', 'image_url_s'], inplace=True)"
   ]
  },
  {
   "cell_type": "code",
   "execution_count": 7,
   "metadata": {},
   "outputs": [
    {
     "name": "stdout",
     "output_type": "stream",
     "text": [
      "Ratings ISBN: 340556\n",
      "Books ISBN:   271379\n"
     ]
    },
    {
     "data": {
      "text/plain": [
       "False"
      ]
     },
     "execution_count": 7,
     "metadata": {},
     "output_type": "execute_result"
    }
   ],
   "source": [
    "print('Ratings ISBN:',ratings_df['isbn'].nunique())\n",
    "print('Books ISBN:  ',books_df['isbn'].nunique())\n",
    "ratings_df['isbn'].nunique() == books_df['isbn'].nunique()"
   ]
  },
  {
   "cell_type": "code",
   "execution_count": 8,
   "metadata": {},
   "outputs": [],
   "source": [
    "match_isbns = ratings_df[ratings_df['isbn'].isin(books_df['isbn'])]"
   ]
  },
  {
   "cell_type": "code",
   "execution_count": 9,
   "metadata": {},
   "outputs": [
    {
     "name": "stdout",
     "output_type": "stream",
     "text": [
      "Number of Ratings: 1031175\n",
      "Number of Books:   270170\n"
     ]
    }
   ],
   "source": [
    "print('Number of Ratings:',match_isbns.shape[0])\n",
    "print('Number of Books:  ',match_isbns['isbn'].nunique())"
   ]
  },
  {
   "cell_type": "code",
   "execution_count": 10,
   "metadata": {},
   "outputs": [
    {
     "data": {
      "text/html": [
       "<div>\n",
       "<style scoped>\n",
       "    .dataframe tbody tr th:only-of-type {\n",
       "        vertical-align: middle;\n",
       "    }\n",
       "\n",
       "    .dataframe tbody tr th {\n",
       "        vertical-align: top;\n",
       "    }\n",
       "\n",
       "    .dataframe thead th {\n",
       "        text-align: right;\n",
       "    }\n",
       "</style>\n",
       "<table border=\"1\" class=\"dataframe\">\n",
       "  <thead>\n",
       "    <tr style=\"text-align: right;\">\n",
       "      <th></th>\n",
       "      <th>user_id</th>\n",
       "      <th>isbn</th>\n",
       "      <th>book_rating</th>\n",
       "    </tr>\n",
       "  </thead>\n",
       "  <tbody>\n",
       "    <tr>\n",
       "      <th>0</th>\n",
       "      <td>276725</td>\n",
       "      <td>034545104X</td>\n",
       "      <td>0</td>\n",
       "    </tr>\n",
       "    <tr>\n",
       "      <th>1</th>\n",
       "      <td>276726</td>\n",
       "      <td>0155061224</td>\n",
       "      <td>5</td>\n",
       "    </tr>\n",
       "    <tr>\n",
       "      <th>2</th>\n",
       "      <td>276727</td>\n",
       "      <td>0446520802</td>\n",
       "      <td>0</td>\n",
       "    </tr>\n",
       "    <tr>\n",
       "      <th>3</th>\n",
       "      <td>276729</td>\n",
       "      <td>052165615X</td>\n",
       "      <td>3</td>\n",
       "    </tr>\n",
       "    <tr>\n",
       "      <th>4</th>\n",
       "      <td>276729</td>\n",
       "      <td>0521795028</td>\n",
       "      <td>6</td>\n",
       "    </tr>\n",
       "  </tbody>\n",
       "</table>\n",
       "</div>"
      ],
      "text/plain": [
       "   user_id        isbn  book_rating\n",
       "0   276725  034545104X            0\n",
       "1   276726  0155061224            5\n",
       "2   276727  0446520802            0\n",
       "3   276729  052165615X            3\n",
       "4   276729  0521795028            6"
      ]
     },
     "execution_count": 10,
     "metadata": {},
     "output_type": "execute_result"
    }
   ],
   "source": [
    "match_isbns.head()"
   ]
  },
  {
   "cell_type": "code",
   "execution_count": 11,
   "metadata": {},
   "outputs": [],
   "source": [
    "combined_df = match_isbns.merge(books_df[['isbn', 'book_author', 'book_title']], how='left')"
   ]
  },
  {
   "cell_type": "code",
   "execution_count": 12,
   "metadata": {},
   "outputs": [
    {
     "data": {
      "text/html": [
       "<div>\n",
       "<style scoped>\n",
       "    .dataframe tbody tr th:only-of-type {\n",
       "        vertical-align: middle;\n",
       "    }\n",
       "\n",
       "    .dataframe tbody tr th {\n",
       "        vertical-align: top;\n",
       "    }\n",
       "\n",
       "    .dataframe thead th {\n",
       "        text-align: right;\n",
       "    }\n",
       "</style>\n",
       "<table border=\"1\" class=\"dataframe\">\n",
       "  <thead>\n",
       "    <tr style=\"text-align: right;\">\n",
       "      <th></th>\n",
       "      <th>user_id</th>\n",
       "      <th>isbn</th>\n",
       "      <th>book_rating</th>\n",
       "      <th>book_author</th>\n",
       "      <th>book_title</th>\n",
       "    </tr>\n",
       "  </thead>\n",
       "  <tbody>\n",
       "    <tr>\n",
       "      <th>0</th>\n",
       "      <td>276725</td>\n",
       "      <td>034545104X</td>\n",
       "      <td>0</td>\n",
       "      <td>M. J. Rose</td>\n",
       "      <td>Flesh Tones: A Novel</td>\n",
       "    </tr>\n",
       "    <tr>\n",
       "      <th>1</th>\n",
       "      <td>276726</td>\n",
       "      <td>0155061224</td>\n",
       "      <td>5</td>\n",
       "      <td>Judith Rae</td>\n",
       "      <td>Rites of Passage</td>\n",
       "    </tr>\n",
       "    <tr>\n",
       "      <th>2</th>\n",
       "      <td>276727</td>\n",
       "      <td>0446520802</td>\n",
       "      <td>0</td>\n",
       "      <td>Nicholas Sparks</td>\n",
       "      <td>The Notebook</td>\n",
       "    </tr>\n",
       "    <tr>\n",
       "      <th>3</th>\n",
       "      <td>276729</td>\n",
       "      <td>052165615X</td>\n",
       "      <td>3</td>\n",
       "      <td>Philip Prowse</td>\n",
       "      <td>Help!: Level 1</td>\n",
       "    </tr>\n",
       "    <tr>\n",
       "      <th>4</th>\n",
       "      <td>276729</td>\n",
       "      <td>0521795028</td>\n",
       "      <td>6</td>\n",
       "      <td>Sue Leather</td>\n",
       "      <td>The Amsterdam Connection : Level 4 (Cambridge ...</td>\n",
       "    </tr>\n",
       "  </tbody>\n",
       "</table>\n",
       "</div>"
      ],
      "text/plain": [
       "   user_id        isbn  book_rating      book_author  \\\n",
       "0   276725  034545104X            0       M. J. Rose   \n",
       "1   276726  0155061224            5       Judith Rae   \n",
       "2   276727  0446520802            0  Nicholas Sparks   \n",
       "3   276729  052165615X            3    Philip Prowse   \n",
       "4   276729  0521795028            6      Sue Leather   \n",
       "\n",
       "                                          book_title  \n",
       "0                               Flesh Tones: A Novel  \n",
       "1                                   Rites of Passage  \n",
       "2                                       The Notebook  \n",
       "3                                     Help!: Level 1  \n",
       "4  The Amsterdam Connection : Level 4 (Cambridge ...  "
      ]
     },
     "execution_count": 12,
     "metadata": {},
     "output_type": "execute_result"
    }
   ],
   "source": [
    "combined_df.head()"
   ]
  },
  {
   "cell_type": "code",
   "execution_count": 13,
   "metadata": {},
   "outputs": [
    {
     "data": {
      "text/plain": [
       "20175"
      ]
     },
     "execution_count": 13,
     "metadata": {},
     "output_type": "execute_result"
    }
   ],
   "source": [
    "len(books_df[books_df[['book_title', 'book_author']].duplicated()])"
   ]
  },
  {
   "cell_type": "code",
   "execution_count": 14,
   "metadata": {},
   "outputs": [],
   "source": [
    "unique_books = books_df.drop_duplicates(subset=['book_author','book_title'])"
   ]
  },
  {
   "cell_type": "code",
   "execution_count": 15,
   "metadata": {},
   "outputs": [],
   "source": [
    "ratings_and_books = unique_books.merge(combined_df.drop(columns=['isbn']), \n",
    "                                       on=['book_author', 'book_title'])"
   ]
  },
  {
   "cell_type": "code",
   "execution_count": 16,
   "metadata": {},
   "outputs": [
    {
     "data": {
      "text/html": [
       "<div>\n",
       "<style scoped>\n",
       "    .dataframe tbody tr th:only-of-type {\n",
       "        vertical-align: middle;\n",
       "    }\n",
       "\n",
       "    .dataframe tbody tr th {\n",
       "        vertical-align: top;\n",
       "    }\n",
       "\n",
       "    .dataframe thead th {\n",
       "        text-align: right;\n",
       "    }\n",
       "</style>\n",
       "<table border=\"1\" class=\"dataframe\">\n",
       "  <thead>\n",
       "    <tr style=\"text-align: right;\">\n",
       "      <th></th>\n",
       "      <th>isbn</th>\n",
       "      <th>book_title</th>\n",
       "      <th>book_author</th>\n",
       "      <th>year_of_publication</th>\n",
       "      <th>publisher</th>\n",
       "      <th>user_id</th>\n",
       "      <th>book_rating</th>\n",
       "    </tr>\n",
       "  </thead>\n",
       "  <tbody>\n",
       "    <tr>\n",
       "      <th>0</th>\n",
       "      <td>8440616252</td>\n",
       "      <td>El paraÃ­so (Tiempos modernos)</td>\n",
       "      <td>Elena Castedo</td>\n",
       "      <td>1991</td>\n",
       "      <td>Editiones B, Grupo Zeta</td>\n",
       "      <td>392</td>\n",
       "      <td>0</td>\n",
       "    </tr>\n",
       "    <tr>\n",
       "      <th>1</th>\n",
       "      <td>8472224260</td>\n",
       "      <td>Negra i consentida (ColÂ¨lecciÃ³ El Mirall)</td>\n",
       "      <td>OfÃ¨lia Dracs</td>\n",
       "      <td>1983</td>\n",
       "      <td>Laia</td>\n",
       "      <td>392</td>\n",
       "      <td>0</td>\n",
       "    </tr>\n",
       "    <tr>\n",
       "      <th>2</th>\n",
       "      <td>8472227421</td>\n",
       "      <td>Essa efa (ColÂ¨lecciÃ³ El Mirall i el temps)</td>\n",
       "      <td>OfÃ¨lia Dracs</td>\n",
       "      <td>1985</td>\n",
       "      <td>Editorial Laia</td>\n",
       "      <td>392</td>\n",
       "      <td>0</td>\n",
       "    </tr>\n",
       "    <tr>\n",
       "      <th>3</th>\n",
       "      <td>8474103347</td>\n",
       "      <td>Espurnes de sang (La Negra)</td>\n",
       "      <td>Antoni Serra</td>\n",
       "      <td>1987</td>\n",
       "      <td>Edicions de la Magrana</td>\n",
       "      <td>392</td>\n",
       "      <td>7</td>\n",
       "    </tr>\n",
       "    <tr>\n",
       "      <th>4</th>\n",
       "      <td>8474103347</td>\n",
       "      <td>Espurnes de sang (La Negra)</td>\n",
       "      <td>Antoni Serra</td>\n",
       "      <td>1987</td>\n",
       "      <td>Edicions de la Magrana</td>\n",
       "      <td>120251</td>\n",
       "      <td>0</td>\n",
       "    </tr>\n",
       "  </tbody>\n",
       "</table>\n",
       "</div>"
      ],
      "text/plain": [
       "         isbn                                    book_title    book_author  \\\n",
       "0  8440616252                El paraÃ­so (Tiempos modernos)  Elena Castedo   \n",
       "1  8472224260   Negra i consentida (ColÂ¨lecciÃ³ El Mirall)  OfÃ¨lia Dracs   \n",
       "2  8472227421  Essa efa (ColÂ¨lecciÃ³ El Mirall i el temps)  OfÃ¨lia Dracs   \n",
       "3  8474103347                   Espurnes de sang (La Negra)   Antoni Serra   \n",
       "4  8474103347                   Espurnes de sang (La Negra)   Antoni Serra   \n",
       "\n",
       "   year_of_publication                publisher  user_id  book_rating  \n",
       "0                 1991  Editiones B, Grupo Zeta      392            0  \n",
       "1                 1983                     Laia      392            0  \n",
       "2                 1985           Editorial Laia      392            0  \n",
       "3                 1987   Edicions de la Magrana      392            7  \n",
       "4                 1987   Edicions de la Magrana   120251            0  "
      ]
     },
     "execution_count": 16,
     "metadata": {},
     "output_type": "execute_result"
    }
   ],
   "source": [
    "ratings_and_books.head()"
   ]
  },
  {
   "cell_type": "code",
   "execution_count": 17,
   "metadata": {},
   "outputs": [
    {
     "data": {
      "text/plain": [
       "True"
      ]
     },
     "execution_count": 17,
     "metadata": {},
     "output_type": "execute_result"
    }
   ],
   "source": [
    "ratings_and_books.shape[0] == combined_df.shape[0]"
   ]
  },
  {
   "cell_type": "code",
   "execution_count": 18,
   "metadata": {},
   "outputs": [
    {
     "name": "stdout",
     "output_type": "stream",
     "text": [
      "Users:   92107\n",
      "Books:   250105\n",
      "Ratings: 1031175\n"
     ]
    }
   ],
   "source": [
    "print('Users:  ', ratings_and_books['user_id'].nunique())\n",
    "print('Books:  ', ratings_and_books['isbn'].nunique())\n",
    "print('Ratings:', ratings_and_books.shape[0])"
   ]
  },
  {
   "cell_type": "markdown",
   "metadata": {},
   "source": [
    "### Save to PostgreSQL Database"
   ]
  },
  {
   "cell_type": "code",
   "execution_count": 19,
   "metadata": {},
   "outputs": [],
   "source": [
    "ratings_and_books.to_csv('../data/ratings_and_books.csv')"
   ]
  },
  {
   "cell_type": "code",
   "execution_count": 20,
   "metadata": {},
   "outputs": [],
   "source": [
    "ratings_and_books.to_sql(name='ratings_and_books',\n",
    "                         con=engine,\n",
    "                         if_exists='append',\n",
    "                         index=False)"
   ]
  },
  {
   "cell_type": "markdown",
   "metadata": {},
   "source": [
    "## Clean Data"
   ]
  },
  {
   "cell_type": "code",
   "execution_count": 21,
   "metadata": {},
   "outputs": [
    {
     "data": {
      "text/html": [
       "<div>\n",
       "<style scoped>\n",
       "    .dataframe tbody tr th:only-of-type {\n",
       "        vertical-align: middle;\n",
       "    }\n",
       "\n",
       "    .dataframe tbody tr th {\n",
       "        vertical-align: top;\n",
       "    }\n",
       "\n",
       "    .dataframe thead th {\n",
       "        text-align: right;\n",
       "    }\n",
       "</style>\n",
       "<table border=\"1\" class=\"dataframe\">\n",
       "  <thead>\n",
       "    <tr style=\"text-align: right;\">\n",
       "      <th></th>\n",
       "      <th>isbn</th>\n",
       "      <th>book_title</th>\n",
       "      <th>book_author</th>\n",
       "      <th>year_of_publication</th>\n",
       "      <th>publisher</th>\n",
       "      <th>user_id</th>\n",
       "      <th>book_rating</th>\n",
       "    </tr>\n",
       "  </thead>\n",
       "  <tbody>\n",
       "    <tr>\n",
       "      <th>0</th>\n",
       "      <td>8440616252</td>\n",
       "      <td>El paraÃ­so (Tiempos modernos)</td>\n",
       "      <td>Elena Castedo</td>\n",
       "      <td>1991</td>\n",
       "      <td>Editiones B, Grupo Zeta</td>\n",
       "      <td>392</td>\n",
       "      <td>0</td>\n",
       "    </tr>\n",
       "    <tr>\n",
       "      <th>1</th>\n",
       "      <td>8472224260</td>\n",
       "      <td>Negra i consentida (ColÂ¨lecciÃ³ El Mirall)</td>\n",
       "      <td>OfÃ¨lia Dracs</td>\n",
       "      <td>1983</td>\n",
       "      <td>Laia</td>\n",
       "      <td>392</td>\n",
       "      <td>0</td>\n",
       "    </tr>\n",
       "    <tr>\n",
       "      <th>2</th>\n",
       "      <td>8472227421</td>\n",
       "      <td>Essa efa (ColÂ¨lecciÃ³ El Mirall i el temps)</td>\n",
       "      <td>OfÃ¨lia Dracs</td>\n",
       "      <td>1985</td>\n",
       "      <td>Editorial Laia</td>\n",
       "      <td>392</td>\n",
       "      <td>0</td>\n",
       "    </tr>\n",
       "    <tr>\n",
       "      <th>3</th>\n",
       "      <td>8474103347</td>\n",
       "      <td>Espurnes de sang (La Negra)</td>\n",
       "      <td>Antoni Serra</td>\n",
       "      <td>1987</td>\n",
       "      <td>Edicions de la Magrana</td>\n",
       "      <td>392</td>\n",
       "      <td>7</td>\n",
       "    </tr>\n",
       "    <tr>\n",
       "      <th>4</th>\n",
       "      <td>8474103347</td>\n",
       "      <td>Espurnes de sang (La Negra)</td>\n",
       "      <td>Antoni Serra</td>\n",
       "      <td>1987</td>\n",
       "      <td>Edicions de la Magrana</td>\n",
       "      <td>120251</td>\n",
       "      <td>0</td>\n",
       "    </tr>\n",
       "  </tbody>\n",
       "</table>\n",
       "</div>"
      ],
      "text/plain": [
       "         isbn                                    book_title    book_author  \\\n",
       "0  8440616252                El paraÃ­so (Tiempos modernos)  Elena Castedo   \n",
       "1  8472224260   Negra i consentida (ColÂ¨lecciÃ³ El Mirall)  OfÃ¨lia Dracs   \n",
       "2  8472227421  Essa efa (ColÂ¨lecciÃ³ El Mirall i el temps)  OfÃ¨lia Dracs   \n",
       "3  8474103347                   Espurnes de sang (La Negra)   Antoni Serra   \n",
       "4  8474103347                   Espurnes de sang (La Negra)   Antoni Serra   \n",
       "\n",
       "   year_of_publication                publisher  user_id  book_rating  \n",
       "0                 1991  Editiones B, Grupo Zeta      392            0  \n",
       "1                 1983                     Laia      392            0  \n",
       "2                 1985           Editorial Laia      392            0  \n",
       "3                 1987   Edicions de la Magrana      392            7  \n",
       "4                 1987   Edicions de la Magrana   120251            0  "
      ]
     },
     "execution_count": 21,
     "metadata": {},
     "output_type": "execute_result"
    }
   ],
   "source": [
    "ratings_and_books.head()"
   ]
  },
  {
   "cell_type": "code",
   "execution_count": 22,
   "metadata": {},
   "outputs": [
    {
     "name": "stdout",
     "output_type": "stream",
     "text": [
      "<class 'pandas.core.frame.DataFrame'>\n",
      "Int64Index: 1031175 entries, 0 to 1031174\n",
      "Data columns (total 7 columns):\n",
      "isbn                   1031175 non-null object\n",
      "book_title             1031175 non-null object\n",
      "book_author            1031174 non-null object\n",
      "year_of_publication    1031175 non-null int64\n",
      "publisher              1031173 non-null object\n",
      "user_id                1031175 non-null int64\n",
      "book_rating            1031175 non-null int64\n",
      "dtypes: int64(3), object(4)\n",
      "memory usage: 62.9+ MB\n"
     ]
    }
   ],
   "source": [
    "ratings_and_books.info()"
   ]
  },
  {
   "cell_type": "code",
   "execution_count": 23,
   "metadata": {},
   "outputs": [
    {
     "data": {
      "text/plain": [
       "isbn                   0\n",
       "book_title             0\n",
       "book_author            1\n",
       "year_of_publication    0\n",
       "publisher              2\n",
       "user_id                0\n",
       "book_rating            0\n",
       "dtype: int64"
      ]
     },
     "execution_count": 23,
     "metadata": {},
     "output_type": "execute_result"
    }
   ],
   "source": [
    "ratings_and_books.isna().sum()"
   ]
  },
  {
   "cell_type": "markdown",
   "metadata": {},
   "source": [
    "### Title"
   ]
  },
  {
   "cell_type": "code",
   "execution_count": 24,
   "metadata": {},
   "outputs": [],
   "source": [
    "ratings_and_books['book_title'] = ratings_and_books['book_title'].apply(lambda x: re.sub('&amp;', '&', x))"
   ]
  },
  {
   "cell_type": "markdown",
   "metadata": {},
   "source": [
    "### Author"
   ]
  },
  {
   "cell_type": "code",
   "execution_count": 25,
   "metadata": {},
   "outputs": [
    {
     "data": {
      "text/html": [
       "<div>\n",
       "<style scoped>\n",
       "    .dataframe tbody tr th:only-of-type {\n",
       "        vertical-align: middle;\n",
       "    }\n",
       "\n",
       "    .dataframe tbody tr th {\n",
       "        vertical-align: top;\n",
       "    }\n",
       "\n",
       "    .dataframe thead th {\n",
       "        text-align: right;\n",
       "    }\n",
       "</style>\n",
       "<table border=\"1\" class=\"dataframe\">\n",
       "  <thead>\n",
       "    <tr style=\"text-align: right;\">\n",
       "      <th></th>\n",
       "      <th>isbn</th>\n",
       "      <th>book_title</th>\n",
       "      <th>book_author</th>\n",
       "      <th>year_of_publication</th>\n",
       "      <th>publisher</th>\n",
       "      <th>user_id</th>\n",
       "      <th>book_rating</th>\n",
       "    </tr>\n",
       "  </thead>\n",
       "  <tbody>\n",
       "    <tr>\n",
       "      <th>922855</th>\n",
       "      <td>9627982032</td>\n",
       "      <td>The Credit Suisse Guide to Managing Your Perso...</td>\n",
       "      <td>None</td>\n",
       "      <td>1995</td>\n",
       "      <td>Edinburgh Financial Publishing</td>\n",
       "      <td>98647</td>\n",
       "      <td>8</td>\n",
       "    </tr>\n",
       "  </tbody>\n",
       "</table>\n",
       "</div>"
      ],
      "text/plain": [
       "              isbn                                         book_title  \\\n",
       "922855  9627982032  The Credit Suisse Guide to Managing Your Perso...   \n",
       "\n",
       "       book_author  year_of_publication                       publisher  \\\n",
       "922855        None                 1995  Edinburgh Financial Publishing   \n",
       "\n",
       "        user_id  book_rating  \n",
       "922855    98647            8  "
      ]
     },
     "execution_count": 25,
     "metadata": {},
     "output_type": "execute_result"
    }
   ],
   "source": [
    "ratings_and_books[ratings_and_books['book_author'].isna()]"
   ]
  },
  {
   "cell_type": "markdown",
   "metadata": {},
   "source": [
    "**Source**: [Amazon (The Credit Suisse Guide to Managing Your Personal Wealth)](https://www.amazon.ca/Credit-Suisse-Managing-Personal-Wealth/dp/9627982075)"
   ]
  },
  {
   "cell_type": "code",
   "execution_count": 26,
   "metadata": {},
   "outputs": [],
   "source": [
    "ratings_and_books.loc[937250, ['book_author']] = 'Larissa Anne Downes'"
   ]
  },
  {
   "cell_type": "code",
   "execution_count": 27,
   "metadata": {},
   "outputs": [
    {
     "data": {
      "text/plain": [
       "101594"
      ]
     },
     "execution_count": 27,
     "metadata": {},
     "output_type": "execute_result"
    }
   ],
   "source": [
    "ratings_and_books['book_author'].nunique()"
   ]
  },
  {
   "cell_type": "code",
   "execution_count": 31,
   "metadata": {},
   "outputs": [],
   "source": [
    "# ratings_and_books.groupby('book_author').count()[['book_title']]."
   ]
  },
  {
   "cell_type": "markdown",
   "metadata": {},
   "source": [
    "### Publisher"
   ]
  },
  {
   "cell_type": "code",
   "execution_count": 188,
   "metadata": {},
   "outputs": [
    {
     "data": {
      "text/html": [
       "<div>\n",
       "<style scoped>\n",
       "    .dataframe tbody tr th:only-of-type {\n",
       "        vertical-align: middle;\n",
       "    }\n",
       "\n",
       "    .dataframe tbody tr th {\n",
       "        vertical-align: top;\n",
       "    }\n",
       "\n",
       "    .dataframe thead th {\n",
       "        text-align: right;\n",
       "    }\n",
       "</style>\n",
       "<table border=\"1\" class=\"dataframe\">\n",
       "  <thead>\n",
       "    <tr style=\"text-align: right;\">\n",
       "      <th></th>\n",
       "      <th>isbn</th>\n",
       "      <th>book_title</th>\n",
       "      <th>book_author</th>\n",
       "      <th>year_of_publication</th>\n",
       "      <th>publisher</th>\n",
       "      <th>user_id</th>\n",
       "      <th>book_rating</th>\n",
       "    </tr>\n",
       "  </thead>\n",
       "  <tbody>\n",
       "    <tr>\n",
       "      <th>824281</th>\n",
       "      <td>193169656X</td>\n",
       "      <td>Tyrant Moon</td>\n",
       "      <td>Elaine Corvidae</td>\n",
       "      <td>2002</td>\n",
       "      <td>None</td>\n",
       "      <td>98391</td>\n",
       "      <td>9</td>\n",
       "    </tr>\n",
       "    <tr>\n",
       "      <th>824568</th>\n",
       "      <td>1931696993</td>\n",
       "      <td>Finders Keepers</td>\n",
       "      <td>Linnea Sinclair</td>\n",
       "      <td>2001</td>\n",
       "      <td>None</td>\n",
       "      <td>98391</td>\n",
       "      <td>9</td>\n",
       "    </tr>\n",
       "  </tbody>\n",
       "</table>\n",
       "</div>"
      ],
      "text/plain": [
       "              isbn       book_title      book_author  year_of_publication  \\\n",
       "824281  193169656X      Tyrant Moon  Elaine Corvidae                 2002   \n",
       "824568  1931696993  Finders Keepers  Linnea Sinclair                 2001   \n",
       "\n",
       "       publisher  user_id  book_rating  \n",
       "824281      None    98391            9  \n",
       "824568      None    98391            9  "
      ]
     },
     "execution_count": 188,
     "metadata": {},
     "output_type": "execute_result"
    }
   ],
   "source": [
    "ratings_and_books[ratings_and_books['publisher'].isna()]"
   ]
  },
  {
   "cell_type": "markdown",
   "metadata": {},
   "source": [
    "**Sources:**\n",
    "-  [AbeBooks (Tyrant Moon)](https://www.abebooks.com/9781931696562/Tyrant-Moon-Elaine-Corvidae-193169656X/plp)\n",
    "-  [Google Books (Finders Keepers)](https://books.google.com/books/about/Finders_Keepers.html?id=M9pbPgAACAAJ)"
   ]
  },
  {
   "cell_type": "code",
   "execution_count": 189,
   "metadata": {},
   "outputs": [],
   "source": [
    "ratings_and_books.loc[839945, ['publisher']] = 'Novelbooks Incorporated'"
   ]
  },
  {
   "cell_type": "code",
   "execution_count": 190,
   "metadata": {},
   "outputs": [],
   "source": [
    "ratings_and_books.loc[840232, ['publisher']] = 'Novelbooks Incorporated'"
   ]
  },
  {
   "cell_type": "markdown",
   "metadata": {},
   "source": [
    "### Year of Publication"
   ]
  },
  {
   "cell_type": "code",
   "execution_count": 191,
   "metadata": {},
   "outputs": [
    {
     "data": {
      "text/plain": [
       "array([   0, 1376, 1378, 1806, 1897, 1900, 1901, 1902, 1904, 1906, 1908,\n",
       "       1909, 1911, 1914, 1917, 1919, 1920, 1921, 1922, 1923, 1924, 1925,\n",
       "       1926, 1927, 1928, 1929, 1930, 1931, 1932, 1933, 1934, 1935, 1936,\n",
       "       1937, 1938, 1939, 1940, 1941, 1942, 1943, 1944, 1945, 1946, 1947,\n",
       "       1948, 1949, 1950, 1951, 1952, 1953, 1954, 1955, 1956, 1957, 1958,\n",
       "       1959, 1960, 1961, 1962, 1963, 1964, 1965, 1966, 1967, 1968, 1969,\n",
       "       1970, 1971, 1972, 1973, 1974, 1975, 1976, 1977, 1978, 1979, 1980,\n",
       "       1981, 1982, 1983, 1984, 1985, 1986, 1987, 1988, 1989, 1990, 1991,\n",
       "       1992, 1993, 1994, 1995, 1996, 1997, 1998, 1999, 2000, 2001, 2002,\n",
       "       2003, 2004, 2005, 2006, 2008, 2011, 2012, 2020, 2024, 2026, 2030,\n",
       "       2037, 2038, 2050])"
      ]
     },
     "execution_count": 191,
     "metadata": {},
     "output_type": "execute_result"
    }
   ],
   "source": [
    "np.asarray(sorted(ratings_and_books['year_of_publication'].unique()))"
   ]
  },
  {
   "cell_type": "code",
   "execution_count": 192,
   "metadata": {},
   "outputs": [
    {
     "data": {
      "text/plain": [
       "14570"
      ]
     },
     "execution_count": 192,
     "metadata": {},
     "output_type": "execute_result"
    }
   ],
   "source": [
    "ratings_and_books[(ratings_and_books['year_of_publication'] == 0) | \n",
    "                  (ratings_and_books['year_of_publication'] > 2004)].shape[0]"
   ]
  },
  {
   "cell_type": "code",
   "execution_count": 221,
   "metadata": {},
   "outputs": [
    {
     "data": {
      "text/plain": [
       "array([1376, 1378, 1806, 1897, 1900, 1901, 1902, 1904, 1906, 1908, 1909,\n",
       "       1911, 1914, 1917, 1919, 1920, 1921, 1922, 1923, 1924, 1925, 1926,\n",
       "       1927, 1928, 1929, 1930, 1931, 1932, 1933, 1934, 1935, 1936, 1937,\n",
       "       1938, 1939, 1940, 1941, 1942, 1943, 1944, 1945, 1946, 1947, 1948,\n",
       "       1949, 1950, 1951, 1952, 1953, 1954, 1955, 1956, 1957, 1958, 1959,\n",
       "       1960, 1961, 1962, 1963, 1964, 1965, 1966, 1967, 1968, 1969, 1970,\n",
       "       1971, 1972, 1973, 1974, 1975, 1976, 1977, 1978, 1979, 1980, 1981,\n",
       "       1982, 1983, 1984, 1985, 1986, 1987, 1988, 1989, 1990, 1991, 1992,\n",
       "       1993, 1994, 1995, 1996, 1997, 1998, 1999, 2000, 2001, 2002, 2003,\n",
       "       2004])"
      ]
     },
     "execution_count": 221,
     "metadata": {},
     "output_type": "execute_result"
    }
   ],
   "source": [
    "np.asarray(sorted(ratings_and_books['year_of_publication'][\n",
    "                    (ratings_and_books['year_of_publication'] > 0) & \n",
    "                    (ratings_and_books['year_of_publication'] < 2005)].value_counts().index))"
   ]
  },
  {
   "cell_type": "code",
   "execution_count": 229,
   "metadata": {},
   "outputs": [
    {
     "data": {
      "image/png": "[encoded data removed]",
      "text/plain": [
       "<Figure size 1440x720 with 1 Axes>"
      ]
     },
     "metadata": {},
     "output_type": "display_data"
    }
   ],
   "source": [
    "plt.figure(figsize=(20, 10))\n",
    "plt.bar(x=ratings_and_books['year_of_publication'][\n",
    "                    (ratings_and_books['year_of_publication'] > 1900) & \n",
    "                    (ratings_and_books['year_of_publication'] < 2005)].value_counts().index,\n",
    "        height=ratings_and_books['year_of_publication'][\n",
    "                    (ratings_and_books['year_of_publication'] > 1900) & \n",
    "                    (ratings_and_books['year_of_publication'] < 2005)].value_counts().values,\n",
    "        log=True)\n",
    "plt.title('Book Count per Year', fontsize=30)\n",
    "plt.xlabel('Year', fontsize=25)\n",
    "plt.ylabel('Log Book Count', fontsize=25)\n",
    "plt.xticks(fontsize=20)\n",
    "plt.yticks(fontsize=20);"
   ]
  },
  {
   "cell_type": "markdown",
   "metadata": {},
   "source": [
    "### ISBN"
   ]
  },
  {
   "cell_type": "code",
   "execution_count": 194,
   "metadata": {},
   "outputs": [
    {
     "data": {
      "text/plain": [
       "250105"
      ]
     },
     "execution_count": 194,
     "metadata": {},
     "output_type": "execute_result"
    }
   ],
   "source": [
    "ratings_and_books['isbn'].nunique()"
   ]
  },
  {
   "cell_type": "markdown",
   "metadata": {},
   "source": [
    "Replace ASIN (amazon standard identification numbers)"
   ]
  },
  {
   "cell_type": "code",
   "execution_count": 195,
   "metadata": {},
   "outputs": [],
   "source": [
    "good_isbns = ratings_and_books['isbn'].map(lambda x: x if re.findall('^[\\dXx]+$', x) else None)"
   ]
  },
  {
   "cell_type": "code",
   "execution_count": 196,
   "metadata": {},
   "outputs": [],
   "source": [
    "no_replacement_isbns = []\n",
    "for i in good_isbns[good_isbns.isna()].index:\n",
    "    bad_isbn = ratings_and_books.loc[i, 'isbn']\n",
    "    title_author = books_df[books_df['isbn'] == bad_isbn][['book_title', 'book_author']].values[0]\n",
    "    try:\n",
    "        new_isbn = books_df[(books_df['book_title'] == title_author[0]) & \n",
    "                            (books_df['book_author'] == title_author[1]) & \n",
    "                            (books_df['isbn'] != bad_isbn)]['isbn'].values[0]\n",
    "        ratings_and_books.loc[i, 'isbn'] = new_isbn\n",
    "    except:\n",
    "        no_replacement_isbns.append(i)"
   ]
  },
  {
   "cell_type": "code",
   "execution_count": 200,
   "metadata": {},
   "outputs": [
    {
     "data": {
      "text/plain": [
       "65"
      ]
     },
     "execution_count": 200,
     "metadata": {},
     "output_type": "execute_result"
    }
   ],
   "source": [
    "len(no_replacement_isbns)"
   ]
  },
  {
   "cell_type": "code",
   "execution_count": 203,
   "metadata": {},
   "outputs": [
    {
     "data": {
      "text/html": [
       "<div>\n",
       "<style scoped>\n",
       "    .dataframe tbody tr th:only-of-type {\n",
       "        vertical-align: middle;\n",
       "    }\n",
       "\n",
       "    .dataframe tbody tr th {\n",
       "        vertical-align: top;\n",
       "    }\n",
       "\n",
       "    .dataframe thead th {\n",
       "        text-align: right;\n",
       "    }\n",
       "</style>\n",
       "<table border=\"1\" class=\"dataframe\">\n",
       "  <thead>\n",
       "    <tr style=\"text-align: right;\">\n",
       "      <th></th>\n",
       "      <th>isbn</th>\n",
       "      <th>book_title</th>\n",
       "      <th>book_author</th>\n",
       "      <th>year_of_publication</th>\n",
       "      <th>publisher</th>\n",
       "      <th>user_id</th>\n",
       "      <th>book_rating</th>\n",
       "    </tr>\n",
       "  </thead>\n",
       "  <tbody>\n",
       "    <tr>\n",
       "      <th>299148</th>\n",
       "      <td>B0000633PU</td>\n",
       "      <td>The Story of Aladdin and the Wonderful Lamp</td>\n",
       "      <td>S. Lane Poole</td>\n",
       "      <td>0</td>\n",
       "      <td>Renaissance eBooks</td>\n",
       "      <td>10118</td>\n",
       "      <td>8</td>\n",
       "    </tr>\n",
       "    <tr>\n",
       "      <th>299149</th>\n",
       "      <td>B0000633PU</td>\n",
       "      <td>The Story of Aladdin and the Wonderful Lamp</td>\n",
       "      <td>S. Lane Poole</td>\n",
       "      <td>0</td>\n",
       "      <td>Renaissance eBooks</td>\n",
       "      <td>16359</td>\n",
       "      <td>8</td>\n",
       "    </tr>\n",
       "    <tr>\n",
       "      <th>299150</th>\n",
       "      <td>B0000633PU</td>\n",
       "      <td>The Story of Aladdin and the Wonderful Lamp</td>\n",
       "      <td>S. Lane Poole</td>\n",
       "      <td>0</td>\n",
       "      <td>Renaissance eBooks</td>\n",
       "      <td>262186</td>\n",
       "      <td>0</td>\n",
       "    </tr>\n",
       "    <tr>\n",
       "      <th>333174</th>\n",
       "      <td>B00007FYKO</td>\n",
       "      <td>Bloodcurdling Tales of Horror and the Macabre:...</td>\n",
       "      <td>H. P. Lovecraft</td>\n",
       "      <td>0</td>\n",
       "      <td>Ballantine</td>\n",
       "      <td>13093</td>\n",
       "      <td>0</td>\n",
       "    </tr>\n",
       "    <tr>\n",
       "      <th>359387</th>\n",
       "      <td>B0000DAPP1</td>\n",
       "      <td>Discover Your Genius: How to Think Like Histor...</td>\n",
       "      <td>Michael J. Gelb</td>\n",
       "      <td>2002</td>\n",
       "      <td>HarperCollins</td>\n",
       "      <td>1903</td>\n",
       "      <td>5</td>\n",
       "    </tr>\n",
       "  </tbody>\n",
       "</table>\n",
       "</div>"
      ],
      "text/plain": [
       "              isbn                                         book_title  \\\n",
       "299148  B0000633PU        The Story of Aladdin and the Wonderful Lamp   \n",
       "299149  B0000633PU        The Story of Aladdin and the Wonderful Lamp   \n",
       "299150  B0000633PU        The Story of Aladdin and the Wonderful Lamp   \n",
       "333174  B00007FYKO  Bloodcurdling Tales of Horror and the Macabre:...   \n",
       "359387  B0000DAPP1  Discover Your Genius: How to Think Like Histor...   \n",
       "\n",
       "            book_author  year_of_publication           publisher  user_id  \\\n",
       "299148    S. Lane Poole                    0  Renaissance eBooks    10118   \n",
       "299149    S. Lane Poole                    0  Renaissance eBooks    16359   \n",
       "299150    S. Lane Poole                    0  Renaissance eBooks   262186   \n",
       "333174  H. P. Lovecraft                    0          Ballantine    13093   \n",
       "359387  Michael J. Gelb                 2002       HarperCollins     1903   \n",
       "\n",
       "        book_rating  \n",
       "299148            8  \n",
       "299149            8  \n",
       "299150            0  \n",
       "333174            0  \n",
       "359387            5  "
      ]
     },
     "execution_count": 203,
     "metadata": {},
     "output_type": "execute_result"
    }
   ],
   "source": [
    "ratings_and_books.loc[no_replacement_isbns[:5]]"
   ]
  },
  {
   "cell_type": "markdown",
   "metadata": {},
   "source": [
    "### Users"
   ]
  },
  {
   "cell_type": "code",
   "execution_count": 38,
   "metadata": {},
   "outputs": [
    {
     "data": {
      "image/png": "[encoded data removed]",
      "text/plain": [
       "<Figure size 1440x720 with 1 Axes>"
      ]
     },
     "metadata": {},
     "output_type": "display_data"
    }
   ],
   "source": [
    "plt.figure(figsize=(20, 10))\n",
    "plt.hist(x=ratings_and_books['user_id'].value_counts().values,\n",
    "         bins=np.linspace(0, 350, 75)) \n",
    "plt.gca().set_yscale(\"log\")\n",
    "plt.title('Ratings per User', fontsize=30)\n",
    "plt.xlabel('Ratings Given', fontsize=25)\n",
    "plt.ylabel('Log User Count', fontsize=25)\n",
    "plt.xticks(fontsize=20)\n",
    "plt.yticks(fontsize=20);"
   ]
  },
  {
   "cell_type": "markdown",
   "metadata": {},
   "source": [
    "### Ratings"
   ]
  },
  {
   "cell_type": "code",
   "execution_count": 235,
   "metadata": {},
   "outputs": [
    {
     "data": {
      "text/plain": [
       "0     647323\n",
       "1       1481\n",
       "2       2375\n",
       "3       5118\n",
       "4       7617\n",
       "5      45355\n",
       "6      31689\n",
       "7      66404\n",
       "8      91806\n",
       "9      60780\n",
       "10     71227\n",
       "Name: book_rating, dtype: int64"
      ]
     },
     "execution_count": 235,
     "metadata": {},
     "output_type": "execute_result"
    }
   ],
   "source": [
    "ratings_and_books['book_rating'].value_counts().sort_index()"
   ]
  },
  {
   "cell_type": "code",
   "execution_count": 40,
   "metadata": {},
   "outputs": [
    {
     "data": {
      "image/png": "[encoded data removed]",
      "text/plain": [
       "<Figure size 1440x720 with 1 Axes>"
      ]
     },
     "metadata": {},
     "output_type": "display_data"
    }
   ],
   "source": [
    "plt.figure(figsize=(20, 10))\n",
    "plt.bar(x=ratings_and_books['book_rating'].value_counts().index,\n",
    "        height=ratings_and_books['book_rating'].value_counts().values)\n",
    "plt.title('Total Ratings Count', fontsize=30)\n",
    "plt.xlabel('Rating', fontsize=25)\n",
    "plt.ylabel('Count', fontsize=25)\n",
    "plt.xticks(ratings_df['book_rating'].value_counts().index, fontsize=20)\n",
    "plt.yticks(fontsize=20);"
   ]
  },
  {
   "cell_type": "code",
   "execution_count": 41,
   "metadata": {},
   "outputs": [
    {
     "data": {
      "image/png": "[encoded data removed]",
      "text/plain": [
       "<Figure size 1440x720 with 1 Axes>"
      ]
     },
     "metadata": {},
     "output_type": "display_data"
    }
   ],
   "source": [
    "plt.figure(figsize=(20, 10))\n",
    "plt.bar(x=ratings_and_books['book_rating'].value_counts().index[1:],\n",
    "        height=ratings_and_books['book_rating'].value_counts().values[1:])\n",
    "plt.title('Total Explicit Ratings Count', fontsize=30)\n",
    "plt.xlabel('Explicit Rating', fontsize=25)\n",
    "plt.ylabel('Count', fontsize=25)\n",
    "plt.xticks(ratings_df['book_rating'].value_counts().index, fontsize=20)\n",
    "plt.yticks(fontsize=20);"
   ]
  },
  {
   "cell_type": "code",
   "execution_count": 43,
   "metadata": {},
   "outputs": [
    {
     "data": {
      "image/png": "[encoded data removed]",
      "text/plain": [
       "<Figure size 1440x720 with 1 Axes>"
      ]
     },
     "metadata": {},
     "output_type": "display_data"
    }
   ],
   "source": [
    "plt.figure(figsize=(20, 10))\n",
    "plt.hist(x=ratings_and_books['isbn'].value_counts().values,\n",
    "         bins=np.linspace(0,500,100))\n",
    "plt.gca().set_yscale(\"log\")\n",
    "plt.title('Total Ratings per Book', fontsize=30)\n",
    "plt.xlabel('Total Ratings Given', fontsize=25)\n",
    "plt.ylabel('Log Book Count', fontsize=25)\n",
    "plt.xticks(fontsize=20)\n",
    "plt.yticks(fontsize=20);"
   ]
  },
  {
   "cell_type": "code",
   "execution_count": null,
   "metadata": {},
   "outputs": [],
   "source": [
    "ratings_and_books.to_csv('../data/cleaned_ratings_and_books.csv')"
   ]
  },
  {
   "cell_type": "markdown",
   "metadata": {},
   "source": [
    "## Explicit and Implicit Ratings"
   ]
  },
  {
   "cell_type": "code",
   "execution_count": 44,
   "metadata": {},
   "outputs": [],
   "source": [
    "exp_ratings = ratings_and_books[ratings_and_books['book_rating'] != 0] "
   ]
  },
  {
   "cell_type": "code",
   "execution_count": 45,
   "metadata": {},
   "outputs": [
    {
     "data": {
      "text/html": [
       "<div>\n",
       "<style scoped>\n",
       "    .dataframe tbody tr th:only-of-type {\n",
       "        vertical-align: middle;\n",
       "    }\n",
       "\n",
       "    .dataframe tbody tr th {\n",
       "        vertical-align: top;\n",
       "    }\n",
       "\n",
       "    .dataframe thead th {\n",
       "        text-align: right;\n",
       "    }\n",
       "</style>\n",
       "<table border=\"1\" class=\"dataframe\">\n",
       "  <thead>\n",
       "    <tr style=\"text-align: right;\">\n",
       "      <th></th>\n",
       "      <th>count</th>\n",
       "      <th>mean</th>\n",
       "      <th>std</th>\n",
       "      <th>min</th>\n",
       "      <th>25%</th>\n",
       "      <th>50%</th>\n",
       "      <th>75%</th>\n",
       "      <th>max</th>\n",
       "    </tr>\n",
       "  </thead>\n",
       "  <tbody>\n",
       "    <tr>\n",
       "      <th>book_rating</th>\n",
       "      <td>383852.0</td>\n",
       "      <td>7.62671</td>\n",
       "      <td>1.841331</td>\n",
       "      <td>1.0</td>\n",
       "      <td>7.0</td>\n",
       "      <td>8.0</td>\n",
       "      <td>9.0</td>\n",
       "      <td>10.0</td>\n",
       "    </tr>\n",
       "  </tbody>\n",
       "</table>\n",
       "</div>"
      ],
      "text/plain": [
       "                count     mean       std  min  25%  50%  75%   max\n",
       "book_rating  383852.0  7.62671  1.841331  1.0  7.0  8.0  9.0  10.0"
      ]
     },
     "execution_count": 45,
     "metadata": {},
     "output_type": "execute_result"
    }
   ],
   "source": [
    "exp_ratings[['book_rating']].describe().T"
   ]
  },
  {
   "cell_type": "code",
   "execution_count": 46,
   "metadata": {},
   "outputs": [],
   "source": [
    "imp_ratings = ratings_and_books[ratings_and_books['book_rating'] == 0]"
   ]
  },
  {
   "cell_type": "code",
   "execution_count": 47,
   "metadata": {},
   "outputs": [
    {
     "name": "stdout",
     "output_type": "stream",
     "text": [
      "Explicit: 383852\n",
      "Implicit: 647323\n"
     ]
    }
   ],
   "source": [
    "print(\"Explicit:\", exp_ratings.shape[0])\n",
    "print(\"Implicit:\", imp_ratings.shape[0])"
   ]
  },
  {
   "cell_type": "code",
   "execution_count": 49,
   "metadata": {},
   "outputs": [],
   "source": [
    "imp_count = imp_ratings.groupby(\n",
    "    ['isbn', 'book_title'], as_index=False)[['book_rating']].count().rename(\n",
    "    columns={'book_rating': 'implicit_count'})\n",
    "\n",
    "exp_count = exp_ratings.groupby(\n",
    "    ['isbn', 'book_title'], as_index=False)[['book_rating']].count().rename(\n",
    "    columns={'book_rating': 'explicit_count'})"
   ]
  },
  {
   "cell_type": "code",
   "execution_count": 50,
   "metadata": {},
   "outputs": [],
   "source": [
    "ratings_count = imp_count.merge(exp_count.drop(columns='book_title'), \n",
    "                                how='outer', \n",
    "                                on='isbn').fillna(0).astype({'implicit_count': int, 'explicit_count': int})"
   ]
  },
  {
   "cell_type": "code",
   "execution_count": 51,
   "metadata": {},
   "outputs": [],
   "source": [
    "ratings_count['total_count'] = ratings_count['implicit_count'] + ratings_count['explicit_count']"
   ]
  },
  {
   "cell_type": "code",
   "execution_count": 52,
   "metadata": {},
   "outputs": [
    {
     "data": {
      "text/html": [
       "<div>\n",
       "<style scoped>\n",
       "    .dataframe tbody tr th:only-of-type {\n",
       "        vertical-align: middle;\n",
       "    }\n",
       "\n",
       "    .dataframe tbody tr th {\n",
       "        vertical-align: top;\n",
       "    }\n",
       "\n",
       "    .dataframe thead th {\n",
       "        text-align: right;\n",
       "    }\n",
       "</style>\n",
       "<table border=\"1\" class=\"dataframe\">\n",
       "  <thead>\n",
       "    <tr style=\"text-align: right;\">\n",
       "      <th></th>\n",
       "      <th>isbn</th>\n",
       "      <th>book_title</th>\n",
       "      <th>implicit_count</th>\n",
       "      <th>explicit_count</th>\n",
       "      <th>total_count</th>\n",
       "    </tr>\n",
       "  </thead>\n",
       "  <tbody>\n",
       "    <tr>\n",
       "      <th>153872</th>\n",
       "      <td>0971880107</td>\n",
       "      <td>Wild Animus</td>\n",
       "      <td>1921</td>\n",
       "      <td>581</td>\n",
       "      <td>2502</td>\n",
       "    </tr>\n",
       "    <tr>\n",
       "      <th>26540</th>\n",
       "      <td>0316666343</td>\n",
       "      <td>The Lovely Bones: A Novel</td>\n",
       "      <td>588</td>\n",
       "      <td>707</td>\n",
       "      <td>1295</td>\n",
       "    </tr>\n",
       "    <tr>\n",
       "      <th>52553</th>\n",
       "      <td>0385504209</td>\n",
       "      <td>The Da Vinci Code</td>\n",
       "      <td>399</td>\n",
       "      <td>488</td>\n",
       "      <td>887</td>\n",
       "    </tr>\n",
       "    <tr>\n",
       "      <th>22917</th>\n",
       "      <td>0312278586</td>\n",
       "      <td>The Nanny Diaries: A Novel</td>\n",
       "      <td>435</td>\n",
       "      <td>393</td>\n",
       "      <td>828</td>\n",
       "    </tr>\n",
       "    <tr>\n",
       "      <th>12646</th>\n",
       "      <td>014028009X</td>\n",
       "      <td>Bridget Jones's Diary</td>\n",
       "      <td>438</td>\n",
       "      <td>377</td>\n",
       "      <td>815</td>\n",
       "    </tr>\n",
       "    <tr>\n",
       "      <th>152997</th>\n",
       "      <td>096533192X</td>\n",
       "      <td>The Secret Life of Bees</td>\n",
       "      <td>368</td>\n",
       "      <td>406</td>\n",
       "      <td>774</td>\n",
       "    </tr>\n",
       "    <tr>\n",
       "      <th>4922</th>\n",
       "      <td>0060928336</td>\n",
       "      <td>Divine Secrets of the Ya-Ya Sisterhood: A Novel</td>\n",
       "      <td>417</td>\n",
       "      <td>323</td>\n",
       "      <td>740</td>\n",
       "    </tr>\n",
       "    <tr>\n",
       "      <th>22288</th>\n",
       "      <td>0312195516</td>\n",
       "      <td>The Red Tent (Bestselling Backlist)</td>\n",
       "      <td>340</td>\n",
       "      <td>383</td>\n",
       "      <td>723</td>\n",
       "    </tr>\n",
       "    <tr>\n",
       "      <th>97660</th>\n",
       "      <td>0671027352</td>\n",
       "      <td>Angels  Demons</td>\n",
       "      <td>360</td>\n",
       "      <td>310</td>\n",
       "      <td>670</td>\n",
       "    </tr>\n",
       "    <tr>\n",
       "      <th>16072</th>\n",
       "      <td>0156027321</td>\n",
       "      <td>Life of Pi</td>\n",
       "      <td>328</td>\n",
       "      <td>336</td>\n",
       "      <td>664</td>\n",
       "    </tr>\n",
       "  </tbody>\n",
       "</table>\n",
       "</div>"
      ],
      "text/plain": [
       "              isbn                                       book_title  \\\n",
       "153872  0971880107                                      Wild Animus   \n",
       "26540   0316666343                        The Lovely Bones: A Novel   \n",
       "52553   0385504209                                The Da Vinci Code   \n",
       "22917   0312278586                       The Nanny Diaries: A Novel   \n",
       "12646   014028009X                            Bridget Jones's Diary   \n",
       "152997  096533192X                          The Secret Life of Bees   \n",
       "4922    0060928336  Divine Secrets of the Ya-Ya Sisterhood: A Novel   \n",
       "22288   0312195516              The Red Tent (Bestselling Backlist)   \n",
       "97660   0671027352                                   Angels  Demons   \n",
       "16072   0156027321                                       Life of Pi   \n",
       "\n",
       "        implicit_count  explicit_count  total_count  \n",
       "153872            1921             581         2502  \n",
       "26540              588             707         1295  \n",
       "52553              399             488          887  \n",
       "22917              435             393          828  \n",
       "12646              438             377          815  \n",
       "152997             368             406          774  \n",
       "4922               417             323          740  \n",
       "22288              340             383          723  \n",
       "97660              360             310          670  \n",
       "16072              328             336          664  "
      ]
     },
     "execution_count": 52,
     "metadata": {},
     "output_type": "execute_result"
    }
   ],
   "source": [
    "ratings_count.sort_values(by='total_count', ascending=False).head(10)"
   ]
  },
  {
   "cell_type": "code",
   "execution_count": 53,
   "metadata": {},
   "outputs": [
    {
     "data": {
      "image/png": "[encoded data removed]",
      "text/plain": [
       "<Figure size 1440x720 with 1 Axes>"
      ]
     },
     "metadata": {},
     "output_type": "display_data"
    }
   ],
   "source": [
    "plt.figure(figsize=(20, 10))\n",
    "plt.barh(y=ratings_count.sort_values(by='total_count', ascending=False)['book_title'].head(10),\n",
    "         width=ratings_count.sort_values(by='total_count', ascending=False)['implicit_count'].head(10), \n",
    "         align='edge',\n",
    "         height=-.4)\n",
    "plt.barh(y=ratings_count.sort_values(by='total_count', ascending=False)['book_title'].head(10),\n",
    "         width=ratings_count.sort_values(by='total_count', ascending=False)['explicit_count'].head(10),\n",
    "         align='edge',\n",
    "         height=.4)\n",
    "plt.legend(['Implicit', 'Explicit'], fontsize=15)\n",
    "plt.title('Top 10 Books - Ratings', fontsize=30)\n",
    "plt.xlabel('Ratings Count', fontsize=25)\n",
    "plt.xticks(fontsize=20)\n",
    "plt.yticks(fontsize=20);"
   ]
  },
  {
   "cell_type": "code",
   "execution_count": 54,
   "metadata": {},
   "outputs": [
    {
     "data": {
      "image/png": "[encoded data removed]",
      "text/plain": [
       "<Figure size 1440x720 with 1 Axes>"
      ]
     },
     "metadata": {},
     "output_type": "display_data"
    }
   ],
   "source": [
    "plt.figure(figsize=(20, 10))\n",
    "plt.scatter(x=ratings_count['implicit_count'],\n",
    "            y=ratings_count['explicit_count'])\n",
    "plt.xlabel('Implicit Ratings', fontsize=25)\n",
    "plt.ylabel('Explicit Ratings', fontsize=25)\n",
    "plt.title('Implicit vs. Explicit Ratings', fontsize=30)\n",
    "plt.xticks(fontsize=20)\n",
    "plt.yticks(fontsize=20);"
   ]
  },
  {
   "cell_type": "markdown",
   "metadata": {},
   "source": [
    "### Save As CSV"
   ]
  },
  {
   "cell_type": "code",
   "execution_count": null,
   "metadata": {},
   "outputs": [],
   "source": [
    "exp_ratings.to_csv('../data/exp_ratings.csv')"
   ]
  },
  {
   "cell_type": "code",
   "execution_count": null,
   "metadata": {},
   "outputs": [],
   "source": [
    "imp_ratings.to_csv('../data/imp_ratings.csv')"
   ]
  },
  {
   "cell_type": "code",
   "execution_count": null,
   "metadata": {},
   "outputs": [],
   "source": [
    "exp_ratings.to_sql(name='exp_ratings',\n",
    "                   con=engine,\n",
    "                   index=False)"
   ]
  },
  {
   "cell_type": "code",
   "execution_count": null,
   "metadata": {},
   "outputs": [],
   "source": [
    "imp_ratings.to_sql(name='exp_ratings',\n",
    "                   con=engine,\n",
    "                   index=False)"
   ]
  },
  {
   "cell_type": "markdown",
   "metadata": {},
   "source": [
    "## Explicit Ratings Threshold"
   ]
  },
  {
   "cell_type": "code",
   "execution_count": 59,
   "metadata": {},
   "outputs": [],
   "source": [
    "# isbn_greater_three = exp_ratings['isbn'].value_counts().index[exp_ratings['isbn'].value_counts().values > 3]\n",
    "\n",
    "# new_exp_ratings = exp_ratings[exp_ratings['isbn'].isin(isbn_greater_three)]\n",
    "\n",
    "# print('Users:  ', new_exp_ratings['user_id'].nunique())\n",
    "# print('Books:  ', new_exp_ratings['isbn'].nunique())\n",
    "# print('Ratings:', new_exp_ratings.shape[0])\n",
    "\n",
    "# # new_exp_ratings.to_sql(name='exp_ratings',\n",
    "# #                        con=engine,\n",
    "# #                        index=False)\n",
    "\n",
    "# # new_exp_ratings.to_csv('../data/explicit_ratings.csv')"
   ]
  },
  {
   "cell_type": "code",
   "execution_count": null,
   "metadata": {},
   "outputs": [],
   "source": []
  }
 ],
 "metadata": {
  "kernelspec": {
   "display_name": "Python 3",
   "language": "python",
   "name": "python3"
  },
  "language_info": {
   "codemirror_mode": {
    "name": "ipython",
    "version": 3
   },
   "file_extension": ".py",
   "mimetype": "text/x-python",
   "name": "python",
   "nbconvert_exporter": "python",
   "pygments_lexer": "ipython3",
   "version": "3.6.5"
  }
 },
 "nbformat": 4,
 "nbformat_minor": 2
}
