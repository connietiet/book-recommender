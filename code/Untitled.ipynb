{
 "cells": [
  {
   "cell_type": "code",
   "execution_count": 3,
   "metadata": {},
   "outputs": [],
   "source": [
    "import requests\n",
    "import json\n",
    "import pandas as pd\n",
    "from bs4 import BeautifulSoup\n",
    "import re\n",
    "from selenium import webdriver\n",
    "import time"
   ]
  },
  {
   "cell_type": "code",
   "execution_count": 6,
   "metadata": {},
   "outputs": [
    {
     "data": {
      "text/html": [
       "<div>\n",
       "<style scoped>\n",
       "    .dataframe tbody tr th:only-of-type {\n",
       "        vertical-align: middle;\n",
       "    }\n",
       "\n",
       "    .dataframe tbody tr th {\n",
       "        vertical-align: top;\n",
       "    }\n",
       "\n",
       "    .dataframe thead th {\n",
       "        text-align: right;\n",
       "    }\n",
       "</style>\n",
       "<table border=\"1\" class=\"dataframe\">\n",
       "  <thead>\n",
       "    <tr style=\"text-align: right;\">\n",
       "      <th></th>\n",
       "      <th>author</th>\n",
       "      <th>slug</th>\n",
       "      <th>title</th>\n",
       "    </tr>\n",
       "  </thead>\n",
       "  <tbody>\n",
       "    <tr>\n",
       "      <th>0</th>\n",
       "      <td>J.K. Rowling</td>\n",
       "      <td>3.Harry_Potter_and_the_Sorcerer_s_Stone</td>\n",
       "      <td>Harry Potter and the Sorcerer's Stone (Harry P...</td>\n",
       "    </tr>\n",
       "    <tr>\n",
       "      <th>1</th>\n",
       "      <td>Rick Riordan (Goodreads Author)</td>\n",
       "      <td>28187.The_Lightning_Thief</td>\n",
       "      <td>The Lightning Thief (Percy Jackson and the Oly...</td>\n",
       "    </tr>\n",
       "    <tr>\n",
       "      <th>2</th>\n",
       "      <td>Stephenie Meyer</td>\n",
       "      <td>41865.Twilight</td>\n",
       "      <td>Twilight (Twilight, #1)</td>\n",
       "    </tr>\n",
       "    <tr>\n",
       "      <th>3</th>\n",
       "      <td>Suzanne Collins</td>\n",
       "      <td>12091570-the-hunger-games</td>\n",
       "      <td>The Hunger Games (The Hunger Games, #1)</td>\n",
       "    </tr>\n",
       "    <tr>\n",
       "      <th>4</th>\n",
       "      <td>Lois Lowry (Goodreads Author)</td>\n",
       "      <td>3636.The_Giver</td>\n",
       "      <td>The Giver</td>\n",
       "    </tr>\n",
       "    <tr>\n",
       "      <th>5</th>\n",
       "      <td>Cassandra Clare (Goodreads Author)</td>\n",
       "      <td>256683.City_of_Bones</td>\n",
       "      <td>City of Bones (The Mortal Instruments, #1)</td>\n",
       "    </tr>\n",
       "    <tr>\n",
       "      <th>6</th>\n",
       "      <td>John Green (Goodreads Author)</td>\n",
       "      <td>11870085-the-fault-in-our-stars</td>\n",
       "      <td>The Fault in Our Stars</td>\n",
       "    </tr>\n",
       "    <tr>\n",
       "      <th>7</th>\n",
       "      <td>Veronica Roth (Goodreads Author)</td>\n",
       "      <td>13335037-divergent</td>\n",
       "      <td>Divergent (Divergent, #1)</td>\n",
       "    </tr>\n",
       "  </tbody>\n",
       "</table>\n",
       "</div>"
      ],
      "text/plain": [
       "                               author  \\\n",
       "0                        J.K. Rowling   \n",
       "1     Rick Riordan (Goodreads Author)   \n",
       "2                     Stephenie Meyer   \n",
       "3                     Suzanne Collins   \n",
       "4       Lois Lowry (Goodreads Author)   \n",
       "5  Cassandra Clare (Goodreads Author)   \n",
       "6       John Green (Goodreads Author)   \n",
       "7    Veronica Roth (Goodreads Author)   \n",
       "\n",
       "                                      slug  \\\n",
       "0  3.Harry_Potter_and_the_Sorcerer_s_Stone   \n",
       "1                28187.The_Lightning_Thief   \n",
       "2                           41865.Twilight   \n",
       "3                12091570-the-hunger-games   \n",
       "4                           3636.The_Giver   \n",
       "5                     256683.City_of_Bones   \n",
       "6          11870085-the-fault-in-our-stars   \n",
       "7                       13335037-divergent   \n",
       "\n",
       "                                               title  \n",
       "0  Harry Potter and the Sorcerer's Stone (Harry P...  \n",
       "1  The Lightning Thief (Percy Jackson and the Oly...  \n",
       "2                            Twilight (Twilight, #1)  \n",
       "3            The Hunger Games (The Hunger Games, #1)  \n",
       "4                                          The Giver  \n",
       "5         City of Bones (The Mortal Instruments, #1)  \n",
       "6                             The Fault in Our Stars  \n",
       "7                          Divergent (Divergent, #1)  "
      ]
     },
     "execution_count": 6,
     "metadata": {},
     "output_type": "execute_result"
    }
   ],
   "source": [
    "book_list = pd.read_csv('../data/ya_books')\n",
    "book_list.drop(columns=['Unnamed: 0'], inplace=True)\n",
    "book_list.head(8)"
   ]
  },
  {
   "cell_type": "code",
   "execution_count": 5,
   "metadata": {},
   "outputs": [
    {
     "data": {
      "text/plain": [
       "11566"
      ]
     },
     "execution_count": 5,
     "metadata": {},
     "output_type": "execute_result"
    }
   ],
   "source": [
    "len(book_list)"
   ]
  },
  {
   "cell_type": "code",
   "execution_count": 26,
   "metadata": {},
   "outputs": [],
   "source": [
    "USERNAME = 'connietiet22@gmail.com'\n",
    "PASSWORD = 'dsiproject'"
   ]
  },
  {
   "cell_type": "code",
   "execution_count": 60,
   "metadata": {},
   "outputs": [
    {
     "name": "stdout",
     "output_type": "stream",
     "text": [
      "Page 1 complete\n",
      "Page 2 complete\n"
     ]
    }
   ],
   "source": [
    "# Sign in to Goodreads\n",
    "driver = webdriver.Chrome('/Users/connie/Downloads/chromedriver 2')\n",
    "driver.get('https://www.goodreads.com/user/sign_in')\n",
    "email_field = driver.find_element_by_xpath(\"/html/body[@class='textured']/div[@class='wrapper']/div[@class='content distractionless']/div[@id='topLanding']/div[@class='mainContent']/div[@class='contentBox clearfix']/div[@class='column_right']/div[@id='emailForm']/form/fieldset//input[@id='user_email']\")\n",
    "email_field.send_keys(USERNAME)\n",
    "password_field = driver.find_element_by_xpath(\"/html/body[@class='textured']/div[@class='wrapper']/div[@class='content distractionless']/div[@id='topLanding']/div[@class='mainContent']/div[@class='contentBox clearfix']/div[@class='column_right']/div[@id='emailForm']/form/fieldset//input[@id='user_password']\")\n",
    "password_field.send_keys(PASSWORD)\n",
    "signin_button = driver.find_element_by_xpath(\"/html/body[@class='textured']/div[@class='wrapper']/div[@class='content distractionless']/div[@id='topLanding']/div[@class='mainContent']/div[@class='contentBox clearfix']/div[@class='column_right']/div[@id='emailForm']/form/fieldset//input[@class='gr-button gr-button--large']\")\n",
    "signin_button.click()\n",
    "\n",
    "# Load New Page\n",
    "user_ids = []\n",
    "for page in range(1, 3):\n",
    "#         driver = webdriver.Chrome('/Users/connie/Downloads/chromedriver 2')\n",
    "        driver.get(f'https://www.goodreads.com/book/show/3636.The_Giver?hide_last_page=true&page={page}')\n",
    "        driver.implicitly_wait(10)\n",
    "        source = driver.page_source\n",
    "        soup = BeautifulSoup(source, 'lxml')\n",
    "        book_reviews = soup.find(\"div\", {'id':\"bookReviews\"})\n",
    "        for i in book_reviews.find_all('a', {'class':\"left imgcol\"}):\n",
    "            user_id = {}\n",
    "            user_id['slug'] = i['href']\n",
    "            user_id['id'] = [re.findall(r'\\/user\\/show\\/(\\d+)-\\w+', i['href'])]\n",
    "            user_ids.append(user_id)\n",
    "        print(f'Page {page} complete')\n",
    "        time.sleep(1)\n",
    "pd.DataFrame(user_ids).to_csv(\"../data/user_ids/sign_in_test\")\n",
    "driver.quit()"
   ]
  },
  {
   "cell_type": "code",
   "execution_count": 62,
   "metadata": {},
   "outputs": [],
   "source": [
    "driver.quit()"
   ]
  },
  {
   "cell_type": "markdown",
   "metadata": {},
   "source": [
    "### User IDs"
   ]
  },
  {
   "cell_type": "code",
   "execution_count": 53,
   "metadata": {},
   "outputs": [
    {
     "name": "stdout",
     "output_type": "stream",
     "text": [
      "Page 1 complete\n",
      "Page 2 complete\n"
     ]
    }
   ],
   "source": [
    "# Load New Page\n",
    "user_ids = []\n",
    "for page in range(1, 3):\n",
    "#         driver = webdriver.Chrome('/Users/connie/Downloads/chromedriver 2')\n",
    "        driver.get(f'https://www.goodreads.com/book/show/3636.The_Giver?hide_last_page=true&page={page}')\n",
    "        driver.implicitly_wait(10)\n",
    "        source = driver.page_source\n",
    "        soup = BeautifulSoup(source, 'lxml')\n",
    "        book_reviews = soup.find(\"div\", {'id':\"bookReviews\"})\n",
    "        for i in book_reviews.find_all('a', {'class':\"left imgcol\"}):\n",
    "            user_id = {}\n",
    "            user_id['slug'] = i['href']\n",
    "            user_id['id'] = [re.findall(r'\\/user\\/show\\/(\\d+)-\\w+', i['href'])]\n",
    "            user_ids.append(user_id)\n",
    "        print(f'Page {page} complete')\n",
    "        time.sleep(1)\n",
    "pd.DataFrame(user_ids).to_csv(\"../data/user_ids/sign_in_test\")\n",
    "# driver.quit()"
   ]
  },
  {
   "cell_type": "code",
   "execution_count": 56,
   "metadata": {},
   "outputs": [
    {
     "name": "stdout",
     "output_type": "stream",
     "text": [
      "Page 2 complete\n",
      "Page 2 complete\n",
      "Page 2 complete\n",
      "Page 2 complete\n",
      "Page 2 complete\n",
      "Page 2 complete\n"
     ]
    },
    {
     "ename": "StaleElementReferenceException",
     "evalue": "Message: stale element reference: element is not attached to the page document\n  (Session info: chrome=71.0.3578.98)\n  (Driver info: chromedriver=2.45.615355 (d5698f682d8b2742017df6c81e0bd8e6a3063189),platform=Mac OS X 10.14.2 x86_64)\n",
     "output_type": "error",
     "traceback": [
      "\u001b[0;31m---------------------------------------------------------------------------\u001b[0m",
      "\u001b[0;31mStaleElementReferenceException\u001b[0m            Traceback (most recent call last)",
      "\u001b[0;32m<ipython-input-56-96e69ab882f4>\u001b[0m in \u001b[0;36m<module>\u001b[0;34m()\u001b[0m\n\u001b[1;32m     14\u001b[0m     \u001b[0mprint\u001b[0m\u001b[0;34m(\u001b[0m\u001b[0;34mf'Page {page} complete'\u001b[0m\u001b[0;34m)\u001b[0m\u001b[0;34m\u001b[0m\u001b[0m\n\u001b[1;32m     15\u001b[0m     \u001b[0mnext_button\u001b[0m \u001b[0;34m=\u001b[0m \u001b[0mdriver\u001b[0m\u001b[0;34m.\u001b[0m\u001b[0mfind_element_by_xpath\u001b[0m\u001b[0;34m(\u001b[0m\u001b[0;34m'//*[@id=\"reviews\"]/div[4]/div/a[9]'\u001b[0m\u001b[0;34m)\u001b[0m\u001b[0;34m\u001b[0m\u001b[0m\n\u001b[0;32m---> 16\u001b[0;31m     \u001b[0mnext_button\u001b[0m\u001b[0;34m.\u001b[0m\u001b[0mclick\u001b[0m\u001b[0;34m(\u001b[0m\u001b[0;34m)\u001b[0m\u001b[0;34m\u001b[0m\u001b[0m\n\u001b[0m\u001b[1;32m     17\u001b[0m \u001b[0mtime\u001b[0m\u001b[0;34m.\u001b[0m\u001b[0msleep\u001b[0m\u001b[0;34m(\u001b[0m\u001b[0;36m1\u001b[0m\u001b[0;34m)\u001b[0m\u001b[0;34m\u001b[0m\u001b[0m\n\u001b[1;32m     18\u001b[0m \u001b[0mpd\u001b[0m\u001b[0;34m.\u001b[0m\u001b[0mDataFrame\u001b[0m\u001b[0;34m(\u001b[0m\u001b[0muser_ids\u001b[0m\u001b[0;34m)\u001b[0m\u001b[0;34m.\u001b[0m\u001b[0mto_csv\u001b[0m\u001b[0;34m(\u001b[0m\u001b[0;34m\"../data/user_ids/sign_in_test\"\u001b[0m\u001b[0;34m)\u001b[0m\u001b[0;34m\u001b[0m\u001b[0m\n",
      "\u001b[0;32m~/anaconda3/lib/python3.6/site-packages/selenium/webdriver/remote/webelement.py\u001b[0m in \u001b[0;36mclick\u001b[0;34m(self)\u001b[0m\n\u001b[1;32m     78\u001b[0m     \u001b[0;32mdef\u001b[0m \u001b[0mclick\u001b[0m\u001b[0;34m(\u001b[0m\u001b[0mself\u001b[0m\u001b[0;34m)\u001b[0m\u001b[0;34m:\u001b[0m\u001b[0;34m\u001b[0m\u001b[0m\n\u001b[1;32m     79\u001b[0m         \u001b[0;34m\"\"\"Clicks the element.\"\"\"\u001b[0m\u001b[0;34m\u001b[0m\u001b[0m\n\u001b[0;32m---> 80\u001b[0;31m         \u001b[0mself\u001b[0m\u001b[0;34m.\u001b[0m\u001b[0m_execute\u001b[0m\u001b[0;34m(\u001b[0m\u001b[0mCommand\u001b[0m\u001b[0;34m.\u001b[0m\u001b[0mCLICK_ELEMENT\u001b[0m\u001b[0;34m)\u001b[0m\u001b[0;34m\u001b[0m\u001b[0m\n\u001b[0m\u001b[1;32m     81\u001b[0m \u001b[0;34m\u001b[0m\u001b[0m\n\u001b[1;32m     82\u001b[0m     \u001b[0;32mdef\u001b[0m \u001b[0msubmit\u001b[0m\u001b[0;34m(\u001b[0m\u001b[0mself\u001b[0m\u001b[0;34m)\u001b[0m\u001b[0;34m:\u001b[0m\u001b[0;34m\u001b[0m\u001b[0m\n",
      "\u001b[0;32m~/anaconda3/lib/python3.6/site-packages/selenium/webdriver/remote/webelement.py\u001b[0m in \u001b[0;36m_execute\u001b[0;34m(self, command, params)\u001b[0m\n\u001b[1;32m    631\u001b[0m             \u001b[0mparams\u001b[0m \u001b[0;34m=\u001b[0m \u001b[0;34m{\u001b[0m\u001b[0;34m}\u001b[0m\u001b[0;34m\u001b[0m\u001b[0m\n\u001b[1;32m    632\u001b[0m         \u001b[0mparams\u001b[0m\u001b[0;34m[\u001b[0m\u001b[0;34m'id'\u001b[0m\u001b[0;34m]\u001b[0m \u001b[0;34m=\u001b[0m \u001b[0mself\u001b[0m\u001b[0;34m.\u001b[0m\u001b[0m_id\u001b[0m\u001b[0;34m\u001b[0m\u001b[0m\n\u001b[0;32m--> 633\u001b[0;31m         \u001b[0;32mreturn\u001b[0m \u001b[0mself\u001b[0m\u001b[0;34m.\u001b[0m\u001b[0m_parent\u001b[0m\u001b[0;34m.\u001b[0m\u001b[0mexecute\u001b[0m\u001b[0;34m(\u001b[0m\u001b[0mcommand\u001b[0m\u001b[0;34m,\u001b[0m \u001b[0mparams\u001b[0m\u001b[0;34m)\u001b[0m\u001b[0;34m\u001b[0m\u001b[0m\n\u001b[0m\u001b[1;32m    634\u001b[0m \u001b[0;34m\u001b[0m\u001b[0m\n\u001b[1;32m    635\u001b[0m     \u001b[0;32mdef\u001b[0m \u001b[0mfind_element\u001b[0m\u001b[0;34m(\u001b[0m\u001b[0mself\u001b[0m\u001b[0;34m,\u001b[0m \u001b[0mby\u001b[0m\u001b[0;34m=\u001b[0m\u001b[0mBy\u001b[0m\u001b[0;34m.\u001b[0m\u001b[0mID\u001b[0m\u001b[0;34m,\u001b[0m \u001b[0mvalue\u001b[0m\u001b[0;34m=\u001b[0m\u001b[0;32mNone\u001b[0m\u001b[0;34m)\u001b[0m\u001b[0;34m:\u001b[0m\u001b[0;34m\u001b[0m\u001b[0m\n",
      "\u001b[0;32m~/anaconda3/lib/python3.6/site-packages/selenium/webdriver/remote/webdriver.py\u001b[0m in \u001b[0;36mexecute\u001b[0;34m(self, driver_command, params)\u001b[0m\n\u001b[1;32m    319\u001b[0m         \u001b[0mresponse\u001b[0m \u001b[0;34m=\u001b[0m \u001b[0mself\u001b[0m\u001b[0;34m.\u001b[0m\u001b[0mcommand_executor\u001b[0m\u001b[0;34m.\u001b[0m\u001b[0mexecute\u001b[0m\u001b[0;34m(\u001b[0m\u001b[0mdriver_command\u001b[0m\u001b[0;34m,\u001b[0m \u001b[0mparams\u001b[0m\u001b[0;34m)\u001b[0m\u001b[0;34m\u001b[0m\u001b[0m\n\u001b[1;32m    320\u001b[0m         \u001b[0;32mif\u001b[0m \u001b[0mresponse\u001b[0m\u001b[0;34m:\u001b[0m\u001b[0;34m\u001b[0m\u001b[0m\n\u001b[0;32m--> 321\u001b[0;31m             \u001b[0mself\u001b[0m\u001b[0;34m.\u001b[0m\u001b[0merror_handler\u001b[0m\u001b[0;34m.\u001b[0m\u001b[0mcheck_response\u001b[0m\u001b[0;34m(\u001b[0m\u001b[0mresponse\u001b[0m\u001b[0;34m)\u001b[0m\u001b[0;34m\u001b[0m\u001b[0m\n\u001b[0m\u001b[1;32m    322\u001b[0m             response['value'] = self._unwrap_value(\n\u001b[1;32m    323\u001b[0m                 response.get('value', None))\n",
      "\u001b[0;32m~/anaconda3/lib/python3.6/site-packages/selenium/webdriver/remote/errorhandler.py\u001b[0m in \u001b[0;36mcheck_response\u001b[0;34m(self, response)\u001b[0m\n\u001b[1;32m    240\u001b[0m                 \u001b[0malert_text\u001b[0m \u001b[0;34m=\u001b[0m \u001b[0mvalue\u001b[0m\u001b[0;34m[\u001b[0m\u001b[0;34m'alert'\u001b[0m\u001b[0;34m]\u001b[0m\u001b[0;34m.\u001b[0m\u001b[0mget\u001b[0m\u001b[0;34m(\u001b[0m\u001b[0;34m'text'\u001b[0m\u001b[0;34m)\u001b[0m\u001b[0;34m\u001b[0m\u001b[0m\n\u001b[1;32m    241\u001b[0m             \u001b[0;32mraise\u001b[0m \u001b[0mexception_class\u001b[0m\u001b[0;34m(\u001b[0m\u001b[0mmessage\u001b[0m\u001b[0;34m,\u001b[0m \u001b[0mscreen\u001b[0m\u001b[0;34m,\u001b[0m \u001b[0mstacktrace\u001b[0m\u001b[0;34m,\u001b[0m \u001b[0malert_text\u001b[0m\u001b[0;34m)\u001b[0m\u001b[0;34m\u001b[0m\u001b[0m\n\u001b[0;32m--> 242\u001b[0;31m         \u001b[0;32mraise\u001b[0m \u001b[0mexception_class\u001b[0m\u001b[0;34m(\u001b[0m\u001b[0mmessage\u001b[0m\u001b[0;34m,\u001b[0m \u001b[0mscreen\u001b[0m\u001b[0;34m,\u001b[0m \u001b[0mstacktrace\u001b[0m\u001b[0;34m)\u001b[0m\u001b[0;34m\u001b[0m\u001b[0m\n\u001b[0m\u001b[1;32m    243\u001b[0m \u001b[0;34m\u001b[0m\u001b[0m\n\u001b[1;32m    244\u001b[0m     \u001b[0;32mdef\u001b[0m \u001b[0m_value_or_default\u001b[0m\u001b[0;34m(\u001b[0m\u001b[0mself\u001b[0m\u001b[0;34m,\u001b[0m \u001b[0mobj\u001b[0m\u001b[0;34m,\u001b[0m \u001b[0mkey\u001b[0m\u001b[0;34m,\u001b[0m \u001b[0mdefault\u001b[0m\u001b[0;34m)\u001b[0m\u001b[0;34m:\u001b[0m\u001b[0;34m\u001b[0m\u001b[0m\n",
      "\u001b[0;31mStaleElementReferenceException\u001b[0m: Message: stale element reference: element is not attached to the page document\n  (Session info: chrome=71.0.3578.98)\n  (Driver info: chromedriver=2.45.615355 (d5698f682d8b2742017df6c81e0bd8e6a3063189),platform=Mac OS X 10.14.2 x86_64)\n"
     ]
    }
   ],
   "source": [
    "# Click Next Page\n",
    "user_ids = []\n",
    "driver = webdriver.Chrome('/Users/connie/Downloads/chromedriver 2')\n",
    "driver.get(f'https://www.goodreads.com/book/show/3636.The_Giver')\n",
    "for i in range(1, 10): \n",
    "    source = driver.page_source\n",
    "    soup = BeautifulSoup(source, 'lxml')\n",
    "    book_reviews = soup.find(\"div\", {'id':\"bookReviews\"})\n",
    "    for i in book_reviews.find_all('a', {'class':\"left imgcol\"}):\n",
    "        user_id = {}\n",
    "        user_id['slug'] = i['href']\n",
    "        user_id['id'] = [re.findall(r'\\/user\\/show\\/(\\d+)-\\w+', i['href'])]\n",
    "        user_ids.append(user_id)\n",
    "    print(f'Page {page} complete')\n",
    "    next_button = driver.find_element_by_xpath(f'//*[@id=\"reviews\"]/div[4]/div/a[{i}]')\n",
    "    driver.find_element_by_class_name\n",
    "    next_button.click()\n",
    "time.sleep(1)\n",
    "pd.DataFrame(user_ids).to_csv(\"../data/user_ids/sign_in_test\")\n",
    "driver.quit()"
   ]
  },
  {
   "cell_type": "markdown",
   "metadata": {},
   "source": [
    "### ISBN"
   ]
  },
  {
   "cell_type": "code",
   "execution_count": 47,
   "metadata": {},
   "outputs": [
    {
     "data": {
      "text/plain": [
       "0"
      ]
     },
     "execution_count": 47,
     "metadata": {},
     "output_type": "execute_result"
    }
   ],
   "source": [
    "book_list['slug'].index.tolist()[0]"
   ]
  },
  {
   "cell_type": "code",
   "execution_count": 48,
   "metadata": {},
   "outputs": [
    {
     "data": {
      "text/plain": [
       "'3.Harry_Potter_and_the_Sorcerer_s_Stone'"
      ]
     },
     "execution_count": 48,
     "metadata": {},
     "output_type": "execute_result"
    }
   ],
   "source": [
    "book_list['slug'][0]"
   ]
  },
  {
   "cell_type": "code",
   "execution_count": 50,
   "metadata": {},
   "outputs": [
    {
     "data": {
      "text/html": [
       "<div>\n",
       "<style scoped>\n",
       "    .dataframe tbody tr th:only-of-type {\n",
       "        vertical-align: middle;\n",
       "    }\n",
       "\n",
       "    .dataframe tbody tr th {\n",
       "        vertical-align: top;\n",
       "    }\n",
       "\n",
       "    .dataframe thead th {\n",
       "        text-align: right;\n",
       "    }\n",
       "</style>\n",
       "<table border=\"1\" class=\"dataframe\">\n",
       "  <thead>\n",
       "    <tr style=\"text-align: right;\">\n",
       "      <th></th>\n",
       "      <th>author</th>\n",
       "      <th>slug</th>\n",
       "      <th>title</th>\n",
       "    </tr>\n",
       "  </thead>\n",
       "  <tbody>\n",
       "    <tr>\n",
       "      <th>0</th>\n",
       "      <td>J.K. Rowling</td>\n",
       "      <td>3.Harry_Potter_and_the_Sorcerer_s_Stone</td>\n",
       "      <td>Harry Potter and the Sorcerer's Stone (Harry P...</td>\n",
       "    </tr>\n",
       "    <tr>\n",
       "      <th>1</th>\n",
       "      <td>Rick Riordan (Goodreads Author)</td>\n",
       "      <td>28187.The_Lightning_Thief</td>\n",
       "      <td>The Lightning Thief (Percy Jackson and the Oly...</td>\n",
       "    </tr>\n",
       "    <tr>\n",
       "      <th>2</th>\n",
       "      <td>Stephenie Meyer</td>\n",
       "      <td>41865.Twilight</td>\n",
       "      <td>Twilight (Twilight, #1)</td>\n",
       "    </tr>\n",
       "    <tr>\n",
       "      <th>3</th>\n",
       "      <td>Suzanne Collins</td>\n",
       "      <td>12091570-the-hunger-games</td>\n",
       "      <td>The Hunger Games (The Hunger Games, #1)</td>\n",
       "    </tr>\n",
       "    <tr>\n",
       "      <th>4</th>\n",
       "      <td>Lois Lowry (Goodreads Author)</td>\n",
       "      <td>3636.The_Giver</td>\n",
       "      <td>The Giver</td>\n",
       "    </tr>\n",
       "  </tbody>\n",
       "</table>\n",
       "</div>"
      ],
      "text/plain": [
       "                            author                                     slug  \\\n",
       "0                     J.K. Rowling  3.Harry_Potter_and_the_Sorcerer_s_Stone   \n",
       "1  Rick Riordan (Goodreads Author)                28187.The_Lightning_Thief   \n",
       "2                  Stephenie Meyer                           41865.Twilight   \n",
       "3                  Suzanne Collins                12091570-the-hunger-games   \n",
       "4    Lois Lowry (Goodreads Author)                           3636.The_Giver   \n",
       "\n",
       "                                               title  \n",
       "0  Harry Potter and the Sorcerer's Stone (Harry P...  \n",
       "1  The Lightning Thief (Percy Jackson and the Oly...  \n",
       "2                            Twilight (Twilight, #1)  \n",
       "3            The Hunger Games (The Hunger Games, #1)  \n",
       "4                                          The Giver  "
      ]
     },
     "execution_count": 50,
     "metadata": {},
     "output_type": "execute_result"
    }
   ],
   "source": [
    "book_list.head()"
   ]
  },
  {
   "cell_type": "code",
   "execution_count": null,
   "metadata": {},
   "outputs": [],
   "source": [
    "soup.find('span', {'itemprop': 'isbn'}).text"
   ]
  },
  {
   "cell_type": "code",
   "execution_count": null,
   "metadata": {},
   "outputs": [],
   "source": [
    "isbns = []\n",
    "for i in df['slug']:\n",
    "    driver = webdriver.Chrome('/Users/connie/Downloads/chromedriver 2')\n",
    "    driver.get(f'https://www.goodreads.com/book/show/{slug}')\n",
    "    source = driver.page_source\n",
    "    driver.quit()\n",
    "    soup = BeautifulSoup(source, 'lxml')\n",
    "    isbns.append(soup.find('span', {'itemprop': 'isbn'}).text())\n",
    "    print(f'Retrieved ISBN for {i}')\n",
    "    time.sleep()"
   ]
  },
  {
   "cell_type": "code",
   "execution_count": 51,
   "metadata": {},
   "outputs": [
    {
     "name": "stdout",
     "output_type": "stream",
     "text": [
      "9780439554930\n",
      "Retrieved ISBN for 3.Harry_Potter_and_the_Sorcerer_s_Stone\n"
     ]
    }
   ],
   "source": [
    "# Sign in\n",
    "driver = webdriver.Chrome('/Users/connie/Downloads/chromedriver 2')\n",
    "driver.get('https://www.goodreads.com/user/sign_in')\n",
    "email_field = driver.find_element_by_xpath(\"/html/body[@class='textured']/div[@class='wrapper']/div[@class='content distractionless']/div[@id='topLanding']/div[@class='mainContent']/div[@class='contentBox clearfix']/div[@class='column_right']/div[@id='emailForm']/form/fieldset//input[@id='user_email']\")\n",
    "email_field.send_keys(USERNAME)\n",
    "password_field = driver.find_element_by_xpath(\"/html/body[@class='textured']/div[@class='wrapper']/div[@class='content distractionless']/div[@id='topLanding']/div[@class='mainContent']/div[@class='contentBox clearfix']/div[@class='column_right']/div[@id='emailForm']/form/fieldset//input[@id='user_password']\")\n",
    "password_field.send_keys(PASSWORD)\n",
    "signin_button = driver.find_element_by_xpath(\"/html/body[@class='textured']/div[@class='wrapper']/div[@class='content distractionless']/div[@id='topLanding']/div[@class='mainContent']/div[@class='contentBox clearfix']/div[@class='column_right']/div[@id='emailForm']/form/fieldset//input[@class='gr-button gr-button--large']\")\n",
    "signin_button.click()\n",
    "\n",
    "# Get ISBN\n",
    "driver.get(f'https://www.goodreads.com/book/show/3.Harry_Potter_and_the_Sorcerer_s_Stone')\n",
    "source = driver.page_source\n",
    "driver.quit()\n",
    "soup = BeautifulSoup(source, 'lxml')\n",
    "print(soup.find('span', {'itemprop': 'isbn'}).text)\n",
    "print(f'Retrieved ISBN for {i}')"
   ]
  },
  {
   "cell_type": "code",
   "execution_count": null,
   "metadata": {},
   "outputs": [],
   "source": []
  }
 ],
 "metadata": {
  "kernelspec": {
   "display_name": "Python 3",
   "language": "python",
   "name": "python3"
  },
  "language_info": {
   "codemirror_mode": {
    "name": "ipython",
    "version": 3
   },
   "file_extension": ".py",
   "mimetype": "text/x-python",
   "name": "python",
   "nbconvert_exporter": "python",
   "pygments_lexer": "ipython3",
   "version": "3.6.5"
  }
 },
 "nbformat": 4,
 "nbformat_minor": 2
}
